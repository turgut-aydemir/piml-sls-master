{
 "cells": [
  {
   "cell_type": "markdown",
   "source": [
    "# Jupyter Notebook to use trained model to classify process images"
   ],
   "metadata": {
    "collapsed": false
   }
  },
  {
   "cell_type": "code",
   "execution_count": 1,
   "metadata": {
    "tags": []
   },
   "outputs": [
    {
     "name": "stderr",
     "output_type": "stream",
     "text": [
      "2021-12-07 18:08:27.762343: I tensorflow/stream_executor/platform/default/dso_loader.cc:49] Successfully opened dynamic library libcudart.so.10.1\n"
     ]
    }
   ],
   "source": [
    "import tensorflow as tf\n",
    "from tensorflow import keras\n",
    "import numpy as np\n",
    "import cv2\n",
    "import glob\n",
    "\n",
    "\n",
    "np.random.seed(42)\n",
    "tf.random.set_seed(42)\n",
    "\n",
    "import matplotlib as mpl\n",
    "import matplotlib.pyplot as plt\n",
    "\n",
    "mpl.rc('axes', labelsize=14)\n",
    "mpl.rc('xtick', labelsize=12)\n",
    "mpl.rc('ytick', labelsize=12)"
   ]
  },
  {
   "cell_type": "markdown",
   "source": [
    "### list existing devices; used to check if GPU is recognized"
   ],
   "metadata": {
    "collapsed": false
   }
  },
  {
   "cell_type": "code",
   "execution_count": 3,
   "outputs": [
    {
     "name": "stderr",
     "output_type": "stream",
     "text": [
      "2021-12-07 18:08:31.904181: I tensorflow/compiler/jit/xla_cpu_device.cc:41] Not creating XLA devices, tf_xla_enable_xla_devices not set\n",
      "2021-12-07 18:08:31.907667: I tensorflow/stream_executor/platform/default/dso_loader.cc:49] Successfully opened dynamic library libcuda.so.1\n",
      "2021-12-07 18:08:31.966051: I tensorflow/stream_executor/cuda/cuda_gpu_executor.cc:941] successful NUMA node read from SysFS had negative value (-1), but there must be at least one NUMA node, so returning NUMA node zero\n",
      "2021-12-07 18:08:31.966272: I tensorflow/core/common_runtime/gpu/gpu_device.cc:1720] Found device 0 with properties: \n",
      "pciBusID: 0000:01:00.0 name: NVIDIA GeForce GTX 1080 computeCapability: 6.1\n",
      "coreClock: 1.8225GHz coreCount: 20 deviceMemorySize: 7.93GiB deviceMemoryBandwidth: 298.32GiB/s\n",
      "2021-12-07 18:08:31.966299: I tensorflow/stream_executor/platform/default/dso_loader.cc:49] Successfully opened dynamic library libcudart.so.10.1\n",
      "2021-12-07 18:08:31.969403: I tensorflow/stream_executor/platform/default/dso_loader.cc:49] Successfully opened dynamic library libcublas.so.10\n",
      "2021-12-07 18:08:31.969472: I tensorflow/stream_executor/platform/default/dso_loader.cc:49] Successfully opened dynamic library libcublasLt.so.10\n",
      "2021-12-07 18:08:31.971250: I tensorflow/stream_executor/platform/default/dso_loader.cc:49] Successfully opened dynamic library libcufft.so.10\n",
      "2021-12-07 18:08:31.972679: I tensorflow/stream_executor/platform/default/dso_loader.cc:49] Successfully opened dynamic library libcurand.so.10\n",
      "2021-12-07 18:08:31.975629: I tensorflow/stream_executor/platform/default/dso_loader.cc:49] Successfully opened dynamic library libcusolver.so.10\n",
      "2021-12-07 18:08:31.976691: I tensorflow/stream_executor/platform/default/dso_loader.cc:49] Successfully opened dynamic library libcusparse.so.10\n",
      "2021-12-07 18:08:31.981793: I tensorflow/stream_executor/platform/default/dso_loader.cc:49] Successfully opened dynamic library libcudnn.so.7\n",
      "2021-12-07 18:08:31.981946: I tensorflow/stream_executor/cuda/cuda_gpu_executor.cc:941] successful NUMA node read from SysFS had negative value (-1), but there must be at least one NUMA node, so returning NUMA node zero\n",
      "2021-12-07 18:08:31.982125: I tensorflow/stream_executor/cuda/cuda_gpu_executor.cc:941] successful NUMA node read from SysFS had negative value (-1), but there must be at least one NUMA node, so returning NUMA node zero\n",
      "2021-12-07 18:08:31.982210: I tensorflow/core/common_runtime/gpu/gpu_device.cc:1862] Adding visible gpu devices: 0\n"
     ]
    },
    {
     "data": {
      "text/plain": "[PhysicalDevice(name='/physical_device:CPU:0', device_type='CPU'),\n PhysicalDevice(name='/physical_device:GPU:0', device_type='GPU')]"
     },
     "execution_count": 3,
     "metadata": {},
     "output_type": "execute_result"
    }
   ],
   "source": [
    "tf.config.get_visible_devices()"
   ],
   "metadata": {
    "collapsed": false,
    "pycharm": {
     "name": "#%%\n"
    }
   }
  },
  {
   "cell_type": "markdown",
   "source": [
    "### function used to load and compile a saved model with its weights"
   ],
   "metadata": {
    "collapsed": false
   }
  },
  {
   "cell_type": "code",
   "execution_count": 4,
   "outputs": [],
   "source": [
    "def load_model(model_path, weight_path):\n",
    "    # load json and create model\n",
    "    file = open(model_path, 'r')\n",
    "    model_json = file.read()\n",
    "    file.close()\n",
    "    loaded_model = keras.models.model_from_json(model_json)\n",
    "    # load weights\n",
    "    loaded_model.load_weights(weight_path)\n",
    "    optimizer = keras.optimizers.Adam(learning_rate=0.0001, beta_1=0.9, beta_2=0.999)\n",
    "    loaded_model.compile(loss=\"binary_crossentropy\", optimizer=optimizer,\n",
    "                         metrics=['accuracy', 'Recall', 'Precision', 'AUC'])\n",
    "    return loaded_model"
   ],
   "metadata": {
    "collapsed": false,
    "pycharm": {
     "name": "#%%\n"
    }
   }
  },
  {
   "cell_type": "markdown",
   "source": [
    "### defines a model by loading a saved model and its weights"
   ],
   "metadata": {
    "collapsed": false
   }
  },
  {
   "cell_type": "code",
   "execution_count": 5,
   "metadata": {
    "collapsed": false,
    "jupyter": {
     "outputs_hidden": false
    },
    "pycharm": {
     "name": "#%%\n"
    }
   },
   "outputs": [
    {
     "name": "stderr",
     "output_type": "stream",
     "text": [
      "2021-12-07 18:08:34.766035: I tensorflow/core/platform/cpu_feature_guard.cc:142] This TensorFlow binary is optimized with oneAPI Deep Neural Network Library (oneDNN) to use the following CPU instructions in performance-critical operations:  SSE4.1 SSE4.2 AVX AVX2 FMA\n",
      "To enable them in other operations, rebuild TensorFlow with the appropriate compiler flags.\n",
      "2021-12-07 18:08:34.766541: I tensorflow/stream_executor/cuda/cuda_gpu_executor.cc:941] successful NUMA node read from SysFS had negative value (-1), but there must be at least one NUMA node, so returning NUMA node zero\n",
      "2021-12-07 18:08:34.766675: I tensorflow/core/common_runtime/gpu/gpu_device.cc:1720] Found device 0 with properties: \n",
      "pciBusID: 0000:01:00.0 name: NVIDIA GeForce GTX 1080 computeCapability: 6.1\n",
      "coreClock: 1.8225GHz coreCount: 20 deviceMemorySize: 7.93GiB deviceMemoryBandwidth: 298.32GiB/s\n",
      "2021-12-07 18:08:34.766700: I tensorflow/stream_executor/platform/default/dso_loader.cc:49] Successfully opened dynamic library libcudart.so.10.1\n",
      "2021-12-07 18:08:34.766734: I tensorflow/stream_executor/platform/default/dso_loader.cc:49] Successfully opened dynamic library libcublas.so.10\n",
      "2021-12-07 18:08:34.766747: I tensorflow/stream_executor/platform/default/dso_loader.cc:49] Successfully opened dynamic library libcublasLt.so.10\n",
      "2021-12-07 18:08:34.766758: I tensorflow/stream_executor/platform/default/dso_loader.cc:49] Successfully opened dynamic library libcufft.so.10\n",
      "2021-12-07 18:08:34.766769: I tensorflow/stream_executor/platform/default/dso_loader.cc:49] Successfully opened dynamic library libcurand.so.10\n",
      "2021-12-07 18:08:34.766779: I tensorflow/stream_executor/platform/default/dso_loader.cc:49] Successfully opened dynamic library libcusolver.so.10\n",
      "2021-12-07 18:08:34.766790: I tensorflow/stream_executor/platform/default/dso_loader.cc:49] Successfully opened dynamic library libcusparse.so.10\n",
      "2021-12-07 18:08:34.766802: I tensorflow/stream_executor/platform/default/dso_loader.cc:49] Successfully opened dynamic library libcudnn.so.7\n",
      "2021-12-07 18:08:34.766858: I tensorflow/stream_executor/cuda/cuda_gpu_executor.cc:941] successful NUMA node read from SysFS had negative value (-1), but there must be at least one NUMA node, so returning NUMA node zero\n",
      "2021-12-07 18:08:34.766979: I tensorflow/stream_executor/cuda/cuda_gpu_executor.cc:941] successful NUMA node read from SysFS had negative value (-1), but there must be at least one NUMA node, so returning NUMA node zero\n",
      "2021-12-07 18:08:34.767076: I tensorflow/core/common_runtime/gpu/gpu_device.cc:1862] Adding visible gpu devices: 0\n",
      "2021-12-07 18:08:34.767099: I tensorflow/stream_executor/platform/default/dso_loader.cc:49] Successfully opened dynamic library libcudart.so.10.1\n",
      "2021-12-07 18:08:35.197459: I tensorflow/core/common_runtime/gpu/gpu_device.cc:1261] Device interconnect StreamExecutor with strength 1 edge matrix:\n",
      "2021-12-07 18:08:35.197492: I tensorflow/core/common_runtime/gpu/gpu_device.cc:1267]      0 \n",
      "2021-12-07 18:08:35.197499: I tensorflow/core/common_runtime/gpu/gpu_device.cc:1280] 0:   N \n",
      "2021-12-07 18:08:35.197723: I tensorflow/stream_executor/cuda/cuda_gpu_executor.cc:941] successful NUMA node read from SysFS had negative value (-1), but there must be at least one NUMA node, so returning NUMA node zero\n",
      "2021-12-07 18:08:35.197965: I tensorflow/stream_executor/cuda/cuda_gpu_executor.cc:941] successful NUMA node read from SysFS had negative value (-1), but there must be at least one NUMA node, so returning NUMA node zero\n",
      "2021-12-07 18:08:35.198133: I tensorflow/stream_executor/cuda/cuda_gpu_executor.cc:941] successful NUMA node read from SysFS had negative value (-1), but there must be at least one NUMA node, so returning NUMA node zero\n",
      "2021-12-07 18:08:35.198280: I tensorflow/core/common_runtime/gpu/gpu_device.cc:1406] Created TensorFlow device (/job:localhost/replica:0/task:0/device:GPU:0 with 5119 MB memory) -> physical GPU (device: 0, name: NVIDIA GeForce GTX 1080, pci bus id: 0000:01:00.0, compute capability: 6.1)\n",
      "2021-12-07 18:08:35.213874: I tensorflow/compiler/jit/xla_gpu_device.cc:99] Not creating XLA devices, tf_xla_enable_xla_devices not set\n"
     ]
    }
   ],
   "source": [
    "# load saved model trained on full data\n",
    "full_model = load_model('saved_models/vgg16_full_data_v2.json', 'saved_models/vgg16_full_data_v2_weights.h5')"
   ]
  },
  {
   "cell_type": "code",
   "execution_count": 6,
   "metadata": {
    "collapsed": false,
    "jupyter": {
     "outputs_hidden": false
    },
    "pycharm": {
     "name": "#%%\n"
    }
   },
   "outputs": [
    {
     "name": "stderr",
     "output_type": "stream",
     "text": [
      "2021-12-07 15:01:42.865039: I tensorflow/core/platform/cpu_feature_guard.cc:142] This TensorFlow binary is optimized with oneAPI Deep Neural Network Library (oneDNN) to use the following CPU instructions in performance-critical operations:  SSE4.1 SSE4.2 AVX AVX2 FMA\n",
      "To enable them in other operations, rebuild TensorFlow with the appropriate compiler flags.\n",
      "2021-12-07 15:01:42.865490: I tensorflow/stream_executor/cuda/cuda_gpu_executor.cc:941] successful NUMA node read from SysFS had negative value (-1), but there must be at least one NUMA node, so returning NUMA node zero\n",
      "2021-12-07 15:01:42.865631: I tensorflow/core/common_runtime/gpu/gpu_device.cc:1720] Found device 0 with properties: \n",
      "pciBusID: 0000:01:00.0 name: NVIDIA GeForce GTX 1080 computeCapability: 6.1\n",
      "coreClock: 1.8225GHz coreCount: 20 deviceMemorySize: 7.93GiB deviceMemoryBandwidth: 298.32GiB/s\n",
      "2021-12-07 15:01:42.865655: I tensorflow/stream_executor/platform/default/dso_loader.cc:49] Successfully opened dynamic library libcudart.so.10.1\n",
      "2021-12-07 15:01:42.865696: I tensorflow/stream_executor/platform/default/dso_loader.cc:49] Successfully opened dynamic library libcublas.so.10\n",
      "2021-12-07 15:01:42.865711: I tensorflow/stream_executor/platform/default/dso_loader.cc:49] Successfully opened dynamic library libcublasLt.so.10\n",
      "2021-12-07 15:01:42.865722: I tensorflow/stream_executor/platform/default/dso_loader.cc:49] Successfully opened dynamic library libcufft.so.10\n",
      "2021-12-07 15:01:42.865734: I tensorflow/stream_executor/platform/default/dso_loader.cc:49] Successfully opened dynamic library libcurand.so.10\n",
      "2021-12-07 15:01:42.865744: I tensorflow/stream_executor/platform/default/dso_loader.cc:49] Successfully opened dynamic library libcusolver.so.10\n",
      "2021-12-07 15:01:42.865755: I tensorflow/stream_executor/platform/default/dso_loader.cc:49] Successfully opened dynamic library libcusparse.so.10\n",
      "2021-12-07 15:01:42.865766: I tensorflow/stream_executor/platform/default/dso_loader.cc:49] Successfully opened dynamic library libcudnn.so.7\n",
      "2021-12-07 15:01:42.865823: I tensorflow/stream_executor/cuda/cuda_gpu_executor.cc:941] successful NUMA node read from SysFS had negative value (-1), but there must be at least one NUMA node, so returning NUMA node zero\n",
      "2021-12-07 15:01:42.865971: I tensorflow/stream_executor/cuda/cuda_gpu_executor.cc:941] successful NUMA node read from SysFS had negative value (-1), but there must be at least one NUMA node, so returning NUMA node zero\n",
      "2021-12-07 15:01:42.866052: I tensorflow/core/common_runtime/gpu/gpu_device.cc:1862] Adding visible gpu devices: 0\n",
      "2021-12-07 15:01:42.866074: I tensorflow/stream_executor/platform/default/dso_loader.cc:49] Successfully opened dynamic library libcudart.so.10.1\n",
      "2021-12-07 15:01:43.293863: I tensorflow/core/common_runtime/gpu/gpu_device.cc:1261] Device interconnect StreamExecutor with strength 1 edge matrix:\n",
      "2021-12-07 15:01:43.293898: I tensorflow/core/common_runtime/gpu/gpu_device.cc:1267]      0 \n",
      "2021-12-07 15:01:43.293906: I tensorflow/core/common_runtime/gpu/gpu_device.cc:1280] 0:   N \n",
      "2021-12-07 15:01:43.294122: I tensorflow/stream_executor/cuda/cuda_gpu_executor.cc:941] successful NUMA node read from SysFS had negative value (-1), but there must be at least one NUMA node, so returning NUMA node zero\n",
      "2021-12-07 15:01:43.294362: I tensorflow/stream_executor/cuda/cuda_gpu_executor.cc:941] successful NUMA node read from SysFS had negative value (-1), but there must be at least one NUMA node, so returning NUMA node zero\n",
      "2021-12-07 15:01:43.294534: I tensorflow/stream_executor/cuda/cuda_gpu_executor.cc:941] successful NUMA node read from SysFS had negative value (-1), but there must be at least one NUMA node, so returning NUMA node zero\n",
      "2021-12-07 15:01:43.294668: I tensorflow/core/common_runtime/gpu/gpu_device.cc:1406] Created TensorFlow device (/job:localhost/replica:0/task:0/device:GPU:0 with 5528 MB memory) -> physical GPU (device: 0, name: NVIDIA GeForce GTX 1080, pci bus id: 0000:01:00.0, compute capability: 6.1)\n",
      "2021-12-07 15:01:43.295011: I tensorflow/compiler/jit/xla_gpu_device.cc:99] Not creating XLA devices, tf_xla_enable_xla_devices not set\n"
     ]
    }
   ],
   "source": [
    "# load saved model trained on heavily reduced data\n",
    "heavy_reduced_model = load_model('saved_models/vgg16_heavily_reduced.json',\n",
    "                                 'saved_models/vgg16_heavily_reduced_weights.h5')"
   ]
  },
  {
   "cell_type": "markdown",
   "metadata": {},
   "source": [
    "# Predictions on a single image"
   ]
  },
  {
   "cell_type": "code",
   "execution_count": 7,
   "metadata": {
    "collapsed": false,
    "jupyter": {
     "outputs_hidden": false
    },
    "pycharm": {
     "name": "#%%\n"
    }
   },
   "outputs": [
    {
     "data": {
      "text/plain": [
       "(224, 224, 3)"
      ]
     },
     "execution_count": 7,
     "metadata": {},
     "output_type": "execute_result"
    },
    {
     "data": {
      "image/png": "[encoded data removed]",
      "text/plain": [
       "<Figure size 432x288 with 1 Axes>"
      ]
     },
     "metadata": {
      "needs_background": "light"
     },
     "output_type": "display_data"
    }
   ],
   "source": [
    "original = cv2.imread('data/data_predictions/MyRecord2021-11-19T125431028-from_00_49_00.00.mp4-img-44016.jpg')\n",
    "rgb = cv2.cvtColor(original, cv2.COLOR_BGR2RGB)\n",
    "img = cv2.resize(rgb, (224, 224)) / 255\n",
    "plt.imshow(img)\n",
    "img.shape"
   ]
  },
  {
   "cell_type": "code",
   "execution_count": 8,
   "metadata": {
    "collapsed": false,
    "jupyter": {
     "outputs_hidden": false
    },
    "pycharm": {
     "name": "#%%\n"
    }
   },
   "outputs": [],
   "source": [
    "image = np.array([img])\n",
    "batch_size, height, width, channels = image.shape"
   ]
  },
  {
   "cell_type": "code",
   "execution_count": 9,
   "metadata": {
    "collapsed": false,
    "jupyter": {
     "outputs_hidden": false
    },
    "pycharm": {
     "name": "#%%\n"
    }
   },
   "outputs": [],
   "source": [
    "inputs = keras.applications.vgg16.preprocess_input(image * 255)"
   ]
  },
  {
   "cell_type": "code",
   "execution_count": 10,
   "metadata": {
    "collapsed": false,
    "jupyter": {
     "outputs_hidden": false
    },
    "pycharm": {
     "name": "#%%\n"
    }
   },
   "outputs": [
    {
     "name": "stderr",
     "output_type": "stream",
     "text": [
      "2021-12-05 13:57:31.877397: I tensorflow/compiler/mlir/mlir_graph_optimization_pass.cc:116] None of the MLIR optimization passes are enabled (registered 2)\n",
      "2021-12-05 13:57:31.900955: I tensorflow/core/platform/profile_utils/cpu_utils.cc:112] CPU Frequency: 3999980000 Hz\n",
      "2021-12-05 13:57:32.108672: I tensorflow/stream_executor/platform/default/dso_loader.cc:49] Successfully opened dynamic library libcublas.so.10\n",
      "2021-12-05 13:57:32.422098: I tensorflow/stream_executor/platform/default/dso_loader.cc:49] Successfully opened dynamic library libcudnn.so.7\n",
      "2021-12-05 13:57:33.359807: W tensorflow/stream_executor/gpu/asm_compiler.cc:63] Running ptxas --version returned 256\n",
      "2021-12-05 13:57:33.380595: W tensorflow/stream_executor/gpu/redzone_allocator.cc:314] Internal: ptxas exited with non-zero error code 256, output: \n",
      "Relying on driver to perform ptx compilation. \n",
      "Modify $PATH to customize ptxas location.\n",
      "This message will be only logged once.\n"
     ]
    },
    {
     "name": "stdout",
     "output_type": "stream",
     "text": [
      "(1, 1)\n",
      "[[0.]]\n"
     ]
    }
   ],
   "source": [
    "# prediction with model trained on full data-set\n",
    "Y_proba_full = full_model.predict(inputs)\n",
    "print(Y_proba_full)"
   ]
  },
  {
   "cell_type": "code",
   "execution_count": 11,
   "metadata": {
    "collapsed": false,
    "jupyter": {
     "outputs_hidden": false
    },
    "pycharm": {
     "name": "#%%\n"
    }
   },
   "outputs": [
    {
     "name": "stdout",
     "output_type": "stream",
     "text": [
      "(1, 1)\n",
      "[[0.]]\n"
     ]
    }
   ],
   "source": [
    "# prediction with model trained on heavily reduced data-set\n",
    "Y_proba_reduced = heavy_reduced_model.predict(inputs)\n",
    "print(Y_proba_reduced.shape)\n",
    "print(Y_proba_reduced)"
   ]
  },
  {
   "cell_type": "markdown",
   "metadata": {},
   "source": [
    "# prediction on multiple images"
   ]
  },
  {
   "cell_type": "markdown",
   "source": [
    "#### function to load and save multiple images in a directory"
   ],
   "metadata": {
    "collapsed": false
   }
  },
  {
   "cell_type": "code",
   "execution_count": 7,
   "metadata": {
    "collapsed": false,
    "jupyter": {
     "outputs_hidden": false
    },
    "pycharm": {
     "name": "#%%\n"
    }
   },
   "outputs": [],
   "source": [
    "# \"data/data_predictions/OK/*.jpg\"\n",
    "def load_images_from_folder(file_path):\n",
    "    x_data = []\n",
    "    files = glob.glob(file_path)\n",
    "    for myFile in files:\n",
    "        i = cv2.imread(myFile)\n",
    "        x_data.append(i)\n",
    "    return x_data"
   ]
  },
  {
   "cell_type": "markdown",
   "source": [
    "### load images from specified folder and reshape them to fit the model (224,224)"
   ],
   "metadata": {
    "collapsed": false
   }
  },
  {
   "cell_type": "code",
   "execution_count": 8,
   "metadata": {
    "collapsed": false,
    "jupyter": {
     "outputs_hidden": false
    },
    "pycharm": {
     "name": "#%%\n"
    }
   },
   "outputs": [
    {
     "name": "stderr",
     "output_type": "stream",
     "text": [
      "2021-12-07 15:02:00.118658: W tensorflow/core/framework/cpu_allocator_impl.cc:80] Allocation of 1152000000 exceeds 10% of free system memory.\n",
      "2021-12-07 15:02:00.578342: W tensorflow/core/framework/cpu_allocator_impl.cc:80] Allocation of 3010560000 exceeds 10% of free system memory.\n"
     ]
    }
   ],
   "source": [
    "images = load_images_from_folder(\"data/data_heavily_reduced/data/DEF/*.jpg\")\n",
    "images_array = np.array(images)\n",
    "images_resized = tf.image.resize(images_array, [224, 224])"
   ]
  },
  {
   "cell_type": "markdown",
   "source": [
    "### Classify images from folder with loaded model"
   ],
   "metadata": {
    "collapsed": false
   }
  },
  {
   "cell_type": "code",
   "execution_count": 9,
   "metadata": {
    "collapsed": false,
    "jupyter": {
     "outputs_hidden": false
    },
    "pycharm": {
     "name": "#%%\n"
    }
   },
   "outputs": [
    {
     "name": "stderr",
     "output_type": "stream",
     "text": [
      "2021-12-07 15:02:15.645826: W tensorflow/core/common_runtime/bfc_allocator.cc:433] Allocator (GPU_0_bfc) ran out of memory trying to allocate 2.80GiB (rounded to 3010560000)requested by op Mul\n",
      "Current allocation summary follows.\n",
      "2021-12-07 15:02:15.645910: I tensorflow/core/common_runtime/bfc_allocator.cc:972] BFCAllocator dump for GPU_0_bfc\n",
      "2021-12-07 15:02:15.645943: I tensorflow/core/common_runtime/bfc_allocator.cc:979] Bin (256): \tTotal Chunks: 30, Chunks in use: 30. 7.5KiB allocated for chunks. 7.5KiB in use in bin. 632B client-requested in use in bin.\n",
      "2021-12-07 15:02:15.645969: I tensorflow/core/common_runtime/bfc_allocator.cc:979] Bin (512): \tTotal Chunks: 3, Chunks in use: 2. 1.8KiB allocated for chunks. 1.0KiB in use in bin. 1.0KiB client-requested in use in bin.\n",
      "2021-12-07 15:02:15.645991: I tensorflow/core/common_runtime/bfc_allocator.cc:979] Bin (1024): \tTotal Chunks: 5, Chunks in use: 4. 6.5KiB allocated for chunks. 4.8KiB in use in bin. 4.0KiB client-requested in use in bin.\n",
      "2021-12-07 15:02:15.646018: I tensorflow/core/common_runtime/bfc_allocator.cc:979] Bin (2048): \tTotal Chunks: 6, Chunks in use: 6. 12.2KiB allocated for chunks. 12.2KiB in use in bin. 12.0KiB client-requested in use in bin.\n",
      "2021-12-07 15:02:15.646043: I tensorflow/core/common_runtime/bfc_allocator.cc:979] Bin (4096): \tTotal Chunks: 9, Chunks in use: 7. 42.5KiB allocated for chunks. 30.8KiB in use in bin. 30.2KiB client-requested in use in bin.\n",
      "2021-12-07 15:02:15.646063: I tensorflow/core/common_runtime/bfc_allocator.cc:979] Bin (8192): \tTotal Chunks: 0, Chunks in use: 0. 0B allocated for chunks. 0B in use in bin. 0B client-requested in use in bin.\n",
      "2021-12-07 15:02:15.646083: I tensorflow/core/common_runtime/bfc_allocator.cc:979] Bin (16384): \tTotal Chunks: 0, Chunks in use: 0. 0B allocated for chunks. 0B in use in bin. 0B client-requested in use in bin.\n",
      "2021-12-07 15:02:15.646103: I tensorflow/core/common_runtime/bfc_allocator.cc:979] Bin (32768): \tTotal Chunks: 0, Chunks in use: 0. 0B allocated for chunks. 0B in use in bin. 0B client-requested in use in bin.\n",
      "2021-12-07 15:02:15.646122: I tensorflow/core/common_runtime/bfc_allocator.cc:979] Bin (65536): \tTotal Chunks: 0, Chunks in use: 0. 0B allocated for chunks. 0B in use in bin. 0B client-requested in use in bin.\n",
      "2021-12-07 15:02:15.646151: I tensorflow/core/common_runtime/bfc_allocator.cc:979] Bin (131072): \tTotal Chunks: 1, Chunks in use: 1. 239.8KiB allocated for chunks. 239.8KiB in use in bin. 144.0KiB client-requested in use in bin.\n",
      "2021-12-07 15:02:15.646177: I tensorflow/core/common_runtime/bfc_allocator.cc:979] Bin (262144): \tTotal Chunks: 1, Chunks in use: 1. 432.0KiB allocated for chunks. 432.0KiB in use in bin. 288.0KiB client-requested in use in bin.\n",
      "2021-12-07 15:02:15.646204: I tensorflow/core/common_runtime/bfc_allocator.cc:979] Bin (524288): \tTotal Chunks: 1, Chunks in use: 1. 576.0KiB allocated for chunks. 576.0KiB in use in bin. 576.0KiB client-requested in use in bin.\n",
      "2021-12-07 15:02:15.646230: I tensorflow/core/common_runtime/bfc_allocator.cc:979] Bin (1048576): \tTotal Chunks: 1, Chunks in use: 1. 1.97MiB allocated for chunks. 1.97MiB in use in bin. 1.12MiB client-requested in use in bin.\n",
      "2021-12-07 15:02:15.646258: I tensorflow/core/common_runtime/bfc_allocator.cc:979] Bin (2097152): \tTotal Chunks: 2, Chunks in use: 2. 4.50MiB allocated for chunks. 4.50MiB in use in bin. 4.50MiB client-requested in use in bin.\n",
      "2021-12-07 15:02:15.646285: I tensorflow/core/common_runtime/bfc_allocator.cc:979] Bin (4194304): \tTotal Chunks: 2, Chunks in use: 1. 10.69MiB allocated for chunks. 4.50MiB in use in bin. 4.50MiB client-requested in use in bin.\n",
      "2021-12-07 15:02:15.646318: I tensorflow/core/common_runtime/bfc_allocator.cc:979] Bin (8388608): \tTotal Chunks: 5, Chunks in use: 5. 45.00MiB allocated for chunks. 45.00MiB in use in bin. 45.00MiB client-requested in use in bin.\n",
      "2021-12-07 15:02:15.646345: I tensorflow/core/common_runtime/bfc_allocator.cc:979] Bin (16777216): \tTotal Chunks: 0, Chunks in use: 0. 0B allocated for chunks. 0B in use in bin. 0B client-requested in use in bin.\n",
      "2021-12-07 15:02:15.646373: I tensorflow/core/common_runtime/bfc_allocator.cc:979] Bin (33554432): \tTotal Chunks: 0, Chunks in use: 0. 0B allocated for chunks. 0B in use in bin. 0B client-requested in use in bin.\n",
      "2021-12-07 15:02:15.646405: I tensorflow/core/common_runtime/bfc_allocator.cc:979] Bin (67108864): \tTotal Chunks: 1, Chunks in use: 1. 95.70MiB allocated for chunks. 95.70MiB in use in bin. 95.70MiB client-requested in use in bin.\n",
      "2021-12-07 15:02:15.646441: I tensorflow/core/common_runtime/bfc_allocator.cc:979] Bin (134217728): \tTotal Chunks: 0, Chunks in use: 0. 0B allocated for chunks. 0B in use in bin. 0B client-requested in use in bin.\n",
      "2021-12-07 15:02:15.646469: I tensorflow/core/common_runtime/bfc_allocator.cc:979] Bin (268435456): \tTotal Chunks: 2, Chunks in use: 1. 5.24GiB allocated for chunks. 2.80GiB in use in bin. 2.80GiB client-requested in use in bin.\n",
      "2021-12-07 15:02:15.646493: I tensorflow/core/common_runtime/bfc_allocator.cc:995] Bin for 2.80GiB was 256.00MiB, Chunk State: \n",
      "2021-12-07 15:02:15.646529: I tensorflow/core/common_runtime/bfc_allocator.cc:1001]   Size: 2.44GiB | Requested Size: 95.70MiB | in_use: 0 | bin_num: 20, prev:   Size: 2.80GiB | Requested Size: 2.80GiB | in_use: 1 | bin_num: -1\n",
      "2021-12-07 15:02:15.646552: I tensorflow/core/common_runtime/bfc_allocator.cc:1008] Next region of size 5797537280\n",
      "2021-12-07 15:02:15.646575: I tensorflow/core/common_runtime/bfc_allocator.cc:1028] InUse at 7fcb1a000000 of size 1280 next 1\n",
      "2021-12-07 15:02:15.646594: I tensorflow/core/common_runtime/bfc_allocator.cc:1028] InUse at 7fcb1a000500 of size 256 next 5\n",
      "2021-12-07 15:02:15.646612: I tensorflow/core/common_runtime/bfc_allocator.cc:1028] InUse at 7fcb1a000600 of size 256 next 8\n",
      "2021-12-07 15:02:15.646631: I tensorflow/core/common_runtime/bfc_allocator.cc:1028] InUse at 7fcb1a000700 of size 256 next 10\n",
      "2021-12-07 15:02:15.646648: I tensorflow/core/common_runtime/bfc_allocator.cc:1028] InUse at 7fcb1a000800 of size 256 next 11\n",
      "2021-12-07 15:02:15.646665: I tensorflow/core/common_runtime/bfc_allocator.cc:1028] InUse at 7fcb1a000900 of size 256 next 9\n",
      "2021-12-07 15:02:15.646682: I tensorflow/core/common_runtime/bfc_allocator.cc:1028] InUse at 7fcb1a000a00 of size 256 next 14\n",
      "2021-12-07 15:02:15.646699: I tensorflow/core/common_runtime/bfc_allocator.cc:1028] InUse at 7fcb1a000b00 of size 256 next 15\n",
      "2021-12-07 15:02:15.646719: I tensorflow/core/common_runtime/bfc_allocator.cc:1028] InUse at 7fcb1a000c00 of size 512 next 18\n",
      "2021-12-07 15:02:15.646739: I tensorflow/core/common_runtime/bfc_allocator.cc:1028] InUse at 7fcb1a000e00 of size 256 next 20\n",
      "2021-12-07 15:02:15.646755: I tensorflow/core/common_runtime/bfc_allocator.cc:1028] InUse at 7fcb1a000f00 of size 256 next 21\n",
      "2021-12-07 15:02:15.646773: I tensorflow/core/common_runtime/bfc_allocator.cc:1028] InUse at 7fcb1a001000 of size 256 next 55\n",
      "2021-12-07 15:02:15.646790: I tensorflow/core/common_runtime/bfc_allocator.cc:1028] InUse at 7fcb1a001100 of size 256 next 19\n",
      "2021-12-07 15:02:15.646806: I tensorflow/core/common_runtime/bfc_allocator.cc:1028] InUse at 7fcb1a001200 of size 256 next 24\n",
      "2021-12-07 15:02:15.646821: I tensorflow/core/common_runtime/bfc_allocator.cc:1028] InUse at 7fcb1a001300 of size 256 next 25\n",
      "2021-12-07 15:02:15.646837: I tensorflow/core/common_runtime/bfc_allocator.cc:1028] InUse at 7fcb1a001400 of size 1024 next 28\n",
      "2021-12-07 15:02:15.646856: I tensorflow/core/common_runtime/bfc_allocator.cc:1028] InUse at 7fcb1a001800 of size 256 next 30\n",
      "2021-12-07 15:02:15.646871: I tensorflow/core/common_runtime/bfc_allocator.cc:1028] InUse at 7fcb1a001900 of size 256 next 31\n",
      "2021-12-07 15:02:15.646887: I tensorflow/core/common_runtime/bfc_allocator.cc:1028] InUse at 7fcb1a001a00 of size 1536 next 2\n",
      "2021-12-07 15:02:15.646904: I tensorflow/core/common_runtime/bfc_allocator.cc:1028] InUse at 7fcb1a002000 of size 256 next 3\n",
      "2021-12-07 15:02:15.646919: I tensorflow/core/common_runtime/bfc_allocator.cc:1028] InUse at 7fcb1a002100 of size 256 next 4\n",
      "2021-12-07 15:02:15.646935: I tensorflow/core/common_runtime/bfc_allocator.cc:1028] InUse at 7fcb1a002200 of size 256 next 43\n",
      "2021-12-07 15:02:15.646950: I tensorflow/core/common_runtime/bfc_allocator.cc:1028] Free  at 7fcb1a002300 of size 768 next 29\n",
      "2021-12-07 15:02:15.646966: I tensorflow/core/common_runtime/bfc_allocator.cc:1028] InUse at 7fcb1a002600 of size 256 next 35\n",
      "2021-12-07 15:02:15.646984: I tensorflow/core/common_runtime/bfc_allocator.cc:1028] InUse at 7fcb1a002700 of size 256 next 36\n",
      "2021-12-07 15:02:15.647001: I tensorflow/core/common_runtime/bfc_allocator.cc:1028] InUse at 7fcb1a002800 of size 2048 next 39\n",
      "2021-12-07 15:02:15.647018: I tensorflow/core/common_runtime/bfc_allocator.cc:1028] InUse at 7fcb1a003000 of size 256 next 41\n",
      "2021-12-07 15:02:15.647034: I tensorflow/core/common_runtime/bfc_allocator.cc:1028] InUse at 7fcb1a003100 of size 256 next 42\n",
      "2021-12-07 15:02:15.647050: I tensorflow/core/common_runtime/bfc_allocator.cc:1028] InUse at 7fcb1a003200 of size 2048 next 45\n",
      "2021-12-07 15:02:15.647066: I tensorflow/core/common_runtime/bfc_allocator.cc:1028] InUse at 7fcb1a003a00 of size 2048 next 47\n",
      "2021-12-07 15:02:15.647081: I tensorflow/core/common_runtime/bfc_allocator.cc:1028] InUse at 7fcb1a004200 of size 2048 next 49\n",
      "2021-12-07 15:02:15.647097: I tensorflow/core/common_runtime/bfc_allocator.cc:1028] InUse at 7fcb1a004a00 of size 4096 next 56\n",
      "2021-12-07 15:02:15.647114: I tensorflow/core/common_runtime/bfc_allocator.cc:1028] Free  at 7fcb1a005a00 of size 7936 next 50\n",
      "2021-12-07 15:02:15.647130: I tensorflow/core/common_runtime/bfc_allocator.cc:1028] InUse at 7fcb1a007900 of size 256 next 53\n",
      "2021-12-07 15:02:15.647145: I tensorflow/core/common_runtime/bfc_allocator.cc:1028] InUse at 7fcb1a007a00 of size 256 next 54\n",
      "2021-12-07 15:02:15.647161: I tensorflow/core/common_runtime/bfc_allocator.cc:1028] InUse at 7fcb1a007b00 of size 4096 next 52\n",
      "2021-12-07 15:02:15.647177: I tensorflow/core/common_runtime/bfc_allocator.cc:1028] InUse at 7fcb1a008b00 of size 256 next 57\n",
      "2021-12-07 15:02:15.647192: I tensorflow/core/common_runtime/bfc_allocator.cc:1028] InUse at 7fcb1a008c00 of size 4096 next 58\n",
      "2021-12-07 15:02:15.647208: I tensorflow/core/common_runtime/bfc_allocator.cc:1028] InUse at 7fcb1a009c00 of size 4096 next 59\n",
      "2021-12-07 15:02:15.647223: I tensorflow/core/common_runtime/bfc_allocator.cc:1028] InUse at 7fcb1a00ac00 of size 4096 next 60\n",
      "2021-12-07 15:02:15.647239: I tensorflow/core/common_runtime/bfc_allocator.cc:1028] InUse at 7fcb1a00bc00 of size 4096 next 61\n",
      "2021-12-07 15:02:15.647254: I tensorflow/core/common_runtime/bfc_allocator.cc:1028] InUse at 7fcb1a00cc00 of size 256 next 65\n",
      "2021-12-07 15:02:15.647269: I tensorflow/core/common_runtime/bfc_allocator.cc:1028] InUse at 7fcb1a00cd00 of size 256 next 68\n",
      "2021-12-07 15:02:15.647285: I tensorflow/core/common_runtime/bfc_allocator.cc:1028] InUse at 7fcb1a00ce00 of size 256 next 70\n",
      "2021-12-07 15:02:15.647300: I tensorflow/core/common_runtime/bfc_allocator.cc:1028] InUse at 7fcb1a00cf00 of size 512 next 16\n",
      "2021-12-07 15:02:15.647316: I tensorflow/core/common_runtime/bfc_allocator.cc:1028] InUse at 7fcb1a00d100 of size 1024 next 27\n",
      "2021-12-07 15:02:15.647331: I tensorflow/core/common_runtime/bfc_allocator.cc:1028] Free  at 7fcb1a00d500 of size 1792 next 62\n",
      "2021-12-07 15:02:15.647347: I tensorflow/core/common_runtime/bfc_allocator.cc:1028] InUse at 7fcb1a00dc00 of size 256 next 63\n",
      "2021-12-07 15:02:15.647362: I tensorflow/core/common_runtime/bfc_allocator.cc:1028] InUse at 7fcb1a00dd00 of size 256 next 64\n",
      "2021-12-07 15:02:15.647378: I tensorflow/core/common_runtime/bfc_allocator.cc:1028] InUse at 7fcb1a00de00 of size 2048 next 37\n",
      "2021-12-07 15:02:15.647394: I tensorflow/core/common_runtime/bfc_allocator.cc:1028] InUse at 7fcb1a00e600 of size 2304 next 66\n",
      "2021-12-07 15:02:15.647411: I tensorflow/core/common_runtime/bfc_allocator.cc:1028] Free  at 7fcb1a00ef00 of size 4096 next 67\n",
      "2021-12-07 15:02:15.647427: I tensorflow/core/common_runtime/bfc_allocator.cc:1028] InUse at 7fcb1a00ff00 of size 6912 next 69\n",
      "2021-12-07 15:02:15.647444: I tensorflow/core/common_runtime/bfc_allocator.cc:1028] InUse at 7fcb1a011a00 of size 245504 next 13\n",
      "2021-12-07 15:02:15.647462: I tensorflow/core/common_runtime/bfc_allocator.cc:1028] InUse at 7fcb1a04d900 of size 442368 next 17\n",
      "2021-12-07 15:02:15.647479: I tensorflow/core/common_runtime/bfc_allocator.cc:1028] InUse at 7fcb1a0b9900 of size 2064384 next 22\n",
      "2021-12-07 15:02:15.647499: I tensorflow/core/common_runtime/bfc_allocator.cc:1028] InUse at 7fcb1a2b1900 of size 589824 next 12\n",
      "2021-12-07 15:02:15.647516: I tensorflow/core/common_runtime/bfc_allocator.cc:1028] InUse at 7fcb1a341900 of size 4718592 next 32\n",
      "2021-12-07 15:02:15.647532: I tensorflow/core/common_runtime/bfc_allocator.cc:1028] Free  at 7fcb1a7c1900 of size 6488064 next 34\n",
      "2021-12-07 15:02:15.647548: I tensorflow/core/common_runtime/bfc_allocator.cc:1028] InUse at 7fcb1adf1900 of size 2359296 next 26\n",
      "2021-12-07 15:02:15.647565: I tensorflow/core/common_runtime/bfc_allocator.cc:1028] InUse at 7fcb1b031900 of size 2359296 next 38\n",
      "2021-12-07 15:02:15.647581: I tensorflow/core/common_runtime/bfc_allocator.cc:1028] InUse at 7fcb1b271900 of size 9437184 next 33\n",
      "2021-12-07 15:02:15.647597: I tensorflow/core/common_runtime/bfc_allocator.cc:1028] InUse at 7fcb1bb71900 of size 9437184 next 6\n",
      "2021-12-07 15:02:15.647613: I tensorflow/core/common_runtime/bfc_allocator.cc:1028] InUse at 7fcb1c471900 of size 9437184 next 7\n",
      "2021-12-07 15:02:15.647629: I tensorflow/core/common_runtime/bfc_allocator.cc:1028] InUse at 7fcb1cd71900 of size 9437184 next 40\n",
      "2021-12-07 15:02:15.647644: I tensorflow/core/common_runtime/bfc_allocator.cc:1028] InUse at 7fcb1d671900 of size 9437184 next 46\n",
      "2021-12-07 15:02:15.647660: I tensorflow/core/common_runtime/bfc_allocator.cc:1028] InUse at 7fcb1df71900 of size 100352000 next 48\n",
      "2021-12-07 15:02:15.647678: I tensorflow/core/common_runtime/bfc_allocator.cc:1028] InUse at 7fcb23f25900 of size 3010560000 next 51\n",
      "2021-12-07 15:02:15.647695: I tensorflow/core/common_runtime/bfc_allocator.cc:1028] Free  at 7fcbd763d900 of size 2620099840 next 18446744073709551615\n",
      "2021-12-07 15:02:15.647710: I tensorflow/core/common_runtime/bfc_allocator.cc:1033]      Summary of in-use Chunks by size: \n",
      "2021-12-07 15:02:15.647733: I tensorflow/core/common_runtime/bfc_allocator.cc:1036] 30 Chunks of size 256 totalling 7.5KiB\n",
      "2021-12-07 15:02:15.647752: I tensorflow/core/common_runtime/bfc_allocator.cc:1036] 2 Chunks of size 512 totalling 1.0KiB\n",
      "2021-12-07 15:02:15.647770: I tensorflow/core/common_runtime/bfc_allocator.cc:1036] 2 Chunks of size 1024 totalling 2.0KiB\n",
      "2021-12-07 15:02:15.647788: I tensorflow/core/common_runtime/bfc_allocator.cc:1036] 1 Chunks of size 1280 totalling 1.2KiB\n",
      "2021-12-07 15:02:15.647806: I tensorflow/core/common_runtime/bfc_allocator.cc:1036] 1 Chunks of size 1536 totalling 1.5KiB\n",
      "2021-12-07 15:02:15.647825: I tensorflow/core/common_runtime/bfc_allocator.cc:1036] 5 Chunks of size 2048 totalling 10.0KiB\n",
      "2021-12-07 15:02:15.647843: I tensorflow/core/common_runtime/bfc_allocator.cc:1036] 1 Chunks of size 2304 totalling 2.2KiB\n",
      "2021-12-07 15:02:15.647862: I tensorflow/core/common_runtime/bfc_allocator.cc:1036] 6 Chunks of size 4096 totalling 24.0KiB\n",
      "2021-12-07 15:02:15.647881: I tensorflow/core/common_runtime/bfc_allocator.cc:1036] 1 Chunks of size 6912 totalling 6.8KiB\n",
      "2021-12-07 15:02:15.647900: I tensorflow/core/common_runtime/bfc_allocator.cc:1036] 1 Chunks of size 245504 totalling 239.8KiB\n",
      "2021-12-07 15:02:15.647919: I tensorflow/core/common_runtime/bfc_allocator.cc:1036] 1 Chunks of size 442368 totalling 432.0KiB\n",
      "2021-12-07 15:02:15.647938: I tensorflow/core/common_runtime/bfc_allocator.cc:1036] 1 Chunks of size 589824 totalling 576.0KiB\n",
      "2021-12-07 15:02:15.647957: I tensorflow/core/common_runtime/bfc_allocator.cc:1036] 1 Chunks of size 2064384 totalling 1.97MiB\n",
      "2021-12-07 15:02:15.647975: I tensorflow/core/common_runtime/bfc_allocator.cc:1036] 2 Chunks of size 2359296 totalling 4.50MiB\n",
      "2021-12-07 15:02:15.647994: I tensorflow/core/common_runtime/bfc_allocator.cc:1036] 1 Chunks of size 4718592 totalling 4.50MiB\n",
      "2021-12-07 15:02:15.648013: I tensorflow/core/common_runtime/bfc_allocator.cc:1036] 5 Chunks of size 9437184 totalling 45.00MiB\n",
      "2021-12-07 15:02:15.648032: I tensorflow/core/common_runtime/bfc_allocator.cc:1036] 1 Chunks of size 100352000 totalling 95.70MiB\n",
      "2021-12-07 15:02:15.648050: I tensorflow/core/common_runtime/bfc_allocator.cc:1036] 1 Chunks of size 3010560000 totalling 2.80GiB\n",
      "2021-12-07 15:02:15.648069: I tensorflow/core/common_runtime/bfc_allocator.cc:1040] Sum Total of in-use chunks: 2.95GiB\n",
      "2021-12-07 15:02:15.648087: I tensorflow/core/common_runtime/bfc_allocator.cc:1042] total_region_allocated_bytes_: 5797537280 memory_limit_: 5797537376 available bytes: 96 curr_region_allocation_bytes_: 11595075072\n",
      "2021-12-07 15:02:15.648114: I tensorflow/core/common_runtime/bfc_allocator.cc:1048] Stats: \n",
      "Limit:                      5797537376\n",
      "InUse:                      3170934784\n",
      "MaxInUse:                   3170934784\n",
      "NumAllocs:                         142\n",
      "MaxAllocSize:               3010560000\n",
      "Reserved:                            0\n",
      "PeakReserved:                        0\n",
      "LargestFreeBlock:                    0\n",
      "\n",
      "2021-12-07 15:02:15.648147: W tensorflow/core/common_runtime/bfc_allocator.cc:441] *******************************************************_____________________________________________\n",
      "2021-12-07 15:02:15.648203: W tensorflow/core/framework/op_kernel.cc:1763] OP_REQUIRES failed at cwise_ops_common.h:128 : Resource exhausted: OOM when allocating tensor with shape[5000,224,224,3] and type float on /job:localhost/replica:0/task:0/device:GPU:0 by allocator GPU_0_bfc\n"
     ]
    },
    {
     "ename": "ResourceExhaustedError",
     "evalue": "OOM when allocating tensor with shape[5000,224,224,3] and type float on /job:localhost/replica:0/task:0/device:GPU:0 by allocator GPU_0_bfc [Op:Mul]",
     "output_type": "error",
     "traceback": [
      "\u001B[0;31m---------------------------------------------------------------------------\u001B[0m",
      "\u001B[0;31mResourceExhaustedError\u001B[0m                    Traceback (most recent call last)",
      "\u001B[0;32m/tmp/ipykernel_19503/3209525597.py\u001B[0m in \u001B[0;36m<module>\u001B[0;34m\u001B[0m\n\u001B[0;32m----> 1\u001B[0;31m \u001B[0minputs\u001B[0m \u001B[0;34m=\u001B[0m \u001B[0mkeras\u001B[0m\u001B[0;34m.\u001B[0m\u001B[0mapplications\u001B[0m\u001B[0;34m.\u001B[0m\u001B[0mvgg16\u001B[0m\u001B[0;34m.\u001B[0m\u001B[0mpreprocess_input\u001B[0m\u001B[0;34m(\u001B[0m\u001B[0mimages_resized\u001B[0m \u001B[0;34m*\u001B[0m \u001B[0;36m255\u001B[0m\u001B[0;34m)\u001B[0m\u001B[0;34m\u001B[0m\u001B[0;34m\u001B[0m\u001B[0m\n\u001B[0m\u001B[1;32m      2\u001B[0m \u001B[0;31m#prediction with model trained on full data-set\u001B[0m\u001B[0;34m\u001B[0m\u001B[0;34m\u001B[0m\u001B[0m\n\u001B[1;32m      3\u001B[0m \u001B[0mY_proba_full\u001B[0m \u001B[0;34m=\u001B[0m \u001B[0mfull_model\u001B[0m\u001B[0;34m.\u001B[0m\u001B[0mpredict\u001B[0m\u001B[0;34m(\u001B[0m\u001B[0minputs\u001B[0m\u001B[0;34m)\u001B[0m\u001B[0;34m\u001B[0m\u001B[0;34m\u001B[0m\u001B[0m\n\u001B[1;32m      4\u001B[0m \u001B[0mprint\u001B[0m\u001B[0;34m(\u001B[0m\u001B[0mY_proba_full\u001B[0m\u001B[0;34m.\u001B[0m\u001B[0mshape\u001B[0m\u001B[0;34m)\u001B[0m\u001B[0;34m\u001B[0m\u001B[0;34m\u001B[0m\u001B[0m\n\u001B[1;32m      5\u001B[0m \u001B[0mprint\u001B[0m\u001B[0;34m(\u001B[0m\u001B[0mY_proba_full\u001B[0m\u001B[0;34m)\u001B[0m\u001B[0;34m\u001B[0m\u001B[0;34m\u001B[0m\u001B[0m\n",
      "\u001B[0;32m~/anaconda3/envs/sls/lib/python3.9/site-packages/tensorflow/python/ops/math_ops.py\u001B[0m in \u001B[0;36mbinary_op_wrapper\u001B[0;34m(x, y)\u001B[0m\n\u001B[1;32m   1162\u001B[0m     \u001B[0;32mwith\u001B[0m \u001B[0mops\u001B[0m\u001B[0;34m.\u001B[0m\u001B[0mname_scope\u001B[0m\u001B[0;34m(\u001B[0m\u001B[0;32mNone\u001B[0m\u001B[0;34m,\u001B[0m \u001B[0mop_name\u001B[0m\u001B[0;34m,\u001B[0m \u001B[0;34m[\u001B[0m\u001B[0mx\u001B[0m\u001B[0;34m,\u001B[0m \u001B[0my\u001B[0m\u001B[0;34m]\u001B[0m\u001B[0;34m)\u001B[0m \u001B[0;32mas\u001B[0m \u001B[0mname\u001B[0m\u001B[0;34m:\u001B[0m\u001B[0;34m\u001B[0m\u001B[0;34m\u001B[0m\u001B[0m\n\u001B[1;32m   1163\u001B[0m       \u001B[0;32mtry\u001B[0m\u001B[0;34m:\u001B[0m\u001B[0;34m\u001B[0m\u001B[0;34m\u001B[0m\u001B[0m\n\u001B[0;32m-> 1164\u001B[0;31m         \u001B[0;32mreturn\u001B[0m \u001B[0mfunc\u001B[0m\u001B[0;34m(\u001B[0m\u001B[0mx\u001B[0m\u001B[0;34m,\u001B[0m \u001B[0my\u001B[0m\u001B[0;34m,\u001B[0m \u001B[0mname\u001B[0m\u001B[0;34m=\u001B[0m\u001B[0mname\u001B[0m\u001B[0;34m)\u001B[0m\u001B[0;34m\u001B[0m\u001B[0;34m\u001B[0m\u001B[0m\n\u001B[0m\u001B[1;32m   1165\u001B[0m       \u001B[0;32mexcept\u001B[0m \u001B[0;34m(\u001B[0m\u001B[0mTypeError\u001B[0m\u001B[0;34m,\u001B[0m \u001B[0mValueError\u001B[0m\u001B[0;34m)\u001B[0m \u001B[0;32mas\u001B[0m \u001B[0me\u001B[0m\u001B[0;34m:\u001B[0m\u001B[0;34m\u001B[0m\u001B[0;34m\u001B[0m\u001B[0m\n\u001B[1;32m   1166\u001B[0m         \u001B[0;31m# Even if dispatching the op failed, the RHS may be a tensor aware\u001B[0m\u001B[0;34m\u001B[0m\u001B[0;34m\u001B[0m\u001B[0m\n",
      "\u001B[0;32m~/anaconda3/envs/sls/lib/python3.9/site-packages/tensorflow/python/ops/math_ops.py\u001B[0m in \u001B[0;36m_mul_dispatch\u001B[0;34m(x, y, name)\u001B[0m\n\u001B[1;32m   1494\u001B[0m     \u001B[0;32mreturn\u001B[0m \u001B[0msparse_tensor\u001B[0m\u001B[0;34m.\u001B[0m\u001B[0mSparseTensor\u001B[0m\u001B[0;34m(\u001B[0m\u001B[0my\u001B[0m\u001B[0;34m.\u001B[0m\u001B[0mindices\u001B[0m\u001B[0;34m,\u001B[0m \u001B[0mnew_vals\u001B[0m\u001B[0;34m,\u001B[0m \u001B[0my\u001B[0m\u001B[0;34m.\u001B[0m\u001B[0mdense_shape\u001B[0m\u001B[0;34m)\u001B[0m\u001B[0;34m\u001B[0m\u001B[0;34m\u001B[0m\u001B[0m\n\u001B[1;32m   1495\u001B[0m   \u001B[0;32melse\u001B[0m\u001B[0;34m:\u001B[0m\u001B[0;34m\u001B[0m\u001B[0;34m\u001B[0m\u001B[0m\n\u001B[0;32m-> 1496\u001B[0;31m     \u001B[0;32mreturn\u001B[0m \u001B[0mmultiply\u001B[0m\u001B[0;34m(\u001B[0m\u001B[0mx\u001B[0m\u001B[0;34m,\u001B[0m \u001B[0my\u001B[0m\u001B[0;34m,\u001B[0m \u001B[0mname\u001B[0m\u001B[0;34m=\u001B[0m\u001B[0mname\u001B[0m\u001B[0;34m)\u001B[0m\u001B[0;34m\u001B[0m\u001B[0;34m\u001B[0m\u001B[0m\n\u001B[0m\u001B[1;32m   1497\u001B[0m \u001B[0;34m\u001B[0m\u001B[0m\n\u001B[1;32m   1498\u001B[0m \u001B[0;34m\u001B[0m\u001B[0m\n",
      "\u001B[0;32m~/anaconda3/envs/sls/lib/python3.9/site-packages/tensorflow/python/util/dispatch.py\u001B[0m in \u001B[0;36mwrapper\u001B[0;34m(*args, **kwargs)\u001B[0m\n\u001B[1;32m    199\u001B[0m     \u001B[0;34m\"\"\"Call target, and fall back on dispatchers if there is a TypeError.\"\"\"\u001B[0m\u001B[0;34m\u001B[0m\u001B[0;34m\u001B[0m\u001B[0m\n\u001B[1;32m    200\u001B[0m     \u001B[0;32mtry\u001B[0m\u001B[0;34m:\u001B[0m\u001B[0;34m\u001B[0m\u001B[0;34m\u001B[0m\u001B[0m\n\u001B[0;32m--> 201\u001B[0;31m       \u001B[0;32mreturn\u001B[0m \u001B[0mtarget\u001B[0m\u001B[0;34m(\u001B[0m\u001B[0;34m*\u001B[0m\u001B[0margs\u001B[0m\u001B[0;34m,\u001B[0m \u001B[0;34m**\u001B[0m\u001B[0mkwargs\u001B[0m\u001B[0;34m)\u001B[0m\u001B[0;34m\u001B[0m\u001B[0;34m\u001B[0m\u001B[0m\n\u001B[0m\u001B[1;32m    202\u001B[0m     \u001B[0;32mexcept\u001B[0m \u001B[0;34m(\u001B[0m\u001B[0mTypeError\u001B[0m\u001B[0;34m,\u001B[0m \u001B[0mValueError\u001B[0m\u001B[0;34m)\u001B[0m\u001B[0;34m:\u001B[0m\u001B[0;34m\u001B[0m\u001B[0;34m\u001B[0m\u001B[0m\n\u001B[1;32m    203\u001B[0m       \u001B[0;31m# Note: convert_to_eager_tensor currently raises a ValueError, not a\u001B[0m\u001B[0;34m\u001B[0m\u001B[0;34m\u001B[0m\u001B[0m\n",
      "\u001B[0;32m~/anaconda3/envs/sls/lib/python3.9/site-packages/tensorflow/python/ops/math_ops.py\u001B[0m in \u001B[0;36mmultiply\u001B[0;34m(x, y, name)\u001B[0m\n\u001B[1;32m    516\u001B[0m   \"\"\"\n\u001B[1;32m    517\u001B[0m \u001B[0;34m\u001B[0m\u001B[0m\n\u001B[0;32m--> 518\u001B[0;31m   \u001B[0;32mreturn\u001B[0m \u001B[0mgen_math_ops\u001B[0m\u001B[0;34m.\u001B[0m\u001B[0mmul\u001B[0m\u001B[0;34m(\u001B[0m\u001B[0mx\u001B[0m\u001B[0;34m,\u001B[0m \u001B[0my\u001B[0m\u001B[0;34m,\u001B[0m \u001B[0mname\u001B[0m\u001B[0;34m)\u001B[0m\u001B[0;34m\u001B[0m\u001B[0;34m\u001B[0m\u001B[0m\n\u001B[0m\u001B[1;32m    519\u001B[0m \u001B[0;34m\u001B[0m\u001B[0m\n\u001B[1;32m    520\u001B[0m \u001B[0;34m\u001B[0m\u001B[0m\n",
      "\u001B[0;32m~/anaconda3/envs/sls/lib/python3.9/site-packages/tensorflow/python/ops/gen_math_ops.py\u001B[0m in \u001B[0;36mmul\u001B[0;34m(x, y, name)\u001B[0m\n\u001B[1;32m   6066\u001B[0m       \u001B[0;32mreturn\u001B[0m \u001B[0m_result\u001B[0m\u001B[0;34m\u001B[0m\u001B[0;34m\u001B[0m\u001B[0m\n\u001B[1;32m   6067\u001B[0m     \u001B[0;32mexcept\u001B[0m \u001B[0m_core\u001B[0m\u001B[0;34m.\u001B[0m\u001B[0m_NotOkStatusException\u001B[0m \u001B[0;32mas\u001B[0m \u001B[0me\u001B[0m\u001B[0;34m:\u001B[0m\u001B[0;34m\u001B[0m\u001B[0;34m\u001B[0m\u001B[0m\n\u001B[0;32m-> 6068\u001B[0;31m       \u001B[0m_ops\u001B[0m\u001B[0;34m.\u001B[0m\u001B[0mraise_from_not_ok_status\u001B[0m\u001B[0;34m(\u001B[0m\u001B[0me\u001B[0m\u001B[0;34m,\u001B[0m \u001B[0mname\u001B[0m\u001B[0;34m)\u001B[0m\u001B[0;34m\u001B[0m\u001B[0;34m\u001B[0m\u001B[0m\n\u001B[0m\u001B[1;32m   6069\u001B[0m     \u001B[0;32mexcept\u001B[0m \u001B[0m_core\u001B[0m\u001B[0;34m.\u001B[0m\u001B[0m_FallbackException\u001B[0m\u001B[0;34m:\u001B[0m\u001B[0;34m\u001B[0m\u001B[0;34m\u001B[0m\u001B[0m\n\u001B[1;32m   6070\u001B[0m       \u001B[0;32mpass\u001B[0m\u001B[0;34m\u001B[0m\u001B[0;34m\u001B[0m\u001B[0m\n",
      "\u001B[0;32m~/anaconda3/envs/sls/lib/python3.9/site-packages/tensorflow/python/framework/ops.py\u001B[0m in \u001B[0;36mraise_from_not_ok_status\u001B[0;34m(e, name)\u001B[0m\n\u001B[1;32m   6860\u001B[0m   \u001B[0mmessage\u001B[0m \u001B[0;34m=\u001B[0m \u001B[0me\u001B[0m\u001B[0;34m.\u001B[0m\u001B[0mmessage\u001B[0m \u001B[0;34m+\u001B[0m \u001B[0;34m(\u001B[0m\u001B[0;34m\" name: \"\u001B[0m \u001B[0;34m+\u001B[0m \u001B[0mname\u001B[0m \u001B[0;32mif\u001B[0m \u001B[0mname\u001B[0m \u001B[0;32mis\u001B[0m \u001B[0;32mnot\u001B[0m \u001B[0;32mNone\u001B[0m \u001B[0;32melse\u001B[0m \u001B[0;34m\"\"\u001B[0m\u001B[0;34m)\u001B[0m\u001B[0;34m\u001B[0m\u001B[0;34m\u001B[0m\u001B[0m\n\u001B[1;32m   6861\u001B[0m   \u001B[0;31m# pylint: disable=protected-access\u001B[0m\u001B[0;34m\u001B[0m\u001B[0;34m\u001B[0m\u001B[0m\n\u001B[0;32m-> 6862\u001B[0;31m   \u001B[0msix\u001B[0m\u001B[0;34m.\u001B[0m\u001B[0mraise_from\u001B[0m\u001B[0;34m(\u001B[0m\u001B[0mcore\u001B[0m\u001B[0;34m.\u001B[0m\u001B[0m_status_to_exception\u001B[0m\u001B[0;34m(\u001B[0m\u001B[0me\u001B[0m\u001B[0;34m.\u001B[0m\u001B[0mcode\u001B[0m\u001B[0;34m,\u001B[0m \u001B[0mmessage\u001B[0m\u001B[0;34m)\u001B[0m\u001B[0;34m,\u001B[0m \u001B[0;32mNone\u001B[0m\u001B[0;34m)\u001B[0m\u001B[0;34m\u001B[0m\u001B[0;34m\u001B[0m\u001B[0m\n\u001B[0m\u001B[1;32m   6863\u001B[0m   \u001B[0;31m# pylint: enable=protected-access\u001B[0m\u001B[0;34m\u001B[0m\u001B[0;34m\u001B[0m\u001B[0m\n\u001B[1;32m   6864\u001B[0m \u001B[0;34m\u001B[0m\u001B[0m\n",
      "\u001B[0;32m~/anaconda3/envs/sls/lib/python3.9/site-packages/six.py\u001B[0m in \u001B[0;36mraise_from\u001B[0;34m(value, from_value)\u001B[0m\n",
      "\u001B[0;31mResourceExhaustedError\u001B[0m: OOM when allocating tensor with shape[5000,224,224,3] and type float on /job:localhost/replica:0/task:0/device:GPU:0 by allocator GPU_0_bfc [Op:Mul]"
     ]
    }
   ],
   "source": [
    "inputs = keras.applications.vgg16.preprocess_input(images_resized * 255)\n",
    "#prediction with model trained on full data-set\n",
    "Y_proba_full = full_model.predict(inputs)\n",
    "print(Y_proba_full.shape)\n",
    "print(Y_proba_full)"
   ]
  }
 ],
 "metadata": {
  "kernelspec": {
   "name": "pycharm-8f8e9c42",
   "language": "python",
   "display_name": "PyCharm (Quality Control of SLS manufacturing using Convolutional Neural Networks -implementation)"
  },
  "language_info": {
   "codemirror_mode": {
    "name": "ipython",
    "version": 3
   },
   "file_extension": ".py",
   "mimetype": "text/x-python",
   "name": "python",
   "nbconvert_exporter": "python",
   "pygments_lexer": "ipython3",
   "version": "3.7.10"
  }
 },
 "nbformat": 4,
 "nbformat_minor": 4
}