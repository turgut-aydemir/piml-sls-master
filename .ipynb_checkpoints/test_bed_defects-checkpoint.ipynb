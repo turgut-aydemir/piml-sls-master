{
 "cells": [
  {
   "cell_type": "code",
   "execution_count": 1,
   "id": "a2f07a18-4c07-4d74-aed4-c63bd3eae5c3",
   "metadata": {
    "id": "a2f07a18-4c07-4d74-aed4-c63bd3eae5c3"
   },
   "outputs": [],
   "source": [
    "import sklearn\n",
    "from sklearn.metrics import confusion_matrix\n",
    "from sklearn.metrics import classification_report\n",
    "import tensorflow as tf\n",
    "from tensorflow import keras\n",
    "import pandas as pd\n",
    "#import cv2\n",
    "import numpy as np\n",
    "import os\n",
    "\n",
    "# to make this notebook's output stable across runs\n",
    "np.random.seed(42)\n",
    "tf.random.set_seed(42)\n",
    "\n",
    "# To plot pretty figures\n",
    "%matplotlib inline\n",
    "import matplotlib as mpl\n",
    "import matplotlib.pyplot as plt\n",
    "mpl.rc('axes', labelsize=14)\n",
    "mpl.rc('xtick', labelsize=12)\n",
    "mpl.rc('ytick', labelsize=12)"
   ]
  },
  {
   "cell_type": "code",
   "execution_count": 2,
   "id": "5b180441-f0c6-4978-b4b4-ce28a8625029",
   "metadata": {
    "id": "5b180441-f0c6-4978-b4b4-ce28a8625029"
   },
   "outputs": [],
   "source": [
    "#Augmentation\n",
    "image_gen = keras.preprocessing.image.ImageDataGenerator(rotation_range=20, # rotate the image 20 degrees\n",
    "                               width_shift_range=0.2, \n",
    "                               height_shift_range=0.2,\n",
    "                               rescale=1/255, # Rescale the image by normalzing it.\n",
    "                               shear_range=0.15, # Shear means cutting away part of the image (max 20%)\n",
    "                               zoom_range=0.15, # Zoom in by 15% max\n",
    "                               horizontal_flip=True, # Allo horizontal flipping\n",
    "                               fill_mode='nearest' # Fill in missing pixels with the nearest filled value\n",
    "                              )"
   ]
  },
  {
   "cell_type": "code",
   "execution_count": 3,
   "id": "9qEGvoc6yp1s",
   "metadata": {
    "id": "9qEGvoc6yp1s"
   },
   "outputs": [],
   "source": [
    "# width,height,channels\n",
    "image_shape = (180,180,3)"
   ]
  },
  {
   "cell_type": "code",
   "execution_count": 12,
   "id": "eb2c12c8-b5e7-40e3-a56e-2d05dbb73501",
   "metadata": {},
   "outputs": [],
   "source": [
    "#train_data_path = './drive/MyDrive/Bachelor/data_balanced/train' #google colab\n",
    "#test_data_path = './drive/MyDrive/Bachelor/data_balanced/test' #google colab\n",
    "#validation_data_path = './drive/MyDrive/Bachelor/data_balanced/validation' #google colab\n",
    "train_data_path = './data/test-bed-deffects/data_balanced/train' #local notebook\n",
    "test_data_path = './data/test-bed-deffects/data_balanced/test' #local notebook\n",
    "validation_data_path = './data/test-bed-deffects/data_balanced/validation' #local notebook"
   ]
  },
  {
   "cell_type": "code",
   "execution_count": 7,
   "id": "7e30807b-e07c-46f0-9a7f-7433f76f511b",
   "metadata": {
    "colab": {
     "base_uri": "https://localhost:8080/"
    },
    "id": "7e30807b-e07c-46f0-9a7f-7433f76f511b",
    "outputId": "8f0fd663-4621-4b6c-b1a1-d74032c724cb"
   },
   "outputs": [
    {
     "name": "stdout",
     "output_type": "stream",
     "text": [
      "Found 2000 images belonging to 2 classes.\n"
     ]
    }
   ],
   "source": [
    "batch_size = 16\n",
    "\n",
    "train_image_gen = image_gen.flow_from_directory(train_data_path,\n",
    "                                               target_size=(180,180),\n",
    "                                               batch_size=batch_size,\n",
    "                                               class_mode='binary')\n",
    "#train_image_gen = image_gen.flow_from_directory('./drive/MyDrive/Bachelor/data_balanced/train')"
   ]
  },
  {
   "cell_type": "code",
   "execution_count": 8,
   "id": "lQKmhtr1M6Vj",
   "metadata": {
    "colab": {
     "base_uri": "https://localhost:8080/"
    },
    "id": "lQKmhtr1M6Vj",
    "outputId": "fa311d31-252b-4bd8-a490-bebcee0c0221"
   },
   "outputs": [
    {
     "data": {
      "text/plain": [
       "(180, 180, 3)"
      ]
     },
     "execution_count": 8,
     "metadata": {},
     "output_type": "execute_result"
    }
   ],
   "source": [
    "train_image_gen.image_shape"
   ]
  },
  {
   "cell_type": "code",
   "execution_count": 9,
   "id": "83038063-2422-4114-a5ab-bdd828b8f170",
   "metadata": {
    "colab": {
     "base_uri": "https://localhost:8080/"
    },
    "id": "83038063-2422-4114-a5ab-bdd828b8f170",
    "outputId": "d326183b-246d-40bf-c315-44c5beddfe60"
   },
   "outputs": [
    {
     "name": "stdout",
     "output_type": "stream",
     "text": [
      "Found 998 images belonging to 2 classes.\n"
     ]
    }
   ],
   "source": [
    "test_image_gen = image_gen.flow_from_directory(test_data_path,\n",
    "                                               target_size=(180,180),                                               \n",
    "                                               batch_size=batch_size,\n",
    "                                               class_mode='binary')\n",
    "#test_image_gen = image_gen.flow_from_directory('./drive/MyDrive/Bachelor/data_balanced/test')"
   ]
  },
  {
   "cell_type": "code",
   "execution_count": null,
   "id": "l2P4XEJm_eK_",
   "metadata": {
    "id": "l2P4XEJm_eK_"
   },
   "outputs": [],
   "source": []
  },
  {
   "cell_type": "code",
   "execution_count": 10,
   "id": "a38433a8-10e3-40bc-a903-7998b09da187",
   "metadata": {
    "colab": {
     "base_uri": "https://localhost:8080/"
    },
    "id": "a38433a8-10e3-40bc-a903-7998b09da187",
    "outputId": "19e328ce-b693-45f2-fa3d-c98a35d2fa56"
   },
   "outputs": [
    {
     "data": {
      "text/plain": [
       "{'DEF': 0, 'OK': 1}"
      ]
     },
     "execution_count": 10,
     "metadata": {},
     "output_type": "execute_result"
    }
   ],
   "source": [
    "train_image_gen.class_indices"
   ]
  },
  {
   "cell_type": "code",
   "execution_count": 13,
   "id": "3mZbJUg54lqk",
   "metadata": {
    "colab": {
     "base_uri": "https://localhost:8080/"
    },
    "id": "3mZbJUg54lqk",
    "outputId": "26d3465c-3339-44c6-ab81-026247a80208"
   },
   "outputs": [
    {
     "name": "stdout",
     "output_type": "stream",
     "text": [
      "Found 1000 images belonging to 2 classes.\n"
     ]
    }
   ],
   "source": [
    "valid_set = image_gen.flow_from_directory(validation_data_path,\n",
    "                                           target_size=(180,180),\n",
    "                                           batch_size=batch_size,\n",
    "                                           class_mode='binary')"
   ]
  },
  {
   "cell_type": "code",
   "execution_count": 14,
   "id": "GWyUZhMWhor4",
   "metadata": {
    "colab": {
     "base_uri": "https://localhost:8080/"
    },
    "id": "GWyUZhMWhor4",
    "outputId": "b34bd81f-e7f2-4380-e63d-862871039617"
   },
   "outputs": [
    {
     "data": {
      "text/plain": [
       "{'DEF': 0, 'OK': 1}"
      ]
     },
     "execution_count": 14,
     "metadata": {},
     "output_type": "execute_result"
    }
   ],
   "source": [
    "valid_set.class_indices"
   ]
  },
  {
   "cell_type": "code",
   "execution_count": 15,
   "id": "6f527d5b-c78a-419f-83d9-37bfd050e172",
   "metadata": {
    "colab": {
     "base_uri": "https://localhost:8080/"
    },
    "id": "6f527d5b-c78a-419f-83d9-37bfd050e172",
    "outputId": "54462daa-ef7b-4d07-bd9f-4ef79ba8cd47"
   },
   "outputs": [
    {
     "name": "stdout",
     "output_type": "stream",
     "text": [
      "Downloading data from https://storage.googleapis.com/tensorflow/keras-applications/vgg16/vgg16_weights_tf_dim_ordering_tf_kernels_notop.h5\n",
      "58892288/58889256 [==============================] - 9s 0us/step\n"
     ]
    }
   ],
   "source": [
    "base_model = keras.applications.vgg16.VGG16(\n",
    "    include_top=False, weights='imagenet')"
   ]
  },
  {
   "cell_type": "code",
   "execution_count": 16,
   "id": "sWVss_2OxIkO",
   "metadata": {
    "colab": {
     "base_uri": "https://localhost:8080/"
    },
    "id": "sWVss_2OxIkO",
    "outputId": "ff0691a0-afc7-4ef7-bf1b-8c12ad70afb9"
   },
   "outputs": [
    {
     "name": "stdout",
     "output_type": "stream",
     "text": [
      "Model: \"vgg16\"\n",
      "_________________________________________________________________\n",
      "Layer (type)                 Output Shape              Param #   \n",
      "=================================================================\n",
      "input_1 (InputLayer)         [(None, None, None, 3)]   0         \n",
      "_________________________________________________________________\n",
      "block1_conv1 (Conv2D)        (None, None, None, 64)    1792      \n",
      "_________________________________________________________________\n",
      "block1_conv2 (Conv2D)        (None, None, None, 64)    36928     \n",
      "_________________________________________________________________\n",
      "block1_pool (MaxPooling2D)   (None, None, None, 64)    0         \n",
      "_________________________________________________________________\n",
      "block2_conv1 (Conv2D)        (None, None, None, 128)   73856     \n",
      "_________________________________________________________________\n",
      "block2_conv2 (Conv2D)        (None, None, None, 128)   147584    \n",
      "_________________________________________________________________\n",
      "block2_pool (MaxPooling2D)   (None, None, None, 128)   0         \n",
      "_________________________________________________________________\n",
      "block3_conv1 (Conv2D)        (None, None, None, 256)   295168    \n",
      "_________________________________________________________________\n",
      "block3_conv2 (Conv2D)        (None, None, None, 256)   590080    \n",
      "_________________________________________________________________\n",
      "block3_conv3 (Conv2D)        (None, None, None, 256)   590080    \n",
      "_________________________________________________________________\n",
      "block3_pool (MaxPooling2D)   (None, None, None, 256)   0         \n",
      "_________________________________________________________________\n",
      "block4_conv1 (Conv2D)        (None, None, None, 512)   1180160   \n",
      "_________________________________________________________________\n",
      "block4_conv2 (Conv2D)        (None, None, None, 512)   2359808   \n",
      "_________________________________________________________________\n",
      "block4_conv3 (Conv2D)        (None, None, None, 512)   2359808   \n",
      "_________________________________________________________________\n",
      "block4_pool (MaxPooling2D)   (None, None, None, 512)   0         \n",
      "_________________________________________________________________\n",
      "block5_conv1 (Conv2D)        (None, None, None, 512)   2359808   \n",
      "_________________________________________________________________\n",
      "block5_conv2 (Conv2D)        (None, None, None, 512)   2359808   \n",
      "_________________________________________________________________\n",
      "block5_conv3 (Conv2D)        (None, None, None, 512)   2359808   \n",
      "_________________________________________________________________\n",
      "block5_pool (MaxPooling2D)   (None, None, None, 512)   0         \n",
      "=================================================================\n",
      "Total params: 14,714,688\n",
      "Trainable params: 14,714,688\n",
      "Non-trainable params: 0\n",
      "_________________________________________________________________\n"
     ]
    }
   ],
   "source": [
    "base_model.summary()"
   ]
  },
  {
   "cell_type": "code",
   "execution_count": null,
   "id": "ZyVdrYnrgvDE",
   "metadata": {
    "id": "ZyVdrYnrgvDE"
   },
   "outputs": [],
   "source": [
    "#TODO!!\n",
    "#input = keras.applications.vgg16.preprocess_input(train_image_gen)"
   ]
  },
  {
   "cell_type": "code",
   "execution_count": 17,
   "id": "w9DoZqGT3KOE",
   "metadata": {
    "colab": {
     "base_uri": "https://localhost:8080/"
    },
    "id": "w9DoZqGT3KOE",
    "outputId": "3a86d7e9-8c4b-4cb7-c700-1b7bcc9e4148"
   },
   "outputs": [
    {
     "name": "stdout",
     "output_type": "stream",
     "text": [
      "Model: \"model\"\n",
      "_________________________________________________________________\n",
      "Layer (type)                 Output Shape              Param #   \n",
      "=================================================================\n",
      "image_input (InputLayer)     [(None, 180, 180, 3)]     0         \n",
      "_________________________________________________________________\n",
      "vgg16 (Functional)           (None, None, None, 512)   14714688  \n",
      "_________________________________________________________________\n",
      "flatten (Flatten)            (None, 12800)             0         \n",
      "_________________________________________________________________\n",
      "dense (Dense)                (None, 1000)              12801000  \n",
      "_________________________________________________________________\n",
      "dropout (Dropout)            (None, 1000)              0         \n",
      "_________________________________________________________________\n",
      "batch_normalization (BatchNo (None, 1000)              4000      \n",
      "_________________________________________________________________\n",
      "dense_1 (Dense)              (None, 1)                 1001      \n",
      "_________________________________________________________________\n",
      "activation (Activation)      (None, 1)                 0         \n",
      "=================================================================\n",
      "Total params: 27,520,689\n",
      "Trainable params: 27,518,689\n",
      "Non-trainable params: 2,000\n",
      "_________________________________________________________________\n"
     ]
    }
   ],
   "source": [
    "#Create your own input format (here 3x200x200)\n",
    "#input = keras.applications.vgg16.preprocess_input(train_image_gen)\n",
    "input = keras.Input(shape=(180,180,3),name = 'image_input')\n",
    "\n",
    "#Use the generated model \n",
    "#output_vgg16_conv = model_vgg16_conv(input)\n",
    "\n",
    "#Use the generated model \n",
    "output_vgg16_conv = base_model(input)\n",
    "\n",
    "#Add the fully-connected layers \n",
    "x = keras.layers.Flatten(name='flatten')(output_vgg16_conv)\n",
    "x = keras.layers.Dense(1000)(x)\n",
    "x = keras.layers.Dropout(0.25)(x)\n",
    "x = keras.layers.BatchNormalization()(x)\n",
    "x = keras.layers.Dense(1)(x)\n",
    "x = keras.layers.Activation('sigmoid')(x)\n",
    "\n",
    "\n",
    "#Create your own model \n",
    "my_model = keras.models.Model(input, x)\n",
    "\n",
    "#In the summary, weights and layers from VGG part will be hidden, but they will be fit during the training\n",
    "my_model.summary()\n"
   ]
  },
  {
   "cell_type": "code",
   "execution_count": 18,
   "id": "B3v8sRUB0sVh",
   "metadata": {
    "id": "B3v8sRUB0sVh"
   },
   "outputs": [],
   "source": [
    "custom_early_stopping = keras.callbacks.EarlyStopping(patience=20)"
   ]
  },
  {
   "cell_type": "code",
   "execution_count": 19,
   "id": "VzlUUgxEp35l",
   "metadata": {
    "colab": {
     "base_uri": "https://localhost:8080/"
    },
    "id": "VzlUUgxEp35l",
    "outputId": "68746037-4f0a-4420-abca-f38bfe129edc"
   },
   "outputs": [
    {
     "name": "stdout",
     "output_type": "stream",
     "text": [
      "Epoch 1/5\n",
      "125/125 [==============================] - 164s 1s/step - loss: 0.8058 - accuracy: 0.6362 - val_loss: 0.5084 - val_accuracy: 0.7395\n",
      "Epoch 2/5\n",
      "125/125 [==============================] - 162s 1s/step - loss: 0.7165 - accuracy: 0.6598 - val_loss: 0.5842 - val_accuracy: 0.7345\n",
      "Epoch 3/5\n",
      "125/125 [==============================] - 162s 1s/step - loss: 0.6315 - accuracy: 0.6954 - val_loss: 0.8169 - val_accuracy: 0.7054\n",
      "Epoch 4/5\n",
      "125/125 [==============================] - 165s 1s/step - loss: 0.5769 - accuracy: 0.7392 - val_loss: 0.7038 - val_accuracy: 0.7385\n",
      "Epoch 5/5\n",
      "125/125 [==============================] - 167s 1s/step - loss: 0.5620 - accuracy: 0.7230 - val_loss: 0.5443 - val_accuracy: 0.7725\n"
     ]
    }
   ],
   "source": [
    "for layer in base_model.layers:\n",
    "    layer.trainable = False\n",
    "optimizer = keras.optimizers.Adam(learning_rate=0.0001, beta_1=0.9, beta_2=0.999)\n",
    "my_model.compile(loss=\"binary_crossentropy\", optimizer=optimizer,\n",
    "              metrics=[\"accuracy\"])\n",
    "history = my_model.fit(train_image_gen,                \n",
    "                    validation_data=test_image_gen,                  \n",
    "                    epochs=5)"
   ]
  },
  {
   "cell_type": "code",
   "execution_count": null,
   "id": "FfispuTPqeV-",
   "metadata": {
    "colab": {
     "base_uri": "https://localhost:8080/"
    },
    "id": "FfispuTPqeV-",
    "outputId": "0ee88ac1-2e6f-4a1d-8207-b40ecc86b007"
   },
   "outputs": [
    {
     "name": "stdout",
     "output_type": "stream",
     "text": [
      "Epoch 1/100\n",
      "125/125 [==============================] - 58s 423ms/step - loss: 0.6623 - accuracy: 0.6835 - val_loss: 1.4810 - val_accuracy: 0.5972\n",
      "Epoch 2/100\n",
      "125/125 [==============================] - 52s 417ms/step - loss: 0.4809 - accuracy: 0.7980 - val_loss: 0.8268 - val_accuracy: 0.7044\n",
      "Epoch 3/100\n",
      "125/125 [==============================] - 52s 416ms/step - loss: 0.3670 - accuracy: 0.8610 - val_loss: 0.5786 - val_accuracy: 0.7585\n",
      "Epoch 4/100\n",
      "125/125 [==============================] - 52s 417ms/step - loss: 0.3464 - accuracy: 0.8715 - val_loss: 0.2442 - val_accuracy: 0.9269\n",
      "Epoch 5/100\n",
      "125/125 [==============================] - 52s 416ms/step - loss: 0.3462 - accuracy: 0.8655 - val_loss: 0.2785 - val_accuracy: 0.9038\n",
      "Epoch 6/100\n",
      "125/125 [==============================] - 52s 416ms/step - loss: 0.2945 - accuracy: 0.8965 - val_loss: 0.2249 - val_accuracy: 0.9158\n",
      "Epoch 7/100\n",
      "125/125 [==============================] - 52s 416ms/step - loss: 0.2928 - accuracy: 0.9030 - val_loss: 0.3047 - val_accuracy: 0.8808\n",
      "Epoch 8/100\n",
      "125/125 [==============================] - 52s 416ms/step - loss: 0.2943 - accuracy: 0.8975 - val_loss: 0.2788 - val_accuracy: 0.8998\n",
      "Epoch 9/100\n",
      "125/125 [==============================] - 52s 417ms/step - loss: 0.3035 - accuracy: 0.8900 - val_loss: 0.2382 - val_accuracy: 0.9248\n",
      "Epoch 10/100\n",
      "125/125 [==============================] - 52s 416ms/step - loss: 0.3086 - accuracy: 0.8930 - val_loss: 0.2655 - val_accuracy: 0.9128\n",
      "Epoch 11/100\n",
      "125/125 [==============================] - 52s 413ms/step - loss: 0.3014 - accuracy: 0.8880 - val_loss: 0.2394 - val_accuracy: 0.9138\n",
      "Epoch 12/100\n",
      "125/125 [==============================] - 52s 413ms/step - loss: 0.2923 - accuracy: 0.8960 - val_loss: 0.4016 - val_accuracy: 0.8417\n",
      "Epoch 13/100\n",
      "125/125 [==============================] - 52s 414ms/step - loss: 0.2886 - accuracy: 0.9070 - val_loss: 0.2349 - val_accuracy: 0.9188\n",
      "Epoch 14/100\n",
      "125/125 [==============================] - 52s 414ms/step - loss: 0.2804 - accuracy: 0.9070 - val_loss: 0.2439 - val_accuracy: 0.9108\n",
      "Epoch 15/100\n",
      "125/125 [==============================] - 52s 413ms/step - loss: 0.2521 - accuracy: 0.9160 - val_loss: 0.2155 - val_accuracy: 0.9238\n",
      "Epoch 16/100\n",
      "125/125 [==============================] - 52s 413ms/step - loss: 0.2691 - accuracy: 0.9050 - val_loss: 0.2360 - val_accuracy: 0.9248\n",
      "Epoch 17/100\n",
      "125/125 [==============================] - 52s 413ms/step - loss: 0.2798 - accuracy: 0.9090 - val_loss: 0.2136 - val_accuracy: 0.9319\n",
      "Epoch 18/100\n",
      "125/125 [==============================] - 51s 411ms/step - loss: 0.2568 - accuracy: 0.9155 - val_loss: 0.3036 - val_accuracy: 0.8908\n",
      "Epoch 19/100\n",
      "125/125 [==============================] - 51s 410ms/step - loss: 0.2687 - accuracy: 0.9070 - val_loss: 0.2695 - val_accuracy: 0.9068\n",
      "Epoch 20/100\n",
      "125/125 [==============================] - 51s 411ms/step - loss: 0.2630 - accuracy: 0.9075 - val_loss: 0.2295 - val_accuracy: 0.9218\n",
      "Epoch 21/100\n",
      "125/125 [==============================] - 52s 412ms/step - loss: 0.2594 - accuracy: 0.9160 - val_loss: 0.2395 - val_accuracy: 0.9138\n",
      "Epoch 22/100\n",
      "125/125 [==============================] - 51s 410ms/step - loss: 0.2676 - accuracy: 0.9135 - val_loss: 0.2316 - val_accuracy: 0.9208\n",
      "Epoch 23/100\n",
      "125/125 [==============================] - 51s 410ms/step - loss: 0.2571 - accuracy: 0.9170 - val_loss: 0.3089 - val_accuracy: 0.8848\n",
      "Epoch 24/100\n",
      "125/125 [==============================] - 51s 410ms/step - loss: 0.2700 - accuracy: 0.9115 - val_loss: 0.2191 - val_accuracy: 0.9299\n",
      "Epoch 25/100\n",
      "125/125 [==============================] - 51s 410ms/step - loss: 0.2582 - accuracy: 0.9145 - val_loss: 0.2682 - val_accuracy: 0.9248\n",
      "Epoch 26/100\n",
      "125/125 [==============================] - 51s 408ms/step - loss: 0.2592 - accuracy: 0.9130 - val_loss: 0.2205 - val_accuracy: 0.9238\n",
      "Epoch 27/100\n",
      "125/125 [==============================] - 51s 410ms/step - loss: 0.2313 - accuracy: 0.9270 - val_loss: 0.2560 - val_accuracy: 0.9158\n",
      "Epoch 28/100\n",
      "125/125 [==============================] - 51s 411ms/step - loss: 0.2725 - accuracy: 0.9085 - val_loss: 0.3168 - val_accuracy: 0.9038\n",
      "Epoch 29/100\n",
      "125/125 [==============================] - 51s 410ms/step - loss: 0.2732 - accuracy: 0.9030 - val_loss: 0.2346 - val_accuracy: 0.9158\n",
      "Epoch 30/100\n",
      "125/125 [==============================] - 51s 407ms/step - loss: 0.2385 - accuracy: 0.9220 - val_loss: 0.2528 - val_accuracy: 0.9098\n",
      "Epoch 31/100\n",
      "125/125 [==============================] - 51s 407ms/step - loss: 0.2436 - accuracy: 0.9190 - val_loss: 0.2111 - val_accuracy: 0.9349\n",
      "Epoch 32/100\n",
      "125/125 [==============================] - 51s 407ms/step - loss: 0.2500 - accuracy: 0.9205 - val_loss: 0.2095 - val_accuracy: 0.9339\n",
      "Epoch 33/100\n",
      "125/125 [==============================] - 51s 406ms/step - loss: 0.2572 - accuracy: 0.9165 - val_loss: 0.2465 - val_accuracy: 0.9178\n",
      "Epoch 34/100\n",
      "125/125 [==============================] - 51s 406ms/step - loss: 0.2417 - accuracy: 0.9215 - val_loss: 0.1963 - val_accuracy: 0.9359\n",
      "Epoch 35/100\n",
      "125/125 [==============================] - 51s 407ms/step - loss: 0.2638 - accuracy: 0.9125 - val_loss: 0.2361 - val_accuracy: 0.9178\n",
      "Epoch 36/100\n",
      "125/125 [==============================] - 51s 408ms/step - loss: 0.2498 - accuracy: 0.9205 - val_loss: 0.2183 - val_accuracy: 0.9299\n",
      "Epoch 37/100\n",
      "125/125 [==============================] - 51s 407ms/step - loss: 0.2541 - accuracy: 0.9140 - val_loss: 0.2251 - val_accuracy: 0.9259\n",
      "Epoch 38/100\n",
      "125/125 [==============================] - 51s 407ms/step - loss: 0.2581 - accuracy: 0.9120 - val_loss: 0.2232 - val_accuracy: 0.9238\n",
      "Epoch 39/100\n",
      "125/125 [==============================] - 51s 407ms/step - loss: 0.2416 - accuracy: 0.9240 - val_loss: 0.2518 - val_accuracy: 0.9248\n",
      "Epoch 40/100\n",
      "125/125 [==============================] - 51s 407ms/step - loss: 0.2689 - accuracy: 0.9135 - val_loss: 0.2086 - val_accuracy: 0.9359\n",
      "Epoch 41/100\n",
      "125/125 [==============================] - 51s 408ms/step - loss: 0.2346 - accuracy: 0.9260 - val_loss: 0.2313 - val_accuracy: 0.9228\n",
      "Epoch 42/100\n",
      "125/125 [==============================] - 51s 411ms/step - loss: 0.2403 - accuracy: 0.9215 - val_loss: 0.3460 - val_accuracy: 0.8828\n",
      "Epoch 43/100\n",
      "125/125 [==============================] - 51s 407ms/step - loss: 0.2516 - accuracy: 0.9135 - val_loss: 0.2214 - val_accuracy: 0.9289\n",
      "Epoch 44/100\n",
      "125/125 [==============================] - 51s 408ms/step - loss: 0.2412 - accuracy: 0.9270 - val_loss: 0.2083 - val_accuracy: 0.9329\n",
      "Epoch 45/100\n",
      "125/125 [==============================] - 51s 408ms/step - loss: 0.2208 - accuracy: 0.9300 - val_loss: 0.2596 - val_accuracy: 0.9108\n",
      "Epoch 46/100\n",
      "125/125 [==============================] - 52s 412ms/step - loss: 0.2378 - accuracy: 0.9215 - val_loss: 0.1981 - val_accuracy: 0.9439\n",
      "Epoch 47/100\n",
      "125/125 [==============================] - 51s 409ms/step - loss: 0.2359 - accuracy: 0.9225 - val_loss: 0.2470 - val_accuracy: 0.9138\n",
      "Epoch 48/100\n",
      "125/125 [==============================] - 51s 408ms/step - loss: 0.2415 - accuracy: 0.9190 - val_loss: 0.2450 - val_accuracy: 0.9188\n",
      "Epoch 49/100\n",
      "125/125 [==============================] - 51s 408ms/step - loss: 0.2498 - accuracy: 0.9205 - val_loss: 0.2500 - val_accuracy: 0.9188\n",
      "Epoch 50/100\n",
      "125/125 [==============================] - 51s 409ms/step - loss: 0.2762 - accuracy: 0.9120 - val_loss: 0.2078 - val_accuracy: 0.9339\n",
      "Epoch 51/100\n",
      "125/125 [==============================] - 52s 411ms/step - loss: 0.2381 - accuracy: 0.9245 - val_loss: 0.2243 - val_accuracy: 0.9279\n",
      "Epoch 52/100\n",
      "125/125 [==============================] - 51s 410ms/step - loss: 0.2471 - accuracy: 0.9155 - val_loss: 0.3021 - val_accuracy: 0.8928\n",
      "Epoch 53/100\n",
      "125/125 [==============================] - 51s 409ms/step - loss: 0.2442 - accuracy: 0.9215 - val_loss: 0.2207 - val_accuracy: 0.9289\n",
      "Epoch 54/100\n",
      "125/125 [==============================] - 51s 409ms/step - loss: 0.2339 - accuracy: 0.9235 - val_loss: 0.2107 - val_accuracy: 0.9389\n"
     ]
    }
   ],
   "source": [
    "for layer in base_model.layers:\n",
    "    layer.trainable = True\n",
    "\n",
    "optimizer = keras.optimizers.Adam(learning_rate=0.0001, beta_1=0.9, beta_2=0.999)\n",
    "my_model.compile(loss=\"binary_crossentropy\", optimizer=optimizer,\n",
    "              metrics=[\"accuracy\"])\n",
    "history = my_model.fit(train_image_gen,                    \n",
    "                    validation_data=test_image_gen,                    \n",
    "                    epochs=100,\n",
    "                    callbacks=[custom_early_stopping])"
   ]
  },
  {
   "cell_type": "code",
   "execution_count": null,
   "id": "JN3959VKyELe",
   "metadata": {
    "id": "JN3959VKyELe"
   },
   "outputs": [],
   "source": [
    "# serialize to JSON\n",
    "my_model_v1 = my_model.to_json()\n",
    "with open('./saved_model/my_model_v1.json', \"w\") as file:\n",
    "   file.write(my_model_v1)\n",
    "# serialize weights to HDF5\n",
    "my_model.save_weights('./saved_model/my_model_v1_weights.h5')"
   ]
  },
  {
   "cell_type": "code",
   "execution_count": null,
   "id": "jrMFmcPqyEam",
   "metadata": {
    "id": "jrMFmcPqyEam"
   },
   "outputs": [],
   "source": [
    "from keras.models import model_from_json\n",
    "def load_model(model_path, weight_path):\n",
    "    # load json and create model\n",
    "    file = open(model_path, 'r')\n",
    "    model_json = file.read()\n",
    "    file.close()\n",
    "    loaded_model = keras.models.model_from_json(model_json)\n",
    "    # load weights\n",
    "    loaded_model.load_weights(weight_path)\n",
    "    optimizer = keras.optimizers.Adam(learning_rate=0.0001, beta_1=0.9, beta_2=0.999)\n",
    "    loaded_model.compile(loss=\"binary_crossentropy\", optimizer=optimizer, metrics=['accuracy', 'Recall', 'Precision', 'AUC'])\n",
    "    return loaded_model"
   ]
  },
  {
   "cell_type": "code",
   "execution_count": null,
   "id": "35pDXyUyla2Q",
   "metadata": {
    "id": "35pDXyUyla2Q"
   },
   "outputs": [],
   "source": [
    "#model = load_model('./drive/MyDrive/Bachelor/my_model_v1_63epoch.json', './drive/MyDrive/Bachelor/my_model_v1_63epoch_weights.h5')"
   ]
  },
  {
   "cell_type": "code",
   "execution_count": null,
   "id": "PNvMDqay_7Ve",
   "metadata": {
    "id": "PNvMDqay_7Ve"
   },
   "outputs": [],
   "source": [
    "#history.history"
   ]
  },
  {
   "cell_type": "code",
   "execution_count": null,
   "id": "-6_j3LZpp3bN",
   "metadata": {
    "colab": {
     "base_uri": "https://localhost:8080/",
     "height": 328
    },
    "id": "-6_j3LZpp3bN",
    "outputId": "176b6ae5-0426-4556-f8b2-fea74da092a7"
   },
   "outputs": [
    {
     "data": {
      "image/png": "[encoded data removed]",
      "text/plain": [
       "<Figure size 576x360 with 1 Axes>"
      ]
     },
     "metadata": {
      "needs_background": "light"
     },
     "output_type": "display_data"
    }
   ],
   "source": [
    "pd.DataFrame(history.history).plot(figsize=(8, 5))\n",
    "plt.grid(True)\n",
    "plt.gca().set_ylim(0, 1) # set the vertical range to [0-1]\n",
    "plt.show()"
   ]
  },
  {
   "cell_type": "code",
   "execution_count": null,
   "id": "2tXJkFmYAUl-",
   "metadata": {
    "colab": {
     "base_uri": "https://localhost:8080/",
     "height": 73,
     "resources": {
      "http://localhost:8080/nbextensions/google.colab/files.js": {
       "data": "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",
       "headers": [
        [
         "content-type",
         "application/javascript"
        ]
       ],
       "ok": true,
       "status": 200,
       "status_text": ""
      }
     }
    },
    "id": "2tXJkFmYAUl-",
    "outputId": "5e4f3314-eaaa-4fb7-ee9c-d1a155e4d2e8"
   },
   "outputs": [
    {
     "data": {
      "text/html": [
       "\n",
       "     <input type=\"file\" id=\"files-4d1b1f89-1c8d-49ca-86ea-3d29408e4181\" name=\"files[]\" multiple disabled\n",
       "        style=\"border:none\" />\n",
       "     <output id=\"result-4d1b1f89-1c8d-49ca-86ea-3d29408e4181\">\n",
       "      Upload widget is only available when the cell has been executed in the\n",
       "      current browser session. Please rerun this cell to enable.\n",
       "      </output>\n",
       "      <script src=\"/nbextensions/google.colab/files.js\"></script> "
      ],
      "text/plain": [
       "<IPython.core.display.HTML object>"
      ]
     },
     "metadata": {},
     "output_type": "display_data"
    },
    {
     "name": "stdout",
     "output_type": "stream",
     "text": [
      "Saving validation_OK_17.jpeg to validation_OK_17.jpeg\n"
     ]
    }
   ],
   "source": []
  },
  {
   "cell_type": "code",
   "execution_count": null,
   "id": "Tf9v5S3A6eZ0",
   "metadata": {
    "colab": {
     "base_uri": "https://localhost:8080/",
     "height": 291
    },
    "id": "Tf9v5S3A6eZ0",
    "outputId": "4d3f98c8-d876-4b77-c94e-3b190d2027ff"
   },
   "outputs": [
    {
     "data": {
      "text/plain": [
       "(1, 180, 180, 3)"
      ]
     },
     "execution_count": 5,
     "metadata": {},
     "output_type": "execute_result"
    },
    {
     "data": {
      "image/png": "[encoded data removed]",
      "text/plain": [
       "<Figure size 432x288 with 1 Axes>"
      ]
     },
     "metadata": {
      "needs_background": "light"
     },
     "output_type": "display_data"
    }
   ],
   "source": [
    "img_original = cv2.imread('./data/test-bed-deffects/data_balanced/validation/OK/validation_OK_21.jpeg')\n",
    "#img = cv2.cvtColor(img_original, cv2.COLOR_BGR2RGB)\n",
    "img_rgb = cv2.cvtColor(img_original, cv2.COLOR_BGR2RGB)\n",
    "img = cv2.resize(img_rgb,(180,180)) / 255\n",
    "plt.imshow(img)\n",
    "img = img.reshape(1,180,180,3) # return the image with shaping that TF wants.\n",
    "\n",
    "img.shape"
   ]
  },
  {
   "cell_type": "code",
   "execution_count": null,
   "id": "bnpj74U26GyW",
   "metadata": {
    "colab": {
     "base_uri": "https://localhost:8080/"
    },
    "id": "bnpj74U26GyW",
    "outputId": "634755c0-3579-4cde-b5a1-24203bdf9989"
   },
   "outputs": [
    {
     "name": "stdout",
     "output_type": "stream",
     "text": [
      "WARNING:tensorflow:5 out of the last 5 calls to <function Model.make_predict_function.<locals>.predict_function at 0x7fab78718f80> triggered tf.function retracing. Tracing is expensive and the excessive number of tracings could be due to (1) creating @tf.function repeatedly in a loop, (2) passing tensors with different shapes, (3) passing Python objects instead of tensors. For (1), please define your @tf.function outside of the loop. For (2), @tf.function has experimental_relax_shapes=True option that relaxes argument shapes that can avoid unnecessary retracing. For (3), please refer to https://www.tensorflow.org/guide/function#controlling_retracing and https://www.tensorflow.org/api_docs/python/tf/function for  more details.\n",
      "Probability that image shows a test bed which is OK is: [[0.9132424]] \n"
     ]
    }
   ],
   "source": [
    "optimizer = keras.optimizers.Adam(learning_rate=0.0001, beta_1=0.9, beta_2=0.999)\n",
    "loaded_model.compile(loss=\"binary_crossentropy\", optimizer=optimizer,\n",
    "              metrics=[\"accuracy\"])\n",
    "prediction = loaded_model.predict(img)\n",
    "print(f'Probability that image shows a test bed which is OK is: {prediction} ')"
   ]
  },
  {
   "cell_type": "code",
   "execution_count": null,
   "id": "_NvwGdU2jdOP",
   "metadata": {
    "colab": {
     "base_uri": "https://localhost:8080/"
    },
    "id": "_NvwGdU2jdOP",
    "outputId": "8b8b0916-9614-471c-8519-d572b0a54e94"
   },
   "outputs": [
    {
     "data": {
      "text/plain": [
       "(180, 180, 3)"
      ]
     },
     "execution_count": 33,
     "metadata": {},
     "output_type": "execute_result"
    }
   ],
   "source": [
    "valid_set.image_shape\n"
   ]
  },
  {
   "cell_type": "code",
   "execution_count": null,
   "id": "1QgEB7rkn0Ez",
   "metadata": {
    "colab": {
     "base_uri": "https://localhost:8080/"
    },
    "id": "1QgEB7rkn0Ez",
    "outputId": "98954446-23db-48d9-ea83-1eca7f7f796c"
   },
   "outputs": [
    {
     "name": "stdout",
     "output_type": "stream",
     "text": [
      "63/63 [==============================] - 12s 192ms/step - loss: 0.2748 - accuracy: 0.9030 - recall: 0.9780 - precision: 0.8504 - auc: 0.9276\n"
     ]
    }
   ],
   "source": [
    "# metrics from the paper:\n",
    "# accuracy = 0.959, precision = 0.939, recall = 0.980, f1-score = 0.959, auc value = 0.982\n",
    "loss, accuracy, recall, precision, auc = model.evaluate(valid_set)"
   ]
  },
  {
   "cell_type": "code",
   "execution_count": null,
   "id": "MfVt7uAwnh_q",
   "metadata": {
    "colab": {
     "base_uri": "https://localhost:8080/"
    },
    "id": "MfVt7uAwnh_q",
    "outputId": "3baf27ad-0f85-4a57-98d1-410fae15bfd1"
   },
   "outputs": [
    {
     "data": {
      "text/plain": [
       "0.9097674340412641"
      ]
     },
     "execution_count": 111,
     "metadata": {},
     "output_type": "execute_result"
    }
   ],
   "source": [
    "f1 = 2 * ((precision * recall) / (precision + recall))\n",
    "f1"
   ]
  },
  {
   "cell_type": "code",
   "execution_count": null,
   "id": "iaAJmw13pMDC",
   "metadata": {
    "id": "iaAJmw13pMDC"
   },
   "outputs": [],
   "source": []
  },
  {
   "cell_type": "code",
   "execution_count": null,
   "id": "pGCbY1xApcOZ",
   "metadata": {
    "id": "pGCbY1xApcOZ"
   },
   "outputs": [],
   "source": []
  }
 ],
 "metadata": {
  "accelerator": "GPU",
  "colab": {
   "collapsed_sections": [],
   "name": "test-bed-defects.ipynb",
   "provenance": []
  },
  "kernelspec": {
   "display_name": "Python 3",
   "language": "python",
   "name": "python3"
  },
  "language_info": {
   "codemirror_mode": {
    "name": "ipython",
    "version": 3
   },
   "file_extension": ".py",
   "mimetype": "text/x-python",
   "name": "python",
   "nbconvert_exporter": "python",
   "pygments_lexer": "ipython3",
   "version": "3.7.10"
  }
 },
 "nbformat": 4,
 "nbformat_minor": 5
}
