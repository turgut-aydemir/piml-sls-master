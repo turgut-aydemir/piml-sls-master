{
 "cells": [
  {
   "cell_type": "code",
   "execution_count": 1,
   "metadata": {
    "collapsed": true
   },
   "outputs": [],
   "source": [
    "import tensorflow as tf\n",
    "from tensorflow import keras\n",
    "import numpy as np\n",
    "import pandas as pd\n",
    "\n",
    "np.random.seed(42)\n",
    "tf.random.set_seed(42)\n",
    "\n",
    "import matplotlib as mpl\n",
    "import matplotlib.pyplot as plt\n",
    "\n",
    "mpl.rc('axes', labelsize=14)\n",
    "mpl.rc('xtick', labelsize=12)\n",
    "mpl.rc('ytick', labelsize=12)"
   ]
  },
  {
   "cell_type": "code",
   "execution_count": 16,
   "outputs": [
    {
     "name": "stdout",
     "output_type": "stream",
     "text": [
      "[name: \"/device:CPU:0\"\n",
      "device_type: \"CPU\"\n",
      "memory_limit: 268435456\n",
      "locality {\n",
      "}\n",
      "incarnation: 13231902384347277497\n",
      ", name: \"/device:GPU:0\"\n",
      "device_type: \"GPU\"\n",
      "memory_limit: 5259243040\n",
      "locality {\n",
      "  bus_id: 1\n",
      "  links {\n",
      "  }\n",
      "}\n",
      "incarnation: 16586078384887658820\n",
      "physical_device_desc: \"device: 0, name: NVIDIA GeForce GTX 1080, pci bus id: 0000:01:00.0, compute capability: 6.1\"\n",
      "]\n"
     ]
    }
   ],
   "source": [
    "# lists possible devices (CPU, GPU)\n",
    "# used to check if GPU is recognized/exists\n",
    "\n",
    "from tensorflow.python.client import device_lib\n",
    "\n",
    "print(device_lib.list_local_devices())"
   ],
   "metadata": {
    "collapsed": false,
    "pycharm": {
     "name": "#%%\n"
    }
   }
  },
  {
   "cell_type": "code",
   "execution_count": 2,
   "outputs": [],
   "source": [
    "# preprocessing of the images applied when loading image data set from disk with\n",
    "# tensorflows flow_from_directory\n",
    "\n",
    "image_gen = keras.preprocessing.image.ImageDataGenerator(rotation_range=20,  # rotate the image 20 degrees\n",
    "                                                         width_shift_range=0.2,\n",
    "                                                         height_shift_range=0.2,\n",
    "                                                         rescale=1 / 255,  # Rescale the image by normalzing it.\n",
    "                                                         shear_range=0.15,\n",
    "                                                         # Shear means cutting away part of the image (max 20%)\n",
    "                                                         zoom_range=0.15,  # Zoom in by 15% max\n",
    "                                                         horizontal_flip=True,  # Allow horizontal flipping\n",
    "                                                         fill_mode='nearest'\n",
    "                                                         # Fill in missing pixels with the nearest filled value\n",
    "                                                         )"
   ],
   "metadata": {
    "collapsed": false,
    "pycharm": {
     "name": "#%%\n"
    }
   }
  },
  {
   "cell_type": "code",
   "execution_count": 3,
   "outputs": [],
   "source": [
    "# path to the image data set\n",
    "\n",
    "train_data_path = './data/test-bed-deffects/data_balanced/train'  #local notebook\n",
    "test_data_path = './data/test-bed-deffects/data_balanced/test'  #local notebook\n",
    "validation_data_path = './data/test-bed-deffects/data_balanced/validation'  #local notebook"
   ],
   "metadata": {
    "collapsed": false,
    "pycharm": {
     "name": "#%%\n"
    }
   }
  },
  {
   "cell_type": "code",
   "execution_count": 5,
   "outputs": [
    {
     "name": "stdout",
     "output_type": "stream",
     "text": [
      "Found 2000 images belonging to 2 classes.\n"
     ]
    }
   ],
   "source": [
    "# generate training set by loading the images from their directories with flow_from_directory\n",
    "# important: the folder structure has to match! i.e {train} -> {ok,def}\n",
    "# at the \"same time\" the data augmentation is applied on the images through the ImageDataGenerator\n",
    "\n",
    "train_image_gen = image_gen.flow_from_directory(train_data_path,\n",
    "                                                target_size=(180, 180),\n",
    "                                                class_mode='binary')"
   ],
   "metadata": {
    "collapsed": false,
    "pycharm": {
     "name": "#%%\n"
    }
   }
  },
  {
   "cell_type": "code",
   "execution_count": 6,
   "outputs": [
    {
     "name": "stdout",
     "output_type": "stream",
     "text": [
      "Found 998 images belonging to 2 classes.\n"
     ]
    }
   ],
   "source": [
    "# generate test set by loading the images from their directories with flow_from_directory\n",
    "# important: the folder structure has to match! i.e {test} -> {ok,def}\n",
    "# at the \"same time\" the data augmentation is applied on the images through the ImageDataGenerator\n",
    "\n",
    "test_image_gen = image_gen.flow_from_directory(test_data_path,\n",
    "                                               target_size=(180, 180),\n",
    "                                               class_mode='binary')"
   ],
   "metadata": {
    "collapsed": false,
    "pycharm": {
     "name": "#%%\n"
    }
   }
  },
  {
   "cell_type": "code",
   "execution_count": 7,
   "outputs": [
    {
     "name": "stdout",
     "output_type": "stream",
     "text": [
      "Found 1000 images belonging to 2 classes.\n"
     ]
    }
   ],
   "source": [
    "# generate validation set by loading the images from their directories with flow_from_directory\n",
    "# important: the folder structure has to match! i.e {validation} -> {ok,def}\n",
    "# at the \"same time\" the data augmentation is applied on the images through the ImageDataGenerator\n",
    "\n",
    "valid_set = image_gen.flow_from_directory(validation_data_path,\n",
    "                                          target_size=(180, 180),\n",
    "                                          class_mode='binary')"
   ],
   "metadata": {
    "collapsed": false,
    "pycharm": {
     "name": "#%%\n"
    }
   }
  },
  {
   "cell_type": "code",
   "execution_count": 8,
   "outputs": [],
   "source": [
    "# saves the model and its weights as a json file in the folder saved_models\n",
    "\n",
    "def save_model(model, model_name):\n",
    "    my_model = model.to_json()\n",
    "    with open(f'./{model_name}.json', \"w\") as file:\n",
    "        file.write(my_model)\n",
    "    # serialize weights to HDF5\n",
    "    model.save_weights(f'./{model_name}_weights.h5')\n"
   ],
   "metadata": {
    "collapsed": false,
    "pycharm": {
     "name": "#%%\n"
    }
   }
  },
  {
   "cell_type": "code",
   "execution_count": 9,
   "outputs": [],
   "source": [
    "# method to select the base model architecture\n",
    "# pretrained with the weights of the imagenet data set\n",
    "# the top layers are excluded and have to be implemented on top of the base model\n",
    "# currently Vgg16, Xception, ResNet50\n",
    "\n",
    "def build_base_model(model_selected):\n",
    "    if model_selected == 'vgg':\n",
    "        return keras.applications.vgg16.VGG16(include_top=False, weights='imagenet')\n",
    "    if model_selected == 'xception':\n",
    "        return keras.applications.xception.Xception(include_top=False, weights='imagenet')\n",
    "    if model_selected == 'resnet':\n",
    "        return keras.applications.resnet50.ResNet50(include_top=False, weights='imagenet')\n",
    "\n",
    "    # method which adds the new top layers on the base model and returns the now complete model"
   ],
   "metadata": {
    "collapsed": false,
    "pycharm": {
     "name": "#%%\n"
    }
   }
  },
  {
   "cell_type": "code",
   "execution_count": 10,
   "outputs": [],
   "source": [
    "def model_builder(input_model):\n",
    "    model_input = keras.Input(shape=(180, 180, 3), name='image_input')\n",
    "\n",
    "    output_base_model = input_model(model_input)\n",
    "\n",
    "    x = keras.layers.Flatten(name='flatten')(output_base_model)\n",
    "    x = keras.layers.Dense(1000)(x)\n",
    "    x = keras.layers.Dropout(0.25)(x)\n",
    "    x = keras.layers.BatchNormalization()(x)\n",
    "    x = keras.layers.Dense(1, activation='sigmoid')(x)\n",
    "\n",
    "    return keras.models.Model(model_input, x)"
   ],
   "metadata": {
    "collapsed": false,
    "pycharm": {
     "name": "#%%\n"
    }
   }
  },
  {
   "cell_type": "code",
   "execution_count": 11,
   "outputs": [],
   "source": [
    "# method activate the base models layers ability to learn (be trainable)\n",
    "# set to false for the first training run to not destroy the pretrained weights\n",
    "\n",
    "def set_layers_trainable(trainable, input_model):\n",
    "    for layer in input_model.layers:\n",
    "        layer.trainable = trainable"
   ],
   "metadata": {
    "collapsed": false,
    "pycharm": {
     "name": "#%%\n"
    }
   }
  },
  {
   "cell_type": "code",
   "execution_count": 12,
   "outputs": [],
   "source": [
    "# method to compile the model with the adam optimizer which returns the compiled model\n",
    "\n",
    "def compile_model(input_model, alpha, beta1, beta2, metrics):\n",
    "    optimizer = keras.optimizers.Adam(learning_rate=alpha, beta_1=beta1, beta_2=beta2)\n",
    "    model = model_builder(input_model)\n",
    "    model.compile(loss=\"binary_crossentropy\", optimizer=optimizer, metrics=metrics)\n",
    "\n",
    "    return model\n",
    "\n"
   ],
   "metadata": {
    "collapsed": false,
    "pycharm": {
     "name": "#%%\n"
    }
   }
  },
  {
   "cell_type": "code",
   "execution_count": 13,
   "outputs": [],
   "source": [
    "# method to train the model\n",
    "\n",
    "def train_model(input_model, train_set, test_set, epochs, callback):\n",
    "    return input_model.fit(train_set,\n",
    "                           validation_data=test_set,\n",
    "                           epochs=epochs,\n",
    "                           callbacks=callback)"
   ],
   "metadata": {
    "collapsed": false,
    "pycharm": {
     "name": "#%%\n"
    }
   }
  },
  {
   "cell_type": "code",
   "execution_count": null,
   "outputs": [
    {
     "name": "stdout",
     "output_type": "stream",
     "text": [
      "Epoch 1/5\n",
      " 1/63 [..............................] - ETA: 2:44 - loss: 1.0222 - accuracy: 0.4688 - recall: 0.4737 - precision: 0.5625 - auc: 0.4109"
     ]
    }
   ],
   "source": [
    "# Script which uses\n",
    "# vgg16 as a base model\n",
    "# the adams optimizer with learning rate: 0.0001, beta_1: 0.9 and beta_2: 0.99\n",
    "# accuracy, recall, precision, auc as metrics\n",
    "# trains the frozen model for 5 epochs\n",
    "# defines an early stopping callback with an patience of 20\n",
    "# trains the unfrozen model (for 100 epoch) till early stopping stops the training\n",
    "# and prints the values of the metrics\n",
    "\n",
    "\n",
    "# set base model\n",
    "vgg16_base_model = build_base_model('vgg')\n",
    "\n",
    "# freeze layers of base model for first train run\n",
    "set_layers_trainable(False, vgg16_base_model)\n",
    "\n",
    "# compile model (also builds the model)\n",
    "vgg16_model = compile_model(vgg16_base_model, 0.0001, 0.9, 0.999, ['accuracy', 'Recall', 'Precision', 'AUC'])\n",
    "\n",
    "# train frozen layer model\n",
    "history = train_model(vgg16_model, train_image_gen, test_image_gen, 5, [])\n",
    "\n",
    "# unfreeze base model layers\n",
    "set_layers_trainable(True, vgg16_base_model)\n",
    "\n",
    "# compile model\n",
    "vgg16_model = compile_model(vgg16_base_model, 0.0001, 0.9, 0.999, ['accuracy', 'Recall', 'Precision', 'AUC'])\n",
    "\n",
    "# define callback\n",
    "custom_early_stopping = keras.callbacks.EarlyStopping(patience=20)\n",
    "\n",
    "# train complete model\n",
    "history = train_model(vgg16_model, train_image_gen, test_image_gen, 100, [custom_early_stopping])\n",
    "\n",
    "# metrics from the paper:\n",
    "# accuracy = 0.959, precision = 0.939, recall = 0.980, f1-score = 0.959, auc value = 0.982\n",
    "loss, accuracy, recall, precision, auc = vgg16_model.evaluate(valid_set)\n",
    "\n",
    "# F1 score\n",
    "f1 = 2 * ((precision * recall) / (precision + recall))\n",
    "\n",
    "print(f\"loss: {loss}, \\n\"\n",
    "      f\"accuracy: {accuracy}, \\n\"\n",
    "      f\"recall: {recall}, \\n\"\n",
    "      f\"precision: {precision}, \\n\"\n",
    "      f\"auc: {auc}, \\n\"\n",
    "      f\"F1: {f1}\")"
   ],
   "metadata": {
    "collapsed": false,
    "pycharm": {
     "name": "#%%\n",
     "is_executing": true
    }
   }
  },
  {
   "cell_type": "code",
   "execution_count": null,
   "outputs": [],
   "source": [
    "pd.DataFrame(history.history).plot(figsize=(8, 5))\n",
    "plt.grid(True)\n",
    "plt.gca().set_ylim(0, 1)  # set the vertical range to [0-1]\n",
    "plt.show()"
   ],
   "metadata": {
    "collapsed": false,
    "pycharm": {
     "name": "#%%\n"
    }
   }
  },
  {
   "cell_type": "code",
   "execution_count": null,
   "outputs": [],
   "source": [
    "save_model(vgg16_model, 'vgg16_v1')"
   ],
   "metadata": {
    "collapsed": false,
    "pycharm": {
     "name": "#%%\n"
    }
   }
  },
  {
   "cell_type": "code",
   "execution_count": 14,
   "outputs": [
    {
     "name": "stdout",
     "output_type": "stream",
     "text": [
      "Epoch 1/5\n"
     ]
    },
    {
     "ename": "UnknownError",
     "evalue": "2 root error(s) found.\n  (0) Unknown:  Failed to get convolution algorithm. This is probably because cuDNN failed to initialize, so try looking to see if a warning log message was printed above.\n\t [[node model/xception/block1_conv1/Conv2D (defined at <ipython-input-13-05a376a1f988>:7) ]]\n\t [[assert_greater_equal_1/Assert/AssertGuard/branch_executed/_37/_121]]\n  (1) Unknown:  Failed to get convolution algorithm. This is probably because cuDNN failed to initialize, so try looking to see if a warning log message was printed above.\n\t [[node model/xception/block1_conv1/Conv2D (defined at <ipython-input-13-05a376a1f988>:7) ]]\n0 successful operations.\n0 derived errors ignored. [Op:__inference_train_function_9104]\n\nFunction call stack:\ntrain_function -> train_function\n",
     "output_type": "error",
     "traceback": [
      "\u001B[0;31m---------------------------------------------------------------------------\u001B[0m",
      "\u001B[0;31mUnknownError\u001B[0m                              Traceback (most recent call last)",
      "\u001B[0;32m<ipython-input-14-82b7d5a54bea>\u001B[0m in \u001B[0;36m<module>\u001B[0;34m\u001B[0m\n\u001B[1;32m     19\u001B[0m \u001B[0;34m\u001B[0m\u001B[0m\n\u001B[1;32m     20\u001B[0m \u001B[0;31m# train frozen layer model\u001B[0m\u001B[0;34m\u001B[0m\u001B[0;34m\u001B[0m\u001B[0;34m\u001B[0m\u001B[0m\n\u001B[0;32m---> 21\u001B[0;31m \u001B[0mhistory\u001B[0m \u001B[0;34m=\u001B[0m \u001B[0mtrain_model\u001B[0m\u001B[0;34m(\u001B[0m\u001B[0mxception_model\u001B[0m\u001B[0;34m,\u001B[0m \u001B[0mtrain_image_gen\u001B[0m\u001B[0;34m,\u001B[0m \u001B[0mtest_image_gen\u001B[0m\u001B[0;34m,\u001B[0m \u001B[0;36m5\u001B[0m\u001B[0;34m,\u001B[0m \u001B[0;34m[\u001B[0m\u001B[0;34m]\u001B[0m\u001B[0;34m)\u001B[0m\u001B[0;34m\u001B[0m\u001B[0;34m\u001B[0m\u001B[0m\n\u001B[0m\u001B[1;32m     22\u001B[0m \u001B[0;34m\u001B[0m\u001B[0m\n\u001B[1;32m     23\u001B[0m \u001B[0;31m# unfreeze base model layers\u001B[0m\u001B[0;34m\u001B[0m\u001B[0;34m\u001B[0m\u001B[0;34m\u001B[0m\u001B[0m\n",
      "\u001B[0;32m<ipython-input-13-05a376a1f988>\u001B[0m in \u001B[0;36mtrain_model\u001B[0;34m(input_model, train_set, test_set, epochs, callback)\u001B[0m\n\u001B[1;32m      5\u001B[0m                            \u001B[0mvalidation_data\u001B[0m\u001B[0;34m=\u001B[0m\u001B[0mtest_set\u001B[0m\u001B[0;34m,\u001B[0m\u001B[0;34m\u001B[0m\u001B[0;34m\u001B[0m\u001B[0m\n\u001B[1;32m      6\u001B[0m                            \u001B[0mepochs\u001B[0m\u001B[0;34m=\u001B[0m\u001B[0mepochs\u001B[0m\u001B[0;34m,\u001B[0m\u001B[0;34m\u001B[0m\u001B[0;34m\u001B[0m\u001B[0m\n\u001B[0;32m----> 7\u001B[0;31m                            callbacks=callback)\n\u001B[0m\u001B[1;32m      8\u001B[0m \u001B[0;34m\u001B[0m\u001B[0m\n",
      "\u001B[0;32m~/anaconda3/envs/tf2/lib/python3.7/site-packages/tensorflow/python/keras/engine/training.py\u001B[0m in \u001B[0;36mfit\u001B[0;34m(self, x, y, batch_size, epochs, verbose, callbacks, validation_split, validation_data, shuffle, class_weight, sample_weight, initial_epoch, steps_per_epoch, validation_steps, validation_batch_size, validation_freq, max_queue_size, workers, use_multiprocessing)\u001B[0m\n\u001B[1;32m   1098\u001B[0m                 _r=1):\n\u001B[1;32m   1099\u001B[0m               \u001B[0mcallbacks\u001B[0m\u001B[0;34m.\u001B[0m\u001B[0mon_train_batch_begin\u001B[0m\u001B[0;34m(\u001B[0m\u001B[0mstep\u001B[0m\u001B[0;34m)\u001B[0m\u001B[0;34m\u001B[0m\u001B[0;34m\u001B[0m\u001B[0m\n\u001B[0;32m-> 1100\u001B[0;31m               \u001B[0mtmp_logs\u001B[0m \u001B[0;34m=\u001B[0m \u001B[0mself\u001B[0m\u001B[0;34m.\u001B[0m\u001B[0mtrain_function\u001B[0m\u001B[0;34m(\u001B[0m\u001B[0miterator\u001B[0m\u001B[0;34m)\u001B[0m\u001B[0;34m\u001B[0m\u001B[0;34m\u001B[0m\u001B[0m\n\u001B[0m\u001B[1;32m   1101\u001B[0m               \u001B[0;32mif\u001B[0m \u001B[0mdata_handler\u001B[0m\u001B[0;34m.\u001B[0m\u001B[0mshould_sync\u001B[0m\u001B[0;34m:\u001B[0m\u001B[0;34m\u001B[0m\u001B[0;34m\u001B[0m\u001B[0m\n\u001B[1;32m   1102\u001B[0m                 \u001B[0mcontext\u001B[0m\u001B[0;34m.\u001B[0m\u001B[0masync_wait\u001B[0m\u001B[0;34m(\u001B[0m\u001B[0;34m)\u001B[0m\u001B[0;34m\u001B[0m\u001B[0;34m\u001B[0m\u001B[0m\n",
      "\u001B[0;32m~/anaconda3/envs/tf2/lib/python3.7/site-packages/tensorflow/python/eager/def_function.py\u001B[0m in \u001B[0;36m__call__\u001B[0;34m(self, *args, **kwds)\u001B[0m\n\u001B[1;32m    826\u001B[0m     \u001B[0mtracing_count\u001B[0m \u001B[0;34m=\u001B[0m \u001B[0mself\u001B[0m\u001B[0;34m.\u001B[0m\u001B[0mexperimental_get_tracing_count\u001B[0m\u001B[0;34m(\u001B[0m\u001B[0;34m)\u001B[0m\u001B[0;34m\u001B[0m\u001B[0;34m\u001B[0m\u001B[0m\n\u001B[1;32m    827\u001B[0m     \u001B[0;32mwith\u001B[0m \u001B[0mtrace\u001B[0m\u001B[0;34m.\u001B[0m\u001B[0mTrace\u001B[0m\u001B[0;34m(\u001B[0m\u001B[0mself\u001B[0m\u001B[0;34m.\u001B[0m\u001B[0m_name\u001B[0m\u001B[0;34m)\u001B[0m \u001B[0;32mas\u001B[0m \u001B[0mtm\u001B[0m\u001B[0;34m:\u001B[0m\u001B[0;34m\u001B[0m\u001B[0;34m\u001B[0m\u001B[0m\n\u001B[0;32m--> 828\u001B[0;31m       \u001B[0mresult\u001B[0m \u001B[0;34m=\u001B[0m \u001B[0mself\u001B[0m\u001B[0;34m.\u001B[0m\u001B[0m_call\u001B[0m\u001B[0;34m(\u001B[0m\u001B[0;34m*\u001B[0m\u001B[0margs\u001B[0m\u001B[0;34m,\u001B[0m \u001B[0;34m**\u001B[0m\u001B[0mkwds\u001B[0m\u001B[0;34m)\u001B[0m\u001B[0;34m\u001B[0m\u001B[0;34m\u001B[0m\u001B[0m\n\u001B[0m\u001B[1;32m    829\u001B[0m       \u001B[0mcompiler\u001B[0m \u001B[0;34m=\u001B[0m \u001B[0;34m\"xla\"\u001B[0m \u001B[0;32mif\u001B[0m \u001B[0mself\u001B[0m\u001B[0;34m.\u001B[0m\u001B[0m_experimental_compile\u001B[0m \u001B[0;32melse\u001B[0m \u001B[0;34m\"nonXla\"\u001B[0m\u001B[0;34m\u001B[0m\u001B[0;34m\u001B[0m\u001B[0m\n\u001B[1;32m    830\u001B[0m       \u001B[0mnew_tracing_count\u001B[0m \u001B[0;34m=\u001B[0m \u001B[0mself\u001B[0m\u001B[0;34m.\u001B[0m\u001B[0mexperimental_get_tracing_count\u001B[0m\u001B[0;34m(\u001B[0m\u001B[0;34m)\u001B[0m\u001B[0;34m\u001B[0m\u001B[0;34m\u001B[0m\u001B[0m\n",
      "\u001B[0;32m~/anaconda3/envs/tf2/lib/python3.7/site-packages/tensorflow/python/eager/def_function.py\u001B[0m in \u001B[0;36m_call\u001B[0;34m(self, *args, **kwds)\u001B[0m\n\u001B[1;32m    886\u001B[0m         \u001B[0;31m# Lifting succeeded, so variables are initialized and we can run the\u001B[0m\u001B[0;34m\u001B[0m\u001B[0;34m\u001B[0m\u001B[0;34m\u001B[0m\u001B[0m\n\u001B[1;32m    887\u001B[0m         \u001B[0;31m# stateless function.\u001B[0m\u001B[0;34m\u001B[0m\u001B[0;34m\u001B[0m\u001B[0;34m\u001B[0m\u001B[0m\n\u001B[0;32m--> 888\u001B[0;31m         \u001B[0;32mreturn\u001B[0m \u001B[0mself\u001B[0m\u001B[0;34m.\u001B[0m\u001B[0m_stateless_fn\u001B[0m\u001B[0;34m(\u001B[0m\u001B[0;34m*\u001B[0m\u001B[0margs\u001B[0m\u001B[0;34m,\u001B[0m \u001B[0;34m**\u001B[0m\u001B[0mkwds\u001B[0m\u001B[0;34m)\u001B[0m\u001B[0;34m\u001B[0m\u001B[0;34m\u001B[0m\u001B[0m\n\u001B[0m\u001B[1;32m    889\u001B[0m     \u001B[0;32melse\u001B[0m\u001B[0;34m:\u001B[0m\u001B[0;34m\u001B[0m\u001B[0;34m\u001B[0m\u001B[0m\n\u001B[1;32m    890\u001B[0m       \u001B[0m_\u001B[0m\u001B[0;34m,\u001B[0m \u001B[0m_\u001B[0m\u001B[0;34m,\u001B[0m \u001B[0m_\u001B[0m\u001B[0;34m,\u001B[0m \u001B[0mfiltered_flat_args\u001B[0m \u001B[0;34m=\u001B[0m\u001B[0;31m \u001B[0m\u001B[0;31m\\\u001B[0m\u001B[0;34m\u001B[0m\u001B[0;34m\u001B[0m\u001B[0m\n",
      "\u001B[0;32m~/anaconda3/envs/tf2/lib/python3.7/site-packages/tensorflow/python/eager/function.py\u001B[0m in \u001B[0;36m__call__\u001B[0;34m(self, *args, **kwargs)\u001B[0m\n\u001B[1;32m   2941\u001B[0m        filtered_flat_args) = self._maybe_define_function(args, kwargs)\n\u001B[1;32m   2942\u001B[0m     return graph_function._call_flat(\n\u001B[0;32m-> 2943\u001B[0;31m         filtered_flat_args, captured_inputs=graph_function.captured_inputs)  # pylint: disable=protected-access\n\u001B[0m\u001B[1;32m   2944\u001B[0m \u001B[0;34m\u001B[0m\u001B[0m\n\u001B[1;32m   2945\u001B[0m   \u001B[0;34m@\u001B[0m\u001B[0mproperty\u001B[0m\u001B[0;34m\u001B[0m\u001B[0;34m\u001B[0m\u001B[0m\n",
      "\u001B[0;32m~/anaconda3/envs/tf2/lib/python3.7/site-packages/tensorflow/python/eager/function.py\u001B[0m in \u001B[0;36m_call_flat\u001B[0;34m(self, args, captured_inputs, cancellation_manager)\u001B[0m\n\u001B[1;32m   1917\u001B[0m       \u001B[0;31m# No tape is watching; skip to running the function.\u001B[0m\u001B[0;34m\u001B[0m\u001B[0;34m\u001B[0m\u001B[0;34m\u001B[0m\u001B[0m\n\u001B[1;32m   1918\u001B[0m       return self._build_call_outputs(self._inference_function.call(\n\u001B[0;32m-> 1919\u001B[0;31m           ctx, args, cancellation_manager=cancellation_manager))\n\u001B[0m\u001B[1;32m   1920\u001B[0m     forward_backward = self._select_forward_and_backward_functions(\n\u001B[1;32m   1921\u001B[0m         \u001B[0margs\u001B[0m\u001B[0;34m,\u001B[0m\u001B[0;34m\u001B[0m\u001B[0;34m\u001B[0m\u001B[0m\n",
      "\u001B[0;32m~/anaconda3/envs/tf2/lib/python3.7/site-packages/tensorflow/python/eager/function.py\u001B[0m in \u001B[0;36mcall\u001B[0;34m(self, ctx, args, cancellation_manager)\u001B[0m\n\u001B[1;32m    558\u001B[0m               \u001B[0minputs\u001B[0m\u001B[0;34m=\u001B[0m\u001B[0margs\u001B[0m\u001B[0;34m,\u001B[0m\u001B[0;34m\u001B[0m\u001B[0;34m\u001B[0m\u001B[0m\n\u001B[1;32m    559\u001B[0m               \u001B[0mattrs\u001B[0m\u001B[0;34m=\u001B[0m\u001B[0mattrs\u001B[0m\u001B[0;34m,\u001B[0m\u001B[0;34m\u001B[0m\u001B[0;34m\u001B[0m\u001B[0m\n\u001B[0;32m--> 560\u001B[0;31m               ctx=ctx)\n\u001B[0m\u001B[1;32m    561\u001B[0m         \u001B[0;32melse\u001B[0m\u001B[0;34m:\u001B[0m\u001B[0;34m\u001B[0m\u001B[0;34m\u001B[0m\u001B[0m\n\u001B[1;32m    562\u001B[0m           outputs = execute.execute_with_cancellation(\n",
      "\u001B[0;32m~/anaconda3/envs/tf2/lib/python3.7/site-packages/tensorflow/python/eager/execute.py\u001B[0m in \u001B[0;36mquick_execute\u001B[0;34m(op_name, num_outputs, inputs, attrs, ctx, name)\u001B[0m\n\u001B[1;32m     58\u001B[0m     \u001B[0mctx\u001B[0m\u001B[0;34m.\u001B[0m\u001B[0mensure_initialized\u001B[0m\u001B[0;34m(\u001B[0m\u001B[0;34m)\u001B[0m\u001B[0;34m\u001B[0m\u001B[0;34m\u001B[0m\u001B[0m\n\u001B[1;32m     59\u001B[0m     tensors = pywrap_tfe.TFE_Py_Execute(ctx._handle, device_name, op_name,\n\u001B[0;32m---> 60\u001B[0;31m                                         inputs, attrs, num_outputs)\n\u001B[0m\u001B[1;32m     61\u001B[0m   \u001B[0;32mexcept\u001B[0m \u001B[0mcore\u001B[0m\u001B[0;34m.\u001B[0m\u001B[0m_NotOkStatusException\u001B[0m \u001B[0;32mas\u001B[0m \u001B[0me\u001B[0m\u001B[0;34m:\u001B[0m\u001B[0;34m\u001B[0m\u001B[0;34m\u001B[0m\u001B[0m\n\u001B[1;32m     62\u001B[0m     \u001B[0;32mif\u001B[0m \u001B[0mname\u001B[0m \u001B[0;32mis\u001B[0m \u001B[0;32mnot\u001B[0m \u001B[0;32mNone\u001B[0m\u001B[0;34m:\u001B[0m\u001B[0;34m\u001B[0m\u001B[0;34m\u001B[0m\u001B[0m\n",
      "\u001B[0;31mUnknownError\u001B[0m: 2 root error(s) found.\n  (0) Unknown:  Failed to get convolution algorithm. This is probably because cuDNN failed to initialize, so try looking to see if a warning log message was printed above.\n\t [[node model/xception/block1_conv1/Conv2D (defined at <ipython-input-13-05a376a1f988>:7) ]]\n\t [[assert_greater_equal_1/Assert/AssertGuard/branch_executed/_37/_121]]\n  (1) Unknown:  Failed to get convolution algorithm. This is probably because cuDNN failed to initialize, so try looking to see if a warning log message was printed above.\n\t [[node model/xception/block1_conv1/Conv2D (defined at <ipython-input-13-05a376a1f988>:7) ]]\n0 successful operations.\n0 derived errors ignored. [Op:__inference_train_function_9104]\n\nFunction call stack:\ntrain_function -> train_function\n"
     ]
    }
   ],
   "source": [
    "# Script which uses\n",
    "# xception as a base model\n",
    "# the adams optimizer with learning rate: 0.0001, beta_1: 0.9 and beta_2: 0.99\n",
    "# accuracy, recall, precision, auc as metrics\n",
    "# trains the frozen model for 5 epochs\n",
    "# defines an early stopping callback with an patience of 20\n",
    "# trains the unfrozen model (for 100 epoch) till early stopping stops the training\n",
    "# and prints the values of the metrics\n",
    "\n",
    "\n",
    "# set base model\n",
    "xception_base_model = build_base_model('xception')\n",
    "\n",
    "# freeze layers of base model for first train run\n",
    "set_layers_trainable(False, xception_base_model)\n",
    "\n",
    "# compile model (also builds the model)\n",
    "xception_model = compile_model(xception_base_model, 0.0001, 0.9, 0.999, ['accuracy', 'Recall', 'Precision', 'AUC'])\n",
    "\n",
    "# train frozen layer model\n",
    "history = train_model(xception_model, train_image_gen, test_image_gen, 5, [])\n",
    "\n",
    "# unfreeze base model layers\n",
    "set_layers_trainable(True, xception_base_model)\n",
    "\n",
    "# compile model\n",
    "xception_model = compile_model(xception_base_model, 0.0001, 0.9, 0.999, ['accuracy', 'Recall', 'Precision', 'AUC'])\n",
    "\n",
    "# define callback\n",
    "custom_early_stopping = keras.callbacks.EarlyStopping(patience=20)\n",
    "\n",
    "# train complete model\n",
    "history = train_model(xception_model, train_image_gen, test_image_gen, 100, [custom_early_stopping])\n",
    "\n",
    "# metrics from the paper:\n",
    "# accuracy = 0.959, precision = 0.939, recall = 0.980, f1-score = 0.959, auc value = 0.982\n",
    "loss, accuracy, recall, precision, auc = xception_model.evaluate(valid_set)\n",
    "\n",
    "# F1 score\n",
    "f1 = 2 * ((precision * recall) / (precision + recall))\n",
    "\n",
    "print(f\"loss: {loss}, \\n\"\n",
    "      f\"accuracy: {accuracy}, \\n\"\n",
    "      f\"recall: {recall}, \\n\"\n",
    "      f\"precision: {precision}, \\n\"\n",
    "      f\"auc: {auc}, \\n\"\n",
    "      f\"F1: {f1}\")"
   ],
   "metadata": {
    "collapsed": false,
    "pycharm": {
     "name": "#%%\n"
    }
   }
  },
  {
   "cell_type": "code",
   "execution_count": null,
   "outputs": [],
   "source": [
    "pd.DataFrame(history.history).plot(figsize=(8, 5))\n",
    "plt.grid(True)\n",
    "plt.gca().set_ylim(0, 1)  # set the vertical range to [0-1]\n",
    "plt.show()"
   ],
   "metadata": {
    "collapsed": false,
    "pycharm": {
     "name": "#%%\n"
    }
   }
  },
  {
   "cell_type": "code",
   "execution_count": null,
   "outputs": [],
   "source": [
    "save_model(xception_model, 'xception_v1')"
   ],
   "metadata": {
    "collapsed": false,
    "pycharm": {
     "name": "#%%\n"
    }
   }
  },
  {
   "cell_type": "code",
   "execution_count": null,
   "outputs": [],
   "source": [
    "# Script which uses\n",
    "# resnet as a base model\n",
    "# the adams optimizer with learning rate: 0.0001, beta_1: 0.9 and beta_2: 0.99\n",
    "# accuracy, recall, precision, auc as metrics\n",
    "# trains the frozen model for 5 epochs\n",
    "# defines an early stopping callback with an patience of 20\n",
    "# trains the unfrozen model (for 100 epoch) till early stopping stops the training\n",
    "# and prints the values of the metrics\n",
    "\n",
    "\n",
    "# set base model\n",
    "resnet_base_model = build_base_model('resnet')\n",
    "\n",
    "# freeze layers of base model for first train run\n",
    "set_layers_trainable(False, resnet_base_model)\n",
    "\n",
    "# compile model (also builds the model)\n",
    "resnet_model = compile_model(resnet_base_model, 0.0001, 0.9, 0.999, ['accuracy', 'Recall', 'Precision', 'AUC'])\n",
    "\n",
    "# train frozen layer model\n",
    "history = train_model(resnet_model, train_image_gen, test_image_gen, 5, [])\n",
    "\n",
    "# unfreeze base model layers\n",
    "set_layers_trainable(True, resnet_base_model)\n",
    "\n",
    "# compile model\n",
    "resnet_model = compile_model(resnet_base_model, 0.00001, 0.9, 0.999, ['accuracy', 'Recall', 'Precision', 'AUC'])\n",
    "\n",
    "# define callback\n",
    "custom_early_stopping = keras.callbacks.EarlyStopping(patience=20)\n",
    "\n",
    "# train complete model\n",
    "history = train_model(resnet_model, train_image_gen, test_image_gen, 100, [custom_early_stopping])\n",
    "\n",
    "# metrics from the paper:\n",
    "# accuracy = 0.959, precision = 0.939, recall = 0.980, f1-score = 0.959, auc value = 0.982\n",
    "loss, accuracy, recall, precision, auc = resnet_model.evaluate(valid_set)\n",
    "\n",
    "# F1 score\n",
    "f1 = 2 * ((precision * recall) / (precision + recall))\n",
    "\n",
    "print(f\"loss: {loss}, \\n\"\n",
    "      f\"accuracy: {accuracy}, \\n\"\n",
    "      f\"recall: {recall}, \\n\"\n",
    "      f\"precision: {precision}, \\n\"\n",
    "      f\"auc: {auc}, \\n\"\n",
    "      f\"F1: {f1}\")"
   ],
   "metadata": {
    "collapsed": false,
    "pycharm": {
     "name": "#%%\n"
    }
   }
  },
  {
   "cell_type": "code",
   "execution_count": null,
   "outputs": [],
   "source": [
    "pd.DataFrame(history.history).plot(figsize=(8, 5))\n",
    "plt.grid(True)\n",
    "plt.gca().set_ylim(0, 1)  # set the vertical range to [0-1]\n",
    "plt.show()"
   ],
   "metadata": {
    "collapsed": false,
    "pycharm": {
     "name": "#%%\n"
    }
   }
  },
  {
   "cell_type": "code",
   "execution_count": null,
   "outputs": [],
   "source": [
    "save_model(resnet_model, 'resnet_v1')"
   ],
   "metadata": {
    "collapsed": false,
    "pycharm": {
     "name": "#%%\n"
    }
   }
  }
 ],
 "metadata": {
  "kernelspec": {
   "display_name": "Python 3",
   "language": "python",
   "name": "python3"
  },
  "language_info": {
   "codemirror_mode": {
    "name": "ipython",
    "version": 2
   },
   "file_extension": ".py",
   "mimetype": "text/x-python",
   "name": "python",
   "nbconvert_exporter": "python",
   "pygments_lexer": "ipython2",
   "version": "2.7.6"
  }
 },
 "nbformat": 4,
 "nbformat_minor": 0
}