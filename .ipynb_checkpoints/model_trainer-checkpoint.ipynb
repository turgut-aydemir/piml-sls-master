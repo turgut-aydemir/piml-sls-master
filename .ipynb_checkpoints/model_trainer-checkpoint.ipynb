{
 "cells": [
  {
   "cell_type": "markdown",
   "source": [
    "# Jupyter Notebook to train a model"
   ],
   "metadata": {
    "collapsed": false
   }
  },
  {
   "cell_type": "code",
   "execution_count": 1,
   "outputs": [
    {
     "name": "stderr",
     "output_type": "stream",
     "text": [
      "2021-12-07 14:59:01.580201: I tensorflow/stream_executor/platform/default/dso_loader.cc:49] Successfully opened dynamic library libcudart.so.10.1\n"
     ]
    }
   ],
   "source": [
    "import tensorflow as tf\n",
    "from tensorflow import keras\n",
    "import numpy as np\n",
    "from tf_explain.callbacks.grad_cam import GradCAMCallback\n",
    "\n",
    "# use random seed to reproduce results\n",
    "np.random.seed(42)\n",
    "tf.random.set_seed(42)"
   ],
   "metadata": {
    "collapsed": false,
    "pycharm": {
     "name": "#%%\n"
    }
   }
  },
  {
   "cell_type": "markdown",
   "source": [
    "lists possible devices (CPU, GPU), used to check if GPU is recognized/exists"
   ],
   "metadata": {
    "collapsed": false
   }
  },
  {
   "cell_type": "code",
   "execution_count": 2,
   "outputs": [
    {
     "name": "stderr",
     "output_type": "stream",
     "text": [
      "2021-12-07 14:59:04.290825: I tensorflow/compiler/jit/xla_cpu_device.cc:41] Not creating XLA devices, tf_xla_enable_xla_devices not set\n"
     ]
    },
    {
     "data": {
      "text/plain": "[PhysicalDevice(name='/physical_device:CPU:0', device_type='CPU'),\n PhysicalDevice(name='/physical_device:GPU:0', device_type='GPU')]"
     },
     "execution_count": 2,
     "metadata": {},
     "output_type": "execute_result"
    },
    {
     "name": "stderr",
     "output_type": "stream",
     "text": [
      "2021-12-07 14:59:04.291766: I tensorflow/stream_executor/platform/default/dso_loader.cc:49] Successfully opened dynamic library libcuda.so.1\n",
      "2021-12-07 14:59:04.353965: I tensorflow/stream_executor/cuda/cuda_gpu_executor.cc:941] successful NUMA node read from SysFS had negative value (-1), but there must be at least one NUMA node, so returning NUMA node zero\n",
      "2021-12-07 14:59:04.354098: I tensorflow/core/common_runtime/gpu/gpu_device.cc:1720] Found device 0 with properties: \n",
      "pciBusID: 0000:01:00.0 name: NVIDIA GeForce GTX 1080 computeCapability: 6.1\n",
      "coreClock: 1.8225GHz coreCount: 20 deviceMemorySize: 7.93GiB deviceMemoryBandwidth: 298.32GiB/s\n",
      "2021-12-07 14:59:04.354112: I tensorflow/stream_executor/platform/default/dso_loader.cc:49] Successfully opened dynamic library libcudart.so.10.1\n",
      "2021-12-07 14:59:04.355342: I tensorflow/stream_executor/platform/default/dso_loader.cc:49] Successfully opened dynamic library libcublas.so.10\n",
      "2021-12-07 14:59:04.355433: I tensorflow/stream_executor/platform/default/dso_loader.cc:49] Successfully opened dynamic library libcublasLt.so.10\n",
      "2021-12-07 14:59:04.356706: I tensorflow/stream_executor/platform/default/dso_loader.cc:49] Successfully opened dynamic library libcufft.so.10\n",
      "2021-12-07 14:59:04.356964: I tensorflow/stream_executor/platform/default/dso_loader.cc:49] Successfully opened dynamic library libcurand.so.10\n",
      "2021-12-07 14:59:04.358278: I tensorflow/stream_executor/platform/default/dso_loader.cc:49] Successfully opened dynamic library libcusolver.so.10\n",
      "2021-12-07 14:59:04.359407: I tensorflow/stream_executor/platform/default/dso_loader.cc:49] Successfully opened dynamic library libcusparse.so.10\n",
      "2021-12-07 14:59:04.362754: I tensorflow/stream_executor/platform/default/dso_loader.cc:49] Successfully opened dynamic library libcudnn.so.7\n",
      "2021-12-07 14:59:04.362908: I tensorflow/stream_executor/cuda/cuda_gpu_executor.cc:941] successful NUMA node read from SysFS had negative value (-1), but there must be at least one NUMA node, so returning NUMA node zero\n",
      "2021-12-07 14:59:04.363084: I tensorflow/stream_executor/cuda/cuda_gpu_executor.cc:941] successful NUMA node read from SysFS had negative value (-1), but there must be at least one NUMA node, so returning NUMA node zero\n",
      "2021-12-07 14:59:04.363171: I tensorflow/core/common_runtime/gpu/gpu_device.cc:1862] Adding visible gpu devices: 0\n"
     ]
    }
   ],
   "source": [
    "tf.config.get_visible_devices()"
   ],
   "metadata": {
    "collapsed": false,
    "pycharm": {
     "name": "#%%\n"
    }
   }
  },
  {
   "cell_type": "markdown",
   "source": [
    "## Methods"
   ],
   "metadata": {
    "collapsed": false
   }
  },
  {
   "cell_type": "markdown",
   "source": [
    "### used to save a trained model as a json file and its weights as a h5 file"
   ],
   "metadata": {
    "collapsed": false
   }
  },
  {
   "cell_type": "code",
   "execution_count": 3,
   "outputs": [],
   "source": [
    "def save_model(model, model_name):\n",
    "    my_model = model.to_json()\n",
    "    with open(f'./saved_models/{model_name}.json', \"w\") as file:\n",
    "        file.write(my_model)\n",
    "    # serialize weights to HDF5\n",
    "    model.save_weights(f'./saved_models/{model_name}_weights.h5')"
   ],
   "metadata": {
    "collapsed": false,
    "pycharm": {
     "name": "#%%\n"
    }
   }
  },
  {
   "cell_type": "markdown",
   "source": [
    "### used to build the base model using predefined architectures\n",
    "currently: vgg16, xception, resnet"
   ],
   "metadata": {
    "collapsed": false,
    "pycharm": {
     "name": "#%% md\n"
    }
   }
  },
  {
   "cell_type": "code",
   "execution_count": 4,
   "outputs": [],
   "source": [
    "def build_base_model(architecture, weights):\n",
    "    input = tf.keras.Input(shape=(224, 224, 3))\n",
    "    if architecture == 'vgg16':\n",
    "        return tf.keras.applications.vgg16.VGG16(weights=weights, include_top=False, input_tensor=input)\n",
    "    if architecture == 'xception':\n",
    "        return tf.keras.applications.xception.Xception(weights=weights, include_top=False, input_tensor=input)\n",
    "    if architecture == 'resnet':\n",
    "        return tf.keras.applications.resnet.ResNet50(weights=weights, include_top=False, input_tensor=input)"
   ],
   "metadata": {
    "collapsed": false,
    "pycharm": {
     "name": "#%%\n"
    }
   }
  },
  {
   "cell_type": "markdown",
   "source": [
    "### gets base model as input and builds a new top layer and returns the model with custom top layers"
   ],
   "metadata": {
    "collapsed": false
   }
  },
  {
   "cell_type": "code",
   "execution_count": 5,
   "outputs": [],
   "source": [
    "def build_model(base_model):\n",
    "    flat = keras.layers.Flatten(name='flatten')(base_model.output)\n",
    "    dense_1 = keras.layers.Dense(1000)(flat)\n",
    "    dropout = keras.layers.Dropout(0.25)(dense_1)\n",
    "    batch = keras.layers.BatchNormalization()(dropout)\n",
    "    output = keras.layers.Dense(1, activation='sigmoid')(batch)\n",
    "    return tf.keras.Model(base_model.input, output)"
   ],
   "metadata": {
    "collapsed": false,
    "pycharm": {
     "name": "#%%\n"
    }
   }
  },
  {
   "cell_type": "markdown",
   "source": [
    "### gets a model as input and returns a model compiled with the adam optimizer"
   ],
   "metadata": {
    "collapsed": false
   }
  },
  {
   "cell_type": "code",
   "execution_count": 6,
   "outputs": [],
   "source": [
    "def compile_model(model, alpha, beta1, beta2, metrics):\n",
    "    optimizer = keras.optimizers.Adam(learning_rate=alpha, beta_1=beta1, beta_2=beta2)\n",
    "    model.compile(loss=\"binary_crossentropy\", optimizer=optimizer, metrics=metrics)\n",
    "    return model"
   ],
   "metadata": {
    "collapsed": false,
    "pycharm": {
     "name": "#%%\n"
    }
   }
  },
  {
   "cell_type": "markdown",
   "source": [
    "### gets a model as input and trains it on the data-set with the defined callbacks and epochs"
   ],
   "metadata": {
    "collapsed": false
   }
  },
  {
   "cell_type": "code",
   "execution_count": 7,
   "outputs": [],
   "source": [
    "def train_model(model, train_set, validation_set, epochs, callback):\n",
    "    return model.fit(train_set,\n",
    "                     validation_data=validation_set,\n",
    "                     epochs=epochs,\n",
    "                     callbacks=callback)"
   ],
   "metadata": {
    "collapsed": false,
    "pycharm": {
     "name": "#%%\n"
    }
   }
  },
  {
   "cell_type": "markdown",
   "source": [
    "### gets a model as input and changes its layers trainable attribute"
   ],
   "metadata": {
    "collapsed": false
   }
  },
  {
   "cell_type": "code",
   "execution_count": 8,
   "outputs": [],
   "source": [
    "def set_layers_trainable(trainable, input_model):\n",
    "    for layer in input_model.layers:\n",
    "        layer.trainable = trainable"
   ],
   "metadata": {
    "collapsed": false,
    "pycharm": {
     "name": "#%%\n"
    }
   }
  },
  {
   "cell_type": "markdown",
   "source": [
    "## Data preprocessing"
   ],
   "metadata": {
    "collapsed": false
   }
  },
  {
   "cell_type": "markdown",
   "source": [
    "preprocessing of the images applied when loading image data set from disk with tensorflows flow_from_directory\n"
   ],
   "metadata": {
    "collapsed": false
   }
  },
  {
   "cell_type": "code",
   "execution_count": 9,
   "outputs": [],
   "source": [
    "image_gen = keras.preprocessing.image.ImageDataGenerator(rotation_range=20,  # rotate the image 20 degrees\n",
    "                                                         width_shift_range=0.2,\n",
    "                                                         height_shift_range=0.2,\n",
    "                                                         rescale=1 / 255,  # Rescale the image by normalzing it.\n",
    "                                                         shear_range=0.15,\n",
    "                                                         # Shear means cutting away part of the image (max 20%)\n",
    "                                                         zoom_range=0.15,  # Zoom in by 15% max\n",
    "                                                         horizontal_flip=True,  # Allow horizontal flipping\n",
    "                                                         fill_mode='nearest'\n",
    "                                                         # Fill in missing pixels with the nearest filled value\n",
    "                                                         )"
   ],
   "metadata": {
    "collapsed": false,
    "pycharm": {
     "name": "#%%\n"
    }
   }
  },
  {
   "cell_type": "markdown",
   "source": [
    "path to the data set"
   ],
   "metadata": {
    "collapsed": false
   }
  },
  {
   "cell_type": "code",
   "execution_count": 10,
   "outputs": [],
   "source": [
    "train_data_path = './data/data_heavily_reduced/data_balanced/train'  #local notebook\n",
    "test_data_path = './data/data_heavily_reduced/data_balanced/test'  #local notebook\n",
    "validation_data_path = './data/data_heavily_reduced/data_balanced/val'  #local notebook"
   ],
   "metadata": {
    "collapsed": false,
    "pycharm": {
     "name": "#%%\n"
    }
   }
  },
  {
   "cell_type": "markdown",
   "source": [
    "generate training set by loading the images from their directories with flow_from_directory\n",
    "important: the folder structure has to match! i.e {train} -> {ok,def}\n",
    "at the \"same time\" the data augmentation is applied on the images through the ImageDataGenerator"
   ],
   "metadata": {
    "collapsed": false
   }
  },
  {
   "cell_type": "code",
   "execution_count": 11,
   "outputs": [
    {
     "name": "stdout",
     "output_type": "stream",
     "text": [
      "Found 7999 images belonging to 2 classes.\n"
     ]
    }
   ],
   "source": [
    "train_image_gen = image_gen.flow_from_directory(train_data_path,\n",
    "                                                target_size=(224, 224),\n",
    "                                                class_mode='binary')"
   ],
   "metadata": {
    "collapsed": false,
    "pycharm": {
     "name": "#%%\n"
    }
   }
  },
  {
   "cell_type": "code",
   "execution_count": 12,
   "outputs": [
    {
     "name": "stdout",
     "output_type": "stream",
     "text": [
      "Found 999 images belonging to 2 classes.\n"
     ]
    }
   ],
   "source": [
    "valid_image_gen = image_gen.flow_from_directory(validation_data_path,\n",
    "                                                target_size=(224, 224),\n",
    "                                                class_mode='binary')"
   ],
   "metadata": {
    "collapsed": false,
    "pycharm": {
     "name": "#%%\n"
    }
   }
  },
  {
   "cell_type": "code",
   "execution_count": 13,
   "outputs": [
    {
     "name": "stdout",
     "output_type": "stream",
     "text": [
      "Found 1001 images belonging to 2 classes.\n"
     ]
    }
   ],
   "source": [
    "test_image_gen = image_gen.flow_from_directory(test_data_path,\n",
    "                                               target_size=(224, 224),\n",
    "                                               class_mode='binary')"
   ],
   "metadata": {
    "collapsed": false,
    "pycharm": {
     "name": "#%%\n"
    }
   }
  },
  {
   "cell_type": "markdown",
   "source": [
    "# Training of the model"
   ],
   "metadata": {
    "collapsed": false
   }
  },
  {
   "cell_type": "markdown",
   "source": [
    "### Pre Training\n",
    "* build base model with vgg16 architecture and pretrained with imagenet weights\n",
    "* add custom layers on base model\n",
    "* compile model with adam optimizer\n",
    "* freeze layers of pretrained vgg16 base model to not destroy imagenet weights\n",
    "* train model"
   ],
   "metadata": {
    "collapsed": false
   }
  },
  {
   "cell_type": "code",
   "execution_count": 14,
   "outputs": [
    {
     "name": "stderr",
     "output_type": "stream",
     "text": [
      "2021-12-07 14:59:27.269171: I tensorflow/core/platform/cpu_feature_guard.cc:142] This TensorFlow binary is optimized with oneAPI Deep Neural Network Library (oneDNN) to use the following CPU instructions in performance-critical operations:  SSE4.1 SSE4.2 AVX AVX2 FMA\n",
      "To enable them in other operations, rebuild TensorFlow with the appropriate compiler flags.\n",
      "2021-12-07 14:59:27.269657: I tensorflow/stream_executor/cuda/cuda_gpu_executor.cc:941] successful NUMA node read from SysFS had negative value (-1), but there must be at least one NUMA node, so returning NUMA node zero\n",
      "2021-12-07 14:59:27.269845: I tensorflow/core/common_runtime/gpu/gpu_device.cc:1720] Found device 0 with properties: \n",
      "pciBusID: 0000:01:00.0 name: NVIDIA GeForce GTX 1080 computeCapability: 6.1\n",
      "coreClock: 1.8225GHz coreCount: 20 deviceMemorySize: 7.93GiB deviceMemoryBandwidth: 298.32GiB/s\n",
      "2021-12-07 14:59:27.269884: I tensorflow/stream_executor/platform/default/dso_loader.cc:49] Successfully opened dynamic library libcudart.so.10.1\n",
      "2021-12-07 14:59:27.269940: I tensorflow/stream_executor/platform/default/dso_loader.cc:49] Successfully opened dynamic library libcublas.so.10\n",
      "2021-12-07 14:59:27.269964: I tensorflow/stream_executor/platform/default/dso_loader.cc:49] Successfully opened dynamic library libcublasLt.so.10\n",
      "2021-12-07 14:59:27.269984: I tensorflow/stream_executor/platform/default/dso_loader.cc:49] Successfully opened dynamic library libcufft.so.10\n",
      "2021-12-07 14:59:27.270002: I tensorflow/stream_executor/platform/default/dso_loader.cc:49] Successfully opened dynamic library libcurand.so.10\n",
      "2021-12-07 14:59:27.270020: I tensorflow/stream_executor/platform/default/dso_loader.cc:49] Successfully opened dynamic library libcusolver.so.10\n",
      "2021-12-07 14:59:27.270037: I tensorflow/stream_executor/platform/default/dso_loader.cc:49] Successfully opened dynamic library libcusparse.so.10\n",
      "2021-12-07 14:59:27.270056: I tensorflow/stream_executor/platform/default/dso_loader.cc:49] Successfully opened dynamic library libcudnn.so.7\n",
      "2021-12-07 14:59:27.270144: I tensorflow/stream_executor/cuda/cuda_gpu_executor.cc:941] successful NUMA node read from SysFS had negative value (-1), but there must be at least one NUMA node, so returning NUMA node zero\n",
      "2021-12-07 14:59:27.270328: I tensorflow/stream_executor/cuda/cuda_gpu_executor.cc:941] successful NUMA node read from SysFS had negative value (-1), but there must be at least one NUMA node, so returning NUMA node zero\n",
      "2021-12-07 14:59:27.270447: I tensorflow/core/common_runtime/gpu/gpu_device.cc:1862] Adding visible gpu devices: 0\n",
      "2021-12-07 14:59:27.270483: I tensorflow/stream_executor/platform/default/dso_loader.cc:49] Successfully opened dynamic library libcudart.so.10.1\n",
      "2021-12-07 14:59:27.738622: I tensorflow/core/common_runtime/gpu/gpu_device.cc:1261] Device interconnect StreamExecutor with strength 1 edge matrix:\n",
      "2021-12-07 14:59:27.738654: I tensorflow/core/common_runtime/gpu/gpu_device.cc:1267]      0 \n",
      "2021-12-07 14:59:27.738661: I tensorflow/core/common_runtime/gpu/gpu_device.cc:1280] 0:   N \n",
      "2021-12-07 14:59:27.738857: I tensorflow/stream_executor/cuda/cuda_gpu_executor.cc:941] successful NUMA node read from SysFS had negative value (-1), but there must be at least one NUMA node, so returning NUMA node zero\n",
      "2021-12-07 14:59:27.739074: I tensorflow/stream_executor/cuda/cuda_gpu_executor.cc:941] successful NUMA node read from SysFS had negative value (-1), but there must be at least one NUMA node, so returning NUMA node zero\n",
      "2021-12-07 14:59:27.739288: I tensorflow/stream_executor/cuda/cuda_gpu_executor.cc:941] successful NUMA node read from SysFS had negative value (-1), but there must be at least one NUMA node, so returning NUMA node zero\n",
      "2021-12-07 14:59:27.739416: I tensorflow/core/common_runtime/gpu/gpu_device.cc:1406] Created TensorFlow device (/job:localhost/replica:0/task:0/device:GPU:0 with 5493 MB memory) -> physical GPU (device: 0, name: NVIDIA GeForce GTX 1080, pci bus id: 0000:01:00.0, compute capability: 6.1)\n",
      "2021-12-07 14:59:27.739663: I tensorflow/compiler/jit/xla_gpu_device.cc:99] Not creating XLA devices, tf_xla_enable_xla_devices not set\n",
      "2021-12-07 14:59:29.318819: I tensorflow/compiler/mlir/mlir_graph_optimization_pass.cc:116] None of the MLIR optimization passes are enabled (registered 2)\n",
      "2021-12-07 14:59:29.337805: I tensorflow/core/platform/profile_utils/cpu_utils.cc:112] CPU Frequency: 3999980000 Hz\n"
     ]
    },
    {
     "name": "stdout",
     "output_type": "stream",
     "text": [
      "Epoch 1/5\n"
     ]
    },
    {
     "name": "stderr",
     "output_type": "stream",
     "text": [
      "2021-12-07 14:59:32.753864: I tensorflow/stream_executor/platform/default/dso_loader.cc:49] Successfully opened dynamic library libcublas.so.10\n",
      "2021-12-07 14:59:33.055989: I tensorflow/stream_executor/platform/default/dso_loader.cc:49] Successfully opened dynamic library libcudnn.so.7\n",
      "2021-12-07 14:59:33.534903: W tensorflow/stream_executor/gpu/asm_compiler.cc:63] Running ptxas --version returned 256\n",
      "2021-12-07 14:59:33.557603: W tensorflow/stream_executor/gpu/redzone_allocator.cc:314] Internal: ptxas exited with non-zero error code 256, output: \n",
      "Relying on driver to perform ptx compilation. \n",
      "Modify $PATH to customize ptxas location.\n",
      "This message will be only logged once.\n",
      "2021-12-07 14:59:35.451455: W tensorflow/core/common_runtime/bfc_allocator.cc:248] Allocator (GPU_0_bfc) ran out of memory trying to allocate 2.34GiB with freed_by_count=0. The caller indicates that this is not a failure, but may mean that there could be performance gains if more memory were available.\n",
      "2021-12-07 14:59:36.741739: W tensorflow/core/common_runtime/bfc_allocator.cc:248] Allocator (GPU_0_bfc) ran out of memory trying to allocate 1.67GiB with freed_by_count=0. The caller indicates that this is not a failure, but may mean that there could be performance gains if more memory were available.\n",
      "2021-12-07 14:59:36.741799: W tensorflow/core/common_runtime/bfc_allocator.cc:248] Allocator (GPU_0_bfc) ran out of memory trying to allocate 214.49MiB with freed_by_count=0. The caller indicates that this is not a failure, but may mean that there could be performance gains if more memory were available.\n",
      "2021-12-07 14:59:36.884739: W tensorflow/core/common_runtime/bfc_allocator.cc:248] Allocator (GPU_0_bfc) ran out of memory trying to allocate 3.47GiB with freed_by_count=0. The caller indicates that this is not a failure, but may mean that there could be performance gains if more memory were available.\n",
      "2021-12-07 14:59:36.884787: W tensorflow/core/common_runtime/bfc_allocator.cc:248] Allocator (GPU_0_bfc) ran out of memory trying to allocate 294.38MiB with freed_by_count=0. The caller indicates that this is not a failure, but may mean that there could be performance gains if more memory were available.\n",
      "2021-12-07 14:59:37.052121: W tensorflow/core/common_runtime/bfc_allocator.cc:248] Allocator (GPU_0_bfc) ran out of memory trying to allocate 528.12MiB with freed_by_count=0. The caller indicates that this is not a failure, but may mean that there could be performance gains if more memory were available.\n",
      "2021-12-07 14:59:47.058103: W tensorflow/core/common_runtime/bfc_allocator.cc:433] Allocator (GPU_0_bfc) ran out of memory trying to allocate 382.81MiB (rounded to 401408000)requested by op gradient_tape/model/dense/MatMul_1\n",
      "Current allocation summary follows.\n",
      "2021-12-07 14:59:47.058145: I tensorflow/core/common_runtime/bfc_allocator.cc:972] BFCAllocator dump for GPU_0_bfc\n",
      "2021-12-07 14:59:47.058153: I tensorflow/core/common_runtime/bfc_allocator.cc:979] Bin (256): \tTotal Chunks: 118, Chunks in use: 114. 29.5KiB allocated for chunks. 28.5KiB in use in bin. 4.1KiB client-requested in use in bin.\n",
      "2021-12-07 14:59:47.058158: I tensorflow/core/common_runtime/bfc_allocator.cc:979] Bin (512): \tTotal Chunks: 30, Chunks in use: 30. 15.5KiB allocated for chunks. 15.5KiB in use in bin. 15.0KiB client-requested in use in bin.\n",
      "2021-12-07 14:59:47.058163: I tensorflow/core/common_runtime/bfc_allocator.cc:979] Bin (1024): \tTotal Chunks: 37, Chunks in use: 36. 38.8KiB allocated for chunks. 37.0KiB in use in bin. 34.9KiB client-requested in use in bin.\n",
      "2021-12-07 14:59:47.058168: I tensorflow/core/common_runtime/bfc_allocator.cc:979] Bin (2048): \tTotal Chunks: 273, Chunks in use: 273. 819.0KiB allocated for chunks. 819.0KiB in use in bin. 775.6KiB client-requested in use in bin.\n",
      "2021-12-07 14:59:47.058173: I tensorflow/core/common_runtime/bfc_allocator.cc:979] Bin (4096): \tTotal Chunks: 64, Chunks in use: 62. 302.5KiB allocated for chunks. 289.5KiB in use in bin. 253.2KiB client-requested in use in bin.\n",
      "2021-12-07 14:59:47.058178: I tensorflow/core/common_runtime/bfc_allocator.cc:979] Bin (8192): \tTotal Chunks: 19, Chunks in use: 17. 173.8KiB allocated for chunks. 153.5KiB in use in bin. 140.0KiB client-requested in use in bin.\n",
      "2021-12-07 14:59:47.058183: I tensorflow/core/common_runtime/bfc_allocator.cc:979] Bin (16384): \tTotal Chunks: 77, Chunks in use: 77. 1.94MiB allocated for chunks. 1.94MiB in use in bin. 1.92MiB client-requested in use in bin.\n",
      "2021-12-07 14:59:47.058188: I tensorflow/core/common_runtime/bfc_allocator.cc:979] Bin (32768): \tTotal Chunks: 16, Chunks in use: 16. 657.8KiB allocated for chunks. 657.8KiB in use in bin. 564.4KiB client-requested in use in bin.\n",
      "2021-12-07 14:59:47.058192: I tensorflow/core/common_runtime/bfc_allocator.cc:979] Bin (65536): \tTotal Chunks: 7, Chunks in use: 7. 577.0KiB allocated for chunks. 577.0KiB in use in bin. 533.0KiB client-requested in use in bin.\n",
      "2021-12-07 14:59:47.058197: I tensorflow/core/common_runtime/bfc_allocator.cc:979] Bin (131072): \tTotal Chunks: 6, Chunks in use: 6. 770.2KiB allocated for chunks. 770.2KiB in use in bin. 768.0KiB client-requested in use in bin.\n",
      "2021-12-07 14:59:47.058202: I tensorflow/core/common_runtime/bfc_allocator.cc:979] Bin (262144): \tTotal Chunks: 4, Chunks in use: 3. 1.12MiB allocated for chunks. 768.0KiB in use in bin. 768.0KiB client-requested in use in bin.\n",
      "2021-12-07 14:59:47.058206: I tensorflow/core/common_runtime/bfc_allocator.cc:979] Bin (524288): \tTotal Chunks: 6, Chunks in use: 6. 4.34MiB allocated for chunks. 4.34MiB in use in bin. 4.27MiB client-requested in use in bin.\n",
      "2021-12-07 14:59:47.058210: I tensorflow/core/common_runtime/bfc_allocator.cc:979] Bin (1048576): \tTotal Chunks: 0, Chunks in use: 0. 0B allocated for chunks. 0B in use in bin. 0B client-requested in use in bin.\n",
      "2021-12-07 14:59:47.058216: I tensorflow/core/common_runtime/bfc_allocator.cc:979] Bin (2097152): \tTotal Chunks: 84, Chunks in use: 84. 176.86MiB allocated for chunks. 176.86MiB in use in bin. 174.76MiB client-requested in use in bin.\n",
      "2021-12-07 14:59:47.058221: I tensorflow/core/common_runtime/bfc_allocator.cc:979] Bin (4194304): \tTotal Chunks: 7, Chunks in use: 7. 42.50MiB allocated for chunks. 42.50MiB in use in bin. 42.50MiB client-requested in use in bin.\n",
      "2021-12-07 14:59:47.058225: I tensorflow/core/common_runtime/bfc_allocator.cc:979] Bin (8388608): \tTotal Chunks: 8, Chunks in use: 8. 88.31MiB allocated for chunks. 88.31MiB in use in bin. 88.31MiB client-requested in use in bin.\n",
      "2021-12-07 14:59:47.058230: I tensorflow/core/common_runtime/bfc_allocator.cc:979] Bin (16777216): \tTotal Chunks: 89, Chunks in use: 89. 1.57GiB allocated for chunks. 1.57GiB in use in bin. 1.56GiB client-requested in use in bin.\n",
      "2021-12-07 14:59:47.058239: I tensorflow/core/common_runtime/bfc_allocator.cc:979] Bin (33554432): \tTotal Chunks: 8, Chunks in use: 7. 392.00MiB allocated for chunks. 332.59MiB in use in bin. 332.59MiB client-requested in use in bin.\n",
      "2021-12-07 14:59:47.058247: I tensorflow/core/common_runtime/bfc_allocator.cc:979] Bin (67108864): \tTotal Chunks: 13, Chunks in use: 13. 1.08GiB allocated for chunks. 1.08GiB in use in bin. 1.07GiB client-requested in use in bin.\n",
      "2021-12-07 14:59:47.058254: I tensorflow/core/common_runtime/bfc_allocator.cc:979] Bin (134217728): \tTotal Chunks: 5, Chunks in use: 5. 928.20MiB allocated for chunks. 928.20MiB in use in bin. 928.20MiB client-requested in use in bin.\n",
      "2021-12-07 14:59:47.058260: I tensorflow/core/common_runtime/bfc_allocator.cc:979] Bin (268435456): \tTotal Chunks: 3, Chunks in use: 3. 1.12GiB allocated for chunks. 1.12GiB in use in bin. 1.12GiB client-requested in use in bin.\n",
      "2021-12-07 14:59:47.058267: I tensorflow/core/common_runtime/bfc_allocator.cc:995] Bin for 382.81MiB was 256.00MiB, Chunk State: \n",
      "2021-12-07 14:59:47.058272: I tensorflow/core/common_runtime/bfc_allocator.cc:1008] Next region of size 5760082176\n",
      "2021-12-07 14:59:47.058281: I tensorflow/core/common_runtime/bfc_allocator.cc:1028] InUse at 7f33d0000000 of size 1280 next 1\n",
      "2021-12-07 14:59:47.058287: I tensorflow/core/common_runtime/bfc_allocator.cc:1028] InUse at 7f33d0000500 of size 256 next 5\n",
      "2021-12-07 14:59:47.058292: I tensorflow/core/common_runtime/bfc_allocator.cc:1028] InUse at 7f33d0000600 of size 256 next 8\n",
      "2021-12-07 14:59:47.058297: I tensorflow/core/common_runtime/bfc_allocator.cc:1028] InUse at 7f33d0000700 of size 256 next 9\n",
      "2021-12-07 14:59:47.058302: I tensorflow/core/common_runtime/bfc_allocator.cc:1028] InUse at 7f33d0000800 of size 256 next 671\n",
      "2021-12-07 14:59:47.058307: I tensorflow/core/common_runtime/bfc_allocator.cc:1028] InUse at 7f33d0000900 of size 256 next 11\n",
      "2021-12-07 14:59:47.058312: I tensorflow/core/common_runtime/bfc_allocator.cc:1028] InUse at 7f33d0000a00 of size 256 next 12\n",
      "2021-12-07 14:59:47.058317: I tensorflow/core/common_runtime/bfc_allocator.cc:1028] InUse at 7f33d0000b00 of size 256 next 14\n",
      "2021-12-07 14:59:47.058323: I tensorflow/core/common_runtime/bfc_allocator.cc:1028] InUse at 7f33d0000c00 of size 256 next 15\n",
      "2021-12-07 14:59:47.058328: I tensorflow/core/common_runtime/bfc_allocator.cc:1028] InUse at 7f33d0000d00 of size 256 next 13\n",
      "2021-12-07 14:59:47.058334: I tensorflow/core/common_runtime/bfc_allocator.cc:1028] InUse at 7f33d0000e00 of size 512 next 19\n",
      "2021-12-07 14:59:47.058339: I tensorflow/core/common_runtime/bfc_allocator.cc:1028] InUse at 7f33d0001000 of size 256 next 20\n",
      "2021-12-07 14:59:47.058343: I tensorflow/core/common_runtime/bfc_allocator.cc:1028] InUse at 7f33d0001100 of size 256 next 22\n",
      "2021-12-07 14:59:47.058348: I tensorflow/core/common_runtime/bfc_allocator.cc:1028] InUse at 7f33d0001200 of size 256 next 2\n",
      "2021-12-07 14:59:47.058353: I tensorflow/core/common_runtime/bfc_allocator.cc:1028] InUse at 7f33d0001300 of size 256 next 3\n",
      "2021-12-07 14:59:47.058357: I tensorflow/core/common_runtime/bfc_allocator.cc:1028] InUse at 7f33d0001400 of size 256 next 4\n",
      "2021-12-07 14:59:47.058362: I tensorflow/core/common_runtime/bfc_allocator.cc:1028] InUse at 7f33d0001500 of size 512 next 21\n",
      "2021-12-07 14:59:47.058367: I tensorflow/core/common_runtime/bfc_allocator.cc:1028] InUse at 7f33d0001700 of size 512 next 686\n",
      "2021-12-07 14:59:47.058372: I tensorflow/core/common_runtime/bfc_allocator.cc:1028] InUse at 7f33d0001900 of size 512 next 26\n",
      "2021-12-07 14:59:47.058377: I tensorflow/core/common_runtime/bfc_allocator.cc:1028] InUse at 7f33d0001b00 of size 256 next 275\n",
      "2021-12-07 14:59:47.058382: I tensorflow/core/common_runtime/bfc_allocator.cc:1028] InUse at 7f33d0001c00 of size 256 next 27\n",
      "2021-12-07 14:59:47.058388: I tensorflow/core/common_runtime/bfc_allocator.cc:1028] InUse at 7f33d0001d00 of size 256 next 29\n",
      "2021-12-07 14:59:47.058394: I tensorflow/core/common_runtime/bfc_allocator.cc:1028] InUse at 7f33d0001e00 of size 256 next 30\n",
      "2021-12-07 14:59:47.058399: I tensorflow/core/common_runtime/bfc_allocator.cc:1028] InUse at 7f33d0001f00 of size 512 next 28\n",
      "2021-12-07 14:59:47.058405: I tensorflow/core/common_runtime/bfc_allocator.cc:1028] InUse at 7f33d0002100 of size 768 next 6\n",
      "2021-12-07 14:59:47.058411: I tensorflow/core/common_runtime/bfc_allocator.cc:1028] InUse at 7f33d0002400 of size 256 next 282\n",
      "2021-12-07 14:59:47.058417: I tensorflow/core/common_runtime/bfc_allocator.cc:1028] InUse at 7f33d0002500 of size 3328 next 7\n",
      "2021-12-07 14:59:47.058423: I tensorflow/core/common_runtime/bfc_allocator.cc:1028] InUse at 7f33d0003200 of size 1024 next 51\n",
      "2021-12-07 14:59:47.058430: I tensorflow/core/common_runtime/bfc_allocator.cc:1028] InUse at 7f33d0003600 of size 1024 next 695\n",
      "2021-12-07 14:59:47.058436: I tensorflow/core/common_runtime/bfc_allocator.cc:1028] InUse at 7f33d0003a00 of size 1024 next 53\n",
      "2021-12-07 14:59:47.058442: I tensorflow/core/common_runtime/bfc_allocator.cc:1028] InUse at 7f33d0003e00 of size 256 next 290\n",
      "2021-12-07 14:59:47.058447: I tensorflow/core/common_runtime/bfc_allocator.cc:1028] InUse at 7f33d0003f00 of size 256 next 76\n",
      "2021-12-07 14:59:47.058453: I tensorflow/core/common_runtime/bfc_allocator.cc:1028] InUse at 7f33d0004000 of size 256 next 293\n",
      "2021-12-07 14:59:47.058457: I tensorflow/core/common_runtime/bfc_allocator.cc:1028] InUse at 7f33d0004100 of size 256 next 54\n",
      "2021-12-07 14:59:47.058460: I tensorflow/core/common_runtime/bfc_allocator.cc:1028] InUse at 7f33d0004200 of size 256 next 61\n",
      "2021-12-07 14:59:47.058463: I tensorflow/core/common_runtime/bfc_allocator.cc:1028] InUse at 7f33d0004300 of size 256 next 62\n",
      "2021-12-07 14:59:47.058466: I tensorflow/core/common_runtime/bfc_allocator.cc:1028] InUse at 7f33d0004400 of size 256 next 66\n",
      "2021-12-07 14:59:47.058469: I tensorflow/core/common_runtime/bfc_allocator.cc:1028] InUse at 7f33d0004500 of size 256 next 67\n",
      "2021-12-07 14:59:47.058472: I tensorflow/core/common_runtime/bfc_allocator.cc:1028] InUse at 7f33d0004600 of size 1024 next 65\n",
      "2021-12-07 14:59:47.058475: I tensorflow/core/common_runtime/bfc_allocator.cc:1028] Free  at 7f33d0004a00 of size 1792 next 879\n",
      "2021-12-07 14:59:47.058478: I tensorflow/core/common_runtime/bfc_allocator.cc:1028] InUse at 7f33d0005100 of size 256 next 71\n",
      "2021-12-07 14:59:47.058481: I tensorflow/core/common_runtime/bfc_allocator.cc:1028] InUse at 7f33d0005200 of size 1024 next 40\n",
      "2021-12-07 14:59:47.058484: I tensorflow/core/common_runtime/bfc_allocator.cc:1028] InUse at 7f33d0005600 of size 4608 next 39\n",
      "2021-12-07 14:59:47.058488: I tensorflow/core/common_runtime/bfc_allocator.cc:1028] InUse at 7f33d0006800 of size 1024 next 58\n",
      "2021-12-07 14:59:47.058491: I tensorflow/core/common_runtime/bfc_allocator.cc:1028] InUse at 7f33d0006c00 of size 1024 next 700\n",
      "2021-12-07 14:59:47.058494: I tensorflow/core/common_runtime/bfc_allocator.cc:1028] InUse at 7f33d0007000 of size 1024 next 60\n",
      "2021-12-07 14:59:47.058497: I tensorflow/core/common_runtime/bfc_allocator.cc:1028] InUse at 7f33d0007400 of size 1024 next 287\n",
      "2021-12-07 14:59:47.058500: I tensorflow/core/common_runtime/bfc_allocator.cc:1028] InUse at 7f33d0007800 of size 5376 next 57\n",
      "2021-12-07 14:59:47.058504: I tensorflow/core/common_runtime/bfc_allocator.cc:1028] InUse at 7f33d0008d00 of size 3072 next 77\n",
      "2021-12-07 14:59:47.058508: I tensorflow/core/common_runtime/bfc_allocator.cc:1028] InUse at 7f33d0009900 of size 3072 next 78\n",
      "2021-12-07 14:59:47.058513: I tensorflow/core/common_runtime/bfc_allocator.cc:1028] InUse at 7f33d000a500 of size 3328 next 33\n",
      "2021-12-07 14:59:47.058518: I tensorflow/core/common_runtime/bfc_allocator.cc:1028] InUse at 7f33d000b200 of size 4608 next 284\n",
      "2021-12-07 14:59:47.058523: I tensorflow/core/common_runtime/bfc_allocator.cc:1028] InUse at 7f33d000c400 of size 26368 next 289\n",
      "2021-12-07 14:59:47.058528: I tensorflow/core/common_runtime/bfc_allocator.cc:1028] InUse at 7f33d0012b00 of size 34560 next 23\n",
      "2021-12-07 14:59:47.058535: I tensorflow/core/common_runtime/bfc_allocator.cc:1028] InUse at 7f33d001b200 of size 512 next 34\n",
      "2021-12-07 14:59:47.058541: I tensorflow/core/common_runtime/bfc_allocator.cc:1028] InUse at 7f33d001b400 of size 512 next 35\n",
      "2021-12-07 14:59:47.058546: I tensorflow/core/common_runtime/bfc_allocator.cc:1028] InUse at 7f33d001b600 of size 256 next 37\n",
      "2021-12-07 14:59:47.058552: I tensorflow/core/common_runtime/bfc_allocator.cc:1028] InUse at 7f33d001b700 of size 256 next 38\n",
      "2021-12-07 14:59:47.058557: I tensorflow/core/common_runtime/bfc_allocator.cc:1028] InUse at 7f33d001b800 of size 256 next 41\n",
      "2021-12-07 14:59:47.058562: I tensorflow/core/common_runtime/bfc_allocator.cc:1028] InUse at 7f33d001b900 of size 256 next 42\n",
      "2021-12-07 14:59:47.058568: I tensorflow/core/common_runtime/bfc_allocator.cc:1028] InUse at 7f33d001ba00 of size 512 next 36\n",
      "2021-12-07 14:59:47.058572: I tensorflow/core/common_runtime/bfc_allocator.cc:1028] InUse at 7f33d001bc00 of size 1024 next 46\n",
      "2021-12-07 14:59:47.058575: I tensorflow/core/common_runtime/bfc_allocator.cc:1028] InUse at 7f33d001c000 of size 512 next 47\n",
      "2021-12-07 14:59:47.058578: I tensorflow/core/common_runtime/bfc_allocator.cc:1028] InUse at 7f33d001c200 of size 256 next 48\n",
      "2021-12-07 14:59:47.058581: I tensorflow/core/common_runtime/bfc_allocator.cc:1028] InUse at 7f33d001c300 of size 256 next 32\n",
      "2021-12-07 14:59:47.058584: I tensorflow/core/common_runtime/bfc_allocator.cc:1028] InUse at 7f33d001c400 of size 512 next 283\n",
      "2021-12-07 14:59:47.058587: I tensorflow/core/common_runtime/bfc_allocator.cc:1028] InUse at 7f33d001c600 of size 1792 next 31\n",
      "2021-12-07 14:59:47.058590: I tensorflow/core/common_runtime/bfc_allocator.cc:1028] InUse at 7f33d001cd00 of size 256 next 73\n",
      "2021-12-07 14:59:47.058595: I tensorflow/core/common_runtime/bfc_allocator.cc:1028] InUse at 7f33d001ce00 of size 256 next 74\n",
      "2021-12-07 14:59:47.058600: I tensorflow/core/common_runtime/bfc_allocator.cc:1028] InUse at 7f33d001cf00 of size 3072 next 72\n",
      "2021-12-07 14:59:47.058606: I tensorflow/core/common_runtime/bfc_allocator.cc:1028] InUse at 7f33d001db00 of size 5632 next 64\n",
      "2021-12-07 14:59:47.058611: I tensorflow/core/common_runtime/bfc_allocator.cc:1028] InUse at 7f33d001f100 of size 9216 next 63\n",
      "2021-12-07 14:59:47.058618: I tensorflow/core/common_runtime/bfc_allocator.cc:1028] InUse at 7f33d0021500 of size 3072 next 716\n",
      "2021-12-07 14:59:47.058624: I tensorflow/core/common_runtime/bfc_allocator.cc:1028] InUse at 7f33d0022100 of size 3072 next 82\n",
      "2021-12-07 14:59:47.058630: I tensorflow/core/common_runtime/bfc_allocator.cc:1028] InUse at 7f33d0022d00 of size 3072 next 83\n",
      "2021-12-07 14:59:47.058635: I tensorflow/core/common_runtime/bfc_allocator.cc:1028] InUse at 7f33d0023900 of size 256 next 85\n",
      "2021-12-07 14:59:47.058641: I tensorflow/core/common_runtime/bfc_allocator.cc:1028] InUse at 7f33d0023a00 of size 256 next 86\n",
      "2021-12-07 14:59:47.058646: I tensorflow/core/common_runtime/bfc_allocator.cc:1028] InUse at 7f33d0023b00 of size 256 next 89\n",
      "2021-12-07 14:59:47.058651: I tensorflow/core/common_runtime/bfc_allocator.cc:1028] InUse at 7f33d0023c00 of size 256 next 90\n",
      "2021-12-07 14:59:47.058654: I tensorflow/core/common_runtime/bfc_allocator.cc:1028] InUse at 7f33d0023d00 of size 3072 next 84\n",
      "2021-12-07 14:59:47.058657: I tensorflow/core/common_runtime/bfc_allocator.cc:1028] InUse at 7f33d0024900 of size 3072 next 723\n",
      "2021-12-07 14:59:47.058660: I tensorflow/core/common_runtime/bfc_allocator.cc:1028] InUse at 7f33d0025500 of size 3072 next 94\n",
      "2021-12-07 14:59:47.058664: I tensorflow/core/common_runtime/bfc_allocator.cc:1028] InUse at 7f33d0026100 of size 4352 next 17\n",
      "2021-12-07 14:59:47.058667: I tensorflow/core/common_runtime/bfc_allocator.cc:1028] InUse at 7f33d0027200 of size 73728 next 16\n",
      "2021-12-07 14:59:47.058670: I tensorflow/core/common_runtime/bfc_allocator.cc:1028] InUse at 7f33d0039200 of size 3072 next 743\n",
      "2021-12-07 14:59:47.058673: I tensorflow/core/common_runtime/bfc_allocator.cc:1028] InUse at 7f33d0039e00 of size 3072 next 113\n",
      "2021-12-07 14:59:47.058677: I tensorflow/core/common_runtime/bfc_allocator.cc:1028] InUse at 7f33d003aa00 of size 3072 next 116\n",
      "2021-12-07 14:59:47.058682: I tensorflow/core/common_runtime/bfc_allocator.cc:1028] InUse at 7f33d003b600 of size 3072 next 117\n",
      "2021-12-07 14:59:47.058687: I tensorflow/core/common_runtime/bfc_allocator.cc:1028] InUse at 7f33d003c200 of size 3072 next 748\n",
      "2021-12-07 14:59:47.058692: I tensorflow/core/common_runtime/bfc_allocator.cc:1028] InUse at 7f33d003ce00 of size 3072 next 122\n",
      "2021-12-07 14:59:47.058698: I tensorflow/core/common_runtime/bfc_allocator.cc:1028] InUse at 7f33d003da00 of size 3072 next 123\n",
      "2021-12-07 14:59:47.058704: I tensorflow/core/common_runtime/bfc_allocator.cc:1028] InUse at 7f33d003e600 of size 3072 next 124\n",
      "2021-12-07 14:59:47.058709: I tensorflow/core/common_runtime/bfc_allocator.cc:1028] InUse at 7f33d003f200 of size 3072 next 69\n",
      "2021-12-07 14:59:47.058715: I tensorflow/core/common_runtime/bfc_allocator.cc:1028] InUse at 7f33d003fe00 of size 3072 next 833\n",
      "2021-12-07 14:59:47.058721: I tensorflow/core/common_runtime/bfc_allocator.cc:1028] InUse at 7f33d0040a00 of size 4864 next 114\n",
      "2021-12-07 14:59:47.058727: I tensorflow/core/common_runtime/bfc_allocator.cc:1028] InUse at 7f33d0041d00 of size 26368 next 88\n",
      "2021-12-07 14:59:47.058732: I tensorflow/core/common_runtime/bfc_allocator.cc:1028] InUse at 7f33d0048400 of size 26368 next 87\n",
      "2021-12-07 14:59:47.058736: I tensorflow/core/common_runtime/bfc_allocator.cc:1028] InUse at 7f33d004eb00 of size 3072 next 95\n",
      "2021-12-07 14:59:47.058739: I tensorflow/core/common_runtime/bfc_allocator.cc:1028] InUse at 7f33d004f700 of size 3072 next 728\n",
      "2021-12-07 14:59:47.058743: I tensorflow/core/common_runtime/bfc_allocator.cc:1028] InUse at 7f33d0050300 of size 3072 next 99\n",
      "2021-12-07 14:59:47.058747: I tensorflow/core/common_runtime/bfc_allocator.cc:1028] InUse at 7f33d0050f00 of size 3072 next 100\n",
      "2021-12-07 14:59:47.058753: I tensorflow/core/common_runtime/bfc_allocator.cc:1028] InUse at 7f33d0051b00 of size 3072 next 101\n",
      "2021-12-07 14:59:47.058758: I tensorflow/core/common_runtime/bfc_allocator.cc:1028] InUse at 7f33d0052700 of size 3072 next 733\n",
      "2021-12-07 14:59:47.058764: I tensorflow/core/common_runtime/bfc_allocator.cc:1028] InUse at 7f33d0053300 of size 3072 next 105\n",
      "2021-12-07 14:59:47.058769: I tensorflow/core/common_runtime/bfc_allocator.cc:1028] InUse at 7f33d0053f00 of size 3072 next 106\n",
      "2021-12-07 14:59:47.058775: I tensorflow/core/common_runtime/bfc_allocator.cc:1028] InUse at 7f33d0054b00 of size 3072 next 107\n",
      "2021-12-07 14:59:47.058781: I tensorflow/core/common_runtime/bfc_allocator.cc:1028] InUse at 7f33d0055700 of size 3072 next 738\n",
      "2021-12-07 14:59:47.058786: I tensorflow/core/common_runtime/bfc_allocator.cc:1028] InUse at 7f33d0056300 of size 3072 next 111\n",
      "2021-12-07 14:59:47.058791: I tensorflow/core/common_runtime/bfc_allocator.cc:1028] InUse at 7f33d0056f00 of size 3072 next 112\n",
      "2021-12-07 14:59:47.058797: I tensorflow/core/common_runtime/bfc_allocator.cc:1028] InUse at 7f33d0057b00 of size 5888 next 44\n",
      "2021-12-07 14:59:47.058802: I tensorflow/core/common_runtime/bfc_allocator.cc:1028] InUse at 7f33d0059200 of size 32768 next 285\n",
      "2021-12-07 14:59:47.058805: I tensorflow/core/common_runtime/bfc_allocator.cc:1028] InUse at 7f33d0061200 of size 9216 next 56\n",
      "2021-12-07 14:59:47.058809: I tensorflow/core/common_runtime/bfc_allocator.cc:1028] InUse at 7f33d0063600 of size 26368 next 96\n",
      "2021-12-07 14:59:47.058814: I tensorflow/core/common_runtime/bfc_allocator.cc:1028] InUse at 7f33d0069d00 of size 26368 next 102\n",
      "2021-12-07 14:59:47.058820: I tensorflow/core/common_runtime/bfc_allocator.cc:1028] InUse at 7f33d0070400 of size 49920 next 108\n",
      "2021-12-07 14:59:47.058826: I tensorflow/core/common_runtime/bfc_allocator.cc:1028] InUse at 7f33d007c700 of size 4096 next 261\n",
      "2021-12-07 14:59:47.058833: I tensorflow/core/common_runtime/bfc_allocator.cc:1028] InUse at 7f33d007d700 of size 4096 next 279\n",
      "2021-12-07 14:59:47.058839: I tensorflow/core/common_runtime/bfc_allocator.cc:1028] InUse at 7f33d007e700 of size 256 next 280\n",
      "2021-12-07 14:59:47.058844: I tensorflow/core/common_runtime/bfc_allocator.cc:1028] InUse at 7f33d007e800 of size 3584 next 281\n",
      "2021-12-07 14:59:47.058850: I tensorflow/core/common_runtime/bfc_allocator.cc:1028] InUse at 7f33d007f600 of size 39936 next 50\n",
      "2021-12-07 14:59:47.058857: I tensorflow/core/common_runtime/bfc_allocator.cc:1028] InUse at 7f33d0089200 of size 26368 next 190\n",
      "2021-12-07 14:59:47.058862: I tensorflow/core/common_runtime/bfc_allocator.cc:1028] InUse at 7f33d008f900 of size 26368 next 196\n",
      "2021-12-07 14:59:47.058866: I tensorflow/core/common_runtime/bfc_allocator.cc:1028] InUse at 7f33d0096000 of size 26368 next 202\n",
      "2021-12-07 14:59:47.058869: I tensorflow/core/common_runtime/bfc_allocator.cc:1028] InUse at 7f33d009c700 of size 51968 next 49\n",
      "2021-12-07 14:59:47.058874: I tensorflow/core/common_runtime/bfc_allocator.cc:1028] InUse at 7f33d00a9200 of size 131072 next 55\n",
      "2021-12-07 14:59:47.058879: I tensorflow/core/common_runtime/bfc_allocator.cc:1028] InUse at 7f33d00c9200 of size 3072 next 753\n",
      "2021-12-07 14:59:47.058885: I tensorflow/core/common_runtime/bfc_allocator.cc:1028] InUse at 7f33d00c9e00 of size 3072 next 128\n",
      "2021-12-07 14:59:47.058892: I tensorflow/core/common_runtime/bfc_allocator.cc:1028] InUse at 7f33d00caa00 of size 3072 next 129\n",
      "2021-12-07 14:59:47.058897: I tensorflow/core/common_runtime/bfc_allocator.cc:1028] InUse at 7f33d00cb600 of size 3072 next 132\n",
      "2021-12-07 14:59:47.058903: I tensorflow/core/common_runtime/bfc_allocator.cc:1028] InUse at 7f33d00cc200 of size 3072 next 758\n",
      "2021-12-07 14:59:47.058908: I tensorflow/core/common_runtime/bfc_allocator.cc:1028] InUse at 7f33d00cce00 of size 3072 next 135\n",
      "2021-12-07 14:59:47.058914: I tensorflow/core/common_runtime/bfc_allocator.cc:1028] InUse at 7f33d00cda00 of size 3072 next 136\n",
      "2021-12-07 14:59:47.058920: I tensorflow/core/common_runtime/bfc_allocator.cc:1028] InUse at 7f33d00ce600 of size 4864 next 119\n",
      "2021-12-07 14:59:47.058925: I tensorflow/core/common_runtime/bfc_allocator.cc:1028] InUse at 7f33d00cf900 of size 26368 next 118\n",
      "2021-12-07 14:59:47.058928: I tensorflow/core/common_runtime/bfc_allocator.cc:1028] InUse at 7f33d00d6000 of size 26368 next 125\n",
      "2021-12-07 14:59:47.058931: I tensorflow/core/common_runtime/bfc_allocator.cc:1028] InUse at 7f33d00dc700 of size 3072 next 763\n",
      "2021-12-07 14:59:47.058937: I tensorflow/core/common_runtime/bfc_allocator.cc:1028] InUse at 7f33d00dd300 of size 3072 next 140\n",
      "2021-12-07 14:59:47.058942: I tensorflow/core/common_runtime/bfc_allocator.cc:1028] InUse at 7f33d00ddf00 of size 3072 next 141\n",
      "2021-12-07 14:59:47.058948: I tensorflow/core/common_runtime/bfc_allocator.cc:1028] InUse at 7f33d00deb00 of size 3072 next 144\n",
      "2021-12-07 14:59:47.058954: I tensorflow/core/common_runtime/bfc_allocator.cc:1028] InUse at 7f33d00df700 of size 3072 next 768\n",
      "2021-12-07 14:59:47.058959: I tensorflow/core/common_runtime/bfc_allocator.cc:1028] InUse at 7f33d00e0300 of size 3072 next 147\n",
      "2021-12-07 14:59:47.058964: I tensorflow/core/common_runtime/bfc_allocator.cc:1028] InUse at 7f33d00e0f00 of size 3072 next 148\n",
      "2021-12-07 14:59:47.058970: I tensorflow/core/common_runtime/bfc_allocator.cc:1028] InUse at 7f33d00e1b00 of size 4864 next 131\n",
      "2021-12-07 14:59:47.058976: I tensorflow/core/common_runtime/bfc_allocator.cc:1028] InUse at 7f33d00e2e00 of size 26368 next 130\n",
      "2021-12-07 14:59:47.058981: I tensorflow/core/common_runtime/bfc_allocator.cc:1028] InUse at 7f33d00e9500 of size 26368 next 137\n",
      "2021-12-07 14:59:47.058985: I tensorflow/core/common_runtime/bfc_allocator.cc:1028] InUse at 7f33d00efc00 of size 3072 next 773\n",
      "2021-12-07 14:59:47.058988: I tensorflow/core/common_runtime/bfc_allocator.cc:1028] InUse at 7f33d00f0800 of size 3072 next 152\n",
      "2021-12-07 14:59:47.058991: I tensorflow/core/common_runtime/bfc_allocator.cc:1028] InUse at 7f33d00f1400 of size 3072 next 153\n",
      "2021-12-07 14:59:47.058994: I tensorflow/core/common_runtime/bfc_allocator.cc:1028] InUse at 7f33d00f2000 of size 3072 next 156\n",
      "2021-12-07 14:59:47.058997: I tensorflow/core/common_runtime/bfc_allocator.cc:1028] InUse at 7f33d00f2c00 of size 3072 next 778\n",
      "2021-12-07 14:59:47.059000: I tensorflow/core/common_runtime/bfc_allocator.cc:1028] InUse at 7f33d00f3800 of size 3072 next 159\n",
      "2021-12-07 14:59:47.059003: I tensorflow/core/common_runtime/bfc_allocator.cc:1028] InUse at 7f33d00f4400 of size 3072 next 160\n",
      "2021-12-07 14:59:47.059006: I tensorflow/core/common_runtime/bfc_allocator.cc:1028] InUse at 7f33d00f5000 of size 4864 next 143\n",
      "2021-12-07 14:59:47.059010: I tensorflow/core/common_runtime/bfc_allocator.cc:1028] InUse at 7f33d00f6300 of size 26368 next 142\n",
      "2021-12-07 14:59:47.059015: I tensorflow/core/common_runtime/bfc_allocator.cc:1028] InUse at 7f33d00fca00 of size 26368 next 149\n",
      "2021-12-07 14:59:47.059021: I tensorflow/core/common_runtime/bfc_allocator.cc:1028] InUse at 7f33d0103100 of size 3072 next 783\n",
      "2021-12-07 14:59:47.059026: I tensorflow/core/common_runtime/bfc_allocator.cc:1028] InUse at 7f33d0103d00 of size 3072 next 164\n",
      "2021-12-07 14:59:47.059029: I tensorflow/core/common_runtime/bfc_allocator.cc:1028] InUse at 7f33d0104900 of size 3072 next 165\n",
      "2021-12-07 14:59:47.059034: I tensorflow/core/common_runtime/bfc_allocator.cc:1028] InUse at 7f33d0105500 of size 3072 next 168\n",
      "2021-12-07 14:59:47.059039: I tensorflow/core/common_runtime/bfc_allocator.cc:1028] InUse at 7f33d0106100 of size 3072 next 788\n",
      "2021-12-07 14:59:47.059044: I tensorflow/core/common_runtime/bfc_allocator.cc:1028] InUse at 7f33d0106d00 of size 3072 next 171\n",
      "2021-12-07 14:59:47.059050: I tensorflow/core/common_runtime/bfc_allocator.cc:1028] InUse at 7f33d0107900 of size 3072 next 172\n",
      "2021-12-07 14:59:47.059056: I tensorflow/core/common_runtime/bfc_allocator.cc:1028] InUse at 7f33d0108500 of size 4864 next 155\n",
      "2021-12-07 14:59:47.059062: I tensorflow/core/common_runtime/bfc_allocator.cc:1028] InUse at 7f33d0109800 of size 26368 next 154\n",
      "2021-12-07 14:59:47.059067: I tensorflow/core/common_runtime/bfc_allocator.cc:1028] InUse at 7f33d010ff00 of size 26368 next 161\n",
      "2021-12-07 14:59:47.059073: I tensorflow/core/common_runtime/bfc_allocator.cc:1028] InUse at 7f33d0116600 of size 3072 next 793\n",
      "2021-12-07 14:59:47.059078: I tensorflow/core/common_runtime/bfc_allocator.cc:1028] InUse at 7f33d0117200 of size 3072 next 176\n",
      "2021-12-07 14:59:47.059083: I tensorflow/core/common_runtime/bfc_allocator.cc:1028] InUse at 7f33d0117e00 of size 3072 next 177\n",
      "2021-12-07 14:59:47.059088: I tensorflow/core/common_runtime/bfc_allocator.cc:1028] InUse at 7f33d0118a00 of size 3072 next 180\n",
      "2021-12-07 14:59:47.059093: I tensorflow/core/common_runtime/bfc_allocator.cc:1028] InUse at 7f33d0119600 of size 3072 next 798\n",
      "2021-12-07 14:59:47.059099: I tensorflow/core/common_runtime/bfc_allocator.cc:1028] InUse at 7f33d011a200 of size 3072 next 183\n",
      "2021-12-07 14:59:47.059104: I tensorflow/core/common_runtime/bfc_allocator.cc:1028] InUse at 7f33d011ae00 of size 3072 next 184\n",
      "2021-12-07 14:59:47.059110: I tensorflow/core/common_runtime/bfc_allocator.cc:1028] InUse at 7f33d011ba00 of size 4864 next 167\n",
      "2021-12-07 14:59:47.059115: I tensorflow/core/common_runtime/bfc_allocator.cc:1028] InUse at 7f33d011cd00 of size 26368 next 166\n",
      "2021-12-07 14:59:47.059121: I tensorflow/core/common_runtime/bfc_allocator.cc:1028] InUse at 7f33d0123400 of size 26368 next 173\n",
      "2021-12-07 14:59:47.059127: I tensorflow/core/common_runtime/bfc_allocator.cc:1028] InUse at 7f33d0129b00 of size 3072 next 803\n",
      "2021-12-07 14:59:47.059132: I tensorflow/core/common_runtime/bfc_allocator.cc:1028] InUse at 7f33d012a700 of size 3072 next 188\n",
      "2021-12-07 14:59:47.059135: I tensorflow/core/common_runtime/bfc_allocator.cc:1028] InUse at 7f33d012b300 of size 3072 next 189\n",
      "2021-12-07 14:59:47.059138: I tensorflow/core/common_runtime/bfc_allocator.cc:1028] InUse at 7f33d012bf00 of size 3072 next 191\n",
      "2021-12-07 14:59:47.059141: I tensorflow/core/common_runtime/bfc_allocator.cc:1028] InUse at 7f33d012cb00 of size 3072 next 808\n",
      "2021-12-07 14:59:47.059145: I tensorflow/core/common_runtime/bfc_allocator.cc:1028] InUse at 7f33d012d700 of size 3072 next 194\n",
      "2021-12-07 14:59:47.059148: I tensorflow/core/common_runtime/bfc_allocator.cc:1028] InUse at 7f33d012e300 of size 3072 next 195\n",
      "2021-12-07 14:59:47.059151: I tensorflow/core/common_runtime/bfc_allocator.cc:1028] InUse at 7f33d012ef00 of size 4864 next 179\n",
      "2021-12-07 14:59:47.059155: I tensorflow/core/common_runtime/bfc_allocator.cc:1028] InUse at 7f33d0130200 of size 26368 next 178\n",
      "2021-12-07 14:59:47.059160: I tensorflow/core/common_runtime/bfc_allocator.cc:1028] InUse at 7f33d0136900 of size 26368 next 185\n",
      "2021-12-07 14:59:47.059166: I tensorflow/core/common_runtime/bfc_allocator.cc:1028] InUse at 7f33d013d000 of size 3072 next 813\n",
      "2021-12-07 14:59:47.059171: I tensorflow/core/common_runtime/bfc_allocator.cc:1028] InUse at 7f33d013dc00 of size 3072 next 199\n",
      "2021-12-07 14:59:47.059177: I tensorflow/core/common_runtime/bfc_allocator.cc:1028] InUse at 7f33d013e800 of size 3072 next 200\n",
      "2021-12-07 14:59:47.059182: I tensorflow/core/common_runtime/bfc_allocator.cc:1028] InUse at 7f33d013f400 of size 3072 next 201\n",
      "2021-12-07 14:59:47.059188: I tensorflow/core/common_runtime/bfc_allocator.cc:1028] InUse at 7f33d0140000 of size 3072 next 818\n",
      "2021-12-07 14:59:47.059193: I tensorflow/core/common_runtime/bfc_allocator.cc:1028] InUse at 7f33d0140c00 of size 3072 next 205\n",
      "2021-12-07 14:59:47.059199: I tensorflow/core/common_runtime/bfc_allocator.cc:1028] InUse at 7f33d0141800 of size 3072 next 206\n",
      "2021-12-07 14:59:47.059205: I tensorflow/core/common_runtime/bfc_allocator.cc:1028] InUse at 7f33d0142400 of size 3072 next 207\n",
      "2021-12-07 14:59:47.059209: I tensorflow/core/common_runtime/bfc_allocator.cc:1028] InUse at 7f33d0143000 of size 3072 next 823\n",
      "2021-12-07 14:59:47.059212: I tensorflow/core/common_runtime/bfc_allocator.cc:1028] InUse at 7f33d0143c00 of size 3072 next 211\n",
      "2021-12-07 14:59:47.059215: I tensorflow/core/common_runtime/bfc_allocator.cc:1028] InUse at 7f33d0144800 of size 3072 next 212\n",
      "2021-12-07 14:59:47.059218: I tensorflow/core/common_runtime/bfc_allocator.cc:1028] InUse at 7f33d0145400 of size 3072 next 215\n",
      "2021-12-07 14:59:47.059222: I tensorflow/core/common_runtime/bfc_allocator.cc:1028] InUse at 7f33d0146000 of size 3072 next 828\n",
      "2021-12-07 14:59:47.059225: I tensorflow/core/common_runtime/bfc_allocator.cc:1028] InUse at 7f33d0146c00 of size 3072 next 218\n",
      "2021-12-07 14:59:47.059231: I tensorflow/core/common_runtime/bfc_allocator.cc:1028] InUse at 7f33d0147800 of size 3072 next 219\n",
      "2021-12-07 14:59:47.059236: I tensorflow/core/common_runtime/bfc_allocator.cc:1028] InUse at 7f33d0148400 of size 36864 next 250\n",
      "2021-12-07 14:59:47.059242: I tensorflow/core/common_runtime/bfc_allocator.cc:1028] InUse at 7f33d0151400 of size 55296 next 251\n",
      "2021-12-07 14:59:47.059249: I tensorflow/core/common_runtime/bfc_allocator.cc:1028] InUse at 7f33d015ec00 of size 73728 next 303\n",
      "2021-12-07 14:59:47.059255: I tensorflow/core/common_runtime/bfc_allocator.cc:1028] InUse at 7f33d0170c00 of size 65536 next 310\n",
      "2021-12-07 14:59:47.059261: I tensorflow/core/common_runtime/bfc_allocator.cc:1028] InUse at 7f33d0180c00 of size 32768 next 313\n",
      "2021-12-07 14:59:47.059267: I tensorflow/core/common_runtime/bfc_allocator.cc:1028] InUse at 7f33d0188c00 of size 133376 next 214\n",
      "2021-12-07 14:59:47.059273: I tensorflow/core/common_runtime/bfc_allocator.cc:1028] InUse at 7f33d01a9500 of size 26368 next 213\n",
      "2021-12-07 14:59:47.059278: I tensorflow/core/common_runtime/bfc_allocator.cc:1028] InUse at 7f33d01afc00 of size 26368 next 220\n",
      "2021-12-07 14:59:47.059282: I tensorflow/core/common_runtime/bfc_allocator.cc:1028] InUse at 7f33d01b6300 of size 6144 next 235\n",
      "2021-12-07 14:59:47.059285: I tensorflow/core/common_runtime/bfc_allocator.cc:1028] InUse at 7f33d01b7b00 of size 3072 next 236\n",
      "2021-12-07 14:59:47.059288: I tensorflow/core/common_runtime/bfc_allocator.cc:1028] InUse at 7f33d01b8700 of size 256 next 237\n",
      "2021-12-07 14:59:47.059292: I tensorflow/core/common_runtime/bfc_allocator.cc:1028] InUse at 7f33d01b8800 of size 256 next 238\n",
      "2021-12-07 14:59:47.059297: I tensorflow/core/common_runtime/bfc_allocator.cc:1028] InUse at 7f33d01b8900 of size 4096 next 241\n",
      "2021-12-07 14:59:47.059302: I tensorflow/core/common_runtime/bfc_allocator.cc:1028] InUse at 7f33d01b9900 of size 3072 next 847\n",
      "2021-12-07 14:59:47.059308: I tensorflow/core/common_runtime/bfc_allocator.cc:1028] InUse at 7f33d01ba500 of size 5120 next 243\n",
      "2021-12-07 14:59:47.059314: I tensorflow/core/common_runtime/bfc_allocator.cc:1028] InUse at 7f33d01bb900 of size 4352 next 226\n",
      "2021-12-07 14:59:47.059320: I tensorflow/core/common_runtime/bfc_allocator.cc:1028] InUse at 7f33d01bca00 of size 3072 next 223\n",
      "2021-12-07 14:59:47.059325: I tensorflow/core/common_runtime/bfc_allocator.cc:1028] InUse at 7f33d01bd600 of size 3072 next 224\n",
      "2021-12-07 14:59:47.059331: I tensorflow/core/common_runtime/bfc_allocator.cc:1028] InUse at 7f33d01be200 of size 3072 next 838\n",
      "2021-12-07 14:59:47.059336: I tensorflow/core/common_runtime/bfc_allocator.cc:1028] InUse at 7f33d01bee00 of size 3072 next 229\n",
      "2021-12-07 14:59:47.059342: I tensorflow/core/common_runtime/bfc_allocator.cc:1028] InUse at 7f33d01bfa00 of size 3072 next 225\n",
      "2021-12-07 14:59:47.059345: I tensorflow/core/common_runtime/bfc_allocator.cc:1028] InUse at 7f33d01c0600 of size 3072 next 231\n",
      "2021-12-07 14:59:47.059349: I tensorflow/core/common_runtime/bfc_allocator.cc:1028] InUse at 7f33d01c1200 of size 34304 next 232\n",
      "2021-12-07 14:59:47.059352: I tensorflow/core/common_runtime/bfc_allocator.cc:1028] InUse at 7f33d01c9800 of size 3072 next 244\n",
      "2021-12-07 14:59:47.059355: I tensorflow/core/common_runtime/bfc_allocator.cc:1028] InUse at 7f33d01ca400 of size 6144 next 249\n",
      "2021-12-07 14:59:47.059360: I tensorflow/core/common_runtime/bfc_allocator.cc:1028] InUse at 7f33d01cbc00 of size 7168 next 255\n",
      "2021-12-07 14:59:47.059366: I tensorflow/core/common_runtime/bfc_allocator.cc:1028] InUse at 7f33d01cd800 of size 10240 next 245\n",
      "2021-12-07 14:59:47.059371: I tensorflow/core/common_runtime/bfc_allocator.cc:1028] InUse at 7f33d01d0000 of size 26368 next 246\n",
      "2021-12-07 14:59:47.059376: I tensorflow/core/common_runtime/bfc_allocator.cc:1028] InUse at 7f33d01d6700 of size 4096 next 257\n",
      "2021-12-07 14:59:47.059381: I tensorflow/core/common_runtime/bfc_allocator.cc:1028] InUse at 7f33d01d7700 of size 256 next 258\n",
      "2021-12-07 14:59:47.059385: I tensorflow/core/common_runtime/bfc_allocator.cc:1028] InUse at 7f33d01d7800 of size 256 next 259\n",
      "2021-12-07 14:59:47.059390: I tensorflow/core/common_runtime/bfc_allocator.cc:1028] InUse at 7f33d01d7900 of size 256 next 263\n",
      "2021-12-07 14:59:47.059394: I tensorflow/core/common_runtime/bfc_allocator.cc:1028] InUse at 7f33d01d7a00 of size 256 next 264\n",
      "2021-12-07 14:59:47.059399: I tensorflow/core/common_runtime/bfc_allocator.cc:1028] InUse at 7f33d01d7b00 of size 6144 next 262\n",
      "2021-12-07 14:59:47.059403: I tensorflow/core/common_runtime/bfc_allocator.cc:1028] InUse at 7f33d01d9300 of size 15104 next 252\n",
      "2021-12-07 14:59:47.059408: I tensorflow/core/common_runtime/bfc_allocator.cc:1028] InUse at 7f33d01dce00 of size 4096 next 253\n",
      "2021-12-07 14:59:47.059413: I tensorflow/core/common_runtime/bfc_allocator.cc:1028] InUse at 7f33d01dde00 of size 6144 next 266\n",
      "2021-12-07 14:59:47.059417: I tensorflow/core/common_runtime/bfc_allocator.cc:1028] InUse at 7f33d01df600 of size 8192 next 276\n",
      "2021-12-07 14:59:47.059421: I tensorflow/core/common_runtime/bfc_allocator.cc:1028] InUse at 7f33d01e1600 of size 256 next 880\n",
      "2021-12-07 14:59:47.059426: I tensorflow/core/common_runtime/bfc_allocator.cc:1028] Free  at 7f33d01e1700 of size 256 next 881\n",
      "2021-12-07 14:59:47.059430: I tensorflow/core/common_runtime/bfc_allocator.cc:1028] InUse at 7f33d01e1800 of size 256 next 882\n",
      "2021-12-07 14:59:47.059434: I tensorflow/core/common_runtime/bfc_allocator.cc:1028] InUse at 7f33d01e1900 of size 256 next 883\n",
      "2021-12-07 14:59:47.059439: I tensorflow/core/common_runtime/bfc_allocator.cc:1028] InUse at 7f33d01e1a00 of size 256 next 884\n",
      "2021-12-07 14:59:47.059444: I tensorflow/core/common_runtime/bfc_allocator.cc:1028] InUse at 7f33d01e1b00 of size 256 next 886\n",
      "2021-12-07 14:59:47.059449: I tensorflow/core/common_runtime/bfc_allocator.cc:1028] Free  at 7f33d01e1c00 of size 12544 next 268\n",
      "2021-12-07 14:59:47.059454: I tensorflow/core/common_runtime/bfc_allocator.cc:1028] InUse at 7f33d01e4d00 of size 256 next 270\n",
      "2021-12-07 14:59:47.059459: I tensorflow/core/common_runtime/bfc_allocator.cc:1028] InUse at 7f33d01e4e00 of size 256 next 271\n",
      "2021-12-07 14:59:47.059465: I tensorflow/core/common_runtime/bfc_allocator.cc:1028] InUse at 7f33d01e4f00 of size 256 next 269\n",
      "2021-12-07 14:59:47.059470: I tensorflow/core/common_runtime/bfc_allocator.cc:1028] InUse at 7f33d01e5000 of size 256 next 274\n",
      "2021-12-07 14:59:47.059476: I tensorflow/core/common_runtime/bfc_allocator.cc:1028] InUse at 7f33d01e5100 of size 8192 next 277\n",
      "2021-12-07 14:59:47.059481: I tensorflow/core/common_runtime/bfc_allocator.cc:1028] Free  at 7f33d01e7100 of size 8192 next 278\n",
      "2021-12-07 14:59:47.059486: I tensorflow/core/common_runtime/bfc_allocator.cc:1028] InUse at 7f33d01e9100 of size 4096 next 68\n",
      "2021-12-07 14:59:47.059492: I tensorflow/core/common_runtime/bfc_allocator.cc:1028] InUse at 7f33d01ea100 of size 4096 next 43\n",
      "2021-12-07 14:59:47.059498: I tensorflow/core/common_runtime/bfc_allocator.cc:1028] InUse at 7f33d01eb100 of size 256 next 294\n",
      "2021-12-07 14:59:47.059503: I tensorflow/core/common_runtime/bfc_allocator.cc:1028] InUse at 7f33d01eb200 of size 256 next 295\n",
      "2021-12-07 14:59:47.059507: I tensorflow/core/common_runtime/bfc_allocator.cc:1028] InUse at 7f33d01eb300 of size 256 next 296\n",
      "2021-12-07 14:59:47.059510: I tensorflow/core/common_runtime/bfc_allocator.cc:1028] InUse at 7f33d01eb400 of size 256 next 297\n",
      "2021-12-07 14:59:47.059513: I tensorflow/core/common_runtime/bfc_allocator.cc:1028] InUse at 7f33d01eb500 of size 256 next 298\n",
      "2021-12-07 14:59:47.059516: I tensorflow/core/common_runtime/bfc_allocator.cc:1028] InUse at 7f33d01eb600 of size 256 next 299\n",
      "2021-12-07 14:59:47.059519: I tensorflow/core/common_runtime/bfc_allocator.cc:1028] InUse at 7f33d01eb700 of size 256 next 300\n",
      "2021-12-07 14:59:47.059522: I tensorflow/core/common_runtime/bfc_allocator.cc:1028] InUse at 7f33d01eb800 of size 6400 next 292\n",
      "2021-12-07 14:59:47.059529: I tensorflow/core/common_runtime/bfc_allocator.cc:1028] InUse at 7f33d01ed100 of size 4096 next 291\n",
      "2021-12-07 14:59:47.059534: I tensorflow/core/common_runtime/bfc_allocator.cc:1028] InUse at 7f33d01ee100 of size 256 next 301\n",
      "2021-12-07 14:59:47.059539: I tensorflow/core/common_runtime/bfc_allocator.cc:1028] InUse at 7f33d01ee200 of size 256 next 302\n",
      "2021-12-07 14:59:47.059545: I tensorflow/core/common_runtime/bfc_allocator.cc:1028] InUse at 7f33d01ee300 of size 256 next 304\n",
      "2021-12-07 14:59:47.059551: I tensorflow/core/common_runtime/bfc_allocator.cc:1028] InUse at 7f33d01ee400 of size 256 next 305\n",
      "2021-12-07 14:59:47.059556: I tensorflow/core/common_runtime/bfc_allocator.cc:1028] InUse at 7f33d01ee500 of size 2304 next 306\n",
      "2021-12-07 14:59:47.059562: I tensorflow/core/common_runtime/bfc_allocator.cc:1028] InUse at 7f33d01eee00 of size 512 next 307\n",
      "2021-12-07 14:59:47.059568: I tensorflow/core/common_runtime/bfc_allocator.cc:1028] InUse at 7f33d01ef000 of size 512 next 308\n",
      "2021-12-07 14:59:47.059574: I tensorflow/core/common_runtime/bfc_allocator.cc:1028] InUse at 7f33d01ef200 of size 4608 next 309\n",
      "2021-12-07 14:59:47.059579: I tensorflow/core/common_runtime/bfc_allocator.cc:1028] InUse at 7f33d01f0400 of size 512 next 311\n",
      "2021-12-07 14:59:47.059583: I tensorflow/core/common_runtime/bfc_allocator.cc:1028] InUse at 7f33d01f0600 of size 512 next 312\n",
      "2021-12-07 14:59:47.059586: I tensorflow/core/common_runtime/bfc_allocator.cc:1028] InUse at 7f33d01f0800 of size 512 next 314\n",
      "2021-12-07 14:59:47.059589: I tensorflow/core/common_runtime/bfc_allocator.cc:1028] InUse at 7f33d01f0a00 of size 512 next 315\n",
      "2021-12-07 14:59:47.059592: I tensorflow/core/common_runtime/bfc_allocator.cc:1028] InUse at 7f33d01f0c00 of size 4608 next 316\n",
      "2021-12-07 14:59:47.059597: I tensorflow/core/common_runtime/bfc_allocator.cc:1028] InUse at 7f33d01f1e00 of size 1024 next 317\n",
      "2021-12-07 14:59:47.059602: I tensorflow/core/common_runtime/bfc_allocator.cc:1028] InUse at 7f33d01f2200 of size 1024 next 318\n",
      "2021-12-07 14:59:47.059608: I tensorflow/core/common_runtime/bfc_allocator.cc:1028] InUse at 7f33d01f2600 of size 12032 next 260\n",
      "2021-12-07 14:59:47.059612: I tensorflow/core/common_runtime/bfc_allocator.cc:1028] InUse at 7f33d01f5500 of size 110592 next 273\n",
      "2021-12-07 14:59:47.059618: I tensorflow/core/common_runtime/bfc_allocator.cc:1028] InUse at 7f33d0210500 of size 55296 next 272\n",
      "2021-12-07 14:59:47.059624: I tensorflow/core/common_runtime/bfc_allocator.cc:1028] InUse at 7f33d021dd00 of size 131072 next 24\n",
      "2021-12-07 14:59:47.059629: I tensorflow/core/common_runtime/bfc_allocator.cc:1028] InUse at 7f33d023dd00 of size 262144 next 286\n",
      "2021-12-07 14:59:47.059635: I tensorflow/core/common_runtime/bfc_allocator.cc:1028] InUse at 7f33d027dd00 of size 262144 next 319\n",
      "2021-12-07 14:59:47.059641: I tensorflow/core/common_runtime/bfc_allocator.cc:1028] InUse at 7f33d02bdd00 of size 1024 next 320\n",
      "2021-12-07 14:59:47.059646: I tensorflow/core/common_runtime/bfc_allocator.cc:1028] InUse at 7f33d02be100 of size 1024 next 321\n",
      "2021-12-07 14:59:47.059651: I tensorflow/core/common_runtime/bfc_allocator.cc:1028] InUse at 7f33d02be500 of size 131072 next 322\n",
      "2021-12-07 14:59:47.059657: I tensorflow/core/common_runtime/bfc_allocator.cc:1028] InUse at 7f33d02de500 of size 1024 next 323\n",
      "2021-12-07 14:59:47.059663: I tensorflow/core/common_runtime/bfc_allocator.cc:1028] InUse at 7f33d02de900 of size 1024 next 324\n",
      "2021-12-07 14:59:47.059668: I tensorflow/core/common_runtime/bfc_allocator.cc:1028] InUse at 7f33d02ded00 of size 9216 next 325\n",
      "2021-12-07 14:59:47.059674: I tensorflow/core/common_runtime/bfc_allocator.cc:1028] InUse at 7f33d02e1100 of size 827648 next 75\n",
      "2021-12-07 14:59:47.059681: I tensorflow/core/common_runtime/bfc_allocator.cc:1028] InUse at 7f33d03ab200 of size 745472 next 81\n",
      "2021-12-07 14:59:47.059686: I tensorflow/core/common_runtime/bfc_allocator.cc:1028] InUse at 7f33d0461200 of size 745472 next 288\n",
      "2021-12-07 14:59:47.059692: I tensorflow/core/common_runtime/bfc_allocator.cc:1028] InUse at 7f33d0517200 of size 3494400 next 92\n",
      "2021-12-07 14:59:47.059696: I tensorflow/core/common_runtime/bfc_allocator.cc:1028] InUse at 7f33d086c400 of size 2119936 next 91\n",
      "2021-12-07 14:59:47.059700: I tensorflow/core/common_runtime/bfc_allocator.cc:1028] InUse at 7f33d0a71d00 of size 2119936 next 97\n",
      "2021-12-07 14:59:47.059703: I tensorflow/core/common_runtime/bfc_allocator.cc:1028] InUse at 7f33d0c77600 of size 2119936 next 103\n",
      "2021-12-07 14:59:47.059706: I tensorflow/core/common_runtime/bfc_allocator.cc:1028] InUse at 7f33d0e7cf00 of size 2119936 next 109\n",
      "2021-12-07 14:59:47.059709: I tensorflow/core/common_runtime/bfc_allocator.cc:1028] InUse at 7f33d1082800 of size 2119936 next 115\n",
      "2021-12-07 14:59:47.059712: I tensorflow/core/common_runtime/bfc_allocator.cc:1028] InUse at 7f33d1288100 of size 2119936 next 121\n",
      "2021-12-07 14:59:47.059716: I tensorflow/core/common_runtime/bfc_allocator.cc:1028] InUse at 7f33d148da00 of size 2119936 next 127\n",
      "2021-12-07 14:59:47.059722: I tensorflow/core/common_runtime/bfc_allocator.cc:1028] InUse at 7f33d1693300 of size 2119936 next 133\n",
      "2021-12-07 14:59:47.059727: I tensorflow/core/common_runtime/bfc_allocator.cc:1028] InUse at 7f33d1898c00 of size 2119936 next 139\n",
      "2021-12-07 14:59:47.059732: I tensorflow/core/common_runtime/bfc_allocator.cc:1028] InUse at 7f33d1a9e500 of size 2119936 next 145\n",
      "2021-12-07 14:59:47.059736: I tensorflow/core/common_runtime/bfc_allocator.cc:1028] InUse at 7f33d1ca3e00 of size 2119936 next 151\n",
      "2021-12-07 14:59:47.059741: I tensorflow/core/common_runtime/bfc_allocator.cc:1028] InUse at 7f33d1ea9700 of size 2119936 next 157\n",
      "2021-12-07 14:59:47.059745: I tensorflow/core/common_runtime/bfc_allocator.cc:1028] InUse at 7f33d20af000 of size 2119936 next 163\n",
      "2021-12-07 14:59:47.059750: I tensorflow/core/common_runtime/bfc_allocator.cc:1028] InUse at 7f33d22b4900 of size 2119936 next 169\n",
      "2021-12-07 14:59:47.059755: I tensorflow/core/common_runtime/bfc_allocator.cc:1028] InUse at 7f33d24ba200 of size 2119936 next 175\n",
      "2021-12-07 14:59:47.059759: I tensorflow/core/common_runtime/bfc_allocator.cc:1028] InUse at 7f33d26bfb00 of size 2119936 next 181\n",
      "2021-12-07 14:59:47.059764: I tensorflow/core/common_runtime/bfc_allocator.cc:1028] InUse at 7f33d28c5400 of size 2119936 next 187\n",
      "2021-12-07 14:59:47.059768: I tensorflow/core/common_runtime/bfc_allocator.cc:1028] InUse at 7f33d2acad00 of size 2119936 next 192\n",
      "2021-12-07 14:59:47.059774: I tensorflow/core/common_runtime/bfc_allocator.cc:1028] InUse at 7f33d2cd0600 of size 2119936 next 198\n",
      "2021-12-07 14:59:47.059779: I tensorflow/core/common_runtime/bfc_allocator.cc:1028] InUse at 7f33d2ed5f00 of size 2119936 next 203\n",
      "2021-12-07 14:59:47.059786: I tensorflow/core/common_runtime/bfc_allocator.cc:1028] InUse at 7f33d30db800 of size 2119936 next 209\n",
      "2021-12-07 14:59:47.059791: I tensorflow/core/common_runtime/bfc_allocator.cc:1028] InUse at 7f33d32e1100 of size 2119936 next 216\n",
      "2021-12-07 14:59:47.059797: I tensorflow/core/common_runtime/bfc_allocator.cc:1028] InUse at 7f33d34e6a00 of size 2119936 next 222\n",
      "2021-12-07 14:59:47.059802: I tensorflow/core/common_runtime/bfc_allocator.cc:1028] InUse at 7f33d36ec300 of size 2119936 next 228\n",
      "2021-12-07 14:59:47.059808: I tensorflow/core/common_runtime/bfc_allocator.cc:1028] InUse at 7f33d38f1c00 of size 2119936 next 234\n",
      "2021-12-07 14:59:47.059814: I tensorflow/core/common_runtime/bfc_allocator.cc:1028] InUse at 7f33d3af7500 of size 2981888 next 240\n",
      "2021-12-07 14:59:47.059820: I tensorflow/core/common_runtime/bfc_allocator.cc:1028] InUse at 7f33d3dcf500 of size 3072 next 326\n",
      "2021-12-07 14:59:47.059824: I tensorflow/core/common_runtime/bfc_allocator.cc:1028] InUse at 7f33d3dd0100 of size 3072 next 327\n",
      "2021-12-07 14:59:47.059828: I tensorflow/core/common_runtime/bfc_allocator.cc:1028] InUse at 7f33d3dd0d00 of size 26368 next 328\n",
      "2021-12-07 14:59:47.059831: I tensorflow/core/common_runtime/bfc_allocator.cc:1028] InUse at 7f33d3dd7400 of size 2949376 next 239\n",
      "2021-12-07 14:59:47.059834: I tensorflow/core/common_runtime/bfc_allocator.cc:1028] InUse at 7f33d40a7500 of size 2981888 next 254\n",
      "2021-12-07 14:59:47.059838: I tensorflow/core/common_runtime/bfc_allocator.cc:1028] InUse at 7f33d437f500 of size 21856256 next 265\n",
      "2021-12-07 14:59:47.059841: I tensorflow/core/common_runtime/bfc_allocator.cc:1028] InUse at 7f33d5857500 of size 6291456 next 247\n",
      "2021-12-07 14:59:47.059844: I tensorflow/core/common_runtime/bfc_allocator.cc:1028] InUse at 7f33d5e57500 of size 3072 next 329\n",
      "2021-12-07 14:59:47.059848: I tensorflow/core/common_runtime/bfc_allocator.cc:1028] InUse at 7f33d5e58100 of size 3072 next 330\n",
      "2021-12-07 14:59:47.059854: I tensorflow/core/common_runtime/bfc_allocator.cc:1028] InUse at 7f33d5e58d00 of size 745472 next 331\n",
      "2021-12-07 14:59:47.059859: I tensorflow/core/common_runtime/bfc_allocator.cc:1028] InUse at 7f33d5f0ed00 of size 3072 next 332\n",
      "2021-12-07 14:59:47.059864: I tensorflow/core/common_runtime/bfc_allocator.cc:1028] InUse at 7f33d5f0f900 of size 3072 next 333\n",
      "2021-12-07 14:59:47.059870: I tensorflow/core/common_runtime/bfc_allocator.cc:1028] InUse at 7f33d5f10500 of size 26368 next 334\n",
      "2021-12-07 14:59:47.059876: I tensorflow/core/common_runtime/bfc_allocator.cc:1028] InUse at 7f33d5f16c00 of size 2119936 next 335\n",
      "2021-12-07 14:59:47.059882: I tensorflow/core/common_runtime/bfc_allocator.cc:1028] InUse at 7f33d611c500 of size 3072 next 336\n",
      "2021-12-07 14:59:47.059887: I tensorflow/core/common_runtime/bfc_allocator.cc:1028] InUse at 7f33d611d100 of size 3072 next 337\n",
      "2021-12-07 14:59:47.059893: I tensorflow/core/common_runtime/bfc_allocator.cc:1028] InUse at 7f33d611dd00 of size 26368 next 338\n",
      "2021-12-07 14:59:47.059899: I tensorflow/core/common_runtime/bfc_allocator.cc:1028] InUse at 7f33d6124400 of size 2119936 next 339\n",
      "2021-12-07 14:59:47.059906: I tensorflow/core/common_runtime/bfc_allocator.cc:1028] InUse at 7f33d6329d00 of size 3072 next 340\n",
      "2021-12-07 14:59:47.059910: I tensorflow/core/common_runtime/bfc_allocator.cc:1028] InUse at 7f33d632a900 of size 3072 next 341\n",
      "2021-12-07 14:59:47.059913: I tensorflow/core/common_runtime/bfc_allocator.cc:1028] InUse at 7f33d632b500 of size 26368 next 342\n",
      "2021-12-07 14:59:47.059916: I tensorflow/core/common_runtime/bfc_allocator.cc:1028] InUse at 7f33d6331c00 of size 2119936 next 343\n",
      "2021-12-07 14:59:47.059920: I tensorflow/core/common_runtime/bfc_allocator.cc:1028] InUse at 7f33d6537500 of size 3072 next 344\n",
      "2021-12-07 14:59:47.059923: I tensorflow/core/common_runtime/bfc_allocator.cc:1028] InUse at 7f33d6538100 of size 3072 next 345\n",
      "2021-12-07 14:59:47.059926: I tensorflow/core/common_runtime/bfc_allocator.cc:1028] InUse at 7f33d6538d00 of size 26368 next 346\n",
      "2021-12-07 14:59:47.059929: I tensorflow/core/common_runtime/bfc_allocator.cc:1028] InUse at 7f33d653f400 of size 2119936 next 347\n",
      "2021-12-07 14:59:47.059933: I tensorflow/core/common_runtime/bfc_allocator.cc:1028] InUse at 7f33d6744d00 of size 3072 next 348\n",
      "2021-12-07 14:59:47.059938: I tensorflow/core/common_runtime/bfc_allocator.cc:1028] InUse at 7f33d6745900 of size 3072 next 349\n",
      "2021-12-07 14:59:47.059943: I tensorflow/core/common_runtime/bfc_allocator.cc:1028] InUse at 7f33d6746500 of size 26368 next 350\n",
      "2021-12-07 14:59:47.059948: I tensorflow/core/common_runtime/bfc_allocator.cc:1028] InUse at 7f33d674cc00 of size 2119936 next 351\n",
      "2021-12-07 14:59:47.059954: I tensorflow/core/common_runtime/bfc_allocator.cc:1028] InUse at 7f33d6952500 of size 3072 next 352\n",
      "2021-12-07 14:59:47.059960: I tensorflow/core/common_runtime/bfc_allocator.cc:1028] InUse at 7f33d6953100 of size 3072 next 353\n",
      "2021-12-07 14:59:47.059965: I tensorflow/core/common_runtime/bfc_allocator.cc:1028] InUse at 7f33d6953d00 of size 26368 next 354\n",
      "2021-12-07 14:59:47.059971: I tensorflow/core/common_runtime/bfc_allocator.cc:1028] InUse at 7f33d695a400 of size 2119936 next 355\n",
      "2021-12-07 14:59:47.059976: I tensorflow/core/common_runtime/bfc_allocator.cc:1028] InUse at 7f33d6b5fd00 of size 3072 next 356\n",
      "2021-12-07 14:59:47.059982: I tensorflow/core/common_runtime/bfc_allocator.cc:1028] InUse at 7f33d6b60900 of size 3072 next 357\n",
      "2021-12-07 14:59:47.059987: I tensorflow/core/common_runtime/bfc_allocator.cc:1028] InUse at 7f33d6b61500 of size 26368 next 358\n",
      "2021-12-07 14:59:47.059991: I tensorflow/core/common_runtime/bfc_allocator.cc:1028] InUse at 7f33d6b67c00 of size 2119936 next 359\n",
      "2021-12-07 14:59:47.059994: I tensorflow/core/common_runtime/bfc_allocator.cc:1028] InUse at 7f33d6d6d500 of size 3072 next 360\n",
      "2021-12-07 14:59:47.059996: I tensorflow/core/common_runtime/bfc_allocator.cc:1028] InUse at 7f33d6d6e100 of size 3072 next 361\n",
      "2021-12-07 14:59:47.059999: I tensorflow/core/common_runtime/bfc_allocator.cc:1028] InUse at 7f33d6d6ed00 of size 26368 next 362\n",
      "2021-12-07 14:59:47.060005: I tensorflow/core/common_runtime/bfc_allocator.cc:1028] InUse at 7f33d6d75400 of size 2119936 next 363\n",
      "2021-12-07 14:59:47.060009: I tensorflow/core/common_runtime/bfc_allocator.cc:1028] InUse at 7f33d6f7ad00 of size 3072 next 364\n",
      "2021-12-07 14:59:47.060014: I tensorflow/core/common_runtime/bfc_allocator.cc:1028] InUse at 7f33d6f7b900 of size 3072 next 365\n",
      "2021-12-07 14:59:47.060019: I tensorflow/core/common_runtime/bfc_allocator.cc:1028] InUse at 7f33d6f7c500 of size 26368 next 366\n",
      "2021-12-07 14:59:47.060024: I tensorflow/core/common_runtime/bfc_allocator.cc:1028] InUse at 7f33d6f82c00 of size 2119936 next 367\n",
      "2021-12-07 14:59:47.060028: I tensorflow/core/common_runtime/bfc_allocator.cc:1028] InUse at 7f33d7188500 of size 3072 next 368\n",
      "2021-12-07 14:59:47.060032: I tensorflow/core/common_runtime/bfc_allocator.cc:1028] InUse at 7f33d7189100 of size 3072 next 369\n",
      "2021-12-07 14:59:47.060037: I tensorflow/core/common_runtime/bfc_allocator.cc:1028] InUse at 7f33d7189d00 of size 26368 next 370\n",
      "2021-12-07 14:59:47.060042: I tensorflow/core/common_runtime/bfc_allocator.cc:1028] InUse at 7f33d7190400 of size 2119936 next 371\n",
      "2021-12-07 14:59:47.060046: I tensorflow/core/common_runtime/bfc_allocator.cc:1028] InUse at 7f33d7395d00 of size 3072 next 372\n",
      "2021-12-07 14:59:47.060050: I tensorflow/core/common_runtime/bfc_allocator.cc:1028] InUse at 7f33d7396900 of size 3072 next 373\n",
      "2021-12-07 14:59:47.060055: I tensorflow/core/common_runtime/bfc_allocator.cc:1028] InUse at 7f33d7397500 of size 26368 next 374\n",
      "2021-12-07 14:59:47.060059: I tensorflow/core/common_runtime/bfc_allocator.cc:1028] InUse at 7f33d739dc00 of size 2119936 next 375\n",
      "2021-12-07 14:59:47.060064: I tensorflow/core/common_runtime/bfc_allocator.cc:1028] InUse at 7f33d75a3500 of size 3072 next 376\n",
      "2021-12-07 14:59:47.060068: I tensorflow/core/common_runtime/bfc_allocator.cc:1028] InUse at 7f33d75a4100 of size 3072 next 377\n",
      "2021-12-07 14:59:47.060073: I tensorflow/core/common_runtime/bfc_allocator.cc:1028] InUse at 7f33d75a4d00 of size 26368 next 378\n",
      "2021-12-07 14:59:47.060078: I tensorflow/core/common_runtime/bfc_allocator.cc:1028] InUse at 7f33d75ab400 of size 2119936 next 379\n",
      "2021-12-07 14:59:47.060082: I tensorflow/core/common_runtime/bfc_allocator.cc:1028] InUse at 7f33d77b0d00 of size 3072 next 380\n",
      "2021-12-07 14:59:47.060087: I tensorflow/core/common_runtime/bfc_allocator.cc:1028] InUse at 7f33d77b1900 of size 3072 next 381\n",
      "2021-12-07 14:59:47.060093: I tensorflow/core/common_runtime/bfc_allocator.cc:1028] InUse at 7f33d77b2500 of size 26368 next 382\n",
      "2021-12-07 14:59:47.060099: I tensorflow/core/common_runtime/bfc_allocator.cc:1028] InUse at 7f33d77b8c00 of size 2119936 next 383\n",
      "2021-12-07 14:59:47.060105: I tensorflow/core/common_runtime/bfc_allocator.cc:1028] InUse at 7f33d79be500 of size 3072 next 384\n",
      "2021-12-07 14:59:47.060110: I tensorflow/core/common_runtime/bfc_allocator.cc:1028] InUse at 7f33d79bf100 of size 3072 next 385\n",
      "2021-12-07 14:59:47.060115: I tensorflow/core/common_runtime/bfc_allocator.cc:1028] InUse at 7f33d79bfd00 of size 26368 next 386\n",
      "2021-12-07 14:59:47.060121: I tensorflow/core/common_runtime/bfc_allocator.cc:1028] InUse at 7f33d79c6400 of size 2119936 next 387\n",
      "2021-12-07 14:59:47.060126: I tensorflow/core/common_runtime/bfc_allocator.cc:1028] InUse at 7f33d7bcbd00 of size 3072 next 388\n",
      "2021-12-07 14:59:47.060132: I tensorflow/core/common_runtime/bfc_allocator.cc:1028] InUse at 7f33d7bcc900 of size 3072 next 389\n",
      "2021-12-07 14:59:47.060137: I tensorflow/core/common_runtime/bfc_allocator.cc:1028] InUse at 7f33d7bcd500 of size 26368 next 390\n",
      "2021-12-07 14:59:47.060140: I tensorflow/core/common_runtime/bfc_allocator.cc:1028] InUse at 7f33d7bd3c00 of size 2119936 next 391\n",
      "2021-12-07 14:59:47.060143: I tensorflow/core/common_runtime/bfc_allocator.cc:1028] InUse at 7f33d7dd9500 of size 3072 next 392\n",
      "2021-12-07 14:59:47.060147: I tensorflow/core/common_runtime/bfc_allocator.cc:1028] InUse at 7f33d7dda100 of size 3072 next 393\n",
      "2021-12-07 14:59:47.060150: I tensorflow/core/common_runtime/bfc_allocator.cc:1028] InUse at 7f33d7ddad00 of size 26368 next 394\n",
      "2021-12-07 14:59:47.060153: I tensorflow/core/common_runtime/bfc_allocator.cc:1028] InUse at 7f33d7de1400 of size 2119936 next 395\n",
      "2021-12-07 14:59:47.060156: I tensorflow/core/common_runtime/bfc_allocator.cc:1028] InUse at 7f33d7fe6d00 of size 3072 next 396\n",
      "2021-12-07 14:59:47.060159: I tensorflow/core/common_runtime/bfc_allocator.cc:1028] InUse at 7f33d7fe7900 of size 3072 next 397\n",
      "2021-12-07 14:59:47.060162: I tensorflow/core/common_runtime/bfc_allocator.cc:1028] InUse at 7f33d7fe8500 of size 26368 next 398\n",
      "2021-12-07 14:59:47.060165: I tensorflow/core/common_runtime/bfc_allocator.cc:1028] InUse at 7f33d7feec00 of size 2119936 next 399\n",
      "2021-12-07 14:59:47.060168: I tensorflow/core/common_runtime/bfc_allocator.cc:1028] InUse at 7f33d81f4500 of size 3072 next 400\n",
      "2021-12-07 14:59:47.060171: I tensorflow/core/common_runtime/bfc_allocator.cc:1028] InUse at 7f33d81f5100 of size 3072 next 401\n",
      "2021-12-07 14:59:47.060175: I tensorflow/core/common_runtime/bfc_allocator.cc:1028] InUse at 7f33d81f5d00 of size 26368 next 402\n",
      "2021-12-07 14:59:47.060178: I tensorflow/core/common_runtime/bfc_allocator.cc:1028] InUse at 7f33d81fc400 of size 2119936 next 403\n",
      "2021-12-07 14:59:47.060181: I tensorflow/core/common_runtime/bfc_allocator.cc:1028] InUse at 7f33d8401d00 of size 3072 next 404\n",
      "2021-12-07 14:59:47.060183: I tensorflow/core/common_runtime/bfc_allocator.cc:1028] InUse at 7f33d8402900 of size 3072 next 405\n",
      "2021-12-07 14:59:47.060186: I tensorflow/core/common_runtime/bfc_allocator.cc:1028] InUse at 7f33d8403500 of size 26368 next 406\n",
      "2021-12-07 14:59:47.060189: I tensorflow/core/common_runtime/bfc_allocator.cc:1028] InUse at 7f33d8409c00 of size 2119936 next 407\n",
      "2021-12-07 14:59:47.060192: I tensorflow/core/common_runtime/bfc_allocator.cc:1028] InUse at 7f33d860f500 of size 3072 next 408\n",
      "2021-12-07 14:59:47.060195: I tensorflow/core/common_runtime/bfc_allocator.cc:1028] InUse at 7f33d8610100 of size 3072 next 409\n",
      "2021-12-07 14:59:47.060198: I tensorflow/core/common_runtime/bfc_allocator.cc:1028] InUse at 7f33d8610d00 of size 26368 next 410\n",
      "2021-12-07 14:59:47.060201: I tensorflow/core/common_runtime/bfc_allocator.cc:1028] InUse at 7f33d8617400 of size 2119936 next 411\n",
      "2021-12-07 14:59:47.060204: I tensorflow/core/common_runtime/bfc_allocator.cc:1028] InUse at 7f33d881cd00 of size 3072 next 412\n",
      "2021-12-07 14:59:47.060207: I tensorflow/core/common_runtime/bfc_allocator.cc:1028] InUse at 7f33d881d900 of size 3072 next 413\n",
      "2021-12-07 14:59:47.060210: I tensorflow/core/common_runtime/bfc_allocator.cc:1028] InUse at 7f33d881e500 of size 26368 next 414\n",
      "2021-12-07 14:59:47.060213: I tensorflow/core/common_runtime/bfc_allocator.cc:1028] InUse at 7f33d8824c00 of size 2119936 next 415\n",
      "2021-12-07 14:59:47.060216: I tensorflow/core/common_runtime/bfc_allocator.cc:1028] InUse at 7f33d8a2a500 of size 3072 next 416\n",
      "2021-12-07 14:59:47.060219: I tensorflow/core/common_runtime/bfc_allocator.cc:1028] InUse at 7f33d8a2b100 of size 3072 next 417\n",
      "2021-12-07 14:59:47.060222: I tensorflow/core/common_runtime/bfc_allocator.cc:1028] InUse at 7f33d8a2bd00 of size 26368 next 418\n",
      "2021-12-07 14:59:47.060225: I tensorflow/core/common_runtime/bfc_allocator.cc:1028] InUse at 7f33d8a32400 of size 2119936 next 419\n",
      "2021-12-07 14:59:47.060228: I tensorflow/core/common_runtime/bfc_allocator.cc:1028] InUse at 7f33d8c37d00 of size 3072 next 420\n",
      "2021-12-07 14:59:47.060231: I tensorflow/core/common_runtime/bfc_allocator.cc:1028] InUse at 7f33d8c38900 of size 3072 next 421\n",
      "2021-12-07 14:59:47.060233: I tensorflow/core/common_runtime/bfc_allocator.cc:1028] InUse at 7f33d8c39500 of size 26368 next 422\n",
      "2021-12-07 14:59:47.060237: I tensorflow/core/common_runtime/bfc_allocator.cc:1028] InUse at 7f33d8c3fc00 of size 2119936 next 423\n",
      "2021-12-07 14:59:47.060239: I tensorflow/core/common_runtime/bfc_allocator.cc:1028] InUse at 7f33d8e45500 of size 3072 next 424\n",
      "2021-12-07 14:59:47.060242: I tensorflow/core/common_runtime/bfc_allocator.cc:1028] InUse at 7f33d8e46100 of size 3072 next 425\n",
      "2021-12-07 14:59:47.060246: I tensorflow/core/common_runtime/bfc_allocator.cc:1028] InUse at 7f33d8e46d00 of size 26368 next 426\n",
      "2021-12-07 14:59:47.060248: I tensorflow/core/common_runtime/bfc_allocator.cc:1028] InUse at 7f33d8e4d400 of size 2119936 next 427\n",
      "2021-12-07 14:59:47.060251: I tensorflow/core/common_runtime/bfc_allocator.cc:1028] InUse at 7f33d9052d00 of size 3072 next 428\n",
      "2021-12-07 14:59:47.060254: I tensorflow/core/common_runtime/bfc_allocator.cc:1028] InUse at 7f33d9053900 of size 3072 next 429\n",
      "2021-12-07 14:59:47.060257: I tensorflow/core/common_runtime/bfc_allocator.cc:1028] InUse at 7f33d9054500 of size 26368 next 430\n",
      "2021-12-07 14:59:47.060260: I tensorflow/core/common_runtime/bfc_allocator.cc:1028] InUse at 7f33d905ac00 of size 2119936 next 431\n",
      "2021-12-07 14:59:47.060263: I tensorflow/core/common_runtime/bfc_allocator.cc:1028] InUse at 7f33d9260500 of size 3072 next 432\n",
      "2021-12-07 14:59:47.060266: I tensorflow/core/common_runtime/bfc_allocator.cc:1028] InUse at 7f33d9261100 of size 3072 next 433\n",
      "2021-12-07 14:59:47.060270: I tensorflow/core/common_runtime/bfc_allocator.cc:1028] InUse at 7f33d9261d00 of size 26368 next 434\n",
      "2021-12-07 14:59:47.060273: I tensorflow/core/common_runtime/bfc_allocator.cc:1028] InUse at 7f33d9268400 of size 2981888 next 435\n",
      "2021-12-07 14:59:47.060276: I tensorflow/core/common_runtime/bfc_allocator.cc:1028] InUse at 7f33d9540400 of size 4096 next 436\n",
      "2021-12-07 14:59:47.060279: I tensorflow/core/common_runtime/bfc_allocator.cc:1028] InUse at 7f33d9541400 of size 4096 next 437\n",
      "2021-12-07 14:59:47.060282: I tensorflow/core/common_runtime/bfc_allocator.cc:1028] InUse at 7f33d9542400 of size 2981888 next 438\n",
      "2021-12-07 14:59:47.060285: I tensorflow/core/common_runtime/bfc_allocator.cc:1028] InUse at 7f33d981a400 of size 4096 next 439\n",
      "2021-12-07 14:59:47.060288: I tensorflow/core/common_runtime/bfc_allocator.cc:1028] InUse at 7f33d981b400 of size 4096 next 440\n",
      "2021-12-07 14:59:47.060291: I tensorflow/core/common_runtime/bfc_allocator.cc:1028] InUse at 7f33d981c400 of size 36864 next 441\n",
      "2021-12-07 14:59:47.060294: I tensorflow/core/common_runtime/bfc_allocator.cc:1028] InUse at 7f33d9825400 of size 6291456 next 442\n",
      "2021-12-07 14:59:47.060297: I tensorflow/core/common_runtime/bfc_allocator.cc:1028] InUse at 7f33d9e25400 of size 6144 next 443\n",
      "2021-12-07 14:59:47.060300: I tensorflow/core/common_runtime/bfc_allocator.cc:1028] InUse at 7f33d9e26c00 of size 6144 next 444\n",
      "2021-12-07 14:59:47.060303: I tensorflow/core/common_runtime/bfc_allocator.cc:1028] InUse at 7f33d9e28400 of size 55296 next 445\n",
      "2021-12-07 14:59:47.060307: I tensorflow/core/common_runtime/bfc_allocator.cc:1028] InUse at 7f33d9e35c00 of size 12582912 next 446\n",
      "2021-12-07 14:59:47.060311: I tensorflow/core/common_runtime/bfc_allocator.cc:1028] InUse at 7f33daa35c00 of size 8192 next 447\n",
      "2021-12-07 14:59:47.060314: I tensorflow/core/common_runtime/bfc_allocator.cc:1028] InUse at 7f33daa37c00 of size 8192 next 448\n",
      "2021-12-07 14:59:47.060317: I tensorflow/core/common_runtime/bfc_allocator.cc:1028] InUse at 7f33daa39c00 of size 401408000 next 449\n",
      "2021-12-07 14:59:47.060320: I tensorflow/core/common_runtime/bfc_allocator.cc:1028] InUse at 7f33f2909c00 of size 4096 next 450\n",
      "2021-12-07 14:59:47.060323: I tensorflow/core/common_runtime/bfc_allocator.cc:1028] InUse at 7f33f290ac00 of size 4096 next 451\n",
      "2021-12-07 14:59:47.060326: I tensorflow/core/common_runtime/bfc_allocator.cc:1028] InUse at 7f33f290bc00 of size 4096 next 452\n",
      "2021-12-07 14:59:47.060329: I tensorflow/core/common_runtime/bfc_allocator.cc:1028] InUse at 7f33f290cc00 of size 4096 next 453\n",
      "2021-12-07 14:59:47.060332: I tensorflow/core/common_runtime/bfc_allocator.cc:1028] InUse at 7f33f290dc00 of size 256 next 454\n",
      "2021-12-07 14:59:47.060335: I tensorflow/core/common_runtime/bfc_allocator.cc:1028] InUse at 7f33f290dd00 of size 3584 next 455\n",
      "2021-12-07 14:59:47.060338: I tensorflow/core/common_runtime/bfc_allocator.cc:1028] InUse at 7f33f290eb00 of size 256 next 456\n",
      "2021-12-07 14:59:47.060342: I tensorflow/core/common_runtime/bfc_allocator.cc:1028] InUse at 7f33f290ec00 of size 256 next 457\n",
      "2021-12-07 14:59:47.060345: I tensorflow/core/common_runtime/bfc_allocator.cc:1028] InUse at 7f33f290ed00 of size 73728 next 458\n",
      "2021-12-07 14:59:47.060348: I tensorflow/core/common_runtime/bfc_allocator.cc:1028] InUse at 7f33f2920d00 of size 256 next 459\n",
      "2021-12-07 14:59:47.060351: I tensorflow/core/common_runtime/bfc_allocator.cc:1028] InUse at 7f33f2920e00 of size 256 next 460\n",
      "2021-12-07 14:59:47.060354: I tensorflow/core/common_runtime/bfc_allocator.cc:1028] InUse at 7f33f2920f00 of size 2304 next 461\n",
      "2021-12-07 14:59:47.060357: I tensorflow/core/common_runtime/bfc_allocator.cc:1028] InUse at 7f33f2921800 of size 32768 next 462\n",
      "2021-12-07 14:59:47.060360: I tensorflow/core/common_runtime/bfc_allocator.cc:1028] InUse at 7f33f2929800 of size 512 next 463\n",
      "2021-12-07 14:59:47.060364: I tensorflow/core/common_runtime/bfc_allocator.cc:1028] InUse at 7f33f2929a00 of size 512 next 464\n",
      "2021-12-07 14:59:47.060367: I tensorflow/core/common_runtime/bfc_allocator.cc:1028] InUse at 7f33f2929c00 of size 4608 next 465\n",
      "2021-12-07 14:59:47.060370: I tensorflow/core/common_runtime/bfc_allocator.cc:1028] InUse at 7f33f292ae00 of size 65536 next 466\n",
      "2021-12-07 14:59:47.060374: I tensorflow/core/common_runtime/bfc_allocator.cc:1028] InUse at 7f33f293ae00 of size 512 next 467\n",
      "2021-12-07 14:59:47.060377: I tensorflow/core/common_runtime/bfc_allocator.cc:1028] InUse at 7f33f293b000 of size 512 next 468\n",
      "2021-12-07 14:59:47.060380: I tensorflow/core/common_runtime/bfc_allocator.cc:1028] InUse at 7f33f293b200 of size 32768 next 469\n",
      "2021-12-07 14:59:47.060383: I tensorflow/core/common_runtime/bfc_allocator.cc:1028] InUse at 7f33f2943200 of size 512 next 470\n",
      "2021-12-07 14:59:47.060386: I tensorflow/core/common_runtime/bfc_allocator.cc:1028] InUse at 7f33f2943400 of size 512 next 471\n",
      "2021-12-07 14:59:47.060389: I tensorflow/core/common_runtime/bfc_allocator.cc:1028] InUse at 7f33f2943600 of size 4608 next 472\n",
      "2021-12-07 14:59:47.060392: I tensorflow/core/common_runtime/bfc_allocator.cc:1028] InUse at 7f33f2944800 of size 131072 next 473\n",
      "2021-12-07 14:59:47.060395: I tensorflow/core/common_runtime/bfc_allocator.cc:1028] InUse at 7f33f2964800 of size 1024 next 474\n",
      "2021-12-07 14:59:47.060401: I tensorflow/core/common_runtime/bfc_allocator.cc:1028] InUse at 7f33f2964c00 of size 1024 next 475\n",
      "2021-12-07 14:59:47.060405: I tensorflow/core/common_runtime/bfc_allocator.cc:1028] InUse at 7f33f2965000 of size 9216 next 476\n",
      "2021-12-07 14:59:47.060411: I tensorflow/core/common_runtime/bfc_allocator.cc:1028] InUse at 7f33f2967400 of size 262144 next 477\n",
      "2021-12-07 14:59:47.060416: I tensorflow/core/common_runtime/bfc_allocator.cc:1028] InUse at 7f33f29a7400 of size 1024 next 478\n",
      "2021-12-07 14:59:47.060421: I tensorflow/core/common_runtime/bfc_allocator.cc:1028] InUse at 7f33f29a7800 of size 1024 next 479\n",
      "2021-12-07 14:59:47.060428: I tensorflow/core/common_runtime/bfc_allocator.cc:1028] InUse at 7f33f29a7c00 of size 131072 next 480\n",
      "2021-12-07 14:59:47.060433: I tensorflow/core/common_runtime/bfc_allocator.cc:1028] InUse at 7f33f29c7c00 of size 1024 next 481\n",
      "2021-12-07 14:59:47.060438: I tensorflow/core/common_runtime/bfc_allocator.cc:1028] InUse at 7f33f29c8000 of size 1024 next 482\n",
      "2021-12-07 14:59:47.060444: I tensorflow/core/common_runtime/bfc_allocator.cc:1028] InUse at 7f33f29c8400 of size 9216 next 483\n",
      "2021-12-07 14:59:47.060450: I tensorflow/core/common_runtime/bfc_allocator.cc:1028] InUse at 7f33f29ca800 of size 745472 next 484\n",
      "2021-12-07 14:59:47.060456: I tensorflow/core/common_runtime/bfc_allocator.cc:1028] InUse at 7f33f2a80800 of size 3072 next 485\n",
      "2021-12-07 14:59:47.060461: I tensorflow/core/common_runtime/bfc_allocator.cc:1028] InUse at 7f33f2a81400 of size 3072 next 486\n",
      "2021-12-07 14:59:47.060464: I tensorflow/core/common_runtime/bfc_allocator.cc:1028] InUse at 7f33f2a82000 of size 26368 next 487\n",
      "2021-12-07 14:59:47.060467: I tensorflow/core/common_runtime/bfc_allocator.cc:1028] InUse at 7f33f2a88700 of size 2119936 next 488\n",
      "2021-12-07 14:59:47.060470: I tensorflow/core/common_runtime/bfc_allocator.cc:1028] InUse at 7f33f2c8e000 of size 3072 next 489\n",
      "2021-12-07 14:59:47.060473: I tensorflow/core/common_runtime/bfc_allocator.cc:1028] InUse at 7f33f2c8ec00 of size 3072 next 490\n",
      "2021-12-07 14:59:47.060477: I tensorflow/core/common_runtime/bfc_allocator.cc:1028] InUse at 7f33f2c8f800 of size 745472 next 491\n",
      "2021-12-07 14:59:47.060482: I tensorflow/core/common_runtime/bfc_allocator.cc:1028] InUse at 7f33f2d45800 of size 3072 next 492\n",
      "2021-12-07 14:59:47.060487: I tensorflow/core/common_runtime/bfc_allocator.cc:1028] InUse at 7f33f2d46400 of size 3072 next 493\n",
      "2021-12-07 14:59:47.060493: I tensorflow/core/common_runtime/bfc_allocator.cc:1028] InUse at 7f33f2d47000 of size 26368 next 494\n",
      "2021-12-07 14:59:47.060499: I tensorflow/core/common_runtime/bfc_allocator.cc:1028] InUse at 7f33f2d4d700 of size 2119936 next 495\n",
      "2021-12-07 14:59:47.060505: I tensorflow/core/common_runtime/bfc_allocator.cc:1028] InUse at 7f33f2f53000 of size 3072 next 496\n",
      "2021-12-07 14:59:47.060510: I tensorflow/core/common_runtime/bfc_allocator.cc:1028] InUse at 7f33f2f53c00 of size 3072 next 497\n",
      "2021-12-07 14:59:47.060516: I tensorflow/core/common_runtime/bfc_allocator.cc:1028] InUse at 7f33f2f54800 of size 26368 next 498\n",
      "2021-12-07 14:59:47.060522: I tensorflow/core/common_runtime/bfc_allocator.cc:1028] InUse at 7f33f2f5af00 of size 2119936 next 499\n",
      "2021-12-07 14:59:47.060528: I tensorflow/core/common_runtime/bfc_allocator.cc:1028] InUse at 7f33f3160800 of size 3072 next 500\n",
      "2021-12-07 14:59:47.060532: I tensorflow/core/common_runtime/bfc_allocator.cc:1028] InUse at 7f33f3161400 of size 3072 next 501\n",
      "2021-12-07 14:59:47.060535: I tensorflow/core/common_runtime/bfc_allocator.cc:1028] InUse at 7f33f3162000 of size 26368 next 502\n",
      "2021-12-07 14:59:47.060538: I tensorflow/core/common_runtime/bfc_allocator.cc:1028] InUse at 7f33f3168700 of size 2119936 next 503\n",
      "2021-12-07 14:59:47.060541: I tensorflow/core/common_runtime/bfc_allocator.cc:1028] InUse at 7f33f336e000 of size 3072 next 504\n",
      "2021-12-07 14:59:47.060544: I tensorflow/core/common_runtime/bfc_allocator.cc:1028] InUse at 7f33f336ec00 of size 3072 next 505\n",
      "2021-12-07 14:59:47.060547: I tensorflow/core/common_runtime/bfc_allocator.cc:1028] InUse at 7f33f336f800 of size 26368 next 506\n",
      "2021-12-07 14:59:47.060552: I tensorflow/core/common_runtime/bfc_allocator.cc:1028] InUse at 7f33f3375f00 of size 2119936 next 507\n",
      "2021-12-07 14:59:47.060557: I tensorflow/core/common_runtime/bfc_allocator.cc:1028] InUse at 7f33f357b800 of size 3072 next 508\n",
      "2021-12-07 14:59:47.060562: I tensorflow/core/common_runtime/bfc_allocator.cc:1028] InUse at 7f33f357c400 of size 3072 next 509\n",
      "2021-12-07 14:59:47.060568: I tensorflow/core/common_runtime/bfc_allocator.cc:1028] InUse at 7f33f357d000 of size 26368 next 510\n",
      "2021-12-07 14:59:47.060573: I tensorflow/core/common_runtime/bfc_allocator.cc:1028] InUse at 7f33f3583700 of size 2119936 next 511\n",
      "2021-12-07 14:59:47.060579: I tensorflow/core/common_runtime/bfc_allocator.cc:1028] InUse at 7f33f3789000 of size 3072 next 512\n",
      "2021-12-07 14:59:47.060584: I tensorflow/core/common_runtime/bfc_allocator.cc:1028] InUse at 7f33f3789c00 of size 3072 next 513\n",
      "2021-12-07 14:59:47.060590: I tensorflow/core/common_runtime/bfc_allocator.cc:1028] InUse at 7f33f378a800 of size 26368 next 514\n",
      "2021-12-07 14:59:47.060595: I tensorflow/core/common_runtime/bfc_allocator.cc:1028] InUse at 7f33f3790f00 of size 2119936 next 515\n",
      "2021-12-07 14:59:47.060601: I tensorflow/core/common_runtime/bfc_allocator.cc:1028] InUse at 7f33f3996800 of size 3072 next 516\n",
      "2021-12-07 14:59:47.060604: I tensorflow/core/common_runtime/bfc_allocator.cc:1028] InUse at 7f33f3997400 of size 3072 next 517\n",
      "2021-12-07 14:59:47.060607: I tensorflow/core/common_runtime/bfc_allocator.cc:1028] InUse at 7f33f3998000 of size 26368 next 518\n",
      "2021-12-07 14:59:47.060610: I tensorflow/core/common_runtime/bfc_allocator.cc:1028] InUse at 7f33f399e700 of size 2119936 next 519\n",
      "2021-12-07 14:59:47.060613: I tensorflow/core/common_runtime/bfc_allocator.cc:1028] InUse at 7f33f3ba4000 of size 3072 next 520\n",
      "2021-12-07 14:59:47.060617: I tensorflow/core/common_runtime/bfc_allocator.cc:1028] InUse at 7f33f3ba4c00 of size 3072 next 521\n",
      "2021-12-07 14:59:47.060622: I tensorflow/core/common_runtime/bfc_allocator.cc:1028] InUse at 7f33f3ba5800 of size 26368 next 522\n",
      "2021-12-07 14:59:47.060627: I tensorflow/core/common_runtime/bfc_allocator.cc:1028] InUse at 7f33f3babf00 of size 2119936 next 523\n",
      "2021-12-07 14:59:47.060633: I tensorflow/core/common_runtime/bfc_allocator.cc:1028] InUse at 7f33f3db1800 of size 3072 next 524\n",
      "2021-12-07 14:59:47.060639: I tensorflow/core/common_runtime/bfc_allocator.cc:1028] InUse at 7f33f3db2400 of size 3072 next 525\n",
      "2021-12-07 14:59:47.060645: I tensorflow/core/common_runtime/bfc_allocator.cc:1028] InUse at 7f33f3db3000 of size 26368 next 526\n",
      "2021-12-07 14:59:47.060652: I tensorflow/core/common_runtime/bfc_allocator.cc:1028] InUse at 7f33f3db9700 of size 2119936 next 527\n",
      "2021-12-07 14:59:47.060657: I tensorflow/core/common_runtime/bfc_allocator.cc:1028] InUse at 7f33f3fbf000 of size 3072 next 528\n",
      "2021-12-07 14:59:47.060663: I tensorflow/core/common_runtime/bfc_allocator.cc:1028] InUse at 7f33f3fbfc00 of size 3072 next 529\n",
      "2021-12-07 14:59:47.060667: I tensorflow/core/common_runtime/bfc_allocator.cc:1028] InUse at 7f33f3fc0800 of size 26368 next 530\n",
      "2021-12-07 14:59:47.060670: I tensorflow/core/common_runtime/bfc_allocator.cc:1028] InUse at 7f33f3fc6f00 of size 2119936 next 531\n",
      "2021-12-07 14:59:47.060673: I tensorflow/core/common_runtime/bfc_allocator.cc:1028] InUse at 7f33f41cc800 of size 3072 next 532\n",
      "2021-12-07 14:59:47.060676: I tensorflow/core/common_runtime/bfc_allocator.cc:1028] InUse at 7f33f41cd400 of size 3072 next 533\n",
      "2021-12-07 14:59:47.060680: I tensorflow/core/common_runtime/bfc_allocator.cc:1028] InUse at 7f33f41ce000 of size 26368 next 534\n",
      "2021-12-07 14:59:47.060685: I tensorflow/core/common_runtime/bfc_allocator.cc:1028] InUse at 7f33f41d4700 of size 2119936 next 535\n",
      "2021-12-07 14:59:47.060690: I tensorflow/core/common_runtime/bfc_allocator.cc:1028] InUse at 7f33f43da000 of size 3072 next 536\n",
      "2021-12-07 14:59:47.060696: I tensorflow/core/common_runtime/bfc_allocator.cc:1028] InUse at 7f33f43dac00 of size 3072 next 537\n",
      "2021-12-07 14:59:47.060702: I tensorflow/core/common_runtime/bfc_allocator.cc:1028] InUse at 7f33f43db800 of size 26368 next 538\n",
      "2021-12-07 14:59:47.060708: I tensorflow/core/common_runtime/bfc_allocator.cc:1028] InUse at 7f33f43e1f00 of size 2119936 next 539\n",
      "2021-12-07 14:59:47.060713: I tensorflow/core/common_runtime/bfc_allocator.cc:1028] InUse at 7f33f45e7800 of size 3072 next 540\n",
      "2021-12-07 14:59:47.060719: I tensorflow/core/common_runtime/bfc_allocator.cc:1028] InUse at 7f33f45e8400 of size 3072 next 541\n",
      "2021-12-07 14:59:47.060724: I tensorflow/core/common_runtime/bfc_allocator.cc:1028] InUse at 7f33f45e9000 of size 26368 next 542\n",
      "2021-12-07 14:59:47.060730: I tensorflow/core/common_runtime/bfc_allocator.cc:1028] InUse at 7f33f45ef700 of size 2119936 next 543\n",
      "2021-12-07 14:59:47.060733: I tensorflow/core/common_runtime/bfc_allocator.cc:1028] InUse at 7f33f47f5000 of size 3072 next 544\n",
      "2021-12-07 14:59:47.060736: I tensorflow/core/common_runtime/bfc_allocator.cc:1028] InUse at 7f33f47f5c00 of size 3072 next 545\n",
      "2021-12-07 14:59:47.060739: I tensorflow/core/common_runtime/bfc_allocator.cc:1028] InUse at 7f33f47f6800 of size 26368 next 546\n",
      "2021-12-07 14:59:47.060743: I tensorflow/core/common_runtime/bfc_allocator.cc:1028] InUse at 7f33f47fcf00 of size 2119936 next 547\n",
      "2021-12-07 14:59:47.060748: I tensorflow/core/common_runtime/bfc_allocator.cc:1028] InUse at 7f33f4a02800 of size 3072 next 548\n",
      "2021-12-07 14:59:47.060753: I tensorflow/core/common_runtime/bfc_allocator.cc:1028] InUse at 7f33f4a03400 of size 3072 next 549\n",
      "2021-12-07 14:59:47.060759: I tensorflow/core/common_runtime/bfc_allocator.cc:1028] InUse at 7f33f4a04000 of size 26368 next 550\n",
      "2021-12-07 14:59:47.060764: I tensorflow/core/common_runtime/bfc_allocator.cc:1028] InUse at 7f33f4a0a700 of size 2119936 next 551\n",
      "2021-12-07 14:59:47.060770: I tensorflow/core/common_runtime/bfc_allocator.cc:1028] InUse at 7f33f4c10000 of size 3072 next 552\n",
      "2021-12-07 14:59:47.060775: I tensorflow/core/common_runtime/bfc_allocator.cc:1028] InUse at 7f33f4c10c00 of size 3072 next 553\n",
      "2021-12-07 14:59:47.060781: I tensorflow/core/common_runtime/bfc_allocator.cc:1028] InUse at 7f33f4c11800 of size 26368 next 554\n",
      "2021-12-07 14:59:47.060787: I tensorflow/core/common_runtime/bfc_allocator.cc:1028] InUse at 7f33f4c17f00 of size 2119936 next 555\n",
      "2021-12-07 14:59:47.060792: I tensorflow/core/common_runtime/bfc_allocator.cc:1028] InUse at 7f33f4e1d800 of size 3072 next 556\n",
      "2021-12-07 14:59:47.060795: I tensorflow/core/common_runtime/bfc_allocator.cc:1028] InUse at 7f33f4e1e400 of size 3072 next 557\n",
      "2021-12-07 14:59:47.060799: I tensorflow/core/common_runtime/bfc_allocator.cc:1028] InUse at 7f33f4e1f000 of size 26368 next 558\n",
      "2021-12-07 14:59:47.060802: I tensorflow/core/common_runtime/bfc_allocator.cc:1028] InUse at 7f33f4e25700 of size 2119936 next 559\n",
      "2021-12-07 14:59:47.060805: I tensorflow/core/common_runtime/bfc_allocator.cc:1028] InUse at 7f33f502b000 of size 3072 next 560\n",
      "2021-12-07 14:59:47.060808: I tensorflow/core/common_runtime/bfc_allocator.cc:1028] InUse at 7f33f502bc00 of size 3072 next 561\n",
      "2021-12-07 14:59:47.060810: I tensorflow/core/common_runtime/bfc_allocator.cc:1028] InUse at 7f33f502c800 of size 26368 next 562\n",
      "2021-12-07 14:59:47.060813: I tensorflow/core/common_runtime/bfc_allocator.cc:1028] InUse at 7f33f5032f00 of size 2119936 next 563\n",
      "2021-12-07 14:59:47.060816: I tensorflow/core/common_runtime/bfc_allocator.cc:1028] InUse at 7f33f5238800 of size 3072 next 564\n",
      "2021-12-07 14:59:47.060822: I tensorflow/core/common_runtime/bfc_allocator.cc:1028] InUse at 7f33f5239400 of size 3072 next 565\n",
      "2021-12-07 14:59:47.060827: I tensorflow/core/common_runtime/bfc_allocator.cc:1028] InUse at 7f33f523a000 of size 26368 next 566\n",
      "2021-12-07 14:59:47.060832: I tensorflow/core/common_runtime/bfc_allocator.cc:1028] InUse at 7f33f5240700 of size 2119936 next 567\n",
      "2021-12-07 14:59:47.060837: I tensorflow/core/common_runtime/bfc_allocator.cc:1028] InUse at 7f33f5446000 of size 3072 next 568\n",
      "2021-12-07 14:59:47.060844: I tensorflow/core/common_runtime/bfc_allocator.cc:1028] InUse at 7f33f5446c00 of size 3072 next 569\n",
      "2021-12-07 14:59:47.060849: I tensorflow/core/common_runtime/bfc_allocator.cc:1028] InUse at 7f33f5447800 of size 26368 next 570\n",
      "2021-12-07 14:59:47.060855: I tensorflow/core/common_runtime/bfc_allocator.cc:1028] InUse at 7f33f544df00 of size 2119936 next 571\n",
      "2021-12-07 14:59:47.060860: I tensorflow/core/common_runtime/bfc_allocator.cc:1028] InUse at 7f33f5653800 of size 3072 next 572\n",
      "2021-12-07 14:59:47.060866: I tensorflow/core/common_runtime/bfc_allocator.cc:1028] InUse at 7f33f5654400 of size 3072 next 573\n",
      "2021-12-07 14:59:47.060871: I tensorflow/core/common_runtime/bfc_allocator.cc:1028] InUse at 7f33f5655000 of size 26368 next 574\n",
      "2021-12-07 14:59:47.060876: I tensorflow/core/common_runtime/bfc_allocator.cc:1028] InUse at 7f33f565b700 of size 2119936 next 575\n",
      "2021-12-07 14:59:47.060879: I tensorflow/core/common_runtime/bfc_allocator.cc:1028] InUse at 7f33f5861000 of size 3072 next 576\n",
      "2021-12-07 14:59:47.060882: I tensorflow/core/common_runtime/bfc_allocator.cc:1028] InUse at 7f33f5861c00 of size 3072 next 577\n",
      "2021-12-07 14:59:47.060885: I tensorflow/core/common_runtime/bfc_allocator.cc:1028] InUse at 7f33f5862800 of size 26368 next 578\n",
      "2021-12-07 14:59:47.060888: I tensorflow/core/common_runtime/bfc_allocator.cc:1028] InUse at 7f33f5868f00 of size 2119936 next 579\n",
      "2021-12-07 14:59:47.060893: I tensorflow/core/common_runtime/bfc_allocator.cc:1028] InUse at 7f33f5a6e800 of size 3072 next 580\n",
      "2021-12-07 14:59:47.060898: I tensorflow/core/common_runtime/bfc_allocator.cc:1028] InUse at 7f33f5a6f400 of size 3072 next 581\n",
      "2021-12-07 14:59:47.060903: I tensorflow/core/common_runtime/bfc_allocator.cc:1028] InUse at 7f33f5a70000 of size 26368 next 582\n",
      "2021-12-07 14:59:47.060909: I tensorflow/core/common_runtime/bfc_allocator.cc:1028] InUse at 7f33f5a76700 of size 2119936 next 583\n",
      "2021-12-07 14:59:47.060915: I tensorflow/core/common_runtime/bfc_allocator.cc:1028] InUse at 7f33f5c7c000 of size 3072 next 584\n",
      "2021-12-07 14:59:47.060921: I tensorflow/core/common_runtime/bfc_allocator.cc:1028] InUse at 7f33f5c7cc00 of size 3072 next 585\n",
      "2021-12-07 14:59:47.060926: I tensorflow/core/common_runtime/bfc_allocator.cc:1028] InUse at 7f33f5c7d800 of size 26368 next 586\n",
      "2021-12-07 14:59:47.060932: I tensorflow/core/common_runtime/bfc_allocator.cc:1028] InUse at 7f33f5c83f00 of size 2119936 next 587\n",
      "2021-12-07 14:59:47.060939: I tensorflow/core/common_runtime/bfc_allocator.cc:1028] InUse at 7f33f5e89800 of size 3072 next 588\n",
      "2021-12-07 14:59:47.060944: I tensorflow/core/common_runtime/bfc_allocator.cc:1028] InUse at 7f33f5e8a400 of size 3072 next 589\n",
      "2021-12-07 14:59:47.060947: I tensorflow/core/common_runtime/bfc_allocator.cc:1028] InUse at 7f33f5e8b000 of size 26368 next 590\n",
      "2021-12-07 14:59:47.060950: I tensorflow/core/common_runtime/bfc_allocator.cc:1028] InUse at 7f33f5e91700 of size 2119936 next 591\n",
      "2021-12-07 14:59:47.060953: I tensorflow/core/common_runtime/bfc_allocator.cc:1028] InUse at 7f33f6097000 of size 3072 next 592\n",
      "2021-12-07 14:59:47.060956: I tensorflow/core/common_runtime/bfc_allocator.cc:1028] InUse at 7f33f6097c00 of size 3072 next 593\n",
      "2021-12-07 14:59:47.060959: I tensorflow/core/common_runtime/bfc_allocator.cc:1028] InUse at 7f33f6098800 of size 26368 next 594\n",
      "2021-12-07 14:59:47.060964: I tensorflow/core/common_runtime/bfc_allocator.cc:1028] InUse at 7f33f609ef00 of size 2981888 next 595\n",
      "2021-12-07 14:59:47.060970: I tensorflow/core/common_runtime/bfc_allocator.cc:1028] InUse at 7f33f6376f00 of size 4096 next 596\n",
      "2021-12-07 14:59:47.060975: I tensorflow/core/common_runtime/bfc_allocator.cc:1028] InUse at 7f33f6377f00 of size 4096 next 597\n",
      "2021-12-07 14:59:47.060979: I tensorflow/core/common_runtime/bfc_allocator.cc:1028] InUse at 7f33f6378f00 of size 2981888 next 598\n",
      "2021-12-07 14:59:47.060984: I tensorflow/core/common_runtime/bfc_allocator.cc:1028] InUse at 7f33f6650f00 of size 4096 next 599\n",
      "2021-12-07 14:59:47.060989: I tensorflow/core/common_runtime/bfc_allocator.cc:1028] InUse at 7f33f6651f00 of size 4096 next 600\n",
      "2021-12-07 14:59:47.060995: I tensorflow/core/common_runtime/bfc_allocator.cc:1028] InUse at 7f33f6652f00 of size 36864 next 601\n",
      "2021-12-07 14:59:47.061001: I tensorflow/core/common_runtime/bfc_allocator.cc:1028] InUse at 7f33f665bf00 of size 6291456 next 602\n",
      "2021-12-07 14:59:47.061007: I tensorflow/core/common_runtime/bfc_allocator.cc:1028] InUse at 7f33f6c5bf00 of size 6144 next 603\n",
      "2021-12-07 14:59:47.061012: I tensorflow/core/common_runtime/bfc_allocator.cc:1028] InUse at 7f33f6c5d700 of size 6144 next 604\n",
      "2021-12-07 14:59:47.061018: I tensorflow/core/common_runtime/bfc_allocator.cc:1028] InUse at 7f33f6c5ef00 of size 55296 next 605\n",
      "2021-12-07 14:59:47.061023: I tensorflow/core/common_runtime/bfc_allocator.cc:1028] InUse at 7f33f6c6c700 of size 12582912 next 606\n",
      "2021-12-07 14:59:47.061028: I tensorflow/core/common_runtime/bfc_allocator.cc:1028] InUse at 7f33f786c700 of size 8192 next 607\n",
      "2021-12-07 14:59:47.061033: I tensorflow/core/common_runtime/bfc_allocator.cc:1028] InUse at 7f33f786e700 of size 8192 next 608\n",
      "2021-12-07 14:59:47.061037: I tensorflow/core/common_runtime/bfc_allocator.cc:1028] InUse at 7f33f7870700 of size 4096 next 610\n",
      "2021-12-07 14:59:47.061042: I tensorflow/core/common_runtime/bfc_allocator.cc:1028] InUse at 7f33f7871700 of size 4096 next 611\n",
      "2021-12-07 14:59:47.061048: I tensorflow/core/common_runtime/bfc_allocator.cc:1028] InUse at 7f33f7872700 of size 4096 next 612\n",
      "2021-12-07 14:59:47.061053: I tensorflow/core/common_runtime/bfc_allocator.cc:1028] InUse at 7f33f7873700 of size 4096 next 613\n",
      "2021-12-07 14:59:47.061059: I tensorflow/core/common_runtime/bfc_allocator.cc:1028] InUse at 7f33f7874700 of size 256 next 614\n",
      "2021-12-07 14:59:47.061065: I tensorflow/core/common_runtime/bfc_allocator.cc:1028] InUse at 7f33f7874800 of size 256 next 615\n",
      "2021-12-07 14:59:47.061070: I tensorflow/core/common_runtime/bfc_allocator.cc:1028] InUse at 7f33f7874900 of size 256 next 616\n",
      "2021-12-07 14:59:47.061076: I tensorflow/core/common_runtime/bfc_allocator.cc:1028] InUse at 7f33f7874a00 of size 256 next 617\n",
      "2021-12-07 14:59:47.061081: I tensorflow/core/common_runtime/bfc_allocator.cc:1028] InUse at 7f33f7874b00 of size 256 next 618\n",
      "2021-12-07 14:59:47.061087: I tensorflow/core/common_runtime/bfc_allocator.cc:1028] InUse at 7f33f7874c00 of size 256 next 619\n",
      "2021-12-07 14:59:47.061091: I tensorflow/core/common_runtime/bfc_allocator.cc:1028] InUse at 7f33f7874d00 of size 256 next 620\n",
      "2021-12-07 14:59:47.061094: I tensorflow/core/common_runtime/bfc_allocator.cc:1028] InUse at 7f33f7874e00 of size 1024 next 621\n",
      "2021-12-07 14:59:47.061097: I tensorflow/core/common_runtime/bfc_allocator.cc:1028] InUse at 7f33f7875200 of size 1024 next 622\n",
      "2021-12-07 14:59:47.061100: I tensorflow/core/common_runtime/bfc_allocator.cc:1028] InUse at 7f33f7875600 of size 1024 next 623\n",
      "2021-12-07 14:59:47.061103: I tensorflow/core/common_runtime/bfc_allocator.cc:1028] InUse at 7f33f7875a00 of size 1024 next 624\n",
      "2021-12-07 14:59:47.061108: I tensorflow/core/common_runtime/bfc_allocator.cc:1028] InUse at 7f33f7875e00 of size 256 next 625\n",
      "2021-12-07 14:59:47.061113: I tensorflow/core/common_runtime/bfc_allocator.cc:1028] InUse at 7f33f7875f00 of size 256 next 626\n",
      "2021-12-07 14:59:47.061118: I tensorflow/core/common_runtime/bfc_allocator.cc:1028] InUse at 7f33f7876000 of size 256 next 627\n",
      "2021-12-07 14:59:47.061124: I tensorflow/core/common_runtime/bfc_allocator.cc:1028] InUse at 7f33f7876100 of size 256 next 628\n",
      "2021-12-07 14:59:47.061130: I tensorflow/core/common_runtime/bfc_allocator.cc:1028] InUse at 7f33f7876200 of size 256 next 629\n",
      "2021-12-07 14:59:47.061135: I tensorflow/core/common_runtime/bfc_allocator.cc:1028] InUse at 7f33f7876300 of size 256 next 630\n",
      "2021-12-07 14:59:47.061140: I tensorflow/core/common_runtime/bfc_allocator.cc:1028] InUse at 7f33f7876400 of size 1024 next 631\n",
      "2021-12-07 14:59:47.061146: I tensorflow/core/common_runtime/bfc_allocator.cc:1028] InUse at 7f33f7876800 of size 256 next 632\n",
      "2021-12-07 14:59:47.061151: I tensorflow/core/common_runtime/bfc_allocator.cc:1028] InUse at 7f33f7876900 of size 256 next 633\n",
      "2021-12-07 14:59:47.061157: I tensorflow/core/common_runtime/bfc_allocator.cc:1028] InUse at 7f33f7876a00 of size 256 next 634\n",
      "2021-12-07 14:59:47.061160: I tensorflow/core/common_runtime/bfc_allocator.cc:1028] InUse at 7f33f7876b00 of size 256 next 635\n",
      "2021-12-07 14:59:47.061163: I tensorflow/core/common_runtime/bfc_allocator.cc:1028] InUse at 7f33f7876c00 of size 256 next 636\n",
      "2021-12-07 14:59:47.061166: I tensorflow/core/common_runtime/bfc_allocator.cc:1028] InUse at 7f33f7876d00 of size 256 next 637\n",
      "2021-12-07 14:59:47.061171: I tensorflow/core/common_runtime/bfc_allocator.cc:1028] InUse at 7f33f7876e00 of size 256 next 638\n",
      "2021-12-07 14:59:47.061176: I tensorflow/core/common_runtime/bfc_allocator.cc:1028] InUse at 7f33f7876f00 of size 256 next 639\n",
      "2021-12-07 14:59:47.061181: I tensorflow/core/common_runtime/bfc_allocator.cc:1028] InUse at 7f33f7877000 of size 256 next 640\n",
      "2021-12-07 14:59:47.061188: I tensorflow/core/common_runtime/bfc_allocator.cc:1028] InUse at 7f33f7877100 of size 256 next 641\n",
      "2021-12-07 14:59:47.061193: I tensorflow/core/common_runtime/bfc_allocator.cc:1028] InUse at 7f33f7877200 of size 256 next 642\n",
      "2021-12-07 14:59:47.061198: I tensorflow/core/common_runtime/bfc_allocator.cc:1028] InUse at 7f33f7877300 of size 256 next 643\n",
      "2021-12-07 14:59:47.061204: I tensorflow/core/common_runtime/bfc_allocator.cc:1028] InUse at 7f33f7877400 of size 256 next 644\n",
      "2021-12-07 14:59:47.061210: I tensorflow/core/common_runtime/bfc_allocator.cc:1028] InUse at 7f33f7877500 of size 256 next 645\n",
      "2021-12-07 14:59:47.061215: I tensorflow/core/common_runtime/bfc_allocator.cc:1028] InUse at 7f33f7877600 of size 256 next 646\n",
      "2021-12-07 14:59:47.061219: I tensorflow/core/common_runtime/bfc_allocator.cc:1028] InUse at 7f33f7877700 of size 256 next 647\n",
      "2021-12-07 14:59:47.061222: I tensorflow/core/common_runtime/bfc_allocator.cc:1028] InUse at 7f33f7877800 of size 256 next 648\n",
      "2021-12-07 14:59:47.061225: I tensorflow/core/common_runtime/bfc_allocator.cc:1028] InUse at 7f33f7877900 of size 256 next 649\n",
      "2021-12-07 14:59:47.061229: I tensorflow/core/common_runtime/bfc_allocator.cc:1028] InUse at 7f33f7877a00 of size 256 next 650\n",
      "2021-12-07 14:59:47.061234: I tensorflow/core/common_runtime/bfc_allocator.cc:1028] InUse at 7f33f7877b00 of size 256 next 651\n",
      "2021-12-07 14:59:47.061239: I tensorflow/core/common_runtime/bfc_allocator.cc:1028] InUse at 7f33f7877c00 of size 256 next 652\n",
      "2021-12-07 14:59:47.061245: I tensorflow/core/common_runtime/bfc_allocator.cc:1028] Free  at 7f33f7877d00 of size 256 next 653\n",
      "2021-12-07 14:59:47.061251: I tensorflow/core/common_runtime/bfc_allocator.cc:1028] InUse at 7f33f7877e00 of size 256 next 654\n",
      "2021-12-07 14:59:47.061256: I tensorflow/core/common_runtime/bfc_allocator.cc:1028] InUse at 7f33f7877f00 of size 256 next 655\n",
      "2021-12-07 14:59:47.061262: I tensorflow/core/common_runtime/bfc_allocator.cc:1028] Free  at 7f33f7878000 of size 6656 next 662\n",
      "2021-12-07 14:59:47.061268: I tensorflow/core/common_runtime/bfc_allocator.cc:1028] InUse at 7f33f7879a00 of size 256 next 668\n",
      "2021-12-07 14:59:47.061273: I tensorflow/core/common_runtime/bfc_allocator.cc:1028] InUse at 7f33f7879b00 of size 256 next 669\n",
      "2021-12-07 14:59:47.061279: I tensorflow/core/common_runtime/bfc_allocator.cc:1028] InUse at 7f33f7879c00 of size 256 next 670\n",
      "2021-12-07 14:59:47.061284: I tensorflow/core/common_runtime/bfc_allocator.cc:1028] InUse at 7f33f7879d00 of size 256 next 672\n",
      "2021-12-07 14:59:47.061287: I tensorflow/core/common_runtime/bfc_allocator.cc:1028] InUse at 7f33f7879e00 of size 256 next 673\n",
      "2021-12-07 14:59:47.061290: I tensorflow/core/common_runtime/bfc_allocator.cc:1028] InUse at 7f33f7879f00 of size 512 next 677\n",
      "2021-12-07 14:59:47.061293: I tensorflow/core/common_runtime/bfc_allocator.cc:1028] InUse at 7f33f787a100 of size 512 next 678\n",
      "2021-12-07 14:59:47.061296: I tensorflow/core/common_runtime/bfc_allocator.cc:1028] InUse at 7f33f787a300 of size 512 next 679\n",
      "2021-12-07 14:59:47.061299: I tensorflow/core/common_runtime/bfc_allocator.cc:1028] InUse at 7f33f787a500 of size 768 next 664\n",
      "2021-12-07 14:59:47.061304: I tensorflow/core/common_runtime/bfc_allocator.cc:1028] Free  at 7f33f787a800 of size 6656 next 666\n",
      "2021-12-07 14:59:47.061309: I tensorflow/core/common_runtime/bfc_allocator.cc:1028] InUse at 7f33f787c200 of size 512 next 681\n",
      "2021-12-07 14:59:47.061314: I tensorflow/core/common_runtime/bfc_allocator.cc:1028] InUse at 7f33f787c400 of size 512 next 682\n",
      "2021-12-07 14:59:47.061320: I tensorflow/core/common_runtime/bfc_allocator.cc:1028] InUse at 7f33f787c600 of size 512 next 683\n",
      "2021-12-07 14:59:47.061326: I tensorflow/core/common_runtime/bfc_allocator.cc:1028] InUse at 7f33f787c800 of size 1024 next 691\n",
      "2021-12-07 14:59:47.061331: I tensorflow/core/common_runtime/bfc_allocator.cc:1028] InUse at 7f33f787cc00 of size 1024 next 692\n",
      "2021-12-07 14:59:47.061338: I tensorflow/core/common_runtime/bfc_allocator.cc:1028] InUse at 7f33f787d000 of size 1024 next 693\n",
      "2021-12-07 14:59:47.061343: I tensorflow/core/common_runtime/bfc_allocator.cc:1028] InUse at 7f33f787d400 of size 1024 next 696\n",
      "2021-12-07 14:59:47.061349: I tensorflow/core/common_runtime/bfc_allocator.cc:1028] InUse at 7f33f787d800 of size 1024 next 697\n",
      "2021-12-07 14:59:47.061352: I tensorflow/core/common_runtime/bfc_allocator.cc:1028] InUse at 7f33f787dc00 of size 1024 next 701\n",
      "2021-12-07 14:59:47.061355: I tensorflow/core/common_runtime/bfc_allocator.cc:1028] InUse at 7f33f787e000 of size 1024 next 702\n",
      "2021-12-07 14:59:47.061359: I tensorflow/core/common_runtime/bfc_allocator.cc:1028] InUse at 7f33f787e400 of size 19242240 next 657\n",
      "2021-12-07 14:59:47.061362: I tensorflow/core/common_runtime/bfc_allocator.cc:1028] Free  at 7f33f8ad8100 of size 256 next 658\n",
      "2021-12-07 14:59:47.061368: I tensorflow/core/common_runtime/bfc_allocator.cc:1028] InUse at 7f33f8ad8200 of size 19267584 next 659\n",
      "2021-12-07 14:59:47.061373: I tensorflow/core/common_runtime/bfc_allocator.cc:1028] InUse at 7f33f9d38200 of size 256 next 660\n",
      "2021-12-07 14:59:47.061379: I tensorflow/core/common_runtime/bfc_allocator.cc:1028] Free  at 7f33f9d38300 of size 256 next 661\n",
      "2021-12-07 14:59:47.061386: I tensorflow/core/common_runtime/bfc_allocator.cc:1028] InUse at 7f33f9d38400 of size 50466816 next 663\n",
      "2021-12-07 14:59:47.061392: I tensorflow/core/common_runtime/bfc_allocator.cc:1028] InUse at 7f33fcd59400 of size 50466816 next 667\n",
      "2021-12-07 14:59:47.061398: I tensorflow/core/common_runtime/bfc_allocator.cc:1028] InUse at 7f33ffd7a400 of size 99078400 next 230\n",
      "2021-12-07 14:59:47.061405: I tensorflow/core/common_runtime/bfc_allocator.cc:1028] InUse at 7f3405bf7500 of size 401408000 next 221\n",
      "2021-12-07 14:59:47.061410: I tensorflow/core/common_runtime/bfc_allocator.cc:1028] InUse at 7f341dac7500 of size 401408000 next 609\n",
      "2021-12-07 14:59:47.061415: I tensorflow/core/common_runtime/bfc_allocator.cc:1028] InUse at 7f3435997500 of size 97329152 next 10\n",
      "2021-12-07 14:59:47.061418: I tensorflow/core/common_runtime/bfc_allocator.cc:1028] InUse at 7f343b669500 of size 97329152 next 18\n",
      "2021-12-07 14:59:47.061421: I tensorflow/core/common_runtime/bfc_allocator.cc:1028] InUse at 7f344133b500 of size 49561600 next 674\n",
      "2021-12-07 14:59:47.061425: I tensorflow/core/common_runtime/bfc_allocator.cc:1028] InUse at 7f344427f500 of size 194658304 next 675\n",
      "2021-12-07 14:59:47.061429: I tensorflow/core/common_runtime/bfc_allocator.cc:1028] InUse at 7f344fc23500 of size 49561600 next 676\n",
      "2021-12-07 14:59:47.061434: I tensorflow/core/common_runtime/bfc_allocator.cc:1028] InUse at 7f3452b67500 of size 194658304 next 680\n",
      "2021-12-07 14:59:47.061439: I tensorflow/core/common_runtime/bfc_allocator.cc:1028] InUse at 7f345e50b500 of size 194658304 next 25\n",
      "2021-12-07 14:59:47.061445: I tensorflow/core/common_runtime/bfc_allocator.cc:1028] InUse at 7f3469eaf500 of size 194658304 next 684\n",
      "2021-12-07 14:59:47.061451: I tensorflow/core/common_runtime/bfc_allocator.cc:1028] InUse at 7f3475853500 of size 194658304 next 685\n",
      "2021-12-07 14:59:47.061456: I tensorflow/core/common_runtime/bfc_allocator.cc:1028] InUse at 7f34811f7500 of size 49561600 next 687\n",
      "2021-12-07 14:59:47.061462: I tensorflow/core/common_runtime/bfc_allocator.cc:1028] InUse at 7f348413b500 of size 49561600 next 45\n",
      "2021-12-07 14:59:47.061468: I tensorflow/core/common_runtime/bfc_allocator.cc:1028] InUse at 7f348707f500 of size 25690112 next 688\n",
      "2021-12-07 14:59:47.061474: I tensorflow/core/common_runtime/bfc_allocator.cc:1028] InUse at 7f34888ff500 of size 49561600 next 689\n",
      "2021-12-07 14:59:47.061479: I tensorflow/core/common_runtime/bfc_allocator.cc:1028] InUse at 7f348b843500 of size 25690112 next 690\n",
      "2021-12-07 14:59:47.061482: I tensorflow/core/common_runtime/bfc_allocator.cc:1028] InUse at 7f348d0c3500 of size 99123200 next 694\n",
      "2021-12-07 14:59:47.061486: I tensorflow/core/common_runtime/bfc_allocator.cc:1028] InUse at 7f3492f4b500 of size 99123200 next 52\n",
      "2021-12-07 14:59:47.061489: I tensorflow/core/common_runtime/bfc_allocator.cc:1028] InUse at 7f3498dd3500 of size 99123200 next 59\n",
      "2021-12-07 14:59:47.061492: I tensorflow/core/common_runtime/bfc_allocator.cc:1028] InUse at 7f349ec5b500 of size 99123200 next 698\n",
      "2021-12-07 14:59:47.061497: I tensorflow/core/common_runtime/bfc_allocator.cc:1028] InUse at 7f34a4ae3500 of size 99123200 next 699\n",
      "2021-12-07 14:59:47.061502: I tensorflow/core/common_runtime/bfc_allocator.cc:1028] InUse at 7f34aa96b500 of size 25690112 next 703\n",
      "2021-12-07 14:59:47.061507: I tensorflow/core/common_runtime/bfc_allocator.cc:1028] InUse at 7f34ac1eb500 of size 25690112 next 70\n",
      "2021-12-07 14:59:47.061512: I tensorflow/core/common_runtime/bfc_allocator.cc:1028] InUse at 7f34ada6b500 of size 25690112 next 704\n",
      "2021-12-07 14:59:47.061519: I tensorflow/core/common_runtime/bfc_allocator.cc:1028] InUse at 7f34af2eb500 of size 18264064 next 705\n",
      "2021-12-07 14:59:47.061525: I tensorflow/core/common_runtime/bfc_allocator.cc:1028] InUse at 7f34b0456500 of size 3072 next 706\n",
      "2021-12-07 14:59:47.061530: I tensorflow/core/common_runtime/bfc_allocator.cc:1028] InUse at 7f34b0457100 of size 3072 next 707\n",
      "2021-12-07 14:59:47.061536: I tensorflow/core/common_runtime/bfc_allocator.cc:1028] InUse at 7f34b0457d00 of size 3072 next 708\n",
      "2021-12-07 14:59:47.061541: I tensorflow/core/common_runtime/bfc_allocator.cc:1028] InUse at 7f34b0458900 of size 3072 next 709\n",
      "2021-12-07 14:59:47.061546: I tensorflow/core/common_runtime/bfc_allocator.cc:1028] InUse at 7f34b0459500 of size 73056256 next 710\n",
      "2021-12-07 14:59:47.061550: I tensorflow/core/common_runtime/bfc_allocator.cc:1028] InUse at 7f34b4a05500 of size 73056256 next 711\n",
      "2021-12-07 14:59:47.061553: I tensorflow/core/common_runtime/bfc_allocator.cc:1028] InUse at 7f34b8fb1500 of size 3072 next 712\n",
      "2021-12-07 14:59:47.061557: I tensorflow/core/common_runtime/bfc_allocator.cc:1028] InUse at 7f34b8fb2100 of size 3072 next 713\n",
      "2021-12-07 14:59:47.061560: I tensorflow/core/common_runtime/bfc_allocator.cc:1028] InUse at 7f34b8fb2d00 of size 73056256 next 79\n",
      "2021-12-07 14:59:47.061563: I tensorflow/core/common_runtime/bfc_allocator.cc:1028] InUse at 7f34bd55ed00 of size 73056256 next 714\n",
      "2021-12-07 14:59:47.061569: I tensorflow/core/common_runtime/bfc_allocator.cc:1028] InUse at 7f34c1b0ad00 of size 73056256 next 715\n",
      "2021-12-07 14:59:47.061574: I tensorflow/core/common_runtime/bfc_allocator.cc:1028] InUse at 7f34c60b6d00 of size 3072 next 717\n",
      "2021-12-07 14:59:47.061579: I tensorflow/core/common_runtime/bfc_allocator.cc:1028] InUse at 7f34c60b7900 of size 3072 next 718\n",
      "2021-12-07 14:59:47.061585: I tensorflow/core/common_runtime/bfc_allocator.cc:1028] InUse at 7f34c60b8500 of size 18264064 next 719\n",
      "2021-12-07 14:59:47.061591: I tensorflow/core/common_runtime/bfc_allocator.cc:1028] InUse at 7f34c7223500 of size 18264064 next 93\n",
      "2021-12-07 14:59:47.061596: I tensorflow/core/common_runtime/bfc_allocator.cc:1028] InUse at 7f34c838e500 of size 18264064 next 720\n",
      "2021-12-07 14:59:47.061601: I tensorflow/core/common_runtime/bfc_allocator.cc:1028] InUse at 7f34c94f9500 of size 18264064 next 721\n",
      "2021-12-07 14:59:47.061607: I tensorflow/core/common_runtime/bfc_allocator.cc:1028] InUse at 7f34ca664500 of size 18264064 next 722\n",
      "2021-12-07 14:59:47.061612: I tensorflow/core/common_runtime/bfc_allocator.cc:1028] InUse at 7f34cb7cf500 of size 3072 next 724\n",
      "2021-12-07 14:59:47.061617: I tensorflow/core/common_runtime/bfc_allocator.cc:1028] InUse at 7f34cb7d0100 of size 3072 next 725\n",
      "2021-12-07 14:59:47.061620: I tensorflow/core/common_runtime/bfc_allocator.cc:1028] InUse at 7f34cb7d0d00 of size 18264064 next 98\n",
      "2021-12-07 14:59:47.061623: I tensorflow/core/common_runtime/bfc_allocator.cc:1028] InUse at 7f34cc93bd00 of size 18264064 next 726\n",
      "2021-12-07 14:59:47.061626: I tensorflow/core/common_runtime/bfc_allocator.cc:1028] InUse at 7f34cdaa6d00 of size 18264064 next 727\n",
      "2021-12-07 14:59:47.061630: I tensorflow/core/common_runtime/bfc_allocator.cc:1028] InUse at 7f34cec11d00 of size 3072 next 729\n",
      "2021-12-07 14:59:47.061636: I tensorflow/core/common_runtime/bfc_allocator.cc:1028] InUse at 7f34cec12900 of size 3072 next 730\n",
      "2021-12-07 14:59:47.061641: I tensorflow/core/common_runtime/bfc_allocator.cc:1028] InUse at 7f34cec13500 of size 18264064 next 104\n",
      "2021-12-07 14:59:47.061647: I tensorflow/core/common_runtime/bfc_allocator.cc:1028] InUse at 7f34cfd7e500 of size 18264064 next 731\n",
      "2021-12-07 14:59:47.061652: I tensorflow/core/common_runtime/bfc_allocator.cc:1028] InUse at 7f34d0ee9500 of size 18264064 next 732\n",
      "2021-12-07 14:59:47.061658: I tensorflow/core/common_runtime/bfc_allocator.cc:1028] InUse at 7f34d2054500 of size 3072 next 734\n",
      "2021-12-07 14:59:47.061664: I tensorflow/core/common_runtime/bfc_allocator.cc:1028] InUse at 7f34d2055100 of size 3072 next 735\n",
      "2021-12-07 14:59:47.061669: I tensorflow/core/common_runtime/bfc_allocator.cc:1028] InUse at 7f34d2055d00 of size 18264064 next 110\n",
      "2021-12-07 14:59:47.061675: I tensorflow/core/common_runtime/bfc_allocator.cc:1028] InUse at 7f34d31c0d00 of size 18264064 next 736\n",
      "2021-12-07 14:59:47.061679: I tensorflow/core/common_runtime/bfc_allocator.cc:1028] InUse at 7f34d432bd00 of size 18264064 next 737\n",
      "2021-12-07 14:59:47.061689: I tensorflow/core/common_runtime/bfc_allocator.cc:1028] InUse at 7f34d5496d00 of size 3072 next 739\n",
      "2021-12-07 14:59:47.061695: I tensorflow/core/common_runtime/bfc_allocator.cc:1028] InUse at 7f34d5497900 of size 3072 next 740\n",
      "2021-12-07 14:59:47.061699: I tensorflow/core/common_runtime/bfc_allocator.cc:1028] InUse at 7f34d5498500 of size 18264064 next 80\n",
      "2021-12-07 14:59:47.061749: I tensorflow/core/common_runtime/bfc_allocator.cc:1028] InUse at 7f34d6603500 of size 18264064 next 741\n",
      "2021-12-07 14:59:47.061759: I tensorflow/core/common_runtime/bfc_allocator.cc:1028] InUse at 7f34d776e500 of size 18264064 next 742\n",
      "2021-12-07 14:59:47.061765: I tensorflow/core/common_runtime/bfc_allocator.cc:1028] InUse at 7f34d88d9500 of size 3072 next 744\n",
      "2021-12-07 14:59:47.061772: I tensorflow/core/common_runtime/bfc_allocator.cc:1028] InUse at 7f34d88da100 of size 3072 next 745\n",
      "2021-12-07 14:59:47.061778: I tensorflow/core/common_runtime/bfc_allocator.cc:1028] InUse at 7f34d88dad00 of size 18264064 next 120\n",
      "2021-12-07 14:59:47.061783: I tensorflow/core/common_runtime/bfc_allocator.cc:1028] InUse at 7f34d9a45d00 of size 18264064 next 746\n",
      "2021-12-07 14:59:47.061789: I tensorflow/core/common_runtime/bfc_allocator.cc:1028] InUse at 7f34dabb0d00 of size 18264064 next 747\n",
      "2021-12-07 14:59:47.061795: I tensorflow/core/common_runtime/bfc_allocator.cc:1028] InUse at 7f34dbd1bd00 of size 3072 next 749\n",
      "2021-12-07 14:59:47.061801: I tensorflow/core/common_runtime/bfc_allocator.cc:1028] InUse at 7f34dbd1c900 of size 3072 next 750\n",
      "2021-12-07 14:59:47.061806: I tensorflow/core/common_runtime/bfc_allocator.cc:1028] InUse at 7f34dbd1d500 of size 18264064 next 126\n",
      "2021-12-07 14:59:47.061810: I tensorflow/core/common_runtime/bfc_allocator.cc:1028] InUse at 7f34dce88500 of size 18264064 next 751\n",
      "2021-12-07 14:59:47.061813: I tensorflow/core/common_runtime/bfc_allocator.cc:1028] InUse at 7f34ddff3500 of size 18264064 next 752\n",
      "2021-12-07 14:59:47.061816: I tensorflow/core/common_runtime/bfc_allocator.cc:1028] InUse at 7f34df15e500 of size 3072 next 754\n",
      "2021-12-07 14:59:47.061819: I tensorflow/core/common_runtime/bfc_allocator.cc:1028] InUse at 7f34df15f100 of size 3072 next 755\n",
      "2021-12-07 14:59:47.061822: I tensorflow/core/common_runtime/bfc_allocator.cc:1028] InUse at 7f34df15fd00 of size 18264064 next 134\n",
      "2021-12-07 14:59:47.061828: I tensorflow/core/common_runtime/bfc_allocator.cc:1028] InUse at 7f34e02cad00 of size 18264064 next 756\n",
      "2021-12-07 14:59:47.061833: I tensorflow/core/common_runtime/bfc_allocator.cc:1028] InUse at 7f34e1435d00 of size 18264064 next 757\n",
      "2021-12-07 14:59:47.061838: I tensorflow/core/common_runtime/bfc_allocator.cc:1028] InUse at 7f34e25a0d00 of size 3072 next 759\n",
      "2021-12-07 14:59:47.061844: I tensorflow/core/common_runtime/bfc_allocator.cc:1028] InUse at 7f34e25a1900 of size 3072 next 760\n",
      "2021-12-07 14:59:47.061849: I tensorflow/core/common_runtime/bfc_allocator.cc:1028] InUse at 7f34e25a2500 of size 18264064 next 138\n",
      "2021-12-07 14:59:47.061855: I tensorflow/core/common_runtime/bfc_allocator.cc:1028] InUse at 7f34e370d500 of size 18264064 next 761\n",
      "2021-12-07 14:59:47.061860: I tensorflow/core/common_runtime/bfc_allocator.cc:1028] InUse at 7f34e4878500 of size 18264064 next 762\n",
      "2021-12-07 14:59:47.061866: I tensorflow/core/common_runtime/bfc_allocator.cc:1028] InUse at 7f34e59e3500 of size 3072 next 764\n",
      "2021-12-07 14:59:47.061871: I tensorflow/core/common_runtime/bfc_allocator.cc:1028] InUse at 7f34e59e4100 of size 3072 next 765\n",
      "2021-12-07 14:59:47.061877: I tensorflow/core/common_runtime/bfc_allocator.cc:1028] InUse at 7f34e59e4d00 of size 18264064 next 146\n",
      "2021-12-07 14:59:47.061880: I tensorflow/core/common_runtime/bfc_allocator.cc:1028] InUse at 7f34e6b4fd00 of size 18264064 next 766\n",
      "2021-12-07 14:59:47.061883: I tensorflow/core/common_runtime/bfc_allocator.cc:1028] InUse at 7f34e7cbad00 of size 18264064 next 767\n",
      "2021-12-07 14:59:47.061886: I tensorflow/core/common_runtime/bfc_allocator.cc:1028] InUse at 7f34e8e25d00 of size 3072 next 769\n",
      "2021-12-07 14:59:47.061890: I tensorflow/core/common_runtime/bfc_allocator.cc:1028] InUse at 7f34e8e26900 of size 3072 next 770\n",
      "2021-12-07 14:59:47.061895: I tensorflow/core/common_runtime/bfc_allocator.cc:1028] InUse at 7f34e8e27500 of size 18264064 next 150\n",
      "2021-12-07 14:59:47.061900: I tensorflow/core/common_runtime/bfc_allocator.cc:1028] InUse at 7f34e9f92500 of size 18264064 next 771\n",
      "2021-12-07 14:59:47.061957: I tensorflow/core/common_runtime/bfc_allocator.cc:1028] InUse at 7f34eb0fd500 of size 18264064 next 772\n",
      "2021-12-07 14:59:47.061966: I tensorflow/core/common_runtime/bfc_allocator.cc:1028] InUse at 7f34ec268500 of size 3072 next 774\n",
      "2021-12-07 14:59:47.061972: I tensorflow/core/common_runtime/bfc_allocator.cc:1028] InUse at 7f34ec269100 of size 3072 next 775\n",
      "2021-12-07 14:59:47.061978: I tensorflow/core/common_runtime/bfc_allocator.cc:1028] InUse at 7f34ec269d00 of size 18264064 next 158\n",
      "2021-12-07 14:59:47.061983: I tensorflow/core/common_runtime/bfc_allocator.cc:1028] InUse at 7f34ed3d4d00 of size 18264064 next 776\n",
      "2021-12-07 14:59:47.061989: I tensorflow/core/common_runtime/bfc_allocator.cc:1028] InUse at 7f34ee53fd00 of size 18264064 next 777\n",
      "2021-12-07 14:59:47.061995: I tensorflow/core/common_runtime/bfc_allocator.cc:1028] InUse at 7f34ef6aad00 of size 3072 next 779\n",
      "2021-12-07 14:59:47.061999: I tensorflow/core/common_runtime/bfc_allocator.cc:1028] InUse at 7f34ef6ab900 of size 3072 next 780\n",
      "2021-12-07 14:59:47.062002: I tensorflow/core/common_runtime/bfc_allocator.cc:1028] InUse at 7f34ef6ac500 of size 18264064 next 162\n",
      "2021-12-07 14:59:47.062005: I tensorflow/core/common_runtime/bfc_allocator.cc:1028] InUse at 7f34f0817500 of size 18264064 next 781\n",
      "2021-12-07 14:59:47.062009: I tensorflow/core/common_runtime/bfc_allocator.cc:1028] InUse at 7f34f1982500 of size 18264064 next 782\n",
      "2021-12-07 14:59:47.062014: I tensorflow/core/common_runtime/bfc_allocator.cc:1028] InUse at 7f34f2aed500 of size 3072 next 784\n",
      "2021-12-07 14:59:47.062020: I tensorflow/core/common_runtime/bfc_allocator.cc:1028] InUse at 7f34f2aee100 of size 3072 next 785\n",
      "2021-12-07 14:59:47.062026: I tensorflow/core/common_runtime/bfc_allocator.cc:1028] InUse at 7f34f2aeed00 of size 18264064 next 170\n",
      "2021-12-07 14:59:47.062032: I tensorflow/core/common_runtime/bfc_allocator.cc:1028] InUse at 7f34f3c59d00 of size 18264064 next 786\n",
      "2021-12-07 14:59:47.062037: I tensorflow/core/common_runtime/bfc_allocator.cc:1028] InUse at 7f34f4dc4d00 of size 18264064 next 787\n",
      "2021-12-07 14:59:47.062043: I tensorflow/core/common_runtime/bfc_allocator.cc:1028] InUse at 7f34f5f2fd00 of size 3072 next 789\n",
      "2021-12-07 14:59:47.062049: I tensorflow/core/common_runtime/bfc_allocator.cc:1028] InUse at 7f34f5f30900 of size 3072 next 790\n",
      "2021-12-07 14:59:47.062054: I tensorflow/core/common_runtime/bfc_allocator.cc:1028] InUse at 7f34f5f31500 of size 18264064 next 174\n",
      "2021-12-07 14:59:47.062058: I tensorflow/core/common_runtime/bfc_allocator.cc:1028] InUse at 7f34f709c500 of size 18264064 next 791\n",
      "2021-12-07 14:59:47.062061: I tensorflow/core/common_runtime/bfc_allocator.cc:1028] InUse at 7f34f8207500 of size 18264064 next 792\n",
      "2021-12-07 14:59:47.062064: I tensorflow/core/common_runtime/bfc_allocator.cc:1028] InUse at 7f34f9372500 of size 3072 next 794\n",
      "2021-12-07 14:59:47.062067: I tensorflow/core/common_runtime/bfc_allocator.cc:1028] InUse at 7f34f9373100 of size 3072 next 795\n",
      "2021-12-07 14:59:47.062070: I tensorflow/core/common_runtime/bfc_allocator.cc:1028] InUse at 7f34f9373d00 of size 18264064 next 182\n",
      "2021-12-07 14:59:47.062076: I tensorflow/core/common_runtime/bfc_allocator.cc:1028] InUse at 7f34fa4ded00 of size 18264064 next 796\n",
      "2021-12-07 14:59:47.062081: I tensorflow/core/common_runtime/bfc_allocator.cc:1028] InUse at 7f34fb649d00 of size 18264064 next 797\n",
      "2021-12-07 14:59:47.062087: I tensorflow/core/common_runtime/bfc_allocator.cc:1028] InUse at 7f34fc7b4d00 of size 3072 next 799\n",
      "2021-12-07 14:59:47.062093: I tensorflow/core/common_runtime/bfc_allocator.cc:1028] InUse at 7f34fc7b5900 of size 3072 next 800\n",
      "2021-12-07 14:59:47.062098: I tensorflow/core/common_runtime/bfc_allocator.cc:1028] InUse at 7f34fc7b6500 of size 18264064 next 186\n",
      "2021-12-07 14:59:47.062104: I tensorflow/core/common_runtime/bfc_allocator.cc:1028] InUse at 7f34fd921500 of size 18264064 next 801\n",
      "2021-12-07 14:59:47.062109: I tensorflow/core/common_runtime/bfc_allocator.cc:1028] InUse at 7f34fea8c500 of size 18264064 next 802\n",
      "2021-12-07 14:59:47.062215: I tensorflow/core/common_runtime/bfc_allocator.cc:1028] InUse at 7f34ffbf7500 of size 3072 next 804\n",
      "2021-12-07 14:59:47.062223: I tensorflow/core/common_runtime/bfc_allocator.cc:1028] InUse at 7f34ffbf8100 of size 3072 next 805\n",
      "2021-12-07 14:59:47.062228: I tensorflow/core/common_runtime/bfc_allocator.cc:1028] InUse at 7f34ffbf8d00 of size 18264064 next 193\n",
      "2021-12-07 14:59:47.062234: I tensorflow/core/common_runtime/bfc_allocator.cc:1028] InUse at 7f3500d63d00 of size 18264064 next 806\n",
      "2021-12-07 14:59:47.062240: I tensorflow/core/common_runtime/bfc_allocator.cc:1028] InUse at 7f3501eced00 of size 18264064 next 807\n",
      "2021-12-07 14:59:47.062246: I tensorflow/core/common_runtime/bfc_allocator.cc:1028] InUse at 7f3503039d00 of size 3072 next 809\n",
      "2021-12-07 14:59:47.062252: I tensorflow/core/common_runtime/bfc_allocator.cc:1028] InUse at 7f350303a900 of size 3072 next 810\n",
      "2021-12-07 14:59:47.062258: I tensorflow/core/common_runtime/bfc_allocator.cc:1028] InUse at 7f350303b500 of size 18264064 next 197\n",
      "2021-12-07 14:59:47.062264: I tensorflow/core/common_runtime/bfc_allocator.cc:1028] InUse at 7f35041a6500 of size 18264064 next 811\n",
      "2021-12-07 14:59:47.062269: I tensorflow/core/common_runtime/bfc_allocator.cc:1028] InUse at 7f3505311500 of size 18264064 next 812\n",
      "2021-12-07 14:59:47.062272: I tensorflow/core/common_runtime/bfc_allocator.cc:1028] InUse at 7f350647c500 of size 3072 next 814\n",
      "2021-12-07 14:59:47.062275: I tensorflow/core/common_runtime/bfc_allocator.cc:1028] InUse at 7f350647d100 of size 3072 next 815\n",
      "2021-12-07 14:59:47.062278: I tensorflow/core/common_runtime/bfc_allocator.cc:1028] InUse at 7f350647dd00 of size 18264064 next 204\n",
      "2021-12-07 14:59:47.062281: I tensorflow/core/common_runtime/bfc_allocator.cc:1028] InUse at 7f35075e8d00 of size 18264064 next 816\n",
      "2021-12-07 14:59:47.062286: I tensorflow/core/common_runtime/bfc_allocator.cc:1028] InUse at 7f3508753d00 of size 18264064 next 817\n",
      "2021-12-07 14:59:47.062291: I tensorflow/core/common_runtime/bfc_allocator.cc:1028] InUse at 7f35098bed00 of size 3072 next 819\n",
      "2021-12-07 14:59:47.062296: I tensorflow/core/common_runtime/bfc_allocator.cc:1028] InUse at 7f35098bf900 of size 3072 next 820\n",
      "2021-12-07 14:59:47.062302: I tensorflow/core/common_runtime/bfc_allocator.cc:1028] InUse at 7f35098c0500 of size 18264064 next 210\n",
      "2021-12-07 14:59:47.062308: I tensorflow/core/common_runtime/bfc_allocator.cc:1028] InUse at 7f350aa2b500 of size 18264064 next 821\n",
      "2021-12-07 14:59:47.062313: I tensorflow/core/common_runtime/bfc_allocator.cc:1028] InUse at 7f350bb96500 of size 18264064 next 822\n",
      "2021-12-07 14:59:47.062319: I tensorflow/core/common_runtime/bfc_allocator.cc:1028] InUse at 7f350cd01500 of size 3072 next 824\n",
      "2021-12-07 14:59:47.062325: I tensorflow/core/common_runtime/bfc_allocator.cc:1028] InUse at 7f350cd02100 of size 3072 next 825\n",
      "2021-12-07 14:59:47.062330: I tensorflow/core/common_runtime/bfc_allocator.cc:1028] InUse at 7f350cd02d00 of size 18264064 next 217\n",
      "2021-12-07 14:59:47.062334: I tensorflow/core/common_runtime/bfc_allocator.cc:1028] InUse at 7f350de6dd00 of size 18264064 next 826\n",
      "2021-12-07 14:59:47.062337: I tensorflow/core/common_runtime/bfc_allocator.cc:1028] InUse at 7f350efd8d00 of size 18264064 next 827\n",
      "2021-12-07 14:59:47.062340: I tensorflow/core/common_runtime/bfc_allocator.cc:1028] InUse at 7f3510143d00 of size 3072 next 829\n",
      "2021-12-07 14:59:47.062344: I tensorflow/core/common_runtime/bfc_allocator.cc:1028] InUse at 7f3510144900 of size 3072 next 830\n",
      "2021-12-07 14:59:47.062349: I tensorflow/core/common_runtime/bfc_allocator.cc:1028] InUse at 7f3510145500 of size 18264064 next 208\n",
      "2021-12-07 14:59:47.062354: I tensorflow/core/common_runtime/bfc_allocator.cc:1028] InUse at 7f35112b0500 of size 18264064 next 831\n",
      "2021-12-07 14:59:47.062360: I tensorflow/core/common_runtime/bfc_allocator.cc:1028] InUse at 7f351241b500 of size 18264064 next 832\n",
      "2021-12-07 14:59:47.062366: I tensorflow/core/common_runtime/bfc_allocator.cc:1028] InUse at 7f3513586500 of size 3072 next 834\n",
      "2021-12-07 14:59:47.062412: I tensorflow/core/common_runtime/bfc_allocator.cc:1028] InUse at 7f3513587100 of size 3072 next 835\n",
      "2021-12-07 14:59:47.062421: I tensorflow/core/common_runtime/bfc_allocator.cc:1028] InUse at 7f3513587d00 of size 18264064 next 227\n",
      "2021-12-07 14:59:47.062427: I tensorflow/core/common_runtime/bfc_allocator.cc:1028] InUse at 7f35146f2d00 of size 18264064 next 836\n",
      "2021-12-07 14:59:47.062433: I tensorflow/core/common_runtime/bfc_allocator.cc:1028] InUse at 7f351585dd00 of size 18264064 next 837\n",
      "2021-12-07 14:59:47.062439: I tensorflow/core/common_runtime/bfc_allocator.cc:1028] InUse at 7f35169c8d00 of size 3072 next 839\n",
      "2021-12-07 14:59:47.062445: I tensorflow/core/common_runtime/bfc_allocator.cc:1028] InUse at 7f35169c9900 of size 3072 next 840\n",
      "2021-12-07 14:59:47.062452: I tensorflow/core/common_runtime/bfc_allocator.cc:1028] InUse at 7f35169ca500 of size 6422528 next 233\n",
      "2021-12-07 14:59:47.062456: I tensorflow/core/common_runtime/bfc_allocator.cc:1028] InUse at 7f3516fea500 of size 18264064 next 841\n",
      "2021-12-07 14:59:47.062459: I tensorflow/core/common_runtime/bfc_allocator.cc:1028] InUse at 7f3518155500 of size 6422528 next 842\n",
      "2021-12-07 14:59:47.062463: I tensorflow/core/common_runtime/bfc_allocator.cc:1028] InUse at 7f3518775500 of size 4096 next 843\n",
      "2021-12-07 14:59:47.062466: I tensorflow/core/common_runtime/bfc_allocator.cc:1028] InUse at 7f3518776500 of size 4096 next 844\n",
      "2021-12-07 14:59:47.062472: I tensorflow/core/common_runtime/bfc_allocator.cc:1028] InUse at 7f3518777500 of size 4096 next 845\n",
      "2021-12-07 14:59:47.062477: I tensorflow/core/common_runtime/bfc_allocator.cc:1028] InUse at 7f3518778500 of size 18264064 next 846\n",
      "2021-12-07 14:59:47.062483: I tensorflow/core/common_runtime/bfc_allocator.cc:1028] InUse at 7f35198e3500 of size 18264064 next 242\n",
      "2021-12-07 14:59:47.062489: I tensorflow/core/common_runtime/bfc_allocator.cc:1028] InUse at 7f351aa4e500 of size 3072 next 848\n",
      "2021-12-07 14:59:47.062494: I tensorflow/core/common_runtime/bfc_allocator.cc:1028] InUse at 7f351aa4f100 of size 3072 next 849\n",
      "2021-12-07 14:59:47.062500: I tensorflow/core/common_runtime/bfc_allocator.cc:1028] InUse at 7f351aa4fd00 of size 18264064 next 248\n",
      "2021-12-07 14:59:47.062505: I tensorflow/core/common_runtime/bfc_allocator.cc:1028] InUse at 7f351bbbad00 of size 25690112 next 850\n",
      "2021-12-07 14:59:47.062511: I tensorflow/core/common_runtime/bfc_allocator.cc:1028] InUse at 7f351d43ad00 of size 25690112 next 851\n",
      "2021-12-07 14:59:47.062516: I tensorflow/core/common_runtime/bfc_allocator.cc:1028] InUse at 7f351ecbad00 of size 4096 next 852\n",
      "2021-12-07 14:59:47.062521: I tensorflow/core/common_runtime/bfc_allocator.cc:1028] InUse at 7f351ecbbd00 of size 4096 next 853\n",
      "2021-12-07 14:59:47.062524: I tensorflow/core/common_runtime/bfc_allocator.cc:1028] InUse at 7f351ecbcd00 of size 4096 next 854\n",
      "2021-12-07 14:59:47.062527: I tensorflow/core/common_runtime/bfc_allocator.cc:1028] InUse at 7f351ecbdd00 of size 6422528 next 855\n",
      "2021-12-07 14:59:47.062531: I tensorflow/core/common_runtime/bfc_allocator.cc:1028] InUse at 7f351f2ddd00 of size 6422528 next 256\n",
      "2021-12-07 14:59:47.062537: I tensorflow/core/common_runtime/bfc_allocator.cc:1028] InUse at 7f351f8fdd00 of size 9633792 next 856\n",
      "2021-12-07 14:59:47.062542: I tensorflow/core/common_runtime/bfc_allocator.cc:1028] InUse at 7f352022dd00 of size 9633792 next 857\n",
      "2021-12-07 14:59:47.062548: I tensorflow/core/common_runtime/bfc_allocator.cc:1028] InUse at 7f3520b5dd00 of size 6144 next 858\n",
      "2021-12-07 14:59:47.062554: I tensorflow/core/common_runtime/bfc_allocator.cc:1028] InUse at 7f3520b5f500 of size 6144 next 859\n",
      "2021-12-07 14:59:47.062559: I tensorflow/core/common_runtime/bfc_allocator.cc:1028] InUse at 7f3520b60d00 of size 6144 next 860\n",
      "2021-12-07 14:59:47.062564: I tensorflow/core/common_runtime/bfc_allocator.cc:1028] InUse at 7f3520b62500 of size 9633792 next 267\n",
      "2021-12-07 14:59:47.062570: I tensorflow/core/common_runtime/bfc_allocator.cc:1028] InUse at 7f3521492500 of size 12845056 next 861\n",
      "2021-12-07 14:59:47.062660: I tensorflow/core/common_runtime/bfc_allocator.cc:1028] InUse at 7f35220d2500 of size 12845056 next 862\n",
      "2021-12-07 14:59:47.062669: I tensorflow/core/common_runtime/bfc_allocator.cc:1028] InUse at 7f3522d12500 of size 8192 next 863\n",
      "2021-12-07 14:59:47.062675: I tensorflow/core/common_runtime/bfc_allocator.cc:1028] InUse at 7f3522d14500 of size 8192 next 864\n",
      "2021-12-07 14:59:47.062681: I tensorflow/core/common_runtime/bfc_allocator.cc:1028] InUse at 7f3522d16500 of size 8192 next 865\n",
      "2021-12-07 14:59:47.062687: I tensorflow/core/common_runtime/bfc_allocator.cc:1028] InUse at 7f3522d18500 of size 12845056 next 866\n",
      "2021-12-07 14:59:47.062693: I tensorflow/core/common_runtime/bfc_allocator.cc:1028] Free  at 7f3523958500 of size 384000 next 869\n",
      "2021-12-07 14:59:47.062699: I tensorflow/core/common_runtime/bfc_allocator.cc:1028] InUse at 7f35239b6100 of size 128000 next 885\n",
      "2021-12-07 14:59:47.062703: I tensorflow/core/common_runtime/bfc_allocator.cc:1028] Free  at 7f35239d5500 of size 62295040 next 18446744073709551615\n",
      "2021-12-07 14:59:47.062706: I tensorflow/core/common_runtime/bfc_allocator.cc:1033]      Summary of in-use Chunks by size: \n",
      "2021-12-07 14:59:47.062715: I tensorflow/core/common_runtime/bfc_allocator.cc:1036] 114 Chunks of size 256 totalling 28.5KiB\n",
      "2021-12-07 14:59:47.062722: I tensorflow/core/common_runtime/bfc_allocator.cc:1036] 28 Chunks of size 512 totalling 14.0KiB\n",
      "2021-12-07 14:59:47.062730: I tensorflow/core/common_runtime/bfc_allocator.cc:1036] 2 Chunks of size 768 totalling 1.5KiB\n",
      "2021-12-07 14:59:47.062737: I tensorflow/core/common_runtime/bfc_allocator.cc:1036] 34 Chunks of size 1024 totalling 34.0KiB\n",
      "2021-12-07 14:59:47.062743: I tensorflow/core/common_runtime/bfc_allocator.cc:1036] 1 Chunks of size 1280 totalling 1.2KiB\n",
      "2021-12-07 14:59:47.062750: I tensorflow/core/common_runtime/bfc_allocator.cc:1036] 1 Chunks of size 1792 totalling 1.8KiB\n",
      "2021-12-07 14:59:47.062756: I tensorflow/core/common_runtime/bfc_allocator.cc:1036] 2 Chunks of size 2304 totalling 4.5KiB\n",
      "2021-12-07 14:59:47.062763: I tensorflow/core/common_runtime/bfc_allocator.cc:1036] 267 Chunks of size 3072 totalling 801.0KiB\n",
      "2021-12-07 14:59:47.062768: I tensorflow/core/common_runtime/bfc_allocator.cc:1036] 2 Chunks of size 3328 totalling 6.5KiB\n",
      "2021-12-07 14:59:47.062771: I tensorflow/core/common_runtime/bfc_allocator.cc:1036] 2 Chunks of size 3584 totalling 7.0KiB\n",
      "2021-12-07 14:59:47.062775: I tensorflow/core/common_runtime/bfc_allocator.cc:1036] 30 Chunks of size 4096 totalling 120.0KiB\n",
      "2021-12-07 14:59:47.062780: I tensorflow/core/common_runtime/bfc_allocator.cc:1036] 2 Chunks of size 4352 totalling 8.5KiB\n",
      "2021-12-07 14:59:47.062786: I tensorflow/core/common_runtime/bfc_allocator.cc:1036] 6 Chunks of size 4608 totalling 27.0KiB\n",
      "2021-12-07 14:59:47.062794: I tensorflow/core/common_runtime/bfc_allocator.cc:1036] 7 Chunks of size 4864 totalling 33.2KiB\n",
      "2021-12-07 14:59:47.062801: I tensorflow/core/common_runtime/bfc_allocator.cc:1036] 1 Chunks of size 5120 totalling 5.0KiB\n",
      "2021-12-07 14:59:47.062807: I tensorflow/core/common_runtime/bfc_allocator.cc:1036] 1 Chunks of size 5376 totalling 5.2KiB\n",
      "2021-12-07 14:59:47.062814: I tensorflow/core/common_runtime/bfc_allocator.cc:1036] 1 Chunks of size 5632 totalling 5.5KiB\n",
      "2021-12-07 14:59:47.062820: I tensorflow/core/common_runtime/bfc_allocator.cc:1036] 1 Chunks of size 5888 totalling 5.8KiB\n",
      "2021-12-07 14:59:47.062827: I tensorflow/core/common_runtime/bfc_allocator.cc:1036] 11 Chunks of size 6144 totalling 66.0KiB\n",
      "2021-12-07 14:59:47.062830: I tensorflow/core/common_runtime/bfc_allocator.cc:1036] 1 Chunks of size 6400 totalling 6.2KiB\n",
      "2021-12-07 14:59:47.062834: I tensorflow/core/common_runtime/bfc_allocator.cc:1036] 1 Chunks of size 7168 totalling 7.0KiB\n",
      "2021-12-07 14:59:47.062839: I tensorflow/core/common_runtime/bfc_allocator.cc:1036] 9 Chunks of size 8192 totalling 72.0KiB\n",
      "2021-12-07 14:59:47.062845: I tensorflow/core/common_runtime/bfc_allocator.cc:1036] 5 Chunks of size 9216 totalling 45.0KiB\n",
      "2021-12-07 14:59:47.062929: I tensorflow/core/common_runtime/bfc_allocator.cc:1036] 1 Chunks of size 10240 totalling 10.0KiB\n",
      "2021-12-07 14:59:47.062935: I tensorflow/core/common_runtime/bfc_allocator.cc:1036] 1 Chunks of size 12032 totalling 11.8KiB\n",
      "2021-12-07 14:59:47.062941: I tensorflow/core/common_runtime/bfc_allocator.cc:1036] 1 Chunks of size 15104 totalling 14.8KiB\n",
      "2021-12-07 14:59:47.062948: I tensorflow/core/common_runtime/bfc_allocator.cc:1036] 77 Chunks of size 26368 totalling 1.94MiB\n",
      "2021-12-07 14:59:47.062956: I tensorflow/core/common_runtime/bfc_allocator.cc:1036] 4 Chunks of size 32768 totalling 128.0KiB\n",
      "2021-12-07 14:59:47.062963: I tensorflow/core/common_runtime/bfc_allocator.cc:1036] 1 Chunks of size 34304 totalling 33.5KiB\n",
      "2021-12-07 14:59:47.062970: I tensorflow/core/common_runtime/bfc_allocator.cc:1036] 1 Chunks of size 34560 totalling 33.8KiB\n",
      "2021-12-07 14:59:47.062978: I tensorflow/core/common_runtime/bfc_allocator.cc:1036] 3 Chunks of size 36864 totalling 108.0KiB\n",
      "2021-12-07 14:59:47.062985: I tensorflow/core/common_runtime/bfc_allocator.cc:1036] 1 Chunks of size 39936 totalling 39.0KiB\n",
      "2021-12-07 14:59:47.062990: I tensorflow/core/common_runtime/bfc_allocator.cc:1036] 1 Chunks of size 49920 totalling 48.8KiB\n",
      "2021-12-07 14:59:47.062994: I tensorflow/core/common_runtime/bfc_allocator.cc:1036] 1 Chunks of size 51968 totalling 50.8KiB\n",
      "2021-12-07 14:59:47.062998: I tensorflow/core/common_runtime/bfc_allocator.cc:1036] 4 Chunks of size 55296 totalling 216.0KiB\n",
      "2021-12-07 14:59:47.063004: I tensorflow/core/common_runtime/bfc_allocator.cc:1036] 2 Chunks of size 65536 totalling 128.0KiB\n",
      "2021-12-07 14:59:47.063011: I tensorflow/core/common_runtime/bfc_allocator.cc:1036] 3 Chunks of size 73728 totalling 216.0KiB\n",
      "2021-12-07 14:59:47.063018: I tensorflow/core/common_runtime/bfc_allocator.cc:1036] 1 Chunks of size 110592 totalling 108.0KiB\n",
      "2021-12-07 14:59:47.063025: I tensorflow/core/common_runtime/bfc_allocator.cc:1036] 1 Chunks of size 128000 totalling 125.0KiB\n",
      "2021-12-07 14:59:47.063031: I tensorflow/core/common_runtime/bfc_allocator.cc:1036] 5 Chunks of size 131072 totalling 640.0KiB\n",
      "2021-12-07 14:59:47.063038: I tensorflow/core/common_runtime/bfc_allocator.cc:1036] 1 Chunks of size 133376 totalling 130.2KiB\n",
      "2021-12-07 14:59:47.063045: I tensorflow/core/common_runtime/bfc_allocator.cc:1036] 3 Chunks of size 262144 totalling 768.0KiB\n",
      "2021-12-07 14:59:47.063050: I tensorflow/core/common_runtime/bfc_allocator.cc:1036] 5 Chunks of size 745472 totalling 3.55MiB\n",
      "2021-12-07 14:59:47.063053: I tensorflow/core/common_runtime/bfc_allocator.cc:1036] 1 Chunks of size 827648 totalling 808.2KiB\n",
      "2021-12-07 14:59:47.063059: I tensorflow/core/common_runtime/bfc_allocator.cc:1036] 76 Chunks of size 2119936 totalling 153.65MiB\n",
      "2021-12-07 14:59:47.063065: I tensorflow/core/common_runtime/bfc_allocator.cc:1036] 1 Chunks of size 2949376 totalling 2.81MiB\n",
      "2021-12-07 14:59:47.063071: I tensorflow/core/common_runtime/bfc_allocator.cc:1036] 6 Chunks of size 2981888 totalling 17.06MiB\n",
      "2021-12-07 14:59:47.063078: I tensorflow/core/common_runtime/bfc_allocator.cc:1036] 1 Chunks of size 3494400 totalling 3.33MiB\n",
      "2021-12-07 14:59:47.063084: I tensorflow/core/common_runtime/bfc_allocator.cc:1036] 3 Chunks of size 6291456 totalling 18.00MiB\n",
      "2021-12-07 14:59:47.063091: I tensorflow/core/common_runtime/bfc_allocator.cc:1036] 4 Chunks of size 6422528 totalling 24.50MiB\n",
      "2021-12-07 14:59:47.063098: I tensorflow/core/common_runtime/bfc_allocator.cc:1036] 3 Chunks of size 9633792 totalling 27.56MiB\n",
      "2021-12-07 14:59:47.063105: I tensorflow/core/common_runtime/bfc_allocator.cc:1036] 2 Chunks of size 12582912 totalling 24.00MiB\n",
      "2021-12-07 14:59:47.063111: I tensorflow/core/common_runtime/bfc_allocator.cc:1036] 3 Chunks of size 12845056 totalling 36.75MiB\n",
      "2021-12-07 14:59:47.063117: I tensorflow/core/common_runtime/bfc_allocator.cc:1036] 79 Chunks of size 18264064 totalling 1.34GiB\n",
      "2021-12-07 14:59:47.063121: I tensorflow/core/common_runtime/bfc_allocator.cc:1036] 1 Chunks of size 19242240 totalling 18.35MiB\n",
      "2021-12-07 14:59:47.063175: I tensorflow/core/common_runtime/bfc_allocator.cc:1036] 1 Chunks of size 19267584 totalling 18.38MiB\n",
      "2021-12-07 14:59:47.063190: I tensorflow/core/common_runtime/bfc_allocator.cc:1036] 1 Chunks of size 21856256 totalling 20.84MiB\n",
      "2021-12-07 14:59:47.063198: I tensorflow/core/common_runtime/bfc_allocator.cc:1036] 7 Chunks of size 25690112 totalling 171.50MiB\n",
      "2021-12-07 14:59:47.063205: I tensorflow/core/common_runtime/bfc_allocator.cc:1036] 5 Chunks of size 49561600 totalling 236.33MiB\n",
      "2021-12-07 14:59:47.063211: I tensorflow/core/common_runtime/bfc_allocator.cc:1036] 2 Chunks of size 50466816 totalling 96.26MiB\n",
      "2021-12-07 14:59:47.063217: I tensorflow/core/common_runtime/bfc_allocator.cc:1036] 5 Chunks of size 73056256 totalling 348.36MiB\n",
      "2021-12-07 14:59:47.063223: I tensorflow/core/common_runtime/bfc_allocator.cc:1036] 2 Chunks of size 97329152 totalling 185.64MiB\n",
      "2021-12-07 14:59:47.063229: I tensorflow/core/common_runtime/bfc_allocator.cc:1036] 1 Chunks of size 99078400 totalling 94.49MiB\n",
      "2021-12-07 14:59:47.063235: I tensorflow/core/common_runtime/bfc_allocator.cc:1036] 5 Chunks of size 99123200 totalling 472.66MiB\n",
      "2021-12-07 14:59:47.063242: I tensorflow/core/common_runtime/bfc_allocator.cc:1036] 5 Chunks of size 194658304 totalling 928.20MiB\n",
      "2021-12-07 14:59:47.063248: I tensorflow/core/common_runtime/bfc_allocator.cc:1036] 3 Chunks of size 401408000 totalling 1.12GiB\n",
      "2021-12-07 14:59:47.063254: I tensorflow/core/common_runtime/bfc_allocator.cc:1040] Sum Total of in-use chunks: 5.31GiB\n",
      "2021-12-07 14:59:47.063259: I tensorflow/core/common_runtime/bfc_allocator.cc:1042] total_region_allocated_bytes_: 5760082176 memory_limit_: 5760082240 available bytes: 64 curr_region_allocation_bytes_: 11520164864\n",
      "2021-12-07 14:59:47.063268: I tensorflow/core/common_runtime/bfc_allocator.cc:1048] Stats: \n",
      "Limit:                      5760082240\n",
      "InUse:                      5697366272\n",
      "MaxInUse:                   5760080128\n",
      "NumAllocs:                        1654\n",
      "MaxAllocSize:               2771676160\n",
      "Reserved:                            0\n",
      "PeakReserved:                        0\n",
      "LargestFreeBlock:                    0\n",
      "\n",
      "2021-12-07 14:59:47.063320: W tensorflow/core/common_runtime/bfc_allocator.cc:441] ***************************************************************************************************_\n",
      "2021-12-07 14:59:47.063349: W tensorflow/core/framework/op_kernel.cc:1763] OP_REQUIRES failed at matmul_op.cc:467 : Resource exhausted: OOM when allocating tensor with shape[100352,1000] and type float on /job:localhost/replica:0/task:0/device:GPU:0 by allocator GPU_0_bfc\n",
      "2021-12-07 14:59:47.297385: W tensorflow/core/common_runtime/bfc_allocator.cc:248] Allocator (GPU_0_bfc) ran out of memory trying to allocate 528.12MiB with freed_by_count=0. The caller indicates that this is not a failure, but may mean that there could be performance gains if more memory were available.\n",
      "2021-12-07 14:59:47.400186: W tensorflow/core/common_runtime/bfc_allocator.cc:248] Allocator (GPU_0_bfc) ran out of memory trying to allocate 3.40GiB with freed_by_count=0. The caller indicates that this is not a failure, but may mean that there could be performance gains if more memory were available.\n",
      "2021-12-07 14:59:47.559102: W tensorflow/core/common_runtime/bfc_allocator.cc:248] Allocator (GPU_0_bfc) ran out of memory trying to allocate 3.50GiB with freed_by_count=0. The caller indicates that this is not a failure, but may mean that there could be performance gains if more memory were available.\n",
      "2021-12-07 14:59:47.559135: W tensorflow/core/common_runtime/bfc_allocator.cc:248] Allocator (GPU_0_bfc) ran out of memory trying to allocate 294.38MiB with freed_by_count=0. The caller indicates that this is not a failure, but may mean that there could be performance gains if more memory were available.\n"
     ]
    },
    {
     "ename": "ResourceExhaustedError",
     "evalue": " OOM when allocating tensor with shape[100352,1000] and type float on /job:localhost/replica:0/task:0/device:GPU:0 by allocator GPU_0_bfc\n\t [[node gradient_tape/model/dense/MatMul_1 (defined at tmp/ipykernel_18857/663974549.py:2) ]]\nHint: If you want to see a list of allocated tensors when OOM happens, add report_tensor_allocations_upon_oom to RunOptions for current allocation info.\n [Op:__inference_train_function_10825]\n\nFunction call stack:\ntrain_function\n",
     "output_type": "error",
     "traceback": [
      "\u001B[0;31m---------------------------------------------------------------------------\u001B[0m",
      "\u001B[0;31mResourceExhaustedError\u001B[0m                    Traceback (most recent call last)",
      "\u001B[0;32m/tmp/ipykernel_18857/1414491391.py\u001B[0m in \u001B[0;36m<module>\u001B[0;34m\u001B[0m\n\u001B[1;32m      3\u001B[0m \u001B[0mmodel\u001B[0m \u001B[0;34m=\u001B[0m \u001B[0mcompile_model\u001B[0m\u001B[0;34m(\u001B[0m\u001B[0mmodel\u001B[0m\u001B[0;34m,\u001B[0m \u001B[0;36m0.0001\u001B[0m\u001B[0;34m,\u001B[0m \u001B[0;36m0.9\u001B[0m\u001B[0;34m,\u001B[0m \u001B[0;36m0.999\u001B[0m\u001B[0;34m,\u001B[0m \u001B[0;34m[\u001B[0m\u001B[0;34m'accuracy'\u001B[0m\u001B[0;34m,\u001B[0m \u001B[0;34m'Recall'\u001B[0m\u001B[0;34m,\u001B[0m \u001B[0;34m'Precision'\u001B[0m\u001B[0;34m,\u001B[0m \u001B[0;34m'AUC'\u001B[0m\u001B[0;34m]\u001B[0m\u001B[0;34m)\u001B[0m\u001B[0;34m\u001B[0m\u001B[0;34m\u001B[0m\u001B[0m\n\u001B[1;32m      4\u001B[0m \u001B[0mset_layers_trainable\u001B[0m\u001B[0;34m(\u001B[0m\u001B[0;32mFalse\u001B[0m\u001B[0;34m,\u001B[0m \u001B[0mvgg16\u001B[0m\u001B[0;34m)\u001B[0m\u001B[0;34m\u001B[0m\u001B[0;34m\u001B[0m\u001B[0m\n\u001B[0;32m----> 5\u001B[0;31m \u001B[0mhistory\u001B[0m \u001B[0;34m=\u001B[0m \u001B[0mtrain_model\u001B[0m\u001B[0;34m(\u001B[0m\u001B[0mmodel\u001B[0m\u001B[0;34m,\u001B[0m \u001B[0mtrain_image_gen\u001B[0m\u001B[0;34m,\u001B[0m \u001B[0mvalid_image_gen\u001B[0m\u001B[0;34m,\u001B[0m \u001B[0;36m5\u001B[0m\u001B[0;34m,\u001B[0m \u001B[0;34m[\u001B[0m\u001B[0;34m]\u001B[0m\u001B[0;34m)\u001B[0m\u001B[0;34m\u001B[0m\u001B[0;34m\u001B[0m\u001B[0m\n\u001B[0m",
      "\u001B[0;32m/tmp/ipykernel_18857/663974549.py\u001B[0m in \u001B[0;36mtrain_model\u001B[0;34m(model, train_set, validation_set, epochs, callback)\u001B[0m\n\u001B[1;32m      1\u001B[0m \u001B[0;32mdef\u001B[0m \u001B[0mtrain_model\u001B[0m\u001B[0;34m(\u001B[0m\u001B[0mmodel\u001B[0m\u001B[0;34m,\u001B[0m \u001B[0mtrain_set\u001B[0m\u001B[0;34m,\u001B[0m \u001B[0mvalidation_set\u001B[0m\u001B[0;34m,\u001B[0m \u001B[0mepochs\u001B[0m\u001B[0;34m,\u001B[0m \u001B[0mcallback\u001B[0m\u001B[0;34m)\u001B[0m\u001B[0;34m:\u001B[0m\u001B[0;34m\u001B[0m\u001B[0;34m\u001B[0m\u001B[0m\n\u001B[0;32m----> 2\u001B[0;31m     return model.fit(train_set,\n\u001B[0m\u001B[1;32m      3\u001B[0m                      \u001B[0mvalidation_data\u001B[0m\u001B[0;34m=\u001B[0m\u001B[0mvalidation_set\u001B[0m\u001B[0;34m,\u001B[0m\u001B[0;34m\u001B[0m\u001B[0;34m\u001B[0m\u001B[0m\n\u001B[1;32m      4\u001B[0m                      \u001B[0mepochs\u001B[0m\u001B[0;34m=\u001B[0m\u001B[0mepochs\u001B[0m\u001B[0;34m,\u001B[0m\u001B[0;34m\u001B[0m\u001B[0;34m\u001B[0m\u001B[0m\n\u001B[1;32m      5\u001B[0m                      callbacks=callback)\n",
      "\u001B[0;32m~/anaconda3/envs/sls/lib/python3.9/site-packages/tensorflow/python/keras/engine/training.py\u001B[0m in \u001B[0;36mfit\u001B[0;34m(self, x, y, batch_size, epochs, verbose, callbacks, validation_split, validation_data, shuffle, class_weight, sample_weight, initial_epoch, steps_per_epoch, validation_steps, validation_batch_size, validation_freq, max_queue_size, workers, use_multiprocessing)\u001B[0m\n\u001B[1;32m   1098\u001B[0m                 _r=1):\n\u001B[1;32m   1099\u001B[0m               \u001B[0mcallbacks\u001B[0m\u001B[0;34m.\u001B[0m\u001B[0mon_train_batch_begin\u001B[0m\u001B[0;34m(\u001B[0m\u001B[0mstep\u001B[0m\u001B[0;34m)\u001B[0m\u001B[0;34m\u001B[0m\u001B[0;34m\u001B[0m\u001B[0m\n\u001B[0;32m-> 1100\u001B[0;31m               \u001B[0mtmp_logs\u001B[0m \u001B[0;34m=\u001B[0m \u001B[0mself\u001B[0m\u001B[0;34m.\u001B[0m\u001B[0mtrain_function\u001B[0m\u001B[0;34m(\u001B[0m\u001B[0miterator\u001B[0m\u001B[0;34m)\u001B[0m\u001B[0;34m\u001B[0m\u001B[0;34m\u001B[0m\u001B[0m\n\u001B[0m\u001B[1;32m   1101\u001B[0m               \u001B[0;32mif\u001B[0m \u001B[0mdata_handler\u001B[0m\u001B[0;34m.\u001B[0m\u001B[0mshould_sync\u001B[0m\u001B[0;34m:\u001B[0m\u001B[0;34m\u001B[0m\u001B[0;34m\u001B[0m\u001B[0m\n\u001B[1;32m   1102\u001B[0m                 \u001B[0mcontext\u001B[0m\u001B[0;34m.\u001B[0m\u001B[0masync_wait\u001B[0m\u001B[0;34m(\u001B[0m\u001B[0;34m)\u001B[0m\u001B[0;34m\u001B[0m\u001B[0;34m\u001B[0m\u001B[0m\n",
      "\u001B[0;32m~/anaconda3/envs/sls/lib/python3.9/site-packages/tensorflow/python/eager/def_function.py\u001B[0m in \u001B[0;36m__call__\u001B[0;34m(self, *args, **kwds)\u001B[0m\n\u001B[1;32m    826\u001B[0m     \u001B[0mtracing_count\u001B[0m \u001B[0;34m=\u001B[0m \u001B[0mself\u001B[0m\u001B[0;34m.\u001B[0m\u001B[0mexperimental_get_tracing_count\u001B[0m\u001B[0;34m(\u001B[0m\u001B[0;34m)\u001B[0m\u001B[0;34m\u001B[0m\u001B[0;34m\u001B[0m\u001B[0m\n\u001B[1;32m    827\u001B[0m     \u001B[0;32mwith\u001B[0m \u001B[0mtrace\u001B[0m\u001B[0;34m.\u001B[0m\u001B[0mTrace\u001B[0m\u001B[0;34m(\u001B[0m\u001B[0mself\u001B[0m\u001B[0;34m.\u001B[0m\u001B[0m_name\u001B[0m\u001B[0;34m)\u001B[0m \u001B[0;32mas\u001B[0m \u001B[0mtm\u001B[0m\u001B[0;34m:\u001B[0m\u001B[0;34m\u001B[0m\u001B[0;34m\u001B[0m\u001B[0m\n\u001B[0;32m--> 828\u001B[0;31m       \u001B[0mresult\u001B[0m \u001B[0;34m=\u001B[0m \u001B[0mself\u001B[0m\u001B[0;34m.\u001B[0m\u001B[0m_call\u001B[0m\u001B[0;34m(\u001B[0m\u001B[0;34m*\u001B[0m\u001B[0margs\u001B[0m\u001B[0;34m,\u001B[0m \u001B[0;34m**\u001B[0m\u001B[0mkwds\u001B[0m\u001B[0;34m)\u001B[0m\u001B[0;34m\u001B[0m\u001B[0;34m\u001B[0m\u001B[0m\n\u001B[0m\u001B[1;32m    829\u001B[0m       \u001B[0mcompiler\u001B[0m \u001B[0;34m=\u001B[0m \u001B[0;34m\"xla\"\u001B[0m \u001B[0;32mif\u001B[0m \u001B[0mself\u001B[0m\u001B[0;34m.\u001B[0m\u001B[0m_experimental_compile\u001B[0m \u001B[0;32melse\u001B[0m \u001B[0;34m\"nonXla\"\u001B[0m\u001B[0;34m\u001B[0m\u001B[0;34m\u001B[0m\u001B[0m\n\u001B[1;32m    830\u001B[0m       \u001B[0mnew_tracing_count\u001B[0m \u001B[0;34m=\u001B[0m \u001B[0mself\u001B[0m\u001B[0;34m.\u001B[0m\u001B[0mexperimental_get_tracing_count\u001B[0m\u001B[0;34m(\u001B[0m\u001B[0;34m)\u001B[0m\u001B[0;34m\u001B[0m\u001B[0;34m\u001B[0m\u001B[0m\n",
      "\u001B[0;32m~/anaconda3/envs/sls/lib/python3.9/site-packages/tensorflow/python/eager/def_function.py\u001B[0m in \u001B[0;36m_call\u001B[0;34m(self, *args, **kwds)\u001B[0m\n\u001B[1;32m    886\u001B[0m         \u001B[0;31m# Lifting succeeded, so variables are initialized and we can run the\u001B[0m\u001B[0;34m\u001B[0m\u001B[0;34m\u001B[0m\u001B[0m\n\u001B[1;32m    887\u001B[0m         \u001B[0;31m# stateless function.\u001B[0m\u001B[0;34m\u001B[0m\u001B[0;34m\u001B[0m\u001B[0m\n\u001B[0;32m--> 888\u001B[0;31m         \u001B[0;32mreturn\u001B[0m \u001B[0mself\u001B[0m\u001B[0;34m.\u001B[0m\u001B[0m_stateless_fn\u001B[0m\u001B[0;34m(\u001B[0m\u001B[0;34m*\u001B[0m\u001B[0margs\u001B[0m\u001B[0;34m,\u001B[0m \u001B[0;34m**\u001B[0m\u001B[0mkwds\u001B[0m\u001B[0;34m)\u001B[0m\u001B[0;34m\u001B[0m\u001B[0;34m\u001B[0m\u001B[0m\n\u001B[0m\u001B[1;32m    889\u001B[0m     \u001B[0;32melse\u001B[0m\u001B[0;34m:\u001B[0m\u001B[0;34m\u001B[0m\u001B[0;34m\u001B[0m\u001B[0m\n\u001B[1;32m    890\u001B[0m       \u001B[0m_\u001B[0m\u001B[0;34m,\u001B[0m \u001B[0m_\u001B[0m\u001B[0;34m,\u001B[0m \u001B[0m_\u001B[0m\u001B[0;34m,\u001B[0m \u001B[0mfiltered_flat_args\u001B[0m \u001B[0;34m=\u001B[0m\u001B[0;31m \u001B[0m\u001B[0;31m\\\u001B[0m\u001B[0;34m\u001B[0m\u001B[0;34m\u001B[0m\u001B[0m\n",
      "\u001B[0;32m~/anaconda3/envs/sls/lib/python3.9/site-packages/tensorflow/python/eager/function.py\u001B[0m in \u001B[0;36m__call__\u001B[0;34m(self, *args, **kwargs)\u001B[0m\n\u001B[1;32m   2940\u001B[0m       (graph_function,\n\u001B[1;32m   2941\u001B[0m        filtered_flat_args) = self._maybe_define_function(args, kwargs)\n\u001B[0;32m-> 2942\u001B[0;31m     return graph_function._call_flat(\n\u001B[0m\u001B[1;32m   2943\u001B[0m         filtered_flat_args, captured_inputs=graph_function.captured_inputs)  # pylint: disable=protected-access\n\u001B[1;32m   2944\u001B[0m \u001B[0;34m\u001B[0m\u001B[0m\n",
      "\u001B[0;32m~/anaconda3/envs/sls/lib/python3.9/site-packages/tensorflow/python/eager/function.py\u001B[0m in \u001B[0;36m_call_flat\u001B[0;34m(self, args, captured_inputs, cancellation_manager)\u001B[0m\n\u001B[1;32m   1916\u001B[0m         and executing_eagerly):\n\u001B[1;32m   1917\u001B[0m       \u001B[0;31m# No tape is watching; skip to running the function.\u001B[0m\u001B[0;34m\u001B[0m\u001B[0;34m\u001B[0m\u001B[0m\n\u001B[0;32m-> 1918\u001B[0;31m       return self._build_call_outputs(self._inference_function.call(\n\u001B[0m\u001B[1;32m   1919\u001B[0m           ctx, args, cancellation_manager=cancellation_manager))\n\u001B[1;32m   1920\u001B[0m     forward_backward = self._select_forward_and_backward_functions(\n",
      "\u001B[0;32m~/anaconda3/envs/sls/lib/python3.9/site-packages/tensorflow/python/eager/function.py\u001B[0m in \u001B[0;36mcall\u001B[0;34m(self, ctx, args, cancellation_manager)\u001B[0m\n\u001B[1;32m    553\u001B[0m       \u001B[0;32mwith\u001B[0m \u001B[0m_InterpolateFunctionError\u001B[0m\u001B[0;34m(\u001B[0m\u001B[0mself\u001B[0m\u001B[0;34m)\u001B[0m\u001B[0;34m:\u001B[0m\u001B[0;34m\u001B[0m\u001B[0;34m\u001B[0m\u001B[0m\n\u001B[1;32m    554\u001B[0m         \u001B[0;32mif\u001B[0m \u001B[0mcancellation_manager\u001B[0m \u001B[0;32mis\u001B[0m \u001B[0;32mNone\u001B[0m\u001B[0;34m:\u001B[0m\u001B[0;34m\u001B[0m\u001B[0;34m\u001B[0m\u001B[0m\n\u001B[0;32m--> 555\u001B[0;31m           outputs = execute.execute(\n\u001B[0m\u001B[1;32m    556\u001B[0m               \u001B[0mstr\u001B[0m\u001B[0;34m(\u001B[0m\u001B[0mself\u001B[0m\u001B[0;34m.\u001B[0m\u001B[0msignature\u001B[0m\u001B[0;34m.\u001B[0m\u001B[0mname\u001B[0m\u001B[0;34m)\u001B[0m\u001B[0;34m,\u001B[0m\u001B[0;34m\u001B[0m\u001B[0;34m\u001B[0m\u001B[0m\n\u001B[1;32m    557\u001B[0m               \u001B[0mnum_outputs\u001B[0m\u001B[0;34m=\u001B[0m\u001B[0mself\u001B[0m\u001B[0;34m.\u001B[0m\u001B[0m_num_outputs\u001B[0m\u001B[0;34m,\u001B[0m\u001B[0;34m\u001B[0m\u001B[0;34m\u001B[0m\u001B[0m\n",
      "\u001B[0;32m~/anaconda3/envs/sls/lib/python3.9/site-packages/tensorflow/python/eager/execute.py\u001B[0m in \u001B[0;36mquick_execute\u001B[0;34m(op_name, num_outputs, inputs, attrs, ctx, name)\u001B[0m\n\u001B[1;32m     57\u001B[0m   \u001B[0;32mtry\u001B[0m\u001B[0;34m:\u001B[0m\u001B[0;34m\u001B[0m\u001B[0;34m\u001B[0m\u001B[0m\n\u001B[1;32m     58\u001B[0m     \u001B[0mctx\u001B[0m\u001B[0;34m.\u001B[0m\u001B[0mensure_initialized\u001B[0m\u001B[0;34m(\u001B[0m\u001B[0;34m)\u001B[0m\u001B[0;34m\u001B[0m\u001B[0;34m\u001B[0m\u001B[0m\n\u001B[0;32m---> 59\u001B[0;31m     tensors = pywrap_tfe.TFE_Py_Execute(ctx._handle, device_name, op_name,\n\u001B[0m\u001B[1;32m     60\u001B[0m                                         inputs, attrs, num_outputs)\n\u001B[1;32m     61\u001B[0m   \u001B[0;32mexcept\u001B[0m \u001B[0mcore\u001B[0m\u001B[0;34m.\u001B[0m\u001B[0m_NotOkStatusException\u001B[0m \u001B[0;32mas\u001B[0m \u001B[0me\u001B[0m\u001B[0;34m:\u001B[0m\u001B[0;34m\u001B[0m\u001B[0;34m\u001B[0m\u001B[0m\n",
      "\u001B[0;31mResourceExhaustedError\u001B[0m:  OOM when allocating tensor with shape[100352,1000] and type float on /job:localhost/replica:0/task:0/device:GPU:0 by allocator GPU_0_bfc\n\t [[node gradient_tape/model/dense/MatMul_1 (defined at tmp/ipykernel_18857/663974549.py:2) ]]\nHint: If you want to see a list of allocated tensors when OOM happens, add report_tensor_allocations_upon_oom to RunOptions for current allocation info.\n [Op:__inference_train_function_10825]\n\nFunction call stack:\ntrain_function\n"
     ]
    }
   ],
   "source": [
    "vgg16 = build_base_model('xception', 'imagenet')\n",
    "model = build_model(vgg16)\n",
    "model = compile_model(model, 0.0001, 0.9, 0.999, ['accuracy', 'Recall', 'Precision', 'AUC'])\n",
    "set_layers_trainable(False, vgg16)\n",
    "history = train_model(model, train_image_gen, valid_image_gen, 5, [])"
   ],
   "metadata": {
    "collapsed": false,
    "pycharm": {
     "name": "#%%\n"
    }
   }
  },
  {
   "cell_type": "markdown",
   "source": [
    "### Full Training\n",
    "* un freeze layers of pretrained vgg16 base model\n",
    "* define callbacks\n",
    "    * tensorboard callback to generate reports which can be viewed in tensorboard\n",
    "    * early stopping callback to stop training after monitored metric has not changed after, by the patience defined, epochs\n",
    "* compile model with adam optimizer\n",
    "* train model"
   ],
   "metadata": {
    "collapsed": false
   }
  },
  {
   "cell_type": "code",
   "execution_count": 15,
   "outputs": [],
   "source": [
    "set_layers_trainable(True, vgg16)"
   ],
   "metadata": {
    "collapsed": false,
    "pycharm": {
     "name": "#%%\n"
    }
   }
  },
  {
   "cell_type": "markdown",
   "source": [
    "#### Callbacks"
   ],
   "metadata": {
    "collapsed": false
   }
  },
  {
   "cell_type": "code",
   "execution_count": 16,
   "outputs": [
    {
     "name": "stderr",
     "output_type": "stream",
     "text": [
      "2021-12-07 13:04:53.346639: I tensorflow/core/profiler/lib/profiler_session.cc:136] Profiler session initializing.\n",
      "2021-12-07 13:04:53.346666: I tensorflow/core/profiler/lib/profiler_session.cc:155] Profiler session started.\n",
      "2021-12-07 13:04:53.346895: I tensorflow/core/profiler/internal/gpu/cupti_tracer.cc:1365] Profiler found 1 GPUs\n",
      "2021-12-07 13:04:53.354850: I tensorflow/stream_executor/platform/default/dso_loader.cc:49] Successfully opened dynamic library libcupti.so.10.1\n",
      "2021-12-07 13:04:53.455927: E tensorflow/core/profiler/internal/gpu/cupti_tracer.cc:1415] function cupti_interface_->Subscribe( &subscriber_, (CUpti_CallbackFunc)ApiCallback, this)failed with error CUPTI_ERROR_INSUFFICIENT_PRIVILEGES\n",
      "2021-12-07 13:04:53.456225: I tensorflow/core/profiler/lib/profiler_session.cc:172] Profiler session tear down.\n"
     ]
    }
   ],
   "source": [
    "tensorboard_callback = tf.keras.callbacks.TensorBoard(log_dir=\"./logs\", histogram_freq=5, write_graph=True, write_images=True)\n",
    "custom_early_stopping = keras.callbacks.EarlyStopping(monitor='val_loss', patience=20)"
   ],
   "metadata": {
    "collapsed": false,
    "pycharm": {
     "name": "#%%\n"
    }
   }
  },
  {
   "cell_type": "code",
   "execution_count": 17,
   "outputs": [
    {
     "name": "stdout",
     "output_type": "stream",
     "text": [
      "Epoch 1/100\n",
      "  1/250 [..............................] - ETA: 7:52 - loss: 0.1640 - accuracy: 0.9375 - recall: 1.0000 - precision: 0.8333 - auc: 1.0000"
     ]
    },
    {
     "name": "stderr",
     "output_type": "stream",
     "text": [
      "2021-12-07 13:05:03.259191: I tensorflow/core/profiler/lib/profiler_session.cc:136] Profiler session initializing.\n",
      "2021-12-07 13:05:03.259213: I tensorflow/core/profiler/lib/profiler_session.cc:155] Profiler session started.\n",
      "2021-12-07 13:05:03.259667: E tensorflow/core/profiler/internal/gpu/cupti_tracer.cc:1415] function cupti_interface_->Subscribe( &subscriber_, (CUpti_CallbackFunc)ApiCallback, this)failed with error CUPTI_ERROR_INSUFFICIENT_PRIVILEGES\n"
     ]
    },
    {
     "name": "stdout",
     "output_type": "stream",
     "text": [
      "  2/250 [..............................] - ETA: 1:45 - loss: 0.1271 - accuracy: 0.9531 - recall: 1.0000 - precision: 0.8810 - auc: 0.9987"
     ]
    },
    {
     "name": "stderr",
     "output_type": "stream",
     "text": [
      "2021-12-07 13:05:03.660976: I tensorflow/core/profiler/lib/profiler_session.cc:71] Profiler session collecting data.\n",
      "2021-12-07 13:05:03.680633: I tensorflow/core/profiler/internal/gpu/cupti_collector.cc:228]  GpuTracer has collected 0 callback api events and 0 activity events. \n",
      "2021-12-07 13:05:03.686703: I tensorflow/core/profiler/lib/profiler_session.cc:172] Profiler session tear down.\n",
      "2021-12-07 13:05:03.697901: I tensorflow/core/profiler/rpc/client/save_profile.cc:137] Creating directory: ./logs/train/plugins/profile/2021_12_07_13_05_03\n",
      "2021-12-07 13:05:03.700959: I tensorflow/core/profiler/rpc/client/save_profile.cc:143] Dumped gzipped tool data for trace.json.gz to ./logs/train/plugins/profile/2021_12_07_13_05_03/pop-os.trace.json.gz\n",
      "2021-12-07 13:05:03.727328: I tensorflow/core/profiler/rpc/client/save_profile.cc:137] Creating directory: ./logs/train/plugins/profile/2021_12_07_13_05_03\n",
      "2021-12-07 13:05:03.730307: I tensorflow/core/profiler/rpc/client/save_profile.cc:143] Dumped gzipped tool data for memory_profile.json.gz to ./logs/train/plugins/profile/2021_12_07_13_05_03/pop-os.memory_profile.json.gz\n",
      "2021-12-07 13:05:03.730516: I tensorflow/core/profiler/rpc/client/capture_profile.cc:251] Creating directory: ./logs/train/plugins/profile/2021_12_07_13_05_03Dumped tool data for xplane.pb to ./logs/train/plugins/profile/2021_12_07_13_05_03/pop-os.xplane.pb\n",
      "Dumped tool data for overview_page.pb to ./logs/train/plugins/profile/2021_12_07_13_05_03/pop-os.overview_page.pb\n",
      "Dumped tool data for input_pipeline.pb to ./logs/train/plugins/profile/2021_12_07_13_05_03/pop-os.input_pipeline.pb\n",
      "Dumped tool data for tensorflow_stats.pb to ./logs/train/plugins/profile/2021_12_07_13_05_03/pop-os.tensorflow_stats.pb\n",
      "Dumped tool data for kernel_stats.pb to ./logs/train/plugins/profile/2021_12_07_13_05_03/pop-os.kernel_stats.pb\n",
      "\n"
     ]
    },
    {
     "name": "stdout",
     "output_type": "stream",
     "text": [
      "250/250 [==============================] - 100s 393ms/step - loss: 0.0871 - accuracy: 0.9690 - recall: 0.9719 - precision: 0.9656 - auc: 0.9943 - val_loss: 0.0904 - val_accuracy: 0.9730 - val_recall: 0.9960 - val_precision: 0.9521 - val_auc: 0.9972\n",
      "Epoch 2/100\n",
      "250/250 [==============================] - 94s 376ms/step - loss: 0.0671 - accuracy: 0.9743 - recall: 0.9765 - precision: 0.9720 - auc: 0.9969 - val_loss: 0.0467 - val_accuracy: 0.9800 - val_recall: 0.9619 - val_precision: 0.9979 - val_auc: 0.9995\n",
      "Epoch 3/100\n",
      "250/250 [==============================] - 98s 390ms/step - loss: 0.0418 - accuracy: 0.9857 - recall: 0.9860 - precision: 0.9853 - auc: 0.9986 - val_loss: 0.0360 - val_accuracy: 0.9840 - val_recall: 0.9739 - val_precision: 0.9939 - val_auc: 0.9995\n",
      "Epoch 4/100\n",
      "250/250 [==============================] - 100s 399ms/step - loss: 0.0542 - accuracy: 0.9804 - recall: 0.9815 - precision: 0.9787 - auc: 0.9978 - val_loss: 0.0424 - val_accuracy: 0.9890 - val_recall: 0.9940 - val_precision: 0.9841 - val_auc: 0.9981\n",
      "Epoch 5/100\n",
      "250/250 [==============================] - 94s 376ms/step - loss: 0.0519 - accuracy: 0.9829 - recall: 0.9861 - precision: 0.9801 - auc: 0.9977 - val_loss: 0.3555 - val_accuracy: 0.8929 - val_recall: 0.7856 - val_precision: 1.0000 - val_auc: 0.9846\n",
      "Epoch 6/100\n",
      "250/250 [==============================] - 89s 355ms/step - loss: 0.0520 - accuracy: 0.9787 - recall: 0.9778 - precision: 0.9796 - auc: 0.9982 - val_loss: 0.0173 - val_accuracy: 0.9960 - val_recall: 1.0000 - val_precision: 0.9920 - val_auc: 1.0000\n",
      "Epoch 7/100\n",
      "250/250 [==============================] - 94s 374ms/step - loss: 0.0341 - accuracy: 0.9869 - recall: 0.9874 - precision: 0.9863 - auc: 0.9988 - val_loss: 0.0169 - val_accuracy: 0.9940 - val_recall: 0.9920 - val_precision: 0.9960 - val_auc: 0.9999\n",
      "Epoch 8/100\n",
      "250/250 [==============================] - 96s 382ms/step - loss: 0.0338 - accuracy: 0.9883 - recall: 0.9886 - precision: 0.9879 - auc: 0.9989 - val_loss: 0.0243 - val_accuracy: 0.9920 - val_recall: 0.9840 - val_precision: 1.0000 - val_auc: 1.0000\n",
      "Epoch 9/100\n",
      "250/250 [==============================] - 100s 397ms/step - loss: 0.0226 - accuracy: 0.9934 - recall: 0.9937 - precision: 0.9931 - auc: 0.9990 - val_loss: 0.0049 - val_accuracy: 1.0000 - val_recall: 1.0000 - val_precision: 1.0000 - val_auc: 1.0000\n",
      "Epoch 10/100\n",
      "250/250 [==============================] - 90s 358ms/step - loss: 0.0365 - accuracy: 0.9865 - recall: 0.9870 - precision: 0.9863 - auc: 0.9989 - val_loss: 0.3940 - val_accuracy: 0.8448 - val_recall: 0.9960 - val_precision: 0.7646 - val_auc: 0.9904\n",
      "Epoch 11/100\n",
      "250/250 [==============================] - 88s 352ms/step - loss: 0.0357 - accuracy: 0.9882 - recall: 0.9878 - precision: 0.9887 - auc: 0.9988 - val_loss: 0.1217 - val_accuracy: 0.9590 - val_recall: 0.9900 - val_precision: 0.9321 - val_auc: 0.9920\n",
      "Epoch 12/100\n",
      "250/250 [==============================] - 89s 355ms/step - loss: 0.0368 - accuracy: 0.9856 - recall: 0.9856 - precision: 0.9849 - auc: 0.9992 - val_loss: 0.1420 - val_accuracy: 0.9530 - val_recall: 0.9058 - val_precision: 1.0000 - val_auc: 0.9970\n",
      "Epoch 13/100\n",
      "250/250 [==============================] - 89s 355ms/step - loss: 0.0164 - accuracy: 0.9946 - recall: 0.9946 - precision: 0.9946 - auc: 0.9996 - val_loss: 0.0774 - val_accuracy: 0.9700 - val_recall: 0.9980 - val_precision: 0.9450 - val_auc: 0.9986\n",
      "Epoch 14/100\n",
      "250/250 [==============================] - 89s 357ms/step - loss: 0.0192 - accuracy: 0.9932 - recall: 0.9922 - precision: 0.9944 - auc: 0.9993 - val_loss: 0.0101 - val_accuracy: 0.9990 - val_recall: 1.0000 - val_precision: 0.9980 - val_auc: 1.0000\n",
      "Epoch 15/100\n",
      "250/250 [==============================] - 100s 397ms/step - loss: 0.0178 - accuracy: 0.9937 - recall: 0.9924 - precision: 0.9948 - auc: 0.9997 - val_loss: 0.0180 - val_accuracy: 0.9960 - val_recall: 1.0000 - val_precision: 0.9920 - val_auc: 1.0000\n",
      "Epoch 16/100\n",
      "250/250 [==============================] - 95s 380ms/step - loss: 0.0258 - accuracy: 0.9904 - recall: 0.9900 - precision: 0.9908 - auc: 0.9991 - val_loss: 0.0254 - val_accuracy: 0.9920 - val_recall: 0.9960 - val_precision: 0.9881 - val_auc: 0.9979\n",
      "Epoch 17/100\n",
      "250/250 [==============================] - 97s 387ms/step - loss: 0.0174 - accuracy: 0.9938 - recall: 0.9942 - precision: 0.9933 - auc: 0.9996 - val_loss: 0.0078 - val_accuracy: 0.9970 - val_recall: 0.9940 - val_precision: 1.0000 - val_auc: 1.0000\n",
      "Epoch 18/100\n",
      "250/250 [==============================] - 96s 384ms/step - loss: 0.0071 - accuracy: 0.9980 - recall: 0.9977 - precision: 0.9983 - auc: 0.9999 - val_loss: 0.0275 - val_accuracy: 0.9880 - val_recall: 0.9760 - val_precision: 1.0000 - val_auc: 1.0000\n",
      "Epoch 19/100\n",
      "250/250 [==============================] - 91s 364ms/step - loss: 0.0244 - accuracy: 0.9914 - recall: 0.9912 - precision: 0.9917 - auc: 0.9994 - val_loss: 0.0894 - val_accuracy: 0.9670 - val_recall: 0.9359 - val_precision: 0.9979 - val_auc: 0.9997\n",
      "Epoch 20/100\n",
      "250/250 [==============================] - 92s 367ms/step - loss: 0.0141 - accuracy: 0.9946 - recall: 0.9938 - precision: 0.9956 - auc: 0.9997 - val_loss: 0.0148 - val_accuracy: 0.9930 - val_recall: 0.9900 - val_precision: 0.9960 - val_auc: 0.9999\n",
      "Epoch 21/100\n",
      "250/250 [==============================] - 100s 398ms/step - loss: 0.0258 - accuracy: 0.9910 - recall: 0.9906 - precision: 0.9911 - auc: 0.9987 - val_loss: 0.0073 - val_accuracy: 0.9970 - val_recall: 0.9960 - val_precision: 0.9980 - val_auc: 1.0000\n",
      "Epoch 22/100\n",
      "250/250 [==============================] - 96s 384ms/step - loss: 0.0149 - accuracy: 0.9951 - recall: 0.9959 - precision: 0.9942 - auc: 0.9997 - val_loss: 0.0597 - val_accuracy: 0.9890 - val_recall: 1.0000 - val_precision: 0.9784 - val_auc: 0.9950\n",
      "Epoch 23/100\n",
      "250/250 [==============================] - 101s 404ms/step - loss: 0.0189 - accuracy: 0.9947 - recall: 0.9960 - precision: 0.9932 - auc: 0.9994 - val_loss: 0.0685 - val_accuracy: 0.9750 - val_recall: 0.9499 - val_precision: 1.0000 - val_auc: 1.0000\n",
      "Epoch 24/100\n",
      "250/250 [==============================] - 95s 379ms/step - loss: 0.0126 - accuracy: 0.9956 - recall: 0.9968 - precision: 0.9944 - auc: 0.9998 - val_loss: 0.0074 - val_accuracy: 0.9970 - val_recall: 0.9980 - val_precision: 0.9960 - val_auc: 1.0000\n",
      "Epoch 25/100\n",
      "250/250 [==============================] - 97s 386ms/step - loss: 0.0125 - accuracy: 0.9955 - recall: 0.9953 - precision: 0.9956 - auc: 0.9996 - val_loss: 0.0231 - val_accuracy: 0.9950 - val_recall: 0.9940 - val_precision: 0.9960 - val_auc: 0.9996\n",
      "Epoch 26/100\n",
      "250/250 [==============================] - 95s 381ms/step - loss: 0.0389 - accuracy: 0.9886 - recall: 0.9899 - precision: 0.9872 - auc: 0.9982 - val_loss: 0.0150 - val_accuracy: 0.9920 - val_recall: 0.9840 - val_precision: 1.0000 - val_auc: 1.0000\n",
      "Epoch 27/100\n",
      "250/250 [==============================] - 106s 425ms/step - loss: 0.0112 - accuracy: 0.9955 - recall: 0.9952 - precision: 0.9958 - auc: 0.9999 - val_loss: 0.0020 - val_accuracy: 1.0000 - val_recall: 1.0000 - val_precision: 1.0000 - val_auc: 1.0000\n",
      "Epoch 28/100\n",
      "250/250 [==============================] - 94s 377ms/step - loss: 0.0150 - accuracy: 0.9946 - recall: 0.9937 - precision: 0.9954 - auc: 0.9996 - val_loss: 0.0067 - val_accuracy: 0.9980 - val_recall: 1.0000 - val_precision: 0.9960 - val_auc: 1.0000\n",
      "Epoch 29/100\n",
      "250/250 [==============================] - 106s 421ms/step - loss: 0.0119 - accuracy: 0.9969 - recall: 0.9968 - precision: 0.9970 - auc: 0.9996 - val_loss: 0.0051 - val_accuracy: 0.9980 - val_recall: 0.9980 - val_precision: 0.9980 - val_auc: 1.0000\n",
      "Epoch 30/100\n",
      "250/250 [==============================] - 97s 388ms/step - loss: 0.0094 - accuracy: 0.9959 - recall: 0.9942 - precision: 0.9978 - auc: 0.9997 - val_loss: 0.0287 - val_accuracy: 0.9940 - val_recall: 1.0000 - val_precision: 0.9881 - val_auc: 0.9979\n",
      "Epoch 31/100\n",
      "250/250 [==============================] - 106s 423ms/step - loss: 0.0147 - accuracy: 0.9941 - recall: 0.9946 - precision: 0.9934 - auc: 0.9998 - val_loss: 0.0121 - val_accuracy: 0.9950 - val_recall: 0.9920 - val_precision: 0.9980 - val_auc: 0.9999\n",
      "Epoch 32/100\n",
      "250/250 [==============================] - 108s 431ms/step - loss: 0.0146 - accuracy: 0.9943 - recall: 0.9939 - precision: 0.9948 - auc: 0.9999 - val_loss: 0.0349 - val_accuracy: 0.9880 - val_recall: 0.9760 - val_precision: 1.0000 - val_auc: 0.9989\n",
      "Epoch 33/100\n",
      "250/250 [==============================] - 112s 446ms/step - loss: 0.0183 - accuracy: 0.9935 - recall: 0.9915 - precision: 0.9954 - auc: 0.9995 - val_loss: 0.0067 - val_accuracy: 0.9960 - val_recall: 0.9920 - val_precision: 1.0000 - val_auc: 1.0000\n",
      "Epoch 34/100\n",
      "250/250 [==============================] - 142s 569ms/step - loss: 0.0162 - accuracy: 0.9943 - recall: 0.9946 - precision: 0.9940 - auc: 0.9998 - val_loss: 0.0420 - val_accuracy: 0.9860 - val_recall: 0.9780 - val_precision: 0.9939 - val_auc: 0.9977\n",
      "Epoch 35/100\n",
      "250/250 [==============================] - 119s 477ms/step - loss: 0.0135 - accuracy: 0.9963 - recall: 0.9954 - precision: 0.9972 - auc: 0.9994 - val_loss: 0.0939 - val_accuracy: 0.9620 - val_recall: 0.9238 - val_precision: 1.0000 - val_auc: 0.9990\n",
      "Epoch 36/100\n",
      "250/250 [==============================] - 135s 541ms/step - loss: 0.0232 - accuracy: 0.9920 - recall: 0.9911 - precision: 0.9928 - auc: 0.9991 - val_loss: 0.0025 - val_accuracy: 0.9990 - val_recall: 0.9980 - val_precision: 1.0000 - val_auc: 1.0000\n",
      "Epoch 37/100\n",
      "250/250 [==============================] - 121s 484ms/step - loss: 0.0062 - accuracy: 0.9981 - recall: 0.9979 - precision: 0.9983 - auc: 1.0000 - val_loss: 0.0310 - val_accuracy: 0.9860 - val_recall: 1.0000 - val_precision: 0.9727 - val_auc: 1.0000\n",
      "Epoch 38/100\n",
      "250/250 [==============================] - 120s 481ms/step - loss: 0.0207 - accuracy: 0.9939 - recall: 0.9939 - precision: 0.9939 - auc: 0.9991 - val_loss: 0.0116 - val_accuracy: 0.9950 - val_recall: 0.9900 - val_precision: 1.0000 - val_auc: 1.0000\n",
      "Epoch 39/100\n",
      "250/250 [==============================] - 124s 495ms/step - loss: 0.0139 - accuracy: 0.9949 - recall: 0.9931 - precision: 0.9965 - auc: 0.9992 - val_loss: 0.0055 - val_accuracy: 0.9980 - val_recall: 0.9960 - val_precision: 1.0000 - val_auc: 1.0000\n",
      "Epoch 40/100\n",
      "250/250 [==============================] - 127s 506ms/step - loss: 0.0165 - accuracy: 0.9937 - recall: 0.9945 - precision: 0.9929 - auc: 0.9996 - val_loss: 0.0206 - val_accuracy: 0.9910 - val_recall: 1.0000 - val_precision: 0.9823 - val_auc: 1.0000\n",
      "Epoch 41/100\n",
      "250/250 [==============================] - 127s 503ms/step - loss: 0.0088 - accuracy: 0.9972 - recall: 0.9980 - precision: 0.9964 - auc: 0.9998 - val_loss: 0.0056 - val_accuracy: 0.9990 - val_recall: 1.0000 - val_precision: 0.9980 - val_auc: 1.0000\n",
      "Epoch 42/100\n",
      "250/250 [==============================] - 129s 514ms/step - loss: 0.0078 - accuracy: 0.9978 - recall: 0.9982 - precision: 0.9974 - auc: 0.9999 - val_loss: 0.0066 - val_accuracy: 0.9990 - val_recall: 1.0000 - val_precision: 0.9980 - val_auc: 1.0000\n",
      "Epoch 43/100\n",
      "250/250 [==============================] - 129s 511ms/step - loss: 0.0117 - accuracy: 0.9961 - recall: 0.9952 - precision: 0.9970 - auc: 0.9999 - val_loss: 0.0012 - val_accuracy: 1.0000 - val_recall: 1.0000 - val_precision: 1.0000 - val_auc: 1.0000\n",
      "Epoch 44/100\n",
      "250/250 [==============================] - 121s 482ms/step - loss: 0.0045 - accuracy: 0.9988 - recall: 0.9983 - precision: 0.9993 - auc: 1.0000 - val_loss: 0.0170 - val_accuracy: 0.9950 - val_recall: 0.9900 - val_precision: 1.0000 - val_auc: 1.0000\n",
      "Epoch 45/100\n",
      "250/250 [==============================] - 98s 393ms/step - loss: 0.0031 - accuracy: 0.9987 - recall: 0.9997 - precision: 0.9978 - auc: 1.0000 - val_loss: 0.0044 - val_accuracy: 0.9980 - val_recall: 1.0000 - val_precision: 0.9960 - val_auc: 1.0000\n",
      "Epoch 46/100\n",
      "250/250 [==============================] - 95s 377ms/step - loss: 0.0127 - accuracy: 0.9962 - recall: 0.9965 - precision: 0.9959 - auc: 0.9994 - val_loss: 0.0093 - val_accuracy: 0.9960 - val_recall: 0.9960 - val_precision: 0.9960 - val_auc: 1.0000\n",
      "Epoch 47/100\n",
      "250/250 [==============================] - 93s 372ms/step - loss: 0.0120 - accuracy: 0.9956 - recall: 0.9949 - precision: 0.9963 - auc: 0.9996 - val_loss: 0.1132 - val_accuracy: 0.9590 - val_recall: 0.9178 - val_precision: 1.0000 - val_auc: 0.9950\n",
      "Epoch 48/100\n",
      "250/250 [==============================] - 94s 374ms/step - loss: 0.0076 - accuracy: 0.9975 - recall: 0.9977 - precision: 0.9973 - auc: 0.9999 - val_loss: 0.0021 - val_accuracy: 0.9990 - val_recall: 0.9980 - val_precision: 1.0000 - val_auc: 1.0000\n",
      "Epoch 49/100\n",
      "250/250 [==============================] - 105s 420ms/step - loss: 0.0105 - accuracy: 0.9963 - recall: 0.9963 - precision: 0.9964 - auc: 0.9999 - val_loss: 0.0050 - val_accuracy: 0.9980 - val_recall: 0.9960 - val_precision: 1.0000 - val_auc: 1.0000\n",
      "Epoch 50/100\n",
      "250/250 [==============================] - 115s 461ms/step - loss: 0.0037 - accuracy: 0.9984 - recall: 0.9975 - precision: 0.9993 - auc: 1.0000 - val_loss: 0.0223 - val_accuracy: 0.9920 - val_recall: 0.9840 - val_precision: 1.0000 - val_auc: 0.9980\n",
      "Epoch 51/100\n",
      "250/250 [==============================] - 112s 448ms/step - loss: 0.0205 - accuracy: 0.9933 - recall: 0.9931 - precision: 0.9933 - auc: 0.9988 - val_loss: 0.0314 - val_accuracy: 0.9870 - val_recall: 0.9739 - val_precision: 1.0000 - val_auc: 1.0000\n",
      "Epoch 52/100\n",
      "250/250 [==============================] - 99s 394ms/step - loss: 0.0044 - accuracy: 0.9989 - recall: 0.9982 - precision: 0.9996 - auc: 1.0000 - val_loss: 0.0622 - val_accuracy: 0.9840 - val_recall: 0.9679 - val_precision: 1.0000 - val_auc: 0.9970\n",
      "Epoch 53/100\n",
      "250/250 [==============================] - 96s 383ms/step - loss: 0.0071 - accuracy: 0.9981 - recall: 0.9982 - precision: 0.9981 - auc: 1.0000 - val_loss: 0.0296 - val_accuracy: 0.9870 - val_recall: 1.0000 - val_precision: 0.9746 - val_auc: 0.9990\n",
      "Epoch 54/100\n",
      "250/250 [==============================] - 103s 412ms/step - loss: 0.0143 - accuracy: 0.9949 - recall: 0.9957 - precision: 0.9940 - auc: 0.9997 - val_loss: 0.0141 - val_accuracy: 0.9950 - val_recall: 0.9900 - val_precision: 1.0000 - val_auc: 1.0000\n",
      "Epoch 55/100\n",
      "250/250 [==============================] - 105s 419ms/step - loss: 0.0120 - accuracy: 0.9959 - recall: 0.9945 - precision: 0.9973 - auc: 0.9997 - val_loss: 0.0088 - val_accuracy: 0.9970 - val_recall: 0.9960 - val_precision: 0.9980 - val_auc: 0.9999\n",
      "Epoch 56/100\n",
      "250/250 [==============================] - 115s 459ms/step - loss: 0.0107 - accuracy: 0.9968 - recall: 0.9961 - precision: 0.9976 - auc: 0.9997 - val_loss: 0.0796 - val_accuracy: 0.9780 - val_recall: 0.9559 - val_precision: 1.0000 - val_auc: 0.9980\n",
      "Epoch 57/100\n",
      "250/250 [==============================] - 106s 425ms/step - loss: 0.0071 - accuracy: 0.9979 - recall: 0.9978 - precision: 0.9979 - auc: 0.9996 - val_loss: 0.0014 - val_accuracy: 1.0000 - val_recall: 1.0000 - val_precision: 1.0000 - val_auc: 1.0000\n",
      "Epoch 58/100\n",
      "250/250 [==============================] - 101s 402ms/step - loss: 0.0082 - accuracy: 0.9973 - recall: 0.9974 - precision: 0.9971 - auc: 0.9998 - val_loss: 0.0075 - val_accuracy: 0.9980 - val_recall: 0.9980 - val_precision: 0.9980 - val_auc: 1.0000\n",
      "Epoch 59/100\n",
      "250/250 [==============================] - 101s 405ms/step - loss: 0.0119 - accuracy: 0.9951 - recall: 0.9952 - precision: 0.9950 - auc: 0.9999 - val_loss: 0.0077 - val_accuracy: 0.9970 - val_recall: 1.0000 - val_precision: 0.9940 - val_auc: 1.0000\n",
      "Epoch 60/100\n",
      "250/250 [==============================] - 100s 398ms/step - loss: 0.0066 - accuracy: 0.9973 - recall: 0.9963 - precision: 0.9981 - auc: 1.0000 - val_loss: 0.0031 - val_accuracy: 0.9990 - val_recall: 1.0000 - val_precision: 0.9980 - val_auc: 1.0000\n",
      "Epoch 61/100\n",
      "250/250 [==============================] - 98s 389ms/step - loss: 0.0043 - accuracy: 0.9986 - recall: 0.9982 - precision: 0.9990 - auc: 1.0000 - val_loss: 0.1295 - val_accuracy: 0.9479 - val_recall: 0.8958 - val_precision: 1.0000 - val_auc: 0.9979\n",
      "Epoch 62/100\n",
      "250/250 [==============================] - 103s 411ms/step - loss: 0.0219 - accuracy: 0.9917 - recall: 0.9944 - precision: 0.9892 - auc: 0.9995 - val_loss: 0.1032 - val_accuracy: 0.9640 - val_recall: 1.0000 - val_precision: 0.9327 - val_auc: 0.9969\n",
      "Epoch 63/100\n",
      "250/250 [==============================] - 94s 375ms/step - loss: 0.0059 - accuracy: 0.9983 - recall: 0.9985 - precision: 0.9981 - auc: 0.9999 - val_loss: 0.0046 - val_accuracy: 0.9980 - val_recall: 0.9960 - val_precision: 1.0000 - val_auc: 1.0000\n"
     ]
    }
   ],
   "source": [
    "model = compile_model(model, 0.0001, 0.9, 0.999, ['accuracy', 'Recall', 'Precision', 'AUC'])\n",
    "history = train_model(model, train_image_gen, valid_image_gen, 100,\n",
    "                      [custom_early_stopping, tensorboard_callback])"
   ],
   "metadata": {
    "collapsed": false,
    "pycharm": {
     "name": "#%%\n"
    }
   }
  },
  {
   "cell_type": "markdown",
   "source": [
    "# Evaluation of the model on the test set"
   ],
   "metadata": {
    "collapsed": false
   }
  },
  {
   "cell_type": "code",
   "execution_count": 18,
   "outputs": [
    {
     "name": "stdout",
     "output_type": "stream",
     "text": [
      "32/32 [==============================] - 12s 367ms/step - loss: 0.0016 - accuracy: 0.9990 - recall: 1.0000 - precision: 0.9980 - auc: 1.0000\n"
     ]
    }
   ],
   "source": [
    "loss, accuracy, recall, precision, auc = model.evaluate(test_image_gen)"
   ],
   "metadata": {
    "collapsed": false,
    "pycharm": {
     "name": "#%%\n"
    }
   }
  },
  {
   "cell_type": "code",
   "execution_count": 19,
   "outputs": [
    {
     "name": "stdout",
     "output_type": "stream",
     "text": [
      "loss: 0.0015707454876974225, \n",
      "accuracy: 0.9990010261535645, \n",
      "recall: 1.0, \n",
      "precision: 0.9980079531669617, \n",
      "auc: 1.0, \n",
      "F1: 0.9990029835317318\n"
     ]
    }
   ],
   "source": [
    "# F1 score\n",
    "f1 = 2 * ((precision * recall) / (precision + recall))\n",
    "\n",
    "print(f\"loss: {loss}, \\n\"\n",
    "      f\"accuracy: {accuracy}, \\n\"\n",
    "      f\"recall: {recall}, \\n\"\n",
    "      f\"precision: {precision}, \\n\"\n",
    "      f\"auc: {auc}, \\n\"\n",
    "      f\"F1: {f1}\")"
   ],
   "metadata": {
    "collapsed": false,
    "pycharm": {
     "name": "#%%\n"
    }
   }
  },
  {
   "cell_type": "markdown",
   "source": [
    "# Saving the model to use it for predictions, heatmaps, etc."
   ],
   "metadata": {
    "collapsed": false
   }
  },
  {
   "cell_type": "code",
   "execution_count": 20,
   "outputs": [],
   "source": [
    "save_model(model, 'vgg16_heavily_reduced')"
   ],
   "metadata": {
    "collapsed": false,
    "pycharm": {
     "name": "#%%\n"
    }
   }
  },
  {
   "cell_type": "code",
   "execution_count": null,
   "outputs": [],
   "source": [],
   "metadata": {
    "collapsed": false,
    "pycharm": {
     "name": "#%%\n"
    }
   }
  }
 ],
 "metadata": {
  "kernelspec": {
   "name": "pycharm-8f8e9c42",
   "language": "python",
   "display_name": "PyCharm (Quality Control of SLS manufacturing using Convolutional Neural Networks -implementation)"
  },
  "language_info": {
   "codemirror_mode": {
    "name": "ipython",
    "version": 2
   },
   "file_extension": ".py",
   "mimetype": "text/x-python",
   "name": "python",
   "nbconvert_exporter": "python",
   "pygments_lexer": "ipython2",
   "version": "2.7.6"
  }
 },
 "nbformat": 4,
 "nbformat_minor": 0
}