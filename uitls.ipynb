{
 "cells": [
  {
   "cell_type": "code",
   "execution_count": 2,
   "metadata": {
    "collapsed": true
   },
   "outputs": [],
   "source": [
    "import splitfolders"
   ]
  },
  {
   "cell_type": "code",
   "execution_count": null,
   "outputs": [],
   "source": [
    "# use the following command in bash to delete images randomly until the desired number is reached\n",
    "# find '/home/msk/Projects/school/SLS-bachelor-project-implementation/data/data_very_small/DEF' -type f -print0 | sort -zR | tail -zn +2001 | xargs -0 rm"
   ],
   "metadata": {
    "collapsed": false,
    "pycharm": {
     "name": "#%%\n"
    }
   }
  },
  {
   "cell_type": "code",
   "execution_count": 5,
   "outputs": [
    {
     "name": "stderr",
     "output_type": "stream",
     "text": [
      "Copying files: 4000 files [00:00, 9950.04 files/s]\n"
     ]
    }
   ],
   "source": [
    "# splitfolder libary which splits a folder with to classes containing images into a folder containing train, test, val folders containing the classes and images according to the ratio\n",
    "splitfolders.ratio(\"/home/msk/Projects/school/SLS-bachelor-project-implementation/data/data_very_small/data\", output=\"/home/msk/Projects/school/SLS-bachelor-project-implementation/data/data_very_small/balanced_data\", seed=1337, ratio=(.5, .25, .25), group_prefix=None) # default values"
   ],
   "metadata": {
    "collapsed": false,
    "pycharm": {
     "name": "#%%\n"
    }
   }
  },
  {
   "cell_type": "code",
   "execution_count": null,
   "outputs": [],
   "source": [],
   "metadata": {
    "collapsed": false,
    "pycharm": {
     "name": "#%%\n"
    }
   }
  }
 ],
 "metadata": {
  "kernelspec": {
   "name": "pycharm-8f8e9c42",
   "language": "python",
   "display_name": "PyCharm (Quality Control of SLS manufacturing using Convolutional Neural Networks -implementation)"
  },
  "language_info": {
   "codemirror_mode": {
    "name": "ipython",
    "version": 2
   },
   "file_extension": ".py",
   "mimetype": "text/x-python",
   "name": "python",
   "nbconvert_exporter": "python",
   "pygments_lexer": "ipython2",
   "version": "2.7.6"
  }
 },
 "nbformat": 4,
 "nbformat_minor": 0
}