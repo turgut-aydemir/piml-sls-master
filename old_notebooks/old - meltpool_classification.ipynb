{
 "cells": [
  {
   "cell_type": "code",
   "execution_count": 1,
   "metadata": {
    "tags": []
   },
   "outputs": [
    {
     "name": "stderr",
     "output_type": "stream",
     "text": [
      "2021-12-05 12:51:37.135193: I tensorflow/stream_executor/platform/default/dso_loader.cc:49] Successfully opened dynamic library libcudart.so.10.1\n"
     ]
    }
   ],
   "source": [
    "import tensorflow as tf\n",
    "from tensorflow import keras\n",
    "import numpy as np\n",
    "import pandas as pd\n",
    "import datetime\n",
    "import cv2\n",
    "\n",
    "np.random.seed(42)\n",
    "tf.random.set_seed(42)\n",
    "\n",
    "import matplotlib as mpl\n",
    "import matplotlib.pyplot as plt\n",
    "\n",
    "mpl.rc('axes', labelsize=14)\n",
    "mpl.rc('xtick', labelsize=12)\n",
    "mpl.rc('ytick', labelsize=12)"
   ]
  },
  {
   "cell_type": "code",
   "execution_count": 2,
   "metadata": {
    "collapsed": false,
    "jupyter": {
     "outputs_hidden": false
    },
    "pycharm": {
     "name": "#%%\n"
    }
   },
   "outputs": [
    {
     "name": "stderr",
     "output_type": "stream",
     "text": [
      "2021-12-05 12:51:44.970427: I tensorflow/compiler/jit/xla_cpu_device.cc:41] Not creating XLA devices, tf_xla_enable_xla_devices not set\n",
      "2021-12-05 12:51:44.971233: I tensorflow/stream_executor/platform/default/dso_loader.cc:49] Successfully opened dynamic library libcuda.so.1\n",
      "2021-12-05 12:51:45.162158: I tensorflow/stream_executor/cuda/cuda_gpu_executor.cc:941] successful NUMA node read from SysFS had negative value (-1), but there must be at least one NUMA node, so returning NUMA node zero\n",
      "2021-12-05 12:51:45.162351: I tensorflow/core/common_runtime/gpu/gpu_device.cc:1720] Found device 0 with properties: \n",
      "pciBusID: 0000:01:00.0 name: NVIDIA GeForce GTX 1080 computeCapability: 6.1\n",
      "coreClock: 1.8225GHz coreCount: 20 deviceMemorySize: 7.93GiB deviceMemoryBandwidth: 298.32GiB/s\n",
      "2021-12-05 12:51:45.162378: I tensorflow/stream_executor/platform/default/dso_loader.cc:49] Successfully opened dynamic library libcudart.so.10.1\n",
      "2021-12-05 12:51:45.167871: I tensorflow/stream_executor/platform/default/dso_loader.cc:49] Successfully opened dynamic library libcublas.so.10\n",
      "2021-12-05 12:51:45.167986: I tensorflow/stream_executor/platform/default/dso_loader.cc:49] Successfully opened dynamic library libcublasLt.so.10\n",
      "2021-12-05 12:51:45.170381: I tensorflow/stream_executor/platform/default/dso_loader.cc:49] Successfully opened dynamic library libcufft.so.10\n",
      "2021-12-05 12:51:45.172303: I tensorflow/stream_executor/platform/default/dso_loader.cc:49] Successfully opened dynamic library libcurand.so.10\n",
      "2021-12-05 12:51:45.177332: I tensorflow/stream_executor/platform/default/dso_loader.cc:49] Successfully opened dynamic library libcusolver.so.10\n",
      "2021-12-05 12:51:45.179024: I tensorflow/stream_executor/platform/default/dso_loader.cc:49] Successfully opened dynamic library libcusparse.so.10\n",
      "2021-12-05 12:51:45.185172: I tensorflow/stream_executor/platform/default/dso_loader.cc:49] Successfully opened dynamic library libcudnn.so.7\n",
      "2021-12-05 12:51:45.185371: I tensorflow/stream_executor/cuda/cuda_gpu_executor.cc:941] successful NUMA node read from SysFS had negative value (-1), but there must be at least one NUMA node, so returning NUMA node zero\n",
      "2021-12-05 12:51:45.185662: I tensorflow/stream_executor/cuda/cuda_gpu_executor.cc:941] successful NUMA node read from SysFS had negative value (-1), but there must be at least one NUMA node, so returning NUMA node zero\n",
      "2021-12-05 12:51:45.185775: I tensorflow/core/common_runtime/gpu/gpu_device.cc:1862] Adding visible gpu devices: 0\n"
     ]
    },
    {
     "data": {
      "text/plain": [
       "[PhysicalDevice(name='/physical_device:CPU:0', device_type='CPU'),\n",
       " PhysicalDevice(name='/physical_device:GPU:0', device_type='GPU')]"
      ]
     },
     "execution_count": 2,
     "metadata": {},
     "output_type": "execute_result"
    }
   ],
   "source": [
    "# lists possible devices (CPU, GPU)\n",
    "# used to check if GPU is recognized/exists\n",
    "tf.config.get_visible_devices()\n"
   ]
  },
  {
   "cell_type": "code",
   "execution_count": 3,
   "metadata": {
    "collapsed": false,
    "jupyter": {
     "outputs_hidden": false
    },
    "pycharm": {
     "name": "#%%\n"
    }
   },
   "outputs": [],
   "source": [
    "# preprocessing of the images applied when loading image data set from disk with\n",
    "# tensorflows flow_from_directory\n",
    "\n",
    "image_gen = keras.preprocessing.image.ImageDataGenerator(rotation_range=20,  # rotate the image 20 degrees\n",
    "                                                         width_shift_range=0.2,\n",
    "                                                         height_shift_range=0.2,\n",
    "                                                         rescale=1 / 255,  # Rescale the image by normalzing it.\n",
    "                                                         shear_range=0.15,\n",
    "                                                         # Shear means cutting away part of the image (max 20%)\n",
    "                                                         zoom_range=0.15,  # Zoom in by 15% max\n",
    "                                                         horizontal_flip=True,  # Allow horizontal flipping\n",
    "                                                         fill_mode='nearest'\n",
    "                                                         # Fill in missing pixels with the nearest filled value\n",
    "                                                         )"
   ]
  },
  {
   "cell_type": "code",
   "execution_count": 33,
   "metadata": {
    "collapsed": false,
    "jupyter": {
     "outputs_hidden": false
    },
    "pycharm": {
     "name": "#%%\n"
    }
   },
   "outputs": [],
   "source": [
    "# path to the image data set\n",
    "\n",
    "#train_data_path = './drive/MyDrive/Bachelor/data_balanced/train' #google colab\n",
    "#test_data_path = './drive/MyDrive/Bachelor/data_balanced/test' #google colab\n",
    "#validation_data_path = './drive/MyDrive/Bachelor/data_balanced/validation' #google colab\n",
    "train_data_path = './data/data_heavily_reduced/data_balanced/train'  #local notebook\n",
    "test_data_path = './data/data_heavily_reduced/data_balanced/test'  #local notebook\n",
    "validation_data_path = './data/data_heavily_reduced/data_balanced/val'  #local notebook\n"
   ]
  },
  {
   "cell_type": "code",
   "execution_count": 34,
   "metadata": {
    "collapsed": false,
    "jupyter": {
     "outputs_hidden": false
    },
    "pycharm": {
     "name": "#%%\n"
    }
   },
   "outputs": [
    {
     "name": "stdout",
     "output_type": "stream",
     "text": [
      "Found 7999 images belonging to 2 classes.\n"
     ]
    }
   ],
   "source": [
    "# generate training set by loading the images from their directories with flow_from_directory\n",
    "# important: the folder structure has to match! i.e {train} -> {ok,def}\n",
    "# at the \"same time\" the data augmentation is applied on the images through the ImageDataGenerator\n",
    "\n",
    "train_image_gen = image_gen.flow_from_directory(train_data_path,\n",
    "                                                target_size=(224, 224),\n",
    "                                                class_mode='binary')"
   ]
  },
  {
   "cell_type": "code",
   "execution_count": 35,
   "metadata": {
    "collapsed": false,
    "jupyter": {
     "outputs_hidden": false
    },
    "pycharm": {
     "name": "#%%\n"
    }
   },
   "outputs": [
    {
     "name": "stdout",
     "output_type": "stream",
     "text": [
      "Found 1001 images belonging to 2 classes.\n"
     ]
    }
   ],
   "source": [
    "# generate test set by loading the images from their directories with flow_from_directory\n",
    "# important: the folder structure has to match! i.e {test} -> {ok,def}\n",
    "# at the \"same time\" the data augmentation is applied on the images through the ImageDataGenerator\n",
    "\n",
    "test_image_gen = image_gen.flow_from_directory(test_data_path,\n",
    "                                               target_size=(224, 224),\n",
    "                                               class_mode='binary')"
   ]
  },
  {
   "cell_type": "code",
   "execution_count": 36,
   "metadata": {
    "collapsed": false,
    "jupyter": {
     "outputs_hidden": false
    },
    "pycharm": {
     "name": "#%%\n"
    }
   },
   "outputs": [
    {
     "name": "stdout",
     "output_type": "stream",
     "text": [
      "Found 999 images belonging to 2 classes.\n"
     ]
    }
   ],
   "source": [
    "# generate validation set by loading the images from their directories with flow_from_directory\n",
    "# important: the folder structure has to match! i.e {validation} -> {ok,def}\n",
    "# at the \"same time\" the data augmentation is applied on the images through the ImageDataGenerator\n",
    "\n",
    "valid_set = image_gen.flow_from_directory(validation_data_path,\n",
    "                                          target_size=(224, 224),\n",
    "                                          class_mode='binary')"
   ]
  },
  {
   "cell_type": "code",
   "execution_count": 4,
   "metadata": {
    "collapsed": false,
    "jupyter": {
     "outputs_hidden": false
    },
    "pycharm": {
     "name": "#%%\n"
    }
   },
   "outputs": [],
   "source": [
    "# saves the model and its weights as a json file in the folder saved_models\n",
    "\n",
    "def save_model(model, model_name):\n",
    "    my_model = model.to_json()\n",
    "    with open(f'./saved_models/{model_name}.json', \"w\") as file:\n",
    "        file.write(my_model)\n",
    "    # serialize weights to HDF5\n",
    "    model.save_weights(f'./saved_models/{model_name}_weights.h5')"
   ]
  },
  {
   "cell_type": "code",
   "execution_count": 5,
   "metadata": {
    "collapsed": false,
    "jupyter": {
     "outputs_hidden": false
    },
    "pycharm": {
     "name": "#%%\n"
    }
   },
   "outputs": [],
   "source": [
    "#TODO: load model no compiling ?\n",
    "\n",
    "def load_model(model_path, weight_path):\n",
    "  # load json and create model\n",
    "   file = open(model_path, 'r')\n",
    "   model_json = file.read()\n",
    "   file.close()\n",
    "   loaded_model = keras.models.model_from_json(model_json)\n",
    "   # load weights\n",
    "   loaded_model.load_weights(weight_path)\n",
    "   optimizer = keras.optimizers.Adam(learning_rate=0.0001, beta_1=0.9, beta_2=0.999)\n",
    "   loaded_model.compile(loss=\"binary_crossentropy\", optimizer=optimizer,\n",
    "                        metrics=['accuracy', 'Recall', 'Precision', 'AUC'])\n",
    "   return loaded_model"
   ]
  },
  {
   "cell_type": "code",
   "execution_count": 6,
   "metadata": {
    "collapsed": false,
    "jupyter": {
     "outputs_hidden": false
    },
    "pycharm": {
     "name": "#%%\n"
    }
   },
   "outputs": [],
   "source": [
    "# method to select the base model architecture\n",
    "# pretrained with the weights of the imagenet data set\n",
    "# the top layers are excluded and have to be implemented on top of the base model\n",
    "# currently Vgg16, Xception, ResNet50\n",
    "\n",
    "def build_base_model(model_selected, weights):\n",
    "    if model_selected == 'vgg':\n",
    "        return keras.applications.vgg16.VGG16(include_top=False, weights=weights)\n",
    "    if model_selected == 'xception':\n",
    "        return keras.applications.xception.Xception(include_top=False, weights=weights)\n",
    "    if model_selected == 'resnet':\n",
    "        return keras.applications.resnet50.ResNet50(include_top=False, weights=weights)"
   ]
  },
  {
   "cell_type": "code",
   "execution_count": 7,
   "metadata": {
    "collapsed": false,
    "jupyter": {
     "outputs_hidden": false
    },
    "pycharm": {
     "name": "#%%\n"
    }
   },
   "outputs": [],
   "source": [
    "# method which adds the new top layers on the base model and returns the now complete model\n",
    "\n",
    "def model_builder(input_model):\n",
    "    model_input = keras.Input(shape=(224, 224, 3), name='image_input')\n",
    "\n",
    "    output_base_model = input_model(model_input)\n",
    "\n",
    "    x = keras.layers.Flatten(name='flatten')(output_base_model)\n",
    "    x = keras.layers.Dense(1000)(x)\n",
    "    x = keras.layers.Dropout(0.25)(x)\n",
    "    x = keras.layers.BatchNormalization()(x)\n",
    "    x = keras.layers.Dense(1, activation='sigmoid')(x)\n",
    "\n",
    "    return keras.models.Model(model_input, x)"
   ]
  },
  {
   "cell_type": "code",
   "execution_count": 8,
   "metadata": {
    "collapsed": false,
    "jupyter": {
     "outputs_hidden": false
    },
    "pycharm": {
     "name": "#%%\n"
    }
   },
   "outputs": [],
   "source": [
    "# method activate the base models layers ability to learn (be trainable)\n",
    "# set to false for the first training run to not destroy the pretrained weights\n",
    "\n",
    "def set_layers_trainable(trainable, input_model):\n",
    "    for layer in input_model.layers:\n",
    "        layer.trainable = trainable"
   ]
  },
  {
   "cell_type": "code",
   "execution_count": 9,
   "metadata": {
    "collapsed": false,
    "jupyter": {
     "outputs_hidden": false
    },
    "pycharm": {
     "name": "#%%\n"
    }
   },
   "outputs": [],
   "source": [
    "# method to compile the model with the adam optimizer which returns the compiled model\n",
    "\n",
    "def compile_model(input_model, alpha, beta1, beta2, metrics):\n",
    "    optimizer = keras.optimizers.Adam(learning_rate=alpha, beta_1=beta1, beta_2=beta2)\n",
    "    model = model_builder(input_model)\n",
    "    model.compile(loss=\"binary_crossentropy\", optimizer=optimizer, metrics=metrics)\n",
    "\n",
    "    return model"
   ]
  },
  {
   "cell_type": "code",
   "execution_count": 10,
   "metadata": {
    "collapsed": false,
    "jupyter": {
     "outputs_hidden": false
    },
    "pycharm": {
     "name": "#%%\n"
    }
   },
   "outputs": [],
   "source": [
    "# method to train the model\n",
    "\n",
    "def train_model(input_model, train_set, test_set, epochs, callback):\n",
    "    return input_model.fit(train_set,\n",
    "                     validation_data=test_set,\n",
    "                     epochs=epochs,\n",
    "                     callbacks=callback)\n"
   ]
  },
  {
   "cell_type": "code",
   "execution_count": 43,
   "metadata": {
    "collapsed": false,
    "jupyter": {
     "outputs_hidden": false
    },
    "pycharm": {
     "name": "#%%\n"
    }
   },
   "outputs": [
    {
     "name": "stdout",
     "output_type": "stream",
     "text": [
      "Epoch 1/5\n",
      "134/250 [===============>..............] - ETA: 30s - loss: 0.4560 - accuracy: 0.8222 - recall: 0.8270 - precision: 0.8138 - auc: 0.8905"
     ]
    },
    {
     "name": "stderr",
     "output_type": "stream",
     "text": [
      "2021-12-05 10:11:17.749141: W tensorflow/core/common_runtime/bfc_allocator.cc:248] Allocator (GPU_0_bfc) ran out of memory trying to allocate 3.35GiB with freed_by_count=0. The caller indicates that this is not a failure, but may mean that there could be performance gains if more memory were available.\n"
     ]
    },
    {
     "name": "stdout",
     "output_type": "stream",
     "text": [
      "250/250 [==============================] - 94s 373ms/step - loss: 0.3861 - accuracy: 0.8516 - recall: 0.8525 - precision: 0.8481 - auc: 0.9179 - val_loss: 0.1747 - val_accuracy: 0.9311 - val_recall: 0.8942 - val_precision: 0.9655 - val_auc: 0.9845\n",
      "Epoch 2/5\n",
      "250/250 [==============================] - 89s 356ms/step - loss: 0.2068 - accuracy: 0.9241 - recall: 0.9221 - precision: 0.9274 - auc: 0.9758 - val_loss: 0.1023 - val_accuracy: 0.9560 - val_recall: 0.9641 - val_precision: 0.9489 - val_auc: 0.9937\n",
      "Epoch 3/5\n",
      "250/250 [==============================] - 88s 353ms/step - loss: 0.1717 - accuracy: 0.9392 - recall: 0.9397 - precision: 0.9385 - auc: 0.9821 - val_loss: 0.1183 - val_accuracy: 0.9600 - val_recall: 1.0000 - val_precision: 0.9261 - val_auc: 0.9938\n",
      "Epoch 4/5\n",
      "250/250 [==============================] - 91s 362ms/step - loss: 0.1526 - accuracy: 0.9425 - recall: 0.9441 - precision: 0.9421 - auc: 0.9857 - val_loss: 0.1422 - val_accuracy: 0.9411 - val_recall: 0.8942 - val_precision: 0.9868 - val_auc: 0.9950\n",
      "Epoch 5/5\n",
      "250/250 [==============================] - 84s 336ms/step - loss: 0.1225 - accuracy: 0.9551 - recall: 0.9562 - precision: 0.9541 - auc: 0.9902 - val_loss: 0.0761 - val_accuracy: 0.9740 - val_recall: 0.9880 - val_precision: 0.9612 - val_auc: 0.9971\n"
     ]
    }
   ],
   "source": [
    "# Script which uses\n",
    "# vgg16 as a base model\n",
    "# the adams optimizer with learning rate: 0.0001, beta_1: 0.9 and beta_2: 0.99\n",
    "# accuracy, recall, precision, auc as metrics\n",
    "# trains the frozen model for 5 epochs\n",
    "# defines an early stopping callback with an patience of 20\n",
    "# trains the unfrozen model (for 100 epoch) till early stopping stops the training\n",
    "# and prints the values of the metrics\n",
    "\n",
    "\n",
    "# set base model\n",
    "vgg16_base_model = build_base_model('vgg', 'imagenet')\n",
    "\n",
    "# freeze layers of base model for first train run\n",
    "set_layers_trainable(False, vgg16_base_model)\n",
    "\n",
    "# compile model (also builds the model)\n",
    "vgg16_model = compile_model(vgg16_base_model,0.0001, 0.9, 0.999, ['accuracy', 'Recall', 'Precision', 'AUC'])\n",
    "\n",
    "# train frozen layer model\n",
    "history = train_model(vgg16_model, train_image_gen, test_image_gen, 5, [])\n",
    "\n"
   ]
  },
  {
   "cell_type": "code",
   "execution_count": 17,
   "metadata": {
    "collapsed": false,
    "jupyter": {
     "outputs_hidden": false
    },
    "pycharm": {
     "name": "#%%\n"
    }
   },
   "outputs": [],
   "source": [
    "#save_model(vgg16_model, 'vgg16_5Epoch_frozen_train')"
   ]
  },
  {
   "cell_type": "code",
   "execution_count": 44,
   "metadata": {
    "collapsed": false,
    "jupyter": {
     "outputs_hidden": false
    },
    "pycharm": {
     "name": "#%%\n"
    }
   },
   "outputs": [
    {
     "name": "stderr",
     "output_type": "stream",
     "text": [
      "2021-12-05 10:21:33.201083: I tensorflow/core/profiler/lib/profiler_session.cc:136] Profiler session initializing.\n",
      "2021-12-05 10:21:33.201117: I tensorflow/core/profiler/lib/profiler_session.cc:155] Profiler session started.\n",
      "2021-12-05 10:21:33.201174: E tensorflow/core/profiler/internal/gpu/cupti_tracer.cc:1415] function cupti_interface_->Subscribe( &subscriber_, (CUpti_CallbackFunc)ApiCallback, this)failed with error CUPTI_ERROR_NOT_INITIALIZED\n",
      "2021-12-05 10:21:33.201191: I tensorflow/core/profiler/lib/profiler_session.cc:172] Profiler session tear down.\n"
     ]
    }
   ],
   "source": [
    "# unfreeze base model layers\n",
    "set_layers_trainable(True, vgg16_base_model)\n",
    "\n",
    "# compile model\n",
    "vgg16_model = compile_model(vgg16_base_model,0.0001, 0.9, 0.999, ['accuracy', 'Recall', 'Precision', 'AUC'])\n",
    "\n",
    "# define callback\n",
    "custom_early_stopping = keras.callbacks.EarlyStopping(patience=20)\n",
    "\n",
    "log_dir = \"logs/fit/\" + datetime.datetime.now().strftime(\"%Y%m%d-%H%M%S\")\n",
    "tensorboard_callback = tf.keras.callbacks.TensorBoard(log_dir=\"./logs\")"
   ]
  },
  {
   "cell_type": "code",
   "execution_count": 45,
   "metadata": {
    "collapsed": false,
    "jupyter": {
     "outputs_hidden": false
    },
    "pycharm": {
     "name": "#%%\n"
    }
   },
   "outputs": [
    {
     "name": "stdout",
     "output_type": "stream",
     "text": [
      "Epoch 1/100\n",
      "  1/250 [..............................] - ETA: 8:40 - loss: 0.8202 - accuracy: 0.5000 - recall: 0.5294 - precision: 0.5294 - auc: 0.5490"
     ]
    },
    {
     "name": "stderr",
     "output_type": "stream",
     "text": [
      "2021-12-05 10:21:39.622404: I tensorflow/core/profiler/lib/profiler_session.cc:136] Profiler session initializing.\n",
      "2021-12-05 10:21:39.622456: I tensorflow/core/profiler/lib/profiler_session.cc:155] Profiler session started.\n",
      "2021-12-05 10:21:39.622534: E tensorflow/core/profiler/internal/gpu/cupti_tracer.cc:1415] function cupti_interface_->Subscribe( &subscriber_, (CUpti_CallbackFunc)ApiCallback, this)failed with error CUPTI_ERROR_NOT_INITIALIZED\n"
     ]
    },
    {
     "name": "stdout",
     "output_type": "stream",
     "text": [
      "  2/250 [..............................] - ETA: 2:10 - loss: 0.8202 - accuracy: 0.5156 - recall: 0.5441 - precision: 0.5441 - auc: 0.5782"
     ]
    },
    {
     "name": "stderr",
     "output_type": "stream",
     "text": [
      "2021-12-05 10:21:40.334105: I tensorflow/core/profiler/lib/profiler_session.cc:71] Profiler session collecting data.\n",
      "2021-12-05 10:21:40.339506: I tensorflow/core/profiler/internal/gpu/cupti_collector.cc:228]  GpuTracer has collected 0 callback api events and 0 activity events. \n",
      "2021-12-05 10:21:40.360419: I tensorflow/core/profiler/lib/profiler_session.cc:172] Profiler session tear down.\n",
      "2021-12-05 10:21:40.362777: I tensorflow/core/profiler/rpc/client/save_profile.cc:137] Creating directory: ./logs/train/plugins/profile/2021_12_05_10_21_40\n",
      "2021-12-05 10:21:40.363627: I tensorflow/core/profiler/rpc/client/save_profile.cc:143] Dumped gzipped tool data for trace.json.gz to ./logs/train/plugins/profile/2021_12_05_10_21_40/pop-os.trace.json.gz\n",
      "2021-12-05 10:21:40.390678: I tensorflow/core/profiler/rpc/client/save_profile.cc:137] Creating directory: ./logs/train/plugins/profile/2021_12_05_10_21_40\n",
      "2021-12-05 10:21:40.394840: I tensorflow/core/profiler/rpc/client/save_profile.cc:143] Dumped gzipped tool data for memory_profile.json.gz to ./logs/train/plugins/profile/2021_12_05_10_21_40/pop-os.memory_profile.json.gz\n",
      "2021-12-05 10:21:40.395179: I tensorflow/core/profiler/rpc/client/capture_profile.cc:251] Creating directory: ./logs/train/plugins/profile/2021_12_05_10_21_40Dumped tool data for xplane.pb to ./logs/train/plugins/profile/2021_12_05_10_21_40/pop-os.xplane.pb\n",
      "Dumped tool data for overview_page.pb to ./logs/train/plugins/profile/2021_12_05_10_21_40/pop-os.overview_page.pb\n",
      "Dumped tool data for input_pipeline.pb to ./logs/train/plugins/profile/2021_12_05_10_21_40/pop-os.input_pipeline.pb\n",
      "Dumped tool data for tensorflow_stats.pb to ./logs/train/plugins/profile/2021_12_05_10_21_40/pop-os.tensorflow_stats.pb\n",
      "Dumped tool data for kernel_stats.pb to ./logs/train/plugins/profile/2021_12_05_10_21_40/pop-os.kernel_stats.pb\n",
      "\n"
     ]
    },
    {
     "name": "stdout",
     "output_type": "stream",
     "text": [
      " 35/250 [===>..........................] - ETA: 1:20 - loss: 0.5919 - accuracy: 0.7348 - recall: 0.7350 - precision: 0.7199 - auc: 0.8156"
     ]
    },
    {
     "name": "stderr",
     "output_type": "stream",
     "text": [
      "2021-12-05 10:21:58.367026: W tensorflow/core/common_runtime/bfc_allocator.cc:248] Allocator (GPU_0_bfc) ran out of memory trying to allocate 3.01GiB with freed_by_count=0. The caller indicates that this is not a failure, but may mean that there could be performance gains if more memory were available.\n"
     ]
    },
    {
     "name": "stdout",
     "output_type": "stream",
     "text": [
      "250/250 [==============================] - 110s 434ms/step - loss: 0.3679 - accuracy: 0.8446 - recall: 0.8461 - precision: 0.8379 - auc: 0.9243 - val_loss: 0.1307 - val_accuracy: 0.9530 - val_recall: 0.9880 - val_precision: 0.9235 - val_auc: 0.9911\n",
      "Epoch 2/100\n",
      "250/250 [==============================] - 97s 387ms/step - loss: 0.1335 - accuracy: 0.9484 - recall: 0.9507 - precision: 0.9472 - auc: 0.9888 - val_loss: 0.0840 - val_accuracy: 0.9730 - val_recall: 0.9461 - val_precision: 1.0000 - val_auc: 0.9980\n",
      "Epoch 3/100\n",
      "250/250 [==============================] - 97s 387ms/step - loss: 0.1284 - accuracy: 0.9503 - recall: 0.9551 - precision: 0.9448 - auc: 0.9897 - val_loss: 0.1014 - val_accuracy: 0.9660 - val_recall: 0.9980 - val_precision: 0.9381 - val_auc: 0.9981\n",
      "Epoch 4/100\n",
      "250/250 [==============================] - 98s 391ms/step - loss: 0.0892 - accuracy: 0.9623 - recall: 0.9659 - precision: 0.9607 - auc: 0.9945 - val_loss: 0.3044 - val_accuracy: 0.9121 - val_recall: 1.0000 - val_precision: 0.8506 - val_auc: 0.9868\n",
      "Epoch 5/100\n",
      "250/250 [==============================] - 97s 388ms/step - loss: 0.0697 - accuracy: 0.9717 - recall: 0.9749 - precision: 0.9697 - auc: 0.9967 - val_loss: 0.1676 - val_accuracy: 0.9401 - val_recall: 0.8822 - val_precision: 0.9977 - val_auc: 0.9954\n",
      "Epoch 6/100\n",
      "250/250 [==============================] - 97s 388ms/step - loss: 0.0785 - accuracy: 0.9720 - recall: 0.9731 - precision: 0.9712 - auc: 0.9957 - val_loss: 0.0535 - val_accuracy: 0.9760 - val_recall: 0.9601 - val_precision: 0.9918 - val_auc: 0.9992\n",
      "Epoch 7/100\n",
      "250/250 [==============================] - 97s 389ms/step - loss: 0.0447 - accuracy: 0.9831 - recall: 0.9851 - precision: 0.9811 - auc: 0.9987 - val_loss: 1.8282 - val_accuracy: 0.6484 - val_recall: 1.0000 - val_precision: 0.5873 - val_auc: 0.8520\n",
      "Epoch 8/100\n",
      "250/250 [==============================] - 98s 390ms/step - loss: 0.0505 - accuracy: 0.9807 - recall: 0.9801 - precision: 0.9819 - auc: 0.9983 - val_loss: 0.0238 - val_accuracy: 0.9900 - val_recall: 0.9800 - val_precision: 1.0000 - val_auc: 0.9999\n",
      "Epoch 9/100\n",
      "250/250 [==============================] - 98s 391ms/step - loss: 0.0416 - accuracy: 0.9863 - recall: 0.9870 - precision: 0.9851 - auc: 0.9982 - val_loss: 0.0322 - val_accuracy: 0.9880 - val_recall: 1.0000 - val_precision: 0.9766 - val_auc: 0.9986\n",
      "Epoch 10/100\n",
      "250/250 [==============================] - 99s 396ms/step - loss: 0.0546 - accuracy: 0.9801 - recall: 0.9814 - precision: 0.9773 - auc: 0.9978 - val_loss: 2.0253 - val_accuracy: 0.5465 - val_recall: 1.0000 - val_precision: 0.5246 - val_auc: 0.8426\n",
      "Epoch 11/100\n",
      "250/250 [==============================] - 96s 384ms/step - loss: 0.0453 - accuracy: 0.9832 - recall: 0.9886 - precision: 0.9777 - auc: 0.9983 - val_loss: 0.0965 - val_accuracy: 0.9690 - val_recall: 0.9980 - val_precision: 0.9434 - val_auc: 0.9967\n",
      "Epoch 12/100\n",
      "250/250 [==============================] - 96s 383ms/step - loss: 0.0685 - accuracy: 0.9788 - recall: 0.9766 - precision: 0.9815 - auc: 0.9958 - val_loss: 0.1507 - val_accuracy: 0.9431 - val_recall: 1.0000 - val_precision: 0.8978 - val_auc: 0.9980\n",
      "Epoch 13/100\n",
      "250/250 [==============================] - 96s 383ms/step - loss: 0.0279 - accuracy: 0.9888 - recall: 0.9913 - precision: 0.9858 - auc: 0.9994 - val_loss: 0.0947 - val_accuracy: 0.9660 - val_recall: 0.9321 - val_precision: 1.0000 - val_auc: 0.9989\n",
      "Epoch 14/100\n",
      "250/250 [==============================] - 96s 382ms/step - loss: 0.0326 - accuracy: 0.9872 - recall: 0.9887 - precision: 0.9854 - auc: 0.9992 - val_loss: 0.0130 - val_accuracy: 0.9950 - val_recall: 0.9900 - val_precision: 1.0000 - val_auc: 1.0000\n",
      "Epoch 15/100\n",
      "250/250 [==============================] - 96s 382ms/step - loss: 0.0205 - accuracy: 0.9919 - recall: 0.9925 - precision: 0.9916 - auc: 0.9993 - val_loss: 0.0209 - val_accuracy: 0.9910 - val_recall: 1.0000 - val_precision: 0.9824 - val_auc: 1.0000\n",
      "Epoch 16/100\n",
      "250/250 [==============================] - 96s 383ms/step - loss: 0.0188 - accuracy: 0.9942 - recall: 0.9939 - precision: 0.9943 - auc: 0.9993 - val_loss: 0.0387 - val_accuracy: 0.9860 - val_recall: 0.9741 - val_precision: 0.9980 - val_auc: 0.9988\n",
      "Epoch 17/100\n",
      "250/250 [==============================] - 97s 385ms/step - loss: 0.0258 - accuracy: 0.9890 - recall: 0.9889 - precision: 0.9888 - auc: 0.9996 - val_loss: 0.0705 - val_accuracy: 0.9800 - val_recall: 1.0000 - val_precision: 0.9616 - val_auc: 0.9974\n",
      "Epoch 18/100\n",
      "250/250 [==============================] - 98s 391ms/step - loss: 0.0418 - accuracy: 0.9842 - recall: 0.9861 - precision: 0.9819 - auc: 0.9984 - val_loss: 0.0293 - val_accuracy: 0.9890 - val_recall: 1.0000 - val_precision: 0.9785 - val_auc: 1.0000\n",
      "Epoch 19/100\n",
      "250/250 [==============================] - 96s 383ms/step - loss: 0.0203 - accuracy: 0.9926 - recall: 0.9915 - precision: 0.9936 - auc: 0.9996 - val_loss: 0.0398 - val_accuracy: 0.9850 - val_recall: 1.0000 - val_precision: 0.9709 - val_auc: 1.0000\n",
      "Epoch 20/100\n",
      "250/250 [==============================] - 96s 383ms/step - loss: 0.0225 - accuracy: 0.9923 - recall: 0.9913 - precision: 0.9933 - auc: 0.9994 - val_loss: 0.0038 - val_accuracy: 0.9990 - val_recall: 0.9980 - val_precision: 1.0000 - val_auc: 1.0000\n",
      "Epoch 21/100\n",
      "250/250 [==============================] - 96s 382ms/step - loss: 0.0159 - accuracy: 0.9930 - recall: 0.9938 - precision: 0.9922 - auc: 0.9998 - val_loss: 0.0042 - val_accuracy: 0.9990 - val_recall: 0.9980 - val_precision: 1.0000 - val_auc: 1.0000\n",
      "Epoch 22/100\n",
      "250/250 [==============================] - 96s 383ms/step - loss: 0.0242 - accuracy: 0.9914 - recall: 0.9899 - precision: 0.9929 - auc: 0.9992 - val_loss: 0.0365 - val_accuracy: 0.9860 - val_recall: 0.9721 - val_precision: 1.0000 - val_auc: 0.9990\n",
      "Epoch 23/100\n",
      "250/250 [==============================] - 99s 395ms/step - loss: 0.0159 - accuracy: 0.9942 - recall: 0.9955 - precision: 0.9932 - auc: 0.9992 - val_loss: 0.4394 - val_accuracy: 0.8332 - val_recall: 0.6667 - val_precision: 1.0000 - val_auc: 0.9929\n",
      "Epoch 24/100\n",
      "250/250 [==============================] - 96s 382ms/step - loss: 0.0216 - accuracy: 0.9924 - recall: 0.9929 - precision: 0.9918 - auc: 0.9987 - val_loss: 0.0225 - val_accuracy: 0.9900 - val_recall: 1.0000 - val_precision: 0.9804 - val_auc: 1.0000\n",
      "Epoch 25/100\n",
      "250/250 [==============================] - 98s 391ms/step - loss: 0.0247 - accuracy: 0.9904 - recall: 0.9921 - precision: 0.9882 - auc: 0.9995 - val_loss: 0.0061 - val_accuracy: 0.9990 - val_recall: 1.0000 - val_precision: 0.9980 - val_auc: 1.0000\n",
      "Epoch 26/100\n",
      "250/250 [==============================] - 96s 383ms/step - loss: 0.0176 - accuracy: 0.9934 - recall: 0.9922 - precision: 0.9947 - auc: 0.9997 - val_loss: 0.0513 - val_accuracy: 0.9810 - val_recall: 0.9621 - val_precision: 1.0000 - val_auc: 1.0000\n",
      "Epoch 27/100\n",
      "250/250 [==============================] - 96s 384ms/step - loss: 0.0065 - accuracy: 0.9979 - recall: 0.9978 - precision: 0.9980 - auc: 0.9999 - val_loss: 0.0305 - val_accuracy: 0.9840 - val_recall: 0.9681 - val_precision: 1.0000 - val_auc: 1.0000\n",
      "Epoch 28/100\n",
      "250/250 [==============================] - 96s 383ms/step - loss: 0.0442 - accuracy: 0.9839 - recall: 0.9833 - precision: 0.9844 - auc: 0.9979 - val_loss: 0.0062 - val_accuracy: 0.9980 - val_recall: 0.9960 - val_precision: 1.0000 - val_auc: 1.0000\n",
      "Epoch 29/100\n",
      "250/250 [==============================] - 96s 383ms/step - loss: 0.0135 - accuracy: 0.9944 - recall: 0.9932 - precision: 0.9958 - auc: 0.9998 - val_loss: 0.0203 - val_accuracy: 0.9940 - val_recall: 0.9920 - val_precision: 0.9960 - val_auc: 0.9988\n",
      "Epoch 30/100\n",
      "250/250 [==============================] - 99s 396ms/step - loss: 0.0149 - accuracy: 0.9946 - recall: 0.9941 - precision: 0.9950 - auc: 0.9996 - val_loss: 0.0130 - val_accuracy: 0.9960 - val_recall: 1.0000 - val_precision: 0.9921 - val_auc: 1.0000\n",
      "Epoch 31/100\n",
      "250/250 [==============================] - 96s 382ms/step - loss: 0.0166 - accuracy: 0.9928 - recall: 0.9919 - precision: 0.9935 - auc: 0.9998 - val_loss: 0.0644 - val_accuracy: 0.9790 - val_recall: 0.9581 - val_precision: 1.0000 - val_auc: 0.9980\n",
      "Epoch 32/100\n",
      "250/250 [==============================] - 98s 391ms/step - loss: 0.0128 - accuracy: 0.9944 - recall: 0.9941 - precision: 0.9945 - auc: 0.9997 - val_loss: 0.1853 - val_accuracy: 0.9500 - val_recall: 1.0000 - val_precision: 0.9093 - val_auc: 0.9930\n",
      "Epoch 33/100\n",
      "250/250 [==============================] - 96s 383ms/step - loss: 0.0139 - accuracy: 0.9945 - recall: 0.9942 - precision: 0.9949 - auc: 0.9998 - val_loss: 0.0092 - val_accuracy: 0.9980 - val_recall: 1.0000 - val_precision: 0.9960 - val_auc: 0.9990\n",
      "Epoch 34/100\n",
      "250/250 [==============================] - 96s 382ms/step - loss: 0.0198 - accuracy: 0.9936 - recall: 0.9950 - precision: 0.9922 - auc: 0.9993 - val_loss: 0.6697 - val_accuracy: 0.8372 - val_recall: 1.0000 - val_precision: 0.7545 - val_auc: 0.9550\n",
      "Epoch 35/100\n",
      "250/250 [==============================] - 99s 396ms/step - loss: 0.0134 - accuracy: 0.9950 - recall: 0.9960 - precision: 0.9939 - auc: 0.9999 - val_loss: 0.0026 - val_accuracy: 0.9990 - val_recall: 1.0000 - val_precision: 0.9980 - val_auc: 1.0000\n",
      "Epoch 36/100\n",
      "250/250 [==============================] - 96s 381ms/step - loss: 0.0210 - accuracy: 0.9913 - recall: 0.9908 - precision: 0.9917 - auc: 0.9995 - val_loss: 0.0062 - val_accuracy: 0.9980 - val_recall: 0.9980 - val_precision: 0.9980 - val_auc: 1.0000\n",
      "Epoch 37/100\n",
      "250/250 [==============================] - 92s 368ms/step - loss: 0.0081 - accuracy: 0.9977 - recall: 0.9971 - precision: 0.9984 - auc: 1.0000 - val_loss: 0.0034 - val_accuracy: 0.9990 - val_recall: 1.0000 - val_precision: 0.9980 - val_auc: 1.0000\n",
      "Epoch 38/100\n",
      "250/250 [==============================] - 91s 363ms/step - loss: 0.0118 - accuracy: 0.9963 - recall: 0.9959 - precision: 0.9966 - auc: 0.9996 - val_loss: 0.0044 - val_accuracy: 0.9990 - val_recall: 0.9980 - val_precision: 1.0000 - val_auc: 1.0000\n",
      "Epoch 39/100\n",
      "250/250 [==============================] - 92s 368ms/step - loss: 0.0127 - accuracy: 0.9946 - recall: 0.9954 - precision: 0.9938 - auc: 0.9998 - val_loss: 0.0500 - val_accuracy: 0.9830 - val_recall: 1.0000 - val_precision: 0.9672 - val_auc: 0.9990\n",
      "Epoch 40/100\n",
      "250/250 [==============================] - 94s 374ms/step - loss: 0.0169 - accuracy: 0.9952 - recall: 0.9960 - precision: 0.9941 - auc: 0.9993 - val_loss: 0.0016 - val_accuracy: 1.0000 - val_recall: 1.0000 - val_precision: 1.0000 - val_auc: 1.0000\n",
      "Epoch 41/100\n",
      "250/250 [==============================] - 128s 511ms/step - loss: 0.0172 - accuracy: 0.9940 - recall: 0.9942 - precision: 0.9939 - auc: 0.9996 - val_loss: 0.0714 - val_accuracy: 0.9750 - val_recall: 0.9501 - val_precision: 1.0000 - val_auc: 0.9999\n",
      "Epoch 42/100\n",
      "250/250 [==============================] - 105s 418ms/step - loss: 0.0119 - accuracy: 0.9960 - recall: 0.9952 - precision: 0.9968 - auc: 0.9996 - val_loss: 0.0078 - val_accuracy: 0.9970 - val_recall: 1.0000 - val_precision: 0.9940 - val_auc: 1.0000\n",
      "Epoch 43/100\n",
      "250/250 [==============================] - 99s 393ms/step - loss: 0.0159 - accuracy: 0.9933 - recall: 0.9919 - precision: 0.9947 - auc: 0.9998 - val_loss: 0.0043 - val_accuracy: 0.9990 - val_recall: 0.9980 - val_precision: 1.0000 - val_auc: 1.0000\n",
      "Epoch 44/100\n",
      "250/250 [==============================] - 98s 392ms/step - loss: 0.0093 - accuracy: 0.9957 - recall: 0.9953 - precision: 0.9962 - auc: 0.9999 - val_loss: 0.1115 - val_accuracy: 0.9500 - val_recall: 1.0000 - val_precision: 0.9093 - val_auc: 0.9999\n",
      "Epoch 45/100\n",
      "250/250 [==============================] - 100s 398ms/step - loss: 0.0099 - accuracy: 0.9964 - recall: 0.9956 - precision: 0.9972 - auc: 0.9999 - val_loss: 9.5111e-04 - val_accuracy: 1.0000 - val_recall: 1.0000 - val_precision: 1.0000 - val_auc: 1.0000\n",
      "Epoch 46/100\n",
      "250/250 [==============================] - 99s 394ms/step - loss: 0.0238 - accuracy: 0.9920 - recall: 0.9924 - precision: 0.9916 - auc: 0.9989 - val_loss: 0.0083 - val_accuracy: 0.9990 - val_recall: 1.0000 - val_precision: 0.9980 - val_auc: 1.0000\n",
      "Epoch 47/100\n",
      "250/250 [==============================] - 98s 389ms/step - loss: 0.0127 - accuracy: 0.9945 - recall: 0.9957 - precision: 0.9932 - auc: 0.9999 - val_loss: 0.0077 - val_accuracy: 0.9970 - val_recall: 1.0000 - val_precision: 0.9940 - val_auc: 1.0000\n",
      "Epoch 48/100\n",
      "250/250 [==============================] - 97s 389ms/step - loss: 0.0136 - accuracy: 0.9955 - recall: 0.9956 - precision: 0.9954 - auc: 0.9996 - val_loss: 0.0040 - val_accuracy: 0.9990 - val_recall: 1.0000 - val_precision: 0.9980 - val_auc: 1.0000\n",
      "Epoch 49/100\n",
      "250/250 [==============================] - 97s 388ms/step - loss: 0.0127 - accuracy: 0.9948 - recall: 0.9949 - precision: 0.9947 - auc: 0.9999 - val_loss: 0.0033 - val_accuracy: 1.0000 - val_recall: 1.0000 - val_precision: 1.0000 - val_auc: 1.0000\n",
      "Epoch 50/100\n",
      "250/250 [==============================] - 98s 391ms/step - loss: 0.0078 - accuracy: 0.9961 - recall: 0.9938 - precision: 0.9985 - auc: 1.0000 - val_loss: 0.1190 - val_accuracy: 0.9670 - val_recall: 1.0000 - val_precision: 0.9382 - val_auc: 0.9950\n",
      "Epoch 51/100\n",
      "250/250 [==============================] - 97s 387ms/step - loss: 0.0094 - accuracy: 0.9965 - recall: 0.9974 - precision: 0.9956 - auc: 0.9998 - val_loss: 0.0026 - val_accuracy: 0.9990 - val_recall: 0.9980 - val_precision: 1.0000 - val_auc: 1.0000\n",
      "Epoch 52/100\n",
      "250/250 [==============================] - 98s 391ms/step - loss: 0.0071 - accuracy: 0.9969 - recall: 0.9964 - precision: 0.9975 - auc: 0.9999 - val_loss: 0.0096 - val_accuracy: 0.9970 - val_recall: 1.0000 - val_precision: 0.9940 - val_auc: 1.0000\n",
      "Epoch 53/100\n",
      "250/250 [==============================] - 98s 389ms/step - loss: 0.0116 - accuracy: 0.9950 - recall: 0.9954 - precision: 0.9949 - auc: 0.9999 - val_loss: 0.0018 - val_accuracy: 1.0000 - val_recall: 1.0000 - val_precision: 1.0000 - val_auc: 1.0000\n",
      "Epoch 54/100\n",
      "250/250 [==============================] - 91s 362ms/step - loss: 0.0059 - accuracy: 0.9977 - recall: 0.9981 - precision: 0.9972 - auc: 1.0000 - val_loss: 0.0024 - val_accuracy: 0.9990 - val_recall: 1.0000 - val_precision: 0.9980 - val_auc: 1.0000\n",
      "Epoch 55/100\n",
      "250/250 [==============================] - 94s 375ms/step - loss: 0.0116 - accuracy: 0.9967 - recall: 0.9971 - precision: 0.9962 - auc: 0.9997 - val_loss: 0.0036 - val_accuracy: 0.9990 - val_recall: 1.0000 - val_precision: 0.9980 - val_auc: 1.0000\n",
      "Epoch 56/100\n",
      "250/250 [==============================] - 96s 383ms/step - loss: 0.0039 - accuracy: 0.9982 - recall: 0.9986 - precision: 0.9978 - auc: 1.0000 - val_loss: 0.0014 - val_accuracy: 0.9990 - val_recall: 1.0000 - val_precision: 0.9980 - val_auc: 1.0000\n",
      "Epoch 57/100\n",
      "250/250 [==============================] - 97s 386ms/step - loss: 0.0122 - accuracy: 0.9968 - recall: 0.9968 - precision: 0.9968 - auc: 0.9995 - val_loss: 0.0020 - val_accuracy: 1.0000 - val_recall: 1.0000 - val_precision: 1.0000 - val_auc: 1.0000\n",
      "Epoch 58/100\n",
      "250/250 [==============================] - 93s 370ms/step - loss: 0.0054 - accuracy: 0.9978 - recall: 0.9980 - precision: 0.9975 - auc: 0.9998 - val_loss: 0.0014 - val_accuracy: 0.9990 - val_recall: 0.9980 - val_precision: 1.0000 - val_auc: 1.0000\n",
      "Epoch 59/100\n",
      "250/250 [==============================] - 92s 368ms/step - loss: 0.0112 - accuracy: 0.9978 - recall: 0.9979 - precision: 0.9978 - auc: 0.9992 - val_loss: 0.0166 - val_accuracy: 0.9950 - val_recall: 1.0000 - val_precision: 0.9901 - val_auc: 0.9990\n",
      "Epoch 60/100\n",
      "250/250 [==============================] - 95s 381ms/step - loss: 0.0090 - accuracy: 0.9974 - recall: 0.9968 - precision: 0.9981 - auc: 0.9997 - val_loss: 0.0090 - val_accuracy: 0.9980 - val_recall: 1.0000 - val_precision: 0.9960 - val_auc: 1.0000\n",
      "Epoch 61/100\n",
      "250/250 [==============================] - 92s 365ms/step - loss: 0.0103 - accuracy: 0.9969 - recall: 0.9969 - precision: 0.9969 - auc: 0.9999 - val_loss: 0.0073 - val_accuracy: 0.9990 - val_recall: 1.0000 - val_precision: 0.9980 - val_auc: 0.9999\n",
      "Epoch 62/100\n",
      "250/250 [==============================] - 95s 378ms/step - loss: 0.0062 - accuracy: 0.9973 - recall: 0.9973 - precision: 0.9974 - auc: 0.9999 - val_loss: 0.0029 - val_accuracy: 0.9990 - val_recall: 1.0000 - val_precision: 0.9980 - val_auc: 1.0000\n",
      "Epoch 63/100\n",
      "250/250 [==============================] - 95s 380ms/step - loss: 0.0177 - accuracy: 0.9944 - recall: 0.9951 - precision: 0.9939 - auc: 0.9991 - val_loss: 0.0662 - val_accuracy: 0.9820 - val_recall: 1.0000 - val_precision: 0.9653 - val_auc: 0.9960\n",
      "Epoch 64/100\n",
      "250/250 [==============================] - 91s 365ms/step - loss: 0.0141 - accuracy: 0.9952 - recall: 0.9962 - precision: 0.9943 - auc: 0.9999 - val_loss: 0.0025 - val_accuracy: 0.9990 - val_recall: 0.9980 - val_precision: 1.0000 - val_auc: 1.0000\n",
      "Epoch 65/100\n",
      "250/250 [==============================] - 91s 365ms/step - loss: 0.0063 - accuracy: 0.9982 - recall: 0.9982 - precision: 0.9982 - auc: 0.9999 - val_loss: 0.0017 - val_accuracy: 1.0000 - val_recall: 1.0000 - val_precision: 1.0000 - val_auc: 1.0000\n"
     ]
    }
   ],
   "source": [
    "# train complete model\n",
    "history = train_model(vgg16_model, train_image_gen, test_image_gen, 100, [custom_early_stopping, tensorboard_callback])\n"
   ]
  },
  {
   "cell_type": "code",
   "execution_count": 46,
   "metadata": {
    "collapsed": false,
    "jupyter": {
     "outputs_hidden": false
    },
    "pycharm": {
     "name": "#%%\n"
    }
   },
   "outputs": [
    {
     "name": "stdout",
     "output_type": "stream",
     "text": [
      "32/32 [==============================] - 13s 419ms/step - loss: 8.1372e-04 - accuracy: 1.0000 - recall: 1.0000 - precision: 1.0000 - auc: 1.0000\n"
     ]
    }
   ],
   "source": [
    "\n",
    "# metrics from the paper:\n",
    "# accuracy = 0.959, precision = 0.939, recall = 0.980, f1-score = 0.959, auc value = 0.982\n",
    "loss, accuracy, recall, precision, auc = vgg16_model.evaluate(valid_set)\n",
    "\n"
   ]
  },
  {
   "cell_type": "code",
   "execution_count": 48,
   "metadata": {
    "collapsed": false,
    "jupyter": {
     "outputs_hidden": false
    },
    "pycharm": {
     "name": "#%%\n"
    }
   },
   "outputs": [
    {
     "name": "stdout",
     "output_type": "stream",
     "text": [
      "loss: 0.0008137187105603516, \n",
      "accuracy: 1.0, \n",
      "recall: 1.0, \n",
      "precision: 1.0, \n",
      "auc: 1.0, \n",
      "F1: 1.0\n"
     ]
    }
   ],
   "source": [
    "# F1 score\n",
    "f1 = 2 * ((precision * recall) / (precision + recall))\n",
    "\n",
    "print(f\"loss: {loss}, \\n\"\n",
    "      f\"accuracy: {accuracy}, \\n\"\n",
    "      f\"recall: {recall}, \\n\"\n",
    "      f\"precision: {precision}, \\n\"\n",
    "      f\"auc: {auc}, \\n\"\n",
    "      f\"F1: {f1}\")"
   ]
  },
  {
   "cell_type": "code",
   "execution_count": 49,
   "metadata": {
    "collapsed": false,
    "jupyter": {
     "outputs_hidden": false
    },
    "pycharm": {
     "name": "#%%\n"
    }
   },
   "outputs": [
    {
     "data": {
      "image/png": "[encoded data removed]",
      "text/plain": [
       "<Figure size 576x360 with 1 Axes>"
      ]
     },
     "metadata": {
      "needs_background": "light"
     },
     "output_type": "display_data"
    }
   ],
   "source": [
    "pd.DataFrame(history.history).plot(figsize=(8, 5))\n",
    "plt.grid(True)\n",
    "plt.gca().set_ylim(0, 1)  # set the vertical range to [0-1]\n",
    "plt.show()\n"
   ]
  },
  {
   "cell_type": "code",
   "execution_count": 50,
   "metadata": {},
   "outputs": [
    {
     "data": {
      "image/png": "[encoded data removed]",
      "text/plain": [
       "<Figure size 432x288 with 2 Axes>"
      ]
     },
     "metadata": {
      "needs_background": "light"
     },
     "output_type": "display_data"
    }
   ],
   "source": [
    "# plot loss during training\n",
    "plt.subplot(211)\n",
    "plt.title('Loss')\n",
    "plt.plot(history.history['loss'], label='train')\n",
    "plt.plot(history.history['val_loss'], label='test')\n",
    "plt.legend()\n",
    "# plot accuracy during training\n",
    "plt.subplot(212)\n",
    "plt.title('Accuracy')\n",
    "plt.plot(history.history['accuracy'], label='train')\n",
    "plt.plot(history.history['val_accuracy'], label='test')\n",
    "plt.legend()\n",
    "plt.show()"
   ]
  },
  {
   "cell_type": "code",
   "execution_count": 51,
   "metadata": {
    "collapsed": false,
    "jupyter": {
     "outputs_hidden": false
    },
    "pycharm": {
     "name": "#%%\n"
    }
   },
   "outputs": [],
   "source": [
    "# uses the save_model method to save the model and its weights to the hard drive\n",
    "save_model(vgg16_model, 'vgg16_heavily_reduced_data')"
   ]
  },
  {
   "cell_type": "code",
   "execution_count": 52,
   "metadata": {
    "collapsed": false,
    "jupyter": {
     "outputs_hidden": false
    },
    "pycharm": {
     "name": "#%%\n"
    }
   },
   "outputs": [
    {
     "name": "stderr",
     "output_type": "stream",
     "text": [
      "UsageError: Line magic function `%tensorboard` not found.\n"
     ]
    }
   ],
   "source": [
    "%tensorboard --logdir logs/fit"
   ]
  },
  {
   "cell_type": "code",
   "execution_count": null,
   "metadata": {
    "collapsed": false,
    "jupyter": {
     "outputs_hidden": false
    },
    "pycharm": {
     "name": "#%%\n"
    }
   },
   "outputs": [],
   "source": [
    "# original = cv2.imread('random-img.jpg')\n",
    "# rgb = cv2.cvtColor(original, cv2.COLOR_BGR2RGB)\n",
    "# img = cv2.resize(rgb,(224,224)) / 255\n",
    "# plt.imshow(img)\n",
    "# img.shape\n",
    "#\n",
    "# images = np.array([img])\n",
    "# height, width, channels = image.shape"
   ]
  },
  {
   "cell_type": "code",
   "execution_count": null,
   "metadata": {
    "collapsed": false,
    "jupyter": {
     "outputs_hidden": false
    },
    "pycharm": {
     "name": "#%%\n"
    }
   },
   "outputs": [],
   "source": [
    "inputs = keras.applications.vgg16.preprocess_input(images * 255)"
   ]
  },
  {
   "cell_type": "code",
   "execution_count": null,
   "metadata": {},
   "outputs": [],
   "source": [
    "# metrics from the paper:\n",
    "# accuracy = 0.959, precision = 0.939, recall = 0.980, f1-score = 0.959, auc value = 0.982\n",
    "loss, accuracy, recall, precision, auc = full_model.evaluate(valid_set)\n",
    "# F1 score\n",
    "f1 = 2 * ((precision * recall) / (precision + recall))\n",
    "\n",
    "print(f\"loss: {loss}, \\n\"\n",
    "      f\"accuracy: {accuracy}, \\n\"\n",
    "      f\"recall: {recall}, \\n\"\n",
    "      f\"precision: {precision}, \\n\"\n",
    "      f\"auc: {auc}, \\n\"\n",
    "      f\"F1: {f1}\")"
   ]
  },
  {
   "cell_type": "code",
   "execution_count": null,
   "metadata": {},
   "outputs": [],
   "source": [
    "# metrics from the paper:\n",
    "# accuracy = 0.959, precision = 0.939, recall = 0.980, f1-score = 0.959, auc value = 0.982\n",
    "loss, accuracy, recall, precision, auc = heavy_reduced_model.evaluate(valid_set)\n",
    "# F1 score\n",
    "f1 = 2 * ((precision * recall) / (precision + recall))\n",
    "\n",
    "print(f\"loss: {loss}, \\n\"\n",
    "      f\"accuracy: {accuracy}, \\n\"\n",
    "      f\"recall: {recall}, \\n\"\n",
    "      f\"precision: {precision}, \\n\"\n",
    "      f\"auc: {auc}, \\n\"\n",
    "      f\"F1: {f1}\")"
   ]
  }
 ],
 "metadata": {
  "kernelspec": {
   "display_name": "PyCharm (Quality Control of SLS manufacturing using Convolutional Neural Networks -implementation)",
   "language": "python",
   "name": "pycharm-8f8e9c42"
  },
  "language_info": {
   "codemirror_mode": {
    "name": "ipython",
    "version": 3
   },
   "file_extension": ".py",
   "mimetype": "text/x-python",
   "name": "python",
   "nbconvert_exporter": "python",
   "pygments_lexer": "ipython3",
   "version": "3.9.7"
  }
 },
 "nbformat": 4,
 "nbformat_minor": 4
}