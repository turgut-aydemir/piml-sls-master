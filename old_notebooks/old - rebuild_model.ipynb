{
 "cells": [
  {
   "cell_type": "code",
   "execution_count": 1,
   "metadata": {
    "tags": []
   },
   "outputs": [
    {
     "name": "stderr",
     "output_type": "stream",
     "text": [
      "2021-12-05 23:18:26.784432: I tensorflow/stream_executor/platform/default/dso_loader.cc:49] Successfully opened dynamic library libcudart.so.10.1\n"
     ]
    }
   ],
   "source": [
    "import tensorflow as tf\n",
    "from tensorflow import keras\n",
    "import numpy as np\n",
    "import datetime\n",
    "\n",
    "np.random.seed(42)\n",
    "tf.random.set_seed(42)\n",
    "\n",
    "import matplotlib as mpl\n",
    "import matplotlib.pyplot as plt\n",
    "\n",
    "mpl.rc('axes', labelsize=14)\n",
    "mpl.rc('xtick', labelsize=12)\n",
    "mpl.rc('ytick', labelsize=12)"
   ]
  },
  {
   "cell_type": "code",
   "execution_count": 2,
   "metadata": {
    "collapsed": false,
    "jupyter": {
     "outputs_hidden": false
    },
    "pycharm": {
     "name": "#%%\n"
    }
   },
   "outputs": [
    {
     "name": "stderr",
     "output_type": "stream",
     "text": [
      "2021-12-05 23:18:29.499843: I tensorflow/compiler/jit/xla_cpu_device.cc:41] Not creating XLA devices, tf_xla_enable_xla_devices not set\n",
      "2021-12-05 23:18:29.500625: I tensorflow/stream_executor/platform/default/dso_loader.cc:49] Successfully opened dynamic library libcuda.so.1\n",
      "2021-12-05 23:18:29.560300: I tensorflow/stream_executor/cuda/cuda_gpu_executor.cc:941] successful NUMA node read from SysFS had negative value (-1), but there must be at least one NUMA node, so returning NUMA node zero\n",
      "2021-12-05 23:18:29.560475: I tensorflow/core/common_runtime/gpu/gpu_device.cc:1720] Found device 0 with properties: \n",
      "pciBusID: 0000:01:00.0 name: NVIDIA GeForce GTX 1080 computeCapability: 6.1\n",
      "coreClock: 1.8225GHz coreCount: 20 deviceMemorySize: 7.93GiB deviceMemoryBandwidth: 298.32GiB/s\n",
      "2021-12-05 23:18:29.560495: I tensorflow/stream_executor/platform/default/dso_loader.cc:49] Successfully opened dynamic library libcudart.so.10.1\n",
      "2021-12-05 23:18:29.562129: I tensorflow/stream_executor/platform/default/dso_loader.cc:49] Successfully opened dynamic library libcublas.so.10\n",
      "2021-12-05 23:18:29.562176: I tensorflow/stream_executor/pl"
     ]
    },
    {
     "data": {
      "text/plain": "[PhysicalDevice(name='/physical_device:CPU:0', device_type='CPU'),\n PhysicalDevice(name='/physical_device:GPU:0', device_type='GPU')]"
     },
     "execution_count": 2,
     "metadata": {},
     "output_type": "execute_result"
    },
    {
     "name": "stderr",
     "output_type": "stream",
     "text": [
      "atform/default/dso_loader.cc:49] Successfully opened dynamic library libcublasLt.so.10\n",
      "2021-12-05 23:18:29.563627: I tensorflow/stream_executor/platform/default/dso_loader.cc:49] Successfully opened dynamic library libcufft.so.10\n",
      "2021-12-05 23:18:29.563896: I tensorflow/stream_executor/platform/default/dso_loader.cc:49] Successfully opened dynamic library libcurand.so.10\n",
      "2021-12-05 23:18:29.565621: I tensorflow/stream_executor/platform/default/dso_loader.cc:49] Successfully opened dynamic library libcusolver.so.10\n",
      "2021-12-05 23:18:29.566635: I tensorflow/stream_executor/platform/default/dso_loader.cc:49] Successfully opened dynamic library libcusparse.so.10\n",
      "2021-12-05 23:18:29.570317: I tensorflow/stream_executor/platform/default/dso_loader.cc:49] Successfully opened dynamic library libcudnn.so.7\n",
      "2021-12-05 23:18:29.570462: I tensorflow/stream_executor/cuda/cuda_gpu_executor.cc:941] successful NUMA node read from SysFS had negative value (-1), but there must be at least one NUMA node, so returning NUMA node zero\n",
      "2021-12-05 23:18:29.570706: I tensorflow/stream_executor/cuda/cuda_gpu_executor.cc:941] successful NUMA node read from SysFS had negative value (-1), but there must be at least one NUMA node, so returning NUMA node zero\n",
      "2021-12-05 23:18:29.570814: I tensorflow/core/common_runtime/gpu/gpu_device.cc:1862] Adding visible gpu devices: 0\n"
     ]
    }
   ],
   "source": [
    "# lists possible devices (CPU, GPU)\n",
    "# used to check if GPU is recognized/exists\n",
    "tf.config.get_visible_devices()\n"
   ]
  },
  {
   "cell_type": "code",
   "execution_count": 3,
   "metadata": {
    "collapsed": false,
    "jupyter": {
     "outputs_hidden": false
    },
    "pycharm": {
     "name": "#%%\n"
    }
   },
   "outputs": [],
   "source": [
    "# preprocessing of the images applied when loading image data set from disk with\n",
    "# tensorflows flow_from_directory\n",
    "\n",
    "image_gen = keras.preprocessing.image.ImageDataGenerator(rotation_range=20,  # rotate the image 20 degrees\n",
    "                                                         width_shift_range=0.2,\n",
    "                                                         height_shift_range=0.2,\n",
    "                                                         rescale=1 / 255,  # Rescale the image by normalzing it.\n",
    "                                                         shear_range=0.15,\n",
    "                                                         # Shear means cutting away part of the image (max 20%)\n",
    "                                                         zoom_range=0.15,  # Zoom in by 15% max\n",
    "                                                         horizontal_flip=True,  # Allow horizontal flipping\n",
    "                                                         fill_mode='nearest'\n",
    "                                                         # Fill in missing pixels with the nearest filled value\n",
    "                                                         )"
   ]
  },
  {
   "cell_type": "code",
   "execution_count": 30,
   "metadata": {
    "collapsed": false,
    "jupyter": {
     "outputs_hidden": false
    },
    "pycharm": {
     "name": "#%%\n"
    }
   },
   "outputs": [],
   "source": [
    "# path to the image data set\n",
    "\n",
    "#train_data_path = './drive/MyDrive/Bachelor/data_balanced/train' #google colab\n",
    "#test_data_path = './drive/MyDrive/Bachelor/data_balanced/test' #google colab\n",
    "#validation_data_path = './drive/MyDrive/Bachelor/data_balanced/validation' #google colab\n",
    "train_data_path = './data/data_heavily_reduced/data_balanced/train'  #local notebook\n",
    "test_data_path = './data/data_heavily_reduced/data_balanced/test'  #local notebook\n",
    "validation_data_path = './data/data_heavily_reduced/data_balanced/val'  #local notebook\n"
   ]
  },
  {
   "cell_type": "code",
   "execution_count": 33,
   "metadata": {
    "collapsed": false,
    "jupyter": {
     "outputs_hidden": false
    },
    "pycharm": {
     "name": "#%%\n"
    }
   },
   "outputs": [
    {
     "name": "stdout",
     "output_type": "stream",
     "text": [
      "Found 7999 images belonging to 2 classes.\n"
     ]
    }
   ],
   "source": [
    "# generate training set by loading the images from their directories with flow_from_directory\n",
    "# important: the folder structure has to match! i.e {train} -> {ok,def}\n",
    "# at the \"same time\" the data augmentation is applied on the images through the ImageDataGenerator\n",
    "\n",
    "train_image_gen = image_gen.flow_from_directory(train_data_path,\n",
    "                                                target_size=(224, 224),\n",
    "                                                class_mode='binary')"
   ]
  },
  {
   "cell_type": "code",
   "execution_count": 34,
   "metadata": {
    "collapsed": false,
    "jupyter": {
     "outputs_hidden": false
    },
    "pycharm": {
     "name": "#%%\n"
    }
   },
   "outputs": [
    {
     "name": "stdout",
     "output_type": "stream",
     "text": [
      "Found 1001 images belonging to 2 classes.\n"
     ]
    }
   ],
   "source": [
    "# generate test set by loading the images from their directories with flow_from_directory\n",
    "# important: the folder structure has to match! i.e {test} -> {ok,def}\n",
    "# at the \"same time\" the data augmentation is applied on the images through the ImageDataGenerator\n",
    "\n",
    "test_image_gen = image_gen.flow_from_directory(test_data_path,\n",
    "                                               target_size=(224, 224),\n",
    "                                               class_mode='binary')"
   ]
  },
  {
   "cell_type": "code",
   "execution_count": 35,
   "metadata": {
    "collapsed": false,
    "jupyter": {
     "outputs_hidden": false
    },
    "pycharm": {
     "name": "#%%\n"
    }
   },
   "outputs": [
    {
     "name": "stdout",
     "output_type": "stream",
     "text": [
      "Found 999 images belonging to 2 classes.\n"
     ]
    }
   ],
   "source": [
    "# generate validation set by loading the images from their directories with flow_from_directory\n",
    "# important: the folder structure has to match! i.e {validation} -> {ok,def}\n",
    "# at the \"same time\" the data augmentation is applied on the images through the ImageDataGenerator\n",
    "\n",
    "valid_set = image_gen.flow_from_directory(validation_data_path,\n",
    "                                          target_size=(224, 224),\n",
    "                                          class_mode='binary')"
   ]
  },
  {
   "cell_type": "code",
   "execution_count": 17,
   "metadata": {
    "collapsed": false,
    "jupyter": {
     "outputs_hidden": false
    },
    "pycharm": {
     "name": "#%%\n"
    }
   },
   "outputs": [],
   "source": [
    "# saves the model and its weights as a json file in the folder saved_models\n",
    "\n",
    "def save_model(model, model_name):\n",
    "    my_model = model.to_json()\n",
    "    with open(f'./saved_models/{model_name}.json', \"w\") as file:\n",
    "        file.write(my_model)\n",
    "    # serialize weights to HDF5\n",
    "    model.save_weights(f'./saved_models/{model_name}_weights.h5')"
   ]
  },
  {
   "cell_type": "code",
   "execution_count": 18,
   "metadata": {
    "collapsed": false,
    "jupyter": {
     "outputs_hidden": false
    },
    "pycharm": {
     "name": "#%%\n"
    }
   },
   "outputs": [],
   "source": [
    "#TODO: load model no compiling ?\n",
    "\n",
    "def load_model(model_path, weight_path):\n",
    "    # load json and create model\n",
    "    file = open(model_path, 'r')\n",
    "    model_json = file.read()\n",
    "    file.close()\n",
    "    loaded_model = keras.models.model_from_json(model_json)\n",
    "    # load weights\n",
    "    loaded_model.load_weights(weight_path)\n",
    "    optimizer = keras.optimizers.Adam(learning_rate=0.0001, beta_1=0.9, beta_2=0.999)\n",
    "    loaded_model.compile(loss=\"binary_crossentropy\", optimizer=optimizer,\n",
    "                         metrics=['accuracy', 'Recall', 'Precision', 'AUC'])\n",
    "    return loaded_model"
   ]
  },
  {
   "cell_type": "code",
   "execution_count": 19,
   "outputs": [],
   "source": [
    "input = tf.keras.Input(shape=(224, 224, 3))\n",
    "vgg16 = tf.keras.applications.vgg16.VGG16(weights='imagenet',\n",
    "                                          include_top=False,\n",
    "                                          input_tensor=input)\n",
    "\n",
    "\n",
    "flat = keras.layers.Flatten(name='flatten')(vgg16.output)\n",
    "dense_1 = keras.layers.Dense(1000)(flat)\n",
    "dropout = keras.layers.Dropout(0.25)(dense_1)\n",
    "batch = keras.layers.BatchNormalization()(dropout)\n",
    "output = keras.layers.Dense(1, activation='sigmoid')(batch)\n",
    "\n",
    "# bind all\n",
    "model = tf.keras.Model(vgg16.input, output)"
   ],
   "metadata": {
    "collapsed": false,
    "pycharm": {
     "name": "#%%\n"
    }
   }
  },
  {
   "cell_type": "code",
   "execution_count": 20,
   "metadata": {
    "collapsed": false,
    "jupyter": {
     "outputs_hidden": false
    },
    "pycharm": {
     "name": "#%%\n"
    }
   },
   "outputs": [
    {
     "name": "stdout",
     "output_type": "stream",
     "text": [
      "Model: \"model_1\"\n",
      "_________________________________________________________________\n",
      "Layer (type)                 Output Shape              Param #   \n",
      "=================================================================\n",
      "input_3 (InputLayer)         [(None, 224, 224, 3)]     0         \n",
      "_________________________________________________________________\n",
      "block1_conv1 (Conv2D)        (None, 224, 224, 64)      1792      \n",
      "_________________________________________________________________\n",
      "block1_conv2 (Conv2D)        (None, 224, 224, 64)      36928     \n",
      "_________________________________________________________________\n",
      "block1_pool (MaxPooling2D)   (None, 112, 112, 64)      0         \n",
      "_________________________________________________________________\n",
      "block2_conv1 (Conv2D)        (None, 112, 112, 128)     73856     \n",
      "_________________________________________________________________\n",
      "block2_conv2 (Conv2D)        (None, 112, 112, 128)     147584    \n",
      "_________________________________________________________________\n",
      "block2_pool (MaxPooling2D)   (None, 56, 56, 128)       0         \n",
      "_________________________________________________________________\n",
      "block3_conv1 (Conv2D)        (None, 56, 56, 256)       295168    \n",
      "_________________________________________________________________\n",
      "block3_conv2 (Conv2D)        (None, 56, 56, 256)       590080    \n",
      "_________________________________________________________________\n",
      "block3_conv3 (Conv2D)        (None, 56, 56, 256)       590080    \n",
      "_________________________________________________________________\n",
      "block3_pool (MaxPooling2D)   (None, 28, 28, 256)       0         \n",
      "_________________________________________________________________\n",
      "block4_conv1 (Conv2D)        (None, 28, 28, 512)       1180160   \n",
      "_________________________________________________________________\n",
      "block4_conv2 (Conv2D)        (None, 28, 28, 512)       2359808   \n",
      "_________________________________________________________________\n",
      "block4_conv3 (Conv2D)        (None, 28, 28, 512)       2359808   \n",
      "_________________________________________________________________\n",
      "block4_pool (MaxPooling2D)   (None, 14, 14, 512)       0         \n",
      "_________________________________________________________________\n",
      "block5_conv1 (Conv2D)        (None, 14, 14, 512)       2359808   \n",
      "_________________________________________________________________\n",
      "block5_conv2 (Conv2D)        (None, 14, 14, 512)       2359808   \n",
      "_________________________________________________________________\n",
      "block5_conv3 (Conv2D)        (None, 14, 14, 512)       2359808   \n",
      "_________________________________________________________________\n",
      "block5_pool (MaxPooling2D)   (None, 7, 7, 512)         0         \n",
      "_________________________________________________________________\n",
      "flatten (Flatten)            (None, 25088)             0         \n",
      "_________________________________________________________________\n",
      "dense_2 (Dense)              (None, 1000)              25089000  \n",
      "_________________________________________________________________\n",
      "dropout_1 (Dropout)          (None, 1000)              0         \n",
      "_________________________________________________________________\n",
      "batch_normalization_1 (Batch (None, 1000)              4000      \n",
      "_________________________________________________________________\n",
      "dense_3 (Dense)              (None, 1)                 1001      \n",
      "=================================================================\n",
      "Total params: 39,808,689\n",
      "Trainable params: 39,806,689\n",
      "Non-trainable params: 2,000\n",
      "_________________________________________________________________\n"
     ]
    }
   ],
   "source": [
    "model.summary()"
   ]
  },
  {
   "cell_type": "code",
   "execution_count": 21,
   "outputs": [
    {
     "name": "stdout",
     "output_type": "stream",
     "text": [
      "Epoch 1/5\n"
     ]
    },
    {
     "name": "stderr",
     "output_type": "stream",
     "text": [
      "2021-12-05 23:22:01.676514: I tensorflow/stream_executor/platform/default/dso_loader.cc:49] Successfully opened dynamic library libcudnn.so.7\n",
      "2021-12-05 23:22:02.557718: W tensorflow/stream_executor/gpu/asm_compiler.cc:63] Running ptxas --version returned 256\n",
      "2021-12-05 23:22:02.580262: W tensorflow/stream_executor/gpu/redzone_allocator.cc:314] Internal: ptxas exited with non-zero error code 256, output: \n",
      "Relying on driver to perform ptx compilation. \n",
      "Modify $PATH to customize ptxas location.\n",
      "This message will be only logged once.\n",
      "2021-12-05 23:22:03.117499: W tensorflow/core/common_runtime/bfc_allocator.cc:248] Allocator (GPU_0_bfc) ran out of memory trying to allocate 3.46GiB with freed_by_count=0. The caller indicates that this is not a failure, but may mean that there could be performance gains if more memory were available.\n",
      "2021-12-05 23:22:09.925079: W tensorflow/core/common_runtime/bfc_allocator.cc:248] Allocator (GPU_0_bfc) ran out of memory trying to allocate 2.55GiB with freed_by_count=0. The caller indicates that this is not a failure, but may mean that there could be performance gains if more memory were available.\n",
      "2021-12-05 23:22:11.363953: W tensorflow/core/common_runtime/bfc_allocator.cc:248] Allocator (GPU_0_bfc) ran out of memory trying to allocate 3.04GiB with freed_by_count=0. The caller indicates that this is not a failure, but may mean that there could be performance gains if more memory were available.\n",
      "2021-12-05 23:22:11.788429: W tensorflow/core/common_runtime/bfc_allocator.cc:248] Allocator (GPU_0_bfc) ran out of memory trying to allocate 2.41GiB with freed_by_count=0. The caller indicates that this is not a failure, but may mean that there could be performance gains if more memory were available.\n"
     ]
    },
    {
     "name": "stdout",
     "output_type": "stream",
     "text": [
      "1509/1509 [==============================] - ETA: 0s - loss: 0.4085 - accuracy: 0.8227 - recall: 0.7958 - precision: 0.5064 - auc: 0.8907"
     ]
    },
    {
     "name": "stderr",
     "output_type": "stream",
     "text": [
      "2021-12-05 23:31:48.100463: W tensorflow/core/common_runtime/bfc_allocator.cc:248] Allocator (GPU_0_bfc) ran out of memory trying to allocate 2.66GiB with freed_by_count=0. The caller indicates that this is not a failure, but may mean that there could be performance gains if more memory were available.\n"
     ]
    },
    {
     "name": "stdout",
     "output_type": "stream",
     "text": [
      "1509/1509 [==============================] - 591s 384ms/step - loss: 0.4084 - accuracy: 0.8228 - recall: 0.7958 - precision: 0.5065 - auc: 0.8908 - val_loss: 0.1015 - val_accuracy: 0.9594 - val_recall: 0.9301 - val_precision: 0.8418 - val_auc: 0.9909\n",
      "Epoch 2/5\n",
      "1509/1509 [==============================] - 569s 377ms/step - loss: 0.1062 - accuracy: 0.9604 - recall: 0.8858 - precision: 0.8768 - auc: 0.9859 - val_loss: 0.4404 - val_accuracy: 0.9304 - val_recall: 0.5804 - val_precision: 1.0000 - val_auc: 0.8961\n",
      "Epoch 3/5\n",
      "1509/1509 [==============================] - 569s 377ms/step - loss: 0.0552 - accuracy: 0.9810 - recall: 0.9385 - precision: 0.9465 - auc: 0.9953 - val_loss: 0.3431 - val_accuracy: 0.8777 - val_recall: 0.9990 - val_precision: 0.5757 - val_auc: 0.9952\n",
      "Epoch 4/5\n",
      "1509/1509 [==============================] - 569s 377ms/step - loss: 0.0354 - accuracy: 0.9874 - recall: 0.9625 - precision: 0.9621 - auc: 0.9981 - val_loss: 0.1345 - val_accuracy: 0.9508 - val_recall: 0.9990 - val_precision: 0.7716 - val_auc: 0.9992\n",
      "Epoch 5/5\n",
      "1509/1509 [==============================] - 570s 377ms/step - loss: 0.0279 - accuracy: 0.9905 - recall: 0.9697 - precision: 0.9738 - auc: 0.9987 - val_loss: 0.0188 - val_accuracy: 0.9925 - val_recall: 0.9930 - val_precision: 0.9632 - val_auc: 0.9998\n"
     ]
    },
    {
     "name": "stderr",
     "output_type": "stream",
     "text": [
      "2021-12-06 00:09:47.476327: I tensorflow/core/profiler/lib/profiler_session.cc:136] Profiler session initializing.\n",
      "2021-12-06 00:09:47.476375: I tensorflow/core/profiler/lib/profiler_session.cc:155] Profiler session started.\n",
      "2021-12-06 00:09:47.476898: I tensorflow/core/profiler/internal/gpu/cupti_tracer.cc:1365] Profiler found 1 GPUs\n",
      "2021-12-06 00:09:47.487203: I tensorflow/stream_executor/platform/default/dso_loader.cc:49] Successfully opened dynamic library libcupti.so.10.1\n",
      "2021-12-06 00:09:47.588730: E tensorflow/core/profiler/internal/gpu/cupti_tracer.cc:1415] function cupti_interface_->Subscribe( &subscriber_, (CUpti_CallbackFunc)ApiCallback, this)failed with error CUPTI_ERROR_INSUFFICIENT_PRIVILEGES\n",
      "2021-12-06 00:09:47.588930: I tensorflow/core/profiler/lib/profiler_session.cc:172] Profiler session tear down.\n"
     ]
    },
    {
     "name": "stdout",
     "output_type": "stream",
     "text": [
      "Epoch 1/100\n",
      "   1/1509 [..............................] - ETA: 37:15 - loss: 0.0019 - accuracy: 1.0000 - recall: 1.0000 - precision: 1.0000 - auc: 1.0000"
     ]
    },
    {
     "name": "stderr",
     "output_type": "stream",
     "text": [
      "2021-12-06 00:09:49.402077: I tensorflow/core/profiler/lib/profiler_session.cc:136] Profiler session initializing.\n",
      "2021-12-06 00:09:49.402097: I tensorflow/core/profiler/lib/profiler_session.cc:155] Profiler session started.\n",
      "2021-12-06 00:09:49.402494: E tensorflow/core/profiler/internal/gpu/cupti_tracer.cc:1415] function cupti_interface_->Subscribe( &subscriber_, (CUpti_CallbackFunc)ApiCallback, this)failed with error CUPTI_ERROR_INSUFFICIENT_PRIVILEGES\n"
     ]
    },
    {
     "name": "stdout",
     "output_type": "stream",
     "text": [
      "   2/1509 [..............................] - ETA: 10:07 - loss: 0.0023 - accuracy: 1.0000 - recall: 1.0000 - precision: 1.0000 - auc: 1.0000"
     ]
    },
    {
     "name": "stderr",
     "output_type": "stream",
     "text": [
      "2021-12-06 00:09:49.780016: I tensorflow/core/profiler/lib/profiler_session.cc:71] Profiler session collecting data.\n",
      "2021-12-06 00:09:49.789294: I tensorflow/core/profiler/internal/gpu/cupti_collector.cc:228]  GpuTracer has collected 0 callback api events and 0 activity events. \n",
      "2021-12-06 00:09:49.791228: I tensorflow/core/profiler/lib/profiler_session.cc:172] Profiler session tear down.\n",
      "2021-12-06 00:09:49.796040: I tensorflow/core/profiler/rpc/client/save_profile.cc:137] Creating directory: ./logs/train/plugins/profile/2021_12_06_00_09_49\n",
      "2021-12-06 00:09:49.796819: I tensorflow/core/profiler/rpc/client/save_profile.cc:143] Dumped gzipped tool data for trace.json.gz to ./logs/train/plugins/profile/2021_12_06_00_09_49/pop-os.trace.json.gz\n",
      "2021-12-06 00:09:49.811683: I tensorflow/core/profiler/rpc/client/save_profile.cc:137] Creating directory: ./logs/train/plugins/profile/2021_12_06_00_09_49\n",
      "2021-12-06 00:09:49.814296: I tensorflow/core/profiler/rpc/client/save_profile.cc:143] Dumped gzipped tool data for memory_profile.json.gz to ./logs/train/plugins/profile/2021_12_06_00_09_49/pop-os.memory_profile.json.gz\n",
      "2021-12-06 00:09:49.814500: I tensorflow/core/profiler/rpc/client/capture_profile.cc:251] Creating directory: ./logs/train/plugins/profile/2021_12_06_00_09_49Dumped tool data for xplane.pb to ./logs/train/plugins/profile/2021_12_06_00_09_49/pop-os.xplane.pb\n",
      "Dumped tool data for overview_page.pb to ./logs/train/plugins/profile/2021_12_06_00_09_49/pop-os.overview_page.pb\n",
      "Dumped tool data for input_pipeline.pb to ./logs/train/plugins/profile/2021_12_06_00_09_49/pop-os.input_pipeline.pb\n",
      "Dumped tool data for tensorflow_stats.pb to ./logs/train/plugins/profile/2021_12_06_00_09_49/pop-os.tensorflow_stats.pb\n",
      "Dumped tool data for kernel_stats.pb to ./logs/train/plugins/profile/2021_12_06_00_09_49/pop-os.kernel_stats.pb\n",
      "\n"
     ]
    },
    {
     "name": "stdout",
     "output_type": "stream",
     "text": [
      "1509/1509 [==============================] - 575s 380ms/step - loss: 0.0184 - accuracy: 0.9938 - recall: 0.9811 - precision: 0.9819 - auc: 0.9989 - val_loss: 0.0197 - val_accuracy: 0.9932 - val_recall: 0.9640 - val_precision: 0.9948 - val_auc: 0.9983\n",
      "Epoch 2/100\n",
      "1509/1509 [==============================] - 572s 379ms/step - loss: 0.0183 - accuracy: 0.9942 - recall: 0.9811 - precision: 0.9842 - auc: 0.9983 - val_loss: 0.0206 - val_accuracy: 0.9920 - val_recall: 0.9990 - val_precision: 0.9551 - val_auc: 1.0000\n",
      "Epoch 3/100\n",
      "1509/1509 [==============================] - 573s 380ms/step - loss: 0.0156 - accuracy: 0.9948 - recall: 0.9836 - precision: 0.9849 - auc: 0.9992 - val_loss: 0.0301 - val_accuracy: 0.9919 - val_recall: 0.9990 - val_precision: 0.9542 - val_auc: 0.9999\n",
      "Epoch 4/100\n",
      "1509/1509 [==============================] - 573s 380ms/step - loss: 0.0106 - accuracy: 0.9967 - recall: 0.9884 - precision: 0.9916 - auc: 0.9995 - val_loss: 0.0166 - val_accuracy: 0.9940 - val_recall: 0.9940 - val_precision: 0.9707 - val_auc: 0.9996\n",
      "Epoch 5/100\n",
      "1509/1509 [==============================] - 573s 380ms/step - loss: 0.0134 - accuracy: 0.9954 - recall: 0.9842 - precision: 0.9860 - auc: 0.9982 - val_loss: 0.0036 - val_accuracy: 0.9987 - val_recall: 0.9930 - val_precision: 0.9990 - val_auc: 1.0000\n",
      "Epoch 6/100\n",
      "1509/1509 [==============================] - 574s 380ms/step - loss: 0.0070 - accuracy: 0.9979 - recall: 0.9936 - precision: 0.9934 - auc: 0.9995 - val_loss: 0.0098 - val_accuracy: 0.9975 - val_recall: 0.9850 - val_precision: 1.0000 - val_auc: 0.9990\n",
      "Epoch 7/100\n",
      "1509/1509 [==============================] - 576s 381ms/step - loss: 0.0098 - accuracy: 0.9967 - recall: 0.9886 - precision: 0.9915 - auc: 0.9995 - val_loss: 0.0062 - val_accuracy: 0.9973 - val_recall: 0.9860 - val_precision: 0.9980 - val_auc: 1.0000\n",
      "Epoch 8/100\n",
      "1509/1509 [==============================] - 576s 381ms/step - loss: 0.0076 - accuracy: 0.9974 - recall: 0.9922 - precision: 0.9920 - auc: 0.9995 - val_loss: 0.0019 - val_accuracy: 0.9993 - val_recall: 0.9990 - val_precision: 0.9970 - val_auc: 1.0000\n",
      "Epoch 9/100\n",
      "1509/1509 [==============================] - 576s 381ms/step - loss: 0.0067 - accuracy: 0.9976 - recall: 0.9921 - precision: 0.9935 - auc: 0.9995 - val_loss: 0.0069 - val_accuracy: 0.9977 - val_recall: 0.9990 - val_precision: 0.9872 - val_auc: 1.0000\n",
      "Epoch 10/100\n",
      "1509/1509 [==============================] - 575s 381ms/step - loss: 0.0074 - accuracy: 0.9972 - recall: 0.9904 - precision: 0.9927 - auc: 0.9998 - val_loss: 0.0116 - val_accuracy: 0.9959 - val_recall: 1.0000 - val_precision: 0.9756 - val_auc: 1.0000\n",
      "Epoch 11/100\n",
      "1509/1509 [==============================] - 576s 381ms/step - loss: 0.0051 - accuracy: 0.9983 - recall: 0.9948 - precision: 0.9950 - auc: 0.9996 - val_loss: 0.0050 - val_accuracy: 0.9970 - val_recall: 0.9970 - val_precision: 0.9852 - val_auc: 1.0000\n",
      "Epoch 12/100\n",
      "1509/1509 [==============================] - 575s 381ms/step - loss: 0.0068 - accuracy: 0.9974 - recall: 0.9906 - precision: 0.9934 - auc: 0.9998 - val_loss: 0.0029 - val_accuracy: 0.9992 - val_recall: 0.9990 - val_precision: 0.9960 - val_auc: 0.9999\n",
      "Epoch 13/100\n",
      "1509/1509 [==============================] - 575s 381ms/step - loss: 0.0059 - accuracy: 0.9979 - recall: 0.9931 - precision: 0.9945 - auc: 0.9999 - val_loss: 0.0046 - val_accuracy: 0.9988 - val_recall: 0.9980 - val_precision: 0.9950 - val_auc: 1.0000\n",
      "Epoch 14/100\n",
      "1509/1509 [==============================] - 575s 381ms/step - loss: 0.0057 - accuracy: 0.9981 - recall: 0.9933 - precision: 0.9953 - auc: 0.9999 - val_loss: 0.0029 - val_accuracy: 0.9990 - val_recall: 0.9940 - val_precision: 1.0000 - val_auc: 1.0000\n",
      "Epoch 15/100\n",
      "1509/1509 [==============================] - 575s 381ms/step - loss: 0.0047 - accuracy: 0.9981 - recall: 0.9940 - precision: 0.9945 - auc: 0.9999 - val_loss: 0.0045 - val_accuracy: 0.9987 - val_recall: 0.9990 - val_precision: 0.9930 - val_auc: 1.0000\n",
      "Epoch 16/100\n",
      "1509/1509 [==============================] - 574s 380ms/step - loss: 0.0064 - accuracy: 0.9980 - recall: 0.9928 - precision: 0.9951 - auc: 0.9996 - val_loss: 4.5807e-04 - val_accuracy: 1.0000 - val_recall: 1.0000 - val_precision: 1.0000 - val_auc: 1.0000\n",
      "Epoch 17/100\n",
      "1509/1509 [==============================] - 574s 380ms/step - loss: 0.0038 - accuracy: 0.9988 - recall: 0.9964 - precision: 0.9965 - auc: 1.0000 - val_loss: 0.0215 - val_accuracy: 0.9924 - val_recall: 0.9540 - val_precision: 1.0000 - val_auc: 0.9995\n",
      "Epoch 18/100\n",
      "1509/1509 [==============================] - 574s 380ms/step - loss: 0.0053 - accuracy: 0.9984 - recall: 0.9934 - precision: 0.9964 - auc: 0.9995 - val_loss: 0.0340 - val_accuracy: 0.9902 - val_recall: 0.9411 - val_precision: 1.0000 - val_auc: 0.9955\n",
      "Epoch 19/100\n",
      "1509/1509 [==============================] - 574s 380ms/step - loss: 0.0064 - accuracy: 0.9977 - recall: 0.9924 - precision: 0.9936 - auc: 0.9996 - val_loss: 0.0050 - val_accuracy: 0.9978 - val_recall: 0.9930 - val_precision: 0.9940 - val_auc: 1.0000\n",
      "Epoch 20/100\n",
      "1509/1509 [==============================] - 574s 380ms/step - loss: 0.0078 - accuracy: 0.9976 - recall: 0.9915 - precision: 0.9938 - auc: 0.9991 - val_loss: 0.0197 - val_accuracy: 0.9932 - val_recall: 0.9590 - val_precision: 1.0000 - val_auc: 0.9980\n",
      "Epoch 21/100\n",
      "1509/1509 [==============================] - 574s 381ms/step - loss: 0.0058 - accuracy: 0.9981 - recall: 0.9933 - precision: 0.9951 - auc: 0.9995 - val_loss: 0.0058 - val_accuracy: 0.9987 - val_recall: 0.9940 - val_precision: 0.9980 - val_auc: 0.9990\n",
      "Epoch 22/100\n",
      "1509/1509 [==============================] - 574s 380ms/step - loss: 0.0024 - accuracy: 0.9992 - recall: 0.9969 - precision: 0.9982 - auc: 1.0000 - val_loss: 0.0144 - val_accuracy: 0.9942 - val_recall: 1.0000 - val_precision: 0.9662 - val_auc: 1.0000\n",
      "Epoch 23/100\n",
      "1509/1509 [==============================] - 574s 380ms/step - loss: 0.0035 - accuracy: 0.9989 - recall: 0.9962 - precision: 0.9970 - auc: 0.9997 - val_loss: 0.0024 - val_accuracy: 0.9998 - val_recall: 1.0000 - val_precision: 0.9990 - val_auc: 1.0000\n",
      "Epoch 24/100\n",
      "1509/1509 [==============================] - 574s 380ms/step - loss: 0.0044 - accuracy: 0.9984 - recall: 0.9943 - precision: 0.9961 - auc: 0.9997 - val_loss: 0.0066 - val_accuracy: 0.9982 - val_recall: 0.9910 - val_precision: 0.9980 - val_auc: 0.9990\n",
      "Epoch 25/100\n",
      "1509/1509 [==============================] - 574s 380ms/step - loss: 0.0048 - accuracy: 0.9986 - recall: 0.9951 - precision: 0.9964 - auc: 0.9994 - val_loss: 0.0063 - val_accuracy: 0.9983 - val_recall: 0.9910 - val_precision: 0.9990 - val_auc: 0.9990\n",
      "Epoch 26/100\n",
      "1509/1509 [==============================] - 573s 380ms/step - loss: 0.0038 - accuracy: 0.9986 - recall: 0.9948 - precision: 0.9967 - auc: 0.9998 - val_loss: 3.6691e-04 - val_accuracy: 1.0000 - val_recall: 1.0000 - val_precision: 1.0000 - val_auc: 1.0000\n",
      "Epoch 27/100\n",
      "1509/1509 [==============================] - 574s 380ms/step - loss: 0.0028 - accuracy: 0.9992 - recall: 0.9971 - precision: 0.9980 - auc: 0.9998 - val_loss: 0.0073 - val_accuracy: 0.9969 - val_recall: 1.0000 - val_precision: 0.9814 - val_auc: 1.0000\n",
      "Epoch 28/100\n",
      "1509/1509 [==============================] - 574s 380ms/step - loss: 0.0034 - accuracy: 0.9990 - recall: 0.9963 - precision: 0.9976 - auc: 0.9997 - val_loss: 0.0015 - val_accuracy: 0.9995 - val_recall: 0.9980 - val_precision: 0.9990 - val_auc: 1.0000\n",
      "Epoch 29/100\n",
      "1509/1509 [==============================] - 574s 380ms/step - loss: 0.0033 - accuracy: 0.9987 - recall: 0.9955 - precision: 0.9967 - auc: 0.9998 - val_loss: 0.0015 - val_accuracy: 0.9995 - val_recall: 0.9980 - val_precision: 0.9990 - val_auc: 1.0000\n",
      "Epoch 30/100\n",
      "1509/1509 [==============================] - 573s 380ms/step - loss: 0.0037 - accuracy: 0.9986 - recall: 0.9950 - precision: 0.9962 - auc: 0.9998 - val_loss: 0.0056 - val_accuracy: 0.9978 - val_recall: 0.9900 - val_precision: 0.9970 - val_auc: 0.9995\n",
      "Epoch 31/100\n",
      "1509/1509 [==============================] - 573s 380ms/step - loss: 0.0024 - accuracy: 0.9992 - recall: 0.9971 - precision: 0.9981 - auc: 0.9999 - val_loss: 0.0208 - val_accuracy: 0.9920 - val_recall: 0.9520 - val_precision: 1.0000 - val_auc: 0.9990\n",
      "Epoch 32/100\n",
      "1509/1509 [==============================] - 573s 380ms/step - loss: 0.0044 - accuracy: 0.9986 - recall: 0.9944 - precision: 0.9974 - auc: 0.9999 - val_loss: 0.0507 - val_accuracy: 0.9821 - val_recall: 0.9990 - val_precision: 0.9033 - val_auc: 0.9998\n",
      "Epoch 33/100\n",
      "1509/1509 [==============================] - 573s 380ms/step - loss: 0.0034 - accuracy: 0.9991 - recall: 0.9971 - precision: 0.9972 - auc: 0.9997 - val_loss: 6.1033e-04 - val_accuracy: 0.9998 - val_recall: 0.9990 - val_precision: 1.0000 - val_auc: 1.0000\n",
      "Epoch 34/100\n",
      "1509/1509 [==============================] - 572s 379ms/step - loss: 0.0041 - accuracy: 0.9987 - recall: 0.9957 - precision: 0.9966 - auc: 0.9996 - val_loss: 9.9694e-04 - val_accuracy: 0.9998 - val_recall: 0.9990 - val_precision: 1.0000 - val_auc: 1.0000\n",
      "Epoch 35/100\n",
      "1509/1509 [==============================] - 573s 379ms/step - loss: 0.0014 - accuracy: 0.9997 - recall: 0.9989 - precision: 0.9990 - auc: 1.0000 - val_loss: 0.0026 - val_accuracy: 0.9990 - val_recall: 0.9940 - val_precision: 1.0000 - val_auc: 1.0000\n",
      "Epoch 36/100\n",
      "1509/1509 [==============================] - 572s 379ms/step - loss: 0.0020 - accuracy: 0.9993 - recall: 0.9977 - precision: 0.9980 - auc: 1.0000 - val_loss: 0.0051 - val_accuracy: 0.9980 - val_recall: 1.0000 - val_precision: 0.9882 - val_auc: 1.0000\n",
      "Epoch 37/100\n",
      "1509/1509 [==============================] - 573s 379ms/step - loss: 0.0026 - accuracy: 0.9993 - recall: 0.9978 - precision: 0.9978 - auc: 1.0000 - val_loss: 6.6384e-04 - val_accuracy: 0.9998 - val_recall: 0.9990 - val_precision: 1.0000 - val_auc: 1.0000\n",
      "Epoch 38/100\n",
      "1509/1509 [==============================] - 572s 379ms/step - loss: 0.0022 - accuracy: 0.9994 - recall: 0.9980 - precision: 0.9982 - auc: 0.9999 - val_loss: 5.9811e-04 - val_accuracy: 1.0000 - val_recall: 1.0000 - val_precision: 1.0000 - val_auc: 1.0000\n",
      "Epoch 39/100\n",
      "1509/1509 [==============================] - 572s 379ms/step - loss: 0.0016 - accuracy: 0.9994 - recall: 0.9980 - precision: 0.9985 - auc: 1.0000 - val_loss: 0.0693 - val_accuracy: 0.9780 - val_recall: 1.0000 - val_precision: 0.8827 - val_auc: 0.9985\n",
      "Epoch 40/100\n",
      "1509/1509 [==============================] - 572s 379ms/step - loss: 0.0028 - accuracy: 0.9990 - recall: 0.9971 - precision: 0.9968 - auc: 0.9998 - val_loss: 0.0025 - val_accuracy: 0.9992 - val_recall: 0.9950 - val_precision: 1.0000 - val_auc: 1.0000\n",
      "Epoch 41/100\n",
      "1509/1509 [==============================] - 573s 380ms/step - loss: 0.0038 - accuracy: 0.9989 - recall: 0.9967 - precision: 0.9966 - auc: 0.9997 - val_loss: 8.9167e-04 - val_accuracy: 0.9995 - val_recall: 0.9990 - val_precision: 0.9980 - val_auc: 1.0000\n",
      "Epoch 42/100\n",
      "1509/1509 [==============================] - 573s 380ms/step - loss: 0.0034 - accuracy: 0.9989 - recall: 0.9963 - precision: 0.9970 - auc: 0.9998 - val_loss: 6.5513e-04 - val_accuracy: 0.9998 - val_recall: 1.0000 - val_precision: 0.9990 - val_auc: 1.0000\n",
      "Epoch 43/100\n",
      "1509/1509 [==============================] - 573s 380ms/step - loss: 0.0024 - accuracy: 0.9991 - recall: 0.9971 - precision: 0.9975 - auc: 1.0000 - val_loss: 0.0034 - val_accuracy: 0.9985 - val_recall: 0.9940 - val_precision: 0.9970 - val_auc: 1.0000\n",
      "Epoch 44/100\n",
      "1509/1509 [==============================] - 573s 379ms/step - loss: 0.0021 - accuracy: 0.9994 - recall: 0.9981 - precision: 0.9983 - auc: 0.9998 - val_loss: 8.3648e-04 - val_accuracy: 0.9997 - val_recall: 0.9980 - val_precision: 1.0000 - val_auc: 1.0000\n",
      "Epoch 45/100\n",
      "1509/1509 [==============================] - 573s 380ms/step - loss: 0.0034 - accuracy: 0.9989 - recall: 0.9967 - precision: 0.9968 - auc: 0.9999 - val_loss: 0.0209 - val_accuracy: 0.9932 - val_recall: 0.9590 - val_precision: 1.0000 - val_auc: 0.9985\n",
      "Epoch 46/100\n",
      "1509/1509 [==============================] - 573s 379ms/step - loss: 0.0018 - accuracy: 0.9993 - recall: 0.9980 - precision: 0.9979 - auc: 1.0000 - val_loss: 0.0010 - val_accuracy: 0.9998 - val_recall: 0.9990 - val_precision: 1.0000 - val_auc: 1.0000\n"
     ]
    }
   ],
   "source": [
    "optimizer = keras.optimizers.Adam(learning_rate=0.0001, beta_1=0.9, beta_2=0.999)\n",
    "\n",
    "model.compile(loss=\"binary_crossentropy\", optimizer=optimizer, metrics=['accuracy', 'Recall', 'Precision', 'AUC'])\n",
    "\n",
    "# freeze layers\n",
    "for layer in vgg16.layers:\n",
    "    layer.trainable = False\n",
    "\n",
    "history = model.fit(train_image_gen,\n",
    "                    validation_data=test_image_gen,\n",
    "                    epochs=5,\n",
    "                    callbacks=[])\n",
    "\n",
    "# un freeze\n",
    "for layer in vgg16.layers:\n",
    "    layer.trainable = True\n",
    "\n",
    "custom_early_stopping = keras.callbacks.EarlyStopping(patience=20)\n",
    "# tesorboard callback\n",
    "log_dir = \"logs/fit/\" + datetime.datetime.now().strftime(\"%Y%m%d-%H%M%S\")\n",
    "tensorboard_callback = tf.keras.callbacks.TensorBoard(log_dir=\"./logs\")\n",
    "\n",
    "model.compile(loss=\"binary_crossentropy\", optimizer=optimizer, metrics=['accuracy', 'Recall', 'Precision', 'AUC'])\n",
    "history = model.fit(train_image_gen,\n",
    "                    validation_data=test_image_gen,\n",
    "                    epochs=100,\n",
    "                    callbacks=[custom_early_stopping, tensorboard_callback])\n"
   ],
   "metadata": {
    "collapsed": false,
    "pycharm": {
     "name": "#%%\n"
    }
   }
  },
  {
   "cell_type": "code",
   "execution_count": 21,
   "outputs": [
    {
     "data": {
      "text/plain": "<tensorflow.python.keras.callbacks.History at 0x7f5fc8527d30>"
     },
     "execution_count": 21,
     "metadata": {},
     "output_type": "execute_result"
    }
   ],
   "source": [
    "history"
   ],
   "metadata": {
    "collapsed": false,
    "pycharm": {
     "name": "#%%\n"
    }
   }
  },
  {
   "cell_type": "code",
   "execution_count": 22,
   "outputs": [],
   "source": [
    "save_model(model, 'vgg16_full_data_v2')"
   ],
   "metadata": {
    "collapsed": false,
    "pycharm": {
     "name": "#%%\n"
    }
   }
  },
  {
   "cell_type": "code",
   "execution_count": 28,
   "outputs": [
    {
     "name": "stdout",
     "output_type": "stream",
     "text": [
      "189/189 [==============================] - 53s 279ms/step - loss: 5.4609e-04 - accuracy: 0.9998 - recall: 1.0000 - precision: 0.9990 - auc: 1.0000\n"
     ]
    }
   ],
   "source": [
    "# metrics from the paper:\n",
    "# accuracy = 0.959, precision = 0.939, recall = 0.980, f1-score = 0.959, auc value = 0.982\n",
    "loss, accuracy, recall, precision, auc = model.evaluate(valid_set)"
   ],
   "metadata": {
    "collapsed": false,
    "pycharm": {
     "name": "#%%\n"
    }
   }
  },
  {
   "cell_type": "code",
   "execution_count": 29,
   "outputs": [
    {
     "name": "stdout",
     "output_type": "stream",
     "text": [
      "loss: 0.0005460858228616416, \n",
      "accuracy: 0.9998342394828796, \n",
      "recall: 1.0, \n",
      "precision: 0.9990000128746033, \n",
      "auc: 0.9999999403953552, \n",
      "F1: 0.9994997563186812\n"
     ]
    }
   ],
   "source": [
    "# F1 score\n",
    "f1 = 2 * ((precision * recall) / (precision + recall))\n",
    "\n",
    "print(f\"loss: {loss}, \\n\"\n",
    "      f\"accuracy: {accuracy}, \\n\"\n",
    "      f\"recall: {recall}, \\n\"\n",
    "      f\"precision: {precision}, \\n\"\n",
    "      f\"auc: {auc}, \\n\"\n",
    "      f\"F1: {f1}\")"
   ],
   "metadata": {
    "collapsed": false,
    "pycharm": {
     "name": "#%%\n"
    }
   }
  },
  {
   "cell_type": "code",
   "execution_count": 31,
   "outputs": [],
   "source": [
    "input = tf.keras.Input(shape=(224, 224, 3))\n",
    "vgg16 = tf.keras.applications.vgg16.VGG16(weights='imagenet',\n",
    "                                          include_top=False,\n",
    "                                          input_tensor=input)\n",
    "\n",
    "\n",
    "flat = keras.layers.Flatten(name='flatten')(vgg16.output)\n",
    "dense_1 = keras.layers.Dense(1000)(flat)\n",
    "dropout = keras.layers.Dropout(0.25)(dense_1)\n",
    "batch = keras.layers.BatchNormalization()(dropout)\n",
    "output = keras.layers.Dense(1, activation='sigmoid')(batch)\n",
    "\n",
    "# bind all\n",
    "model_reduced = tf.keras.Model(vgg16.input, output)"
   ],
   "metadata": {
    "collapsed": false,
    "pycharm": {
     "name": "#%%\n"
    }
   }
  },
  {
   "cell_type": "code",
   "execution_count": 36,
   "outputs": [
    {
     "name": "stdout",
     "output_type": "stream",
     "text": [
      "Epoch 1/5\n",
      "127/250 [==============>...............] - ETA: 32s - loss: 0.2277 - accuracy: 0.9135 - recall: 0.8527 - precision: 0.9724 - auc: 0.9876"
     ]
    },
    {
     "name": "stderr",
     "output_type": "stream",
     "text": [
      "2021-12-06 08:34:41.300185: W tensorflow/core/common_runtime/bfc_allocator.cc:248] Allocator (GPU_0_bfc) ran out of memory trying to allocate 3.35GiB with freed_by_count=0. The caller indicates that this is not a failure, but may mean that there could be performance gains if more memory were available.\n",
      "2021-12-06 08:34:41.300240: W tensorflow/core/common_runtime/bfc_allocator.cc:248] Allocator (GPU_0_bfc) ran out of memory trying to allocate 3.01GiB with freed_by_count=0. The caller indicates that this is not a failure, but may mean that there could be performance gains if more memory were available.\n",
      "2021-12-06 08:34:42.272324: W tensorflow/core/common_runtime/bfc_allocator.cc:248] Allocator (GPU_0_bfc) ran out of memory trying to allocate 2.54GiB with freed_by_count=0. The caller indicates that this is not a failure, but may mean that there could be performance gains if more memory were available.\n"
     ]
    },
    {
     "name": "stdout",
     "output_type": "stream",
     "text": [
      "250/250 [==============================] - 84s 332ms/step - loss: 0.1788 - accuracy: 0.9331 - recall: 0.8949 - precision: 0.9696 - auc: 0.9893 - val_loss: 0.0813 - val_accuracy: 0.9630 - val_recall: 0.9461 - val_precision: 0.9793 - val_auc: 0.9964\n",
      "Epoch 2/5\n",
      "250/250 [==============================] - 73s 292ms/step - loss: 0.0880 - accuracy: 0.9654 - recall: 0.9646 - precision: 0.9657 - auc: 0.9949 - val_loss: 0.0734 - val_accuracy: 0.9750 - val_recall: 0.9780 - val_precision: 0.9722 - val_auc: 0.9962\n",
      "Epoch 3/5\n",
      "250/250 [==============================] - 73s 293ms/step - loss: 0.0799 - accuracy: 0.9691 - recall: 0.9701 - precision: 0.9669 - auc: 0.9953 - val_loss: 0.0617 - val_accuracy: 0.9800 - val_recall: 0.9741 - val_precision: 0.9859 - val_auc: 0.9977\n",
      "Epoch 4/5\n",
      "250/250 [==============================] - 71s 285ms/step - loss: 0.0915 - accuracy: 0.9654 - recall: 0.9637 - precision: 0.9677 - auc: 0.9941 - val_loss: 0.0552 - val_accuracy: 0.9800 - val_recall: 0.9920 - val_precision: 0.9688 - val_auc: 0.9977\n",
      "Epoch 5/5\n",
      "250/250 [==============================] - 71s 283ms/step - loss: 0.0845 - accuracy: 0.9682 - recall: 0.9683 - precision: 0.9675 - auc: 0.9954 - val_loss: 0.0654 - val_accuracy: 0.9790 - val_recall: 0.9760 - val_precision: 0.9819 - val_auc: 0.9962\n"
     ]
    },
    {
     "name": "stderr",
     "output_type": "stream",
     "text": [
      "2021-12-06 08:40:18.372534: I tensorflow/core/profiler/lib/profiler_session.cc:136] Profiler session initializing.\n",
      "2021-12-06 08:40:18.372561: I tensorflow/core/profiler/lib/profiler_session.cc:155] Profiler session started.\n",
      "2021-12-06 08:40:18.372626: E tensorflow/core/profiler/internal/gpu/cupti_tracer.cc:1415] function cupti_interface_->Subscribe( &subscriber_, (CUpti_CallbackFunc)ApiCallback, this)failed with error CUPTI_ERROR_NOT_INITIALIZED\n",
      "2021-12-06 08:40:18.372646: I tensorflow/core/profiler/lib/profiler_session.cc:172] Profiler session tear down.\n"
     ]
    },
    {
     "name": "stdout",
     "output_type": "stream",
     "text": [
      "Epoch 1/100\n",
      "  1/250 [..............................] - ETA: 6:20 - loss: 0.0554 - accuracy: 0.9688 - recall: 0.9412 - precision: 1.0000 - auc: 1.0000"
     ]
    },
    {
     "name": "stderr",
     "output_type": "stream",
     "text": [
      "2021-12-06 08:40:20.218541: I tensorflow/core/profiler/lib/profiler_session.cc:136] Profiler session initializing.\n",
      "2021-12-06 08:40:20.218568: I tensorflow/core/profiler/lib/profiler_session.cc:155] Profiler session started.\n",
      "2021-12-06 08:40:20.218623: E tensorflow/core/profiler/internal/gpu/cupti_tracer.cc:1415] function cupti_interface_->Subscribe( &subscriber_, (CUpti_CallbackFunc)ApiCallback, this)failed with error CUPTI_ERROR_NOT_INITIALIZED\n"
     ]
    },
    {
     "name": "stdout",
     "output_type": "stream",
     "text": [
      "  2/250 [..............................] - ETA: 1:38 - loss: 0.3559 - accuracy: 0.9141 - recall: 0.8706 - precision: 0.9444 - auc: 0.9319"
     ]
    },
    {
     "name": "stderr",
     "output_type": "stream",
     "text": [
      "2021-12-06 08:40:20.900934: I tensorflow/core/profiler/lib/profiler_session.cc:71] Profiler session collecting data.\n",
      "2021-12-06 08:40:20.905848: I tensorflow/core/profiler/internal/gpu/cupti_collector.cc:228]  GpuTracer has collected 0 callback api events and 0 activity events. \n",
      "2021-12-06 08:40:20.907164: I tensorflow/core/profiler/lib/profiler_session.cc:172] Profiler session tear down.\n",
      "2021-12-06 08:40:20.908696: I tensorflow/core/profiler/rpc/client/save_profile.cc:137] Creating directory: ./logs/train/plugins/profile/2021_12_06_08_40_20\n",
      "2021-12-06 08:40:20.909490: I tensorflow/core/profiler/rpc/client/save_profile.cc:143] Dumped gzipped tool data for trace.json.gz to ./logs/train/plugins/profile/2021_12_06_08_40_20/pop-os.trace.json.gz\n",
      "2021-12-06 08:40:20.927781: I tensorflow/core/profiler/rpc/client/save_profile.cc:137] Creating directory: ./logs/train/plugins/profile/2021_12_06_08_40_20\n",
      "2021-12-06 08:40:20.931204: I tensorflow/core/profiler/rpc/client/save_profile.cc:143] Dumped gzipped tool data for memory_profile.json.gz to ./logs/train/plugins/profile/2021_12_06_08_40_20/pop-os.memory_profile.json.gz\n",
      "2021-12-06 08:40:20.931393: I tensorflow/core/profiler/rpc/client/capture_profile.cc:251] Creating directory: ./logs/train/plugins/profile/2021_12_06_08_40_20Dumped tool data for xplane.pb to ./logs/train/plugins/profile/2021_12_06_08_40_20/pop-os.xplane.pb\n",
      "Dumped tool data for overview_page.pb to ./logs/train/plugins/profile/2021_12_06_08_40_20/pop-os.overview_page.pb\n",
      "Dumped tool data for input_pipeline.pb to ./logs/train/plugins/profile/2021_12_06_08_40_20/pop-os.input_pipeline.pb\n",
      "Dumped tool data for tensorflow_stats.pb to ./logs/train/plugins/profile/2021_12_06_08_40_20/pop-os.tensorflow_stats.pb\n",
      "Dumped tool data for kernel_stats.pb to ./logs/train/plugins/profile/2021_12_06_08_40_20/pop-os.kernel_stats.pb\n",
      "\n"
     ]
    },
    {
     "name": "stdout",
     "output_type": "stream",
     "text": [
      " 38/250 [===>..........................] - ETA: 1:10 - loss: 0.5917 - accuracy: 0.8208 - recall: 0.7536 - precision: 0.8663 - auc: 0.8840"
     ]
    },
    {
     "name": "stderr",
     "output_type": "stream",
     "text": [
      "2021-12-06 08:40:33.805706: W tensorflow/core/common_runtime/bfc_allocator.cc:248] Allocator (GPU_0_bfc) ran out of memory trying to allocate 2.28GiB with freed_by_count=0. The caller indicates that this is not a failure, but may mean that there could be performance gains if more memory were available.\n",
      "2021-12-06 08:40:35.391137: W tensorflow/core/common_runtime/bfc_allocator.cc:248] Allocator (GPU_0_bfc) ran out of memory trying to allocate 2.33GiB with freed_by_count=0. The caller indicates that this is not a failure, but may mean that there could be performance gains if more memory were available.\n"
     ]
    },
    {
     "name": "stdout",
     "output_type": "stream",
     "text": [
      "250/250 [==============================] - 96s 380ms/step - loss: 0.4144 - accuracy: 0.8573 - recall: 0.8171 - precision: 0.8865 - auc: 0.9242 - val_loss: 0.3328 - val_accuracy: 0.8961 - val_recall: 1.0000 - val_precision: 0.8281 - val_auc: 0.9849\n",
      "Epoch 2/100\n",
      "250/250 [==============================] - 88s 351ms/step - loss: 0.1873 - accuracy: 0.9349 - recall: 0.9384 - precision: 0.9315 - auc: 0.9800 - val_loss: 1.9372 - val_accuracy: 0.5245 - val_recall: 1.0000 - val_precision: 0.5128 - val_auc: 0.8910\n",
      "Epoch 3/100\n",
      "250/250 [==============================] - 88s 351ms/step - loss: 0.1277 - accuracy: 0.9567 - recall: 0.9630 - precision: 0.9513 - auc: 0.9891 - val_loss: 0.0957 - val_accuracy: 0.9680 - val_recall: 0.9980 - val_precision: 0.9416 - val_auc: 0.9948\n",
      "Epoch 4/100\n",
      "250/250 [==============================] - 88s 352ms/step - loss: 0.1152 - accuracy: 0.9575 - recall: 0.9628 - precision: 0.9519 - auc: 0.9909 - val_loss: 0.0685 - val_accuracy: 0.9750 - val_recall: 0.9960 - val_precision: 0.9559 - val_auc: 0.9965\n",
      "Epoch 5/100\n",
      "250/250 [==============================] - 88s 352ms/step - loss: 0.0829 - accuracy: 0.9682 - recall: 0.9757 - precision: 0.9610 - auc: 0.9954 - val_loss: 0.1497 - val_accuracy: 0.9401 - val_recall: 1.0000 - val_precision: 0.8930 - val_auc: 0.9973\n",
      "Epoch 6/100\n",
      "250/250 [==============================] - 88s 352ms/step - loss: 0.0668 - accuracy: 0.9735 - recall: 0.9794 - precision: 0.9688 - auc: 0.9971 - val_loss: 0.2648 - val_accuracy: 0.9221 - val_recall: 0.8443 - val_precision: 1.0000 - val_auc: 0.9874\n",
      "Epoch 7/100\n",
      "250/250 [==============================] - 88s 353ms/step - loss: 0.0745 - accuracy: 0.9732 - recall: 0.9747 - precision: 0.9717 - auc: 0.9958 - val_loss: 0.3080 - val_accuracy: 0.8821 - val_recall: 1.0000 - val_precision: 0.8094 - val_auc: 0.9958\n",
      "Epoch 8/100\n",
      "250/250 [==============================] - 88s 352ms/step - loss: 0.0526 - accuracy: 0.9822 - recall: 0.9879 - precision: 0.9773 - auc: 0.9977 - val_loss: 0.0450 - val_accuracy: 0.9800 - val_recall: 1.0000 - val_precision: 0.9616 - val_auc: 0.9996\n",
      "Epoch 9/100\n",
      "250/250 [==============================] - 88s 352ms/step - loss: 0.0640 - accuracy: 0.9762 - recall: 0.9796 - precision: 0.9735 - auc: 0.9970 - val_loss: 0.1041 - val_accuracy: 0.9650 - val_recall: 1.0000 - val_precision: 0.9347 - val_auc: 0.9973\n",
      "Epoch 10/100\n",
      "250/250 [==============================] - 88s 353ms/step - loss: 0.0473 - accuracy: 0.9823 - recall: 0.9875 - precision: 0.9771 - auc: 0.9986 - val_loss: 0.6436 - val_accuracy: 0.7832 - val_recall: 1.0000 - val_precision: 0.6978 - val_auc: 0.9730\n",
      "Epoch 11/100\n",
      "250/250 [==============================] - 89s 353ms/step - loss: 0.0482 - accuracy: 0.9836 - recall: 0.9876 - precision: 0.9792 - auc: 0.9981 - val_loss: 0.0260 - val_accuracy: 0.9910 - val_recall: 0.9840 - val_precision: 0.9980 - val_auc: 0.9998\n",
      "Epoch 12/100\n",
      "250/250 [==============================] - 89s 353ms/step - loss: 0.0527 - accuracy: 0.9832 - recall: 0.9882 - precision: 0.9786 - auc: 0.9977 - val_loss: 0.0215 - val_accuracy: 0.9940 - val_recall: 0.9900 - val_precision: 0.9980 - val_auc: 0.9988\n",
      "Epoch 13/100\n",
      "250/250 [==============================] - 89s 353ms/step - loss: 0.0371 - accuracy: 0.9856 - recall: 0.9883 - precision: 0.9830 - auc: 0.9987 - val_loss: 0.3471 - val_accuracy: 0.9061 - val_recall: 0.8124 - val_precision: 1.0000 - val_auc: 0.9818\n",
      "Epoch 14/100\n",
      "250/250 [==============================] - 88s 353ms/step - loss: 0.0473 - accuracy: 0.9830 - recall: 0.9857 - precision: 0.9798 - auc: 0.9984 - val_loss: 0.1220 - val_accuracy: 0.9570 - val_recall: 0.9142 - val_precision: 1.0000 - val_auc: 0.9966\n",
      "Epoch 15/100\n",
      "250/250 [==============================] - 88s 353ms/step - loss: 0.0442 - accuracy: 0.9859 - recall: 0.9885 - precision: 0.9830 - auc: 0.9985 - val_loss: 0.2567 - val_accuracy: 0.9051 - val_recall: 1.0000 - val_precision: 0.8406 - val_auc: 0.9969\n",
      "Epoch 16/100\n",
      "250/250 [==============================] - 88s 353ms/step - loss: 0.0446 - accuracy: 0.9845 - recall: 0.9864 - precision: 0.9825 - auc: 0.9977 - val_loss: 0.1537 - val_accuracy: 0.9451 - val_recall: 1.0000 - val_precision: 0.9011 - val_auc: 0.9979\n",
      "Epoch 17/100\n",
      "250/250 [==============================] - 89s 353ms/step - loss: 0.0302 - accuracy: 0.9895 - recall: 0.9914 - precision: 0.9875 - auc: 0.9989 - val_loss: 0.0930 - val_accuracy: 0.9650 - val_recall: 0.9980 - val_precision: 0.9363 - val_auc: 0.9966\n",
      "Epoch 18/100\n",
      "250/250 [==============================] - 88s 353ms/step - loss: 0.0265 - accuracy: 0.9906 - recall: 0.9925 - precision: 0.9888 - auc: 0.9995 - val_loss: 0.5609 - val_accuracy: 0.8242 - val_recall: 0.6487 - val_precision: 1.0000 - val_auc: 0.9756\n",
      "Epoch 19/100\n",
      "250/250 [==============================] - 89s 353ms/step - loss: 0.0278 - accuracy: 0.9915 - recall: 0.9935 - precision: 0.9895 - auc: 0.9990 - val_loss: 0.0170 - val_accuracy: 0.9900 - val_recall: 0.9900 - val_precision: 0.9900 - val_auc: 0.9998\n",
      "Epoch 20/100\n",
      "250/250 [==============================] - 89s 353ms/step - loss: 0.0299 - accuracy: 0.9901 - recall: 0.9935 - precision: 0.9871 - auc: 0.9991 - val_loss: 0.0358 - val_accuracy: 0.9870 - val_recall: 1.0000 - val_precision: 0.9747 - val_auc: 0.9998\n",
      "Epoch 21/100\n",
      "250/250 [==============================] - 89s 353ms/step - loss: 0.0188 - accuracy: 0.9931 - recall: 0.9939 - precision: 0.9922 - auc: 0.9994 - val_loss: 0.0225 - val_accuracy: 0.9930 - val_recall: 0.9960 - val_precision: 0.9901 - val_auc: 0.9988\n",
      "Epoch 22/100\n",
      "250/250 [==============================] - 88s 353ms/step - loss: 0.0234 - accuracy: 0.9931 - recall: 0.9937 - precision: 0.9923 - auc: 0.9988 - val_loss: 0.0081 - val_accuracy: 0.9990 - val_recall: 1.0000 - val_precision: 0.9980 - val_auc: 0.9999\n",
      "Epoch 23/100\n",
      "250/250 [==============================] - 88s 353ms/step - loss: 0.0202 - accuracy: 0.9929 - recall: 0.9926 - precision: 0.9931 - auc: 0.9995 - val_loss: 0.0329 - val_accuracy: 0.9900 - val_recall: 0.9820 - val_precision: 0.9980 - val_auc: 0.9988\n",
      "Epoch 24/100\n",
      "250/250 [==============================] - 88s 353ms/step - loss: 0.0299 - accuracy: 0.9882 - recall: 0.9889 - precision: 0.9881 - auc: 0.9992 - val_loss: 0.0313 - val_accuracy: 0.9920 - val_recall: 0.9980 - val_precision: 0.9862 - val_auc: 0.9979\n",
      "Epoch 25/100\n",
      "250/250 [==============================] - 88s 353ms/step - loss: 0.0278 - accuracy: 0.9890 - recall: 0.9892 - precision: 0.9893 - auc: 0.9993 - val_loss: 0.0912 - val_accuracy: 0.9700 - val_recall: 0.9401 - val_precision: 1.0000 - val_auc: 0.9980\n",
      "Epoch 26/100\n",
      "250/250 [==============================] - 89s 353ms/step - loss: 0.0169 - accuracy: 0.9943 - recall: 0.9950 - precision: 0.9938 - auc: 0.9998 - val_loss: 0.0157 - val_accuracy: 0.9940 - val_recall: 1.0000 - val_precision: 0.9882 - val_auc: 1.0000\n",
      "Epoch 27/100\n",
      "250/250 [==============================] - 89s 353ms/step - loss: 0.0153 - accuracy: 0.9946 - recall: 0.9950 - precision: 0.9942 - auc: 0.9993 - val_loss: 0.2309 - val_accuracy: 0.9171 - val_recall: 1.0000 - val_precision: 0.8579 - val_auc: 0.9970\n",
      "Epoch 28/100\n",
      "250/250 [==============================] - 89s 353ms/step - loss: 0.0243 - accuracy: 0.9911 - recall: 0.9920 - precision: 0.9904 - auc: 0.9993 - val_loss: 0.0298 - val_accuracy: 0.9910 - val_recall: 1.0000 - val_precision: 0.9824 - val_auc: 0.9990\n",
      "Epoch 29/100\n",
      "250/250 [==============================] - 88s 353ms/step - loss: 0.0129 - accuracy: 0.9959 - recall: 0.9967 - precision: 0.9951 - auc: 0.9996 - val_loss: 0.0516 - val_accuracy: 0.9880 - val_recall: 1.0000 - val_precision: 0.9766 - val_auc: 0.9985\n",
      "Epoch 30/100\n",
      "250/250 [==============================] - 89s 353ms/step - loss: 0.0213 - accuracy: 0.9934 - recall: 0.9950 - precision: 0.9920 - auc: 0.9996 - val_loss: 0.3682 - val_accuracy: 0.8432 - val_recall: 1.0000 - val_precision: 0.7614 - val_auc: 0.9969\n",
      "Epoch 31/100\n",
      "250/250 [==============================] - 89s 353ms/step - loss: 0.0255 - accuracy: 0.9918 - recall: 0.9924 - precision: 0.9912 - auc: 0.9990 - val_loss: 0.0066 - val_accuracy: 0.9980 - val_recall: 0.9960 - val_precision: 1.0000 - val_auc: 1.0000\n",
      "Epoch 32/100\n",
      "250/250 [==============================] - 89s 353ms/step - loss: 0.0232 - accuracy: 0.9912 - recall: 0.9934 - precision: 0.9885 - auc: 0.9993 - val_loss: 0.0482 - val_accuracy: 0.9840 - val_recall: 0.9920 - val_precision: 0.9764 - val_auc: 0.9988\n",
      "Epoch 33/100\n",
      "250/250 [==============================] - 89s 356ms/step - loss: 0.0132 - accuracy: 0.9963 - recall: 0.9965 - precision: 0.9961 - auc: 0.9997 - val_loss: 0.0256 - val_accuracy: 0.9900 - val_recall: 0.9800 - val_precision: 1.0000 - val_auc: 1.0000\n",
      "Epoch 34/100\n",
      "250/250 [==============================] - 89s 354ms/step - loss: 0.0128 - accuracy: 0.9968 - recall: 0.9966 - precision: 0.9969 - auc: 0.9996 - val_loss: 0.0945 - val_accuracy: 0.9690 - val_recall: 1.0000 - val_precision: 0.9417 - val_auc: 0.9970\n",
      "Epoch 35/100\n",
      "250/250 [==============================] - 89s 354ms/step - loss: 0.0187 - accuracy: 0.9950 - recall: 0.9949 - precision: 0.9949 - auc: 0.9993 - val_loss: 0.2240 - val_accuracy: 0.9291 - val_recall: 0.8583 - val_precision: 1.0000 - val_auc: 0.9870\n",
      "Epoch 36/100\n",
      "250/250 [==============================] - 89s 355ms/step - loss: 0.0145 - accuracy: 0.9953 - recall: 0.9960 - precision: 0.9947 - auc: 0.9997 - val_loss: 0.0057 - val_accuracy: 0.9980 - val_recall: 1.0000 - val_precision: 0.9960 - val_auc: 1.0000\n",
      "Epoch 37/100\n",
      "250/250 [==============================] - 89s 355ms/step - loss: 0.0115 - accuracy: 0.9967 - recall: 0.9976 - precision: 0.9958 - auc: 0.9999 - val_loss: 0.3411 - val_accuracy: 0.8641 - val_recall: 0.7285 - val_precision: 1.0000 - val_auc: 0.9899\n",
      "Epoch 38/100\n",
      "250/250 [==============================] - 89s 355ms/step - loss: 0.0157 - accuracy: 0.9957 - recall: 0.9953 - precision: 0.9958 - auc: 0.9998 - val_loss: 0.0056 - val_accuracy: 0.9970 - val_recall: 1.0000 - val_precision: 0.9940 - val_auc: 1.0000\n",
      "Epoch 39/100\n",
      "250/250 [==============================] - 89s 355ms/step - loss: 0.0194 - accuracy: 0.9933 - recall: 0.9943 - precision: 0.9923 - auc: 0.9992 - val_loss: 0.0879 - val_accuracy: 0.9670 - val_recall: 0.9341 - val_precision: 1.0000 - val_auc: 0.9980\n",
      "Epoch 40/100\n",
      "250/250 [==============================] - 89s 355ms/step - loss: 0.0124 - accuracy: 0.9959 - recall: 0.9960 - precision: 0.9958 - auc: 0.9997 - val_loss: 0.0036 - val_accuracy: 0.9990 - val_recall: 1.0000 - val_precision: 0.9980 - val_auc: 1.0000\n",
      "Epoch 41/100\n",
      "250/250 [==============================] - 89s 355ms/step - loss: 0.0175 - accuracy: 0.9930 - recall: 0.9929 - precision: 0.9929 - auc: 0.9998 - val_loss: 0.0163 - val_accuracy: 0.9950 - val_recall: 1.0000 - val_precision: 0.9901 - val_auc: 1.0000\n",
      "Epoch 42/100\n",
      "250/250 [==============================] - 89s 355ms/step - loss: 0.0093 - accuracy: 0.9962 - recall: 0.9969 - precision: 0.9956 - auc: 0.9999 - val_loss: 0.0339 - val_accuracy: 0.9840 - val_recall: 0.9681 - val_precision: 1.0000 - val_auc: 1.0000\n",
      "Epoch 43/100\n",
      "250/250 [==============================] - 89s 355ms/step - loss: 0.0141 - accuracy: 0.9960 - recall: 0.9959 - precision: 0.9961 - auc: 0.9992 - val_loss: 0.0167 - val_accuracy: 0.9960 - val_recall: 0.9960 - val_precision: 0.9960 - val_auc: 0.9990\n",
      "Epoch 44/100\n",
      "250/250 [==============================] - 89s 355ms/step - loss: 0.0233 - accuracy: 0.9910 - recall: 0.9929 - precision: 0.9890 - auc: 0.9993 - val_loss: 0.0075 - val_accuracy: 0.9970 - val_recall: 1.0000 - val_precision: 0.9940 - val_auc: 1.0000\n",
      "Epoch 45/100\n",
      "250/250 [==============================] - 89s 355ms/step - loss: 0.0180 - accuracy: 0.9938 - recall: 0.9939 - precision: 0.9941 - auc: 0.9993 - val_loss: 0.0036 - val_accuracy: 0.9980 - val_recall: 0.9980 - val_precision: 0.9980 - val_auc: 1.0000\n",
      "Epoch 46/100\n",
      "250/250 [==============================] - 89s 355ms/step - loss: 0.0130 - accuracy: 0.9961 - recall: 0.9971 - precision: 0.9951 - auc: 0.9996 - val_loss: 0.0069 - val_accuracy: 0.9970 - val_recall: 0.9940 - val_precision: 1.0000 - val_auc: 1.0000\n",
      "Epoch 47/100\n",
      "250/250 [==============================] - 89s 355ms/step - loss: 0.0116 - accuracy: 0.9956 - recall: 0.9960 - precision: 0.9953 - auc: 0.9999 - val_loss: 0.0163 - val_accuracy: 0.9960 - val_recall: 0.9920 - val_precision: 1.0000 - val_auc: 1.0000\n",
      "Epoch 48/100\n",
      "250/250 [==============================] - 89s 355ms/step - loss: 0.0104 - accuracy: 0.9972 - recall: 0.9973 - precision: 0.9971 - auc: 0.9999 - val_loss: 0.0047 - val_accuracy: 0.9990 - val_recall: 1.0000 - val_precision: 0.9980 - val_auc: 1.0000\n",
      "Epoch 49/100\n",
      "250/250 [==============================] - 89s 355ms/step - loss: 0.0139 - accuracy: 0.9954 - recall: 0.9952 - precision: 0.9955 - auc: 0.9997 - val_loss: 0.0033 - val_accuracy: 0.9990 - val_recall: 1.0000 - val_precision: 0.9980 - val_auc: 1.0000\n",
      "Epoch 50/100\n",
      "250/250 [==============================] - 89s 356ms/step - loss: 0.0104 - accuracy: 0.9965 - recall: 0.9968 - precision: 0.9962 - auc: 0.9999 - val_loss: 0.0123 - val_accuracy: 0.9960 - val_recall: 0.9920 - val_precision: 1.0000 - val_auc: 1.0000\n",
      "Epoch 51/100\n",
      "250/250 [==============================] - 89s 354ms/step - loss: 0.0047 - accuracy: 0.9984 - recall: 0.9985 - precision: 0.9983 - auc: 1.0000 - val_loss: 0.0745 - val_accuracy: 0.9740 - val_recall: 0.9481 - val_precision: 1.0000 - val_auc: 1.0000\n",
      "Epoch 52/100\n",
      "250/250 [==============================] - 89s 354ms/step - loss: 0.0109 - accuracy: 0.9956 - recall: 0.9951 - precision: 0.9964 - auc: 0.9999 - val_loss: 0.0282 - val_accuracy: 0.9920 - val_recall: 0.9840 - val_precision: 1.0000 - val_auc: 0.9990\n",
      "Epoch 53/100\n",
      "250/250 [==============================] - 89s 354ms/step - loss: 0.0062 - accuracy: 0.9985 - recall: 0.9982 - precision: 0.9986 - auc: 1.0000 - val_loss: 0.0237 - val_accuracy: 0.9930 - val_recall: 1.0000 - val_precision: 0.9862 - val_auc: 0.9980\n",
      "Epoch 54/100\n",
      "250/250 [==============================] - 89s 354ms/step - loss: 0.0122 - accuracy: 0.9963 - recall: 0.9963 - precision: 0.9963 - auc: 0.9996 - val_loss: 0.0051 - val_accuracy: 0.9980 - val_recall: 1.0000 - val_precision: 0.9960 - val_auc: 1.0000\n",
      "Epoch 55/100\n",
      "250/250 [==============================] - 89s 355ms/step - loss: 0.0152 - accuracy: 0.9956 - recall: 0.9950 - precision: 0.9962 - auc: 0.9994 - val_loss: 0.0069 - val_accuracy: 0.9980 - val_recall: 0.9980 - val_precision: 0.9980 - val_auc: 1.0000\n",
      "Epoch 56/100\n",
      "250/250 [==============================] - 89s 355ms/step - loss: 0.0081 - accuracy: 0.9967 - recall: 0.9972 - precision: 0.9962 - auc: 0.9998 - val_loss: 0.0280 - val_accuracy: 0.9930 - val_recall: 1.0000 - val_precision: 0.9862 - val_auc: 0.9990\n",
      "Epoch 57/100\n",
      "250/250 [==============================] - 89s 354ms/step - loss: 0.0178 - accuracy: 0.9929 - recall: 0.9946 - precision: 0.9912 - auc: 0.9996 - val_loss: 0.0171 - val_accuracy: 0.9950 - val_recall: 0.9900 - val_precision: 1.0000 - val_auc: 1.0000\n",
      "Epoch 58/100\n",
      "250/250 [==============================] - 89s 355ms/step - loss: 0.0086 - accuracy: 0.9973 - recall: 0.9981 - precision: 0.9965 - auc: 1.0000 - val_loss: 0.0143 - val_accuracy: 0.9940 - val_recall: 0.9900 - val_precision: 0.9980 - val_auc: 1.0000\n",
      "Epoch 59/100\n",
      "250/250 [==============================] - 89s 355ms/step - loss: 0.0093 - accuracy: 0.9969 - recall: 0.9979 - precision: 0.9958 - auc: 0.9997 - val_loss: 0.0218 - val_accuracy: 0.9930 - val_recall: 1.0000 - val_precision: 0.9862 - val_auc: 0.9990\n",
      "Epoch 60/100\n",
      "250/250 [==============================] - 97s 385ms/step - loss: 0.0197 - accuracy: 0.9939 - recall: 0.9955 - precision: 0.9924 - auc: 0.9989 - val_loss: 0.0063 - val_accuracy: 0.9970 - val_recall: 1.0000 - val_precision: 0.9940 - val_auc: 1.0000\n",
      "Epoch 61/100\n",
      "250/250 [==============================] - 90s 359ms/step - loss: 0.0110 - accuracy: 0.9966 - recall: 0.9971 - precision: 0.9961 - auc: 0.9995 - val_loss: 0.0268 - val_accuracy: 0.9950 - val_recall: 1.0000 - val_precision: 0.9901 - val_auc: 0.9980\n",
      "Epoch 62/100\n",
      "250/250 [==============================] - 91s 364ms/step - loss: 0.0137 - accuracy: 0.9949 - recall: 0.9956 - precision: 0.9943 - auc: 0.9999 - val_loss: 0.0148 - val_accuracy: 0.9960 - val_recall: 0.9920 - val_precision: 1.0000 - val_auc: 0.9989\n",
      "Epoch 63/100\n",
      "250/250 [==============================] - 92s 367ms/step - loss: 0.0142 - accuracy: 0.9960 - recall: 0.9953 - precision: 0.9966 - auc: 0.9994 - val_loss: 0.0529 - val_accuracy: 0.9830 - val_recall: 1.0000 - val_precision: 0.9672 - val_auc: 1.0000\n",
      "Epoch 64/100\n",
      "250/250 [==============================] - 89s 355ms/step - loss: 0.0099 - accuracy: 0.9967 - recall: 0.9964 - precision: 0.9970 - auc: 0.9997 - val_loss: 0.0110 - val_accuracy: 0.9970 - val_recall: 1.0000 - val_precision: 0.9940 - val_auc: 1.0000\n",
      "Epoch 65/100\n",
      "250/250 [==============================] - 97s 386ms/step - loss: 0.0039 - accuracy: 0.9993 - recall: 0.9994 - precision: 0.9992 - auc: 0.9999 - val_loss: 0.0027 - val_accuracy: 0.9990 - val_recall: 1.0000 - val_precision: 0.9980 - val_auc: 1.0000\n",
      "Epoch 66/100\n",
      "250/250 [==============================] - 95s 380ms/step - loss: 0.0085 - accuracy: 0.9969 - recall: 0.9970 - precision: 0.9968 - auc: 0.9999 - val_loss: 0.0186 - val_accuracy: 0.9940 - val_recall: 0.9940 - val_precision: 0.9940 - val_auc: 0.9996\n",
      "Epoch 67/100\n",
      "250/250 [==============================] - 98s 391ms/step - loss: 0.0123 - accuracy: 0.9974 - recall: 0.9979 - precision: 0.9968 - auc: 0.9994 - val_loss: 0.0028 - val_accuracy: 0.9990 - val_recall: 1.0000 - val_precision: 0.9980 - val_auc: 1.0000\n",
      "Epoch 68/100\n",
      "250/250 [==============================] - 98s 389ms/step - loss: 0.0066 - accuracy: 0.9982 - recall: 0.9983 - precision: 0.9982 - auc: 0.9995 - val_loss: 0.0273 - val_accuracy: 0.9890 - val_recall: 0.9780 - val_precision: 1.0000 - val_auc: 0.9980\n",
      "Epoch 69/100\n",
      "250/250 [==============================] - 95s 379ms/step - loss: 0.0126 - accuracy: 0.9971 - recall: 0.9971 - precision: 0.9970 - auc: 0.9997 - val_loss: 0.0230 - val_accuracy: 0.9920 - val_recall: 0.9840 - val_precision: 1.0000 - val_auc: 1.0000\n",
      "Epoch 70/100\n",
      "250/250 [==============================] - 94s 375ms/step - loss: 0.0118 - accuracy: 0.9966 - recall: 0.9963 - precision: 0.9969 - auc: 0.9997 - val_loss: 0.1463 - val_accuracy: 0.9540 - val_recall: 0.9102 - val_precision: 0.9978 - val_auc: 0.9966\n",
      "Epoch 71/100\n",
      "250/250 [==============================] - 98s 389ms/step - loss: 0.0060 - accuracy: 0.9986 - recall: 0.9982 - precision: 0.9991 - auc: 1.0000 - val_loss: 0.0346 - val_accuracy: 0.9930 - val_recall: 1.0000 - val_precision: 0.9862 - val_auc: 0.9980\n",
      "Epoch 72/100\n",
      "250/250 [==============================] - 92s 366ms/step - loss: 0.0093 - accuracy: 0.9966 - recall: 0.9982 - precision: 0.9950 - auc: 1.0000 - val_loss: 8.2084e-05 - val_accuracy: 1.0000 - val_recall: 1.0000 - val_precision: 1.0000 - val_auc: 1.0000\n",
      "Epoch 73/100\n",
      "250/250 [==============================] - 92s 367ms/step - loss: 0.0061 - accuracy: 0.9979 - recall: 0.9987 - precision: 0.9970 - auc: 0.9998 - val_loss: 0.0046 - val_accuracy: 0.9990 - val_recall: 0.9980 - val_precision: 1.0000 - val_auc: 1.0000\n",
      "Epoch 74/100\n",
      "250/250 [==============================] - 91s 365ms/step - loss: 0.0062 - accuracy: 0.9980 - recall: 0.9970 - precision: 0.9990 - auc: 0.9999 - val_loss: 0.0239 - val_accuracy: 0.9920 - val_recall: 0.9860 - val_precision: 0.9980 - val_auc: 1.0000\n",
      "Epoch 75/100\n",
      "250/250 [==============================] - 94s 373ms/step - loss: 0.0099 - accuracy: 0.9944 - recall: 0.9955 - precision: 0.9933 - auc: 0.9999 - val_loss: 0.0071 - val_accuracy: 0.9990 - val_recall: 1.0000 - val_precision: 0.9980 - val_auc: 1.0000\n",
      "Epoch 76/100\n",
      "250/250 [==============================] - 95s 378ms/step - loss: 0.0063 - accuracy: 0.9975 - recall: 0.9967 - precision: 0.9983 - auc: 0.9999 - val_loss: 0.0121 - val_accuracy: 0.9960 - val_recall: 0.9920 - val_precision: 1.0000 - val_auc: 1.0000\n",
      "Epoch 77/100\n",
      "250/250 [==============================] - 93s 371ms/step - loss: 0.0117 - accuracy: 0.9958 - recall: 0.9958 - precision: 0.9957 - auc: 0.9996 - val_loss: 0.0023 - val_accuracy: 0.9990 - val_recall: 1.0000 - val_precision: 0.9980 - val_auc: 1.0000\n",
      "Epoch 78/100\n",
      "250/250 [==============================] - 93s 372ms/step - loss: 0.0060 - accuracy: 0.9978 - recall: 0.9982 - precision: 0.9976 - auc: 0.9999 - val_loss: 0.3357 - val_accuracy: 0.8571 - val_recall: 1.0000 - val_precision: 0.7780 - val_auc: 0.9979\n",
      "Epoch 79/100\n",
      "250/250 [==============================] - 92s 369ms/step - loss: 0.0049 - accuracy: 0.9981 - recall: 0.9977 - precision: 0.9985 - auc: 1.0000 - val_loss: 0.0186 - val_accuracy: 0.9970 - val_recall: 0.9960 - val_precision: 0.9980 - val_auc: 0.9990\n",
      "Epoch 80/100\n",
      "250/250 [==============================] - 92s 368ms/step - loss: 0.0053 - accuracy: 0.9973 - recall: 0.9968 - precision: 0.9979 - auc: 1.0000 - val_loss: 0.0062 - val_accuracy: 0.9990 - val_recall: 1.0000 - val_precision: 0.9980 - val_auc: 1.0000\n",
      "Epoch 81/100\n",
      "250/250 [==============================] - 94s 374ms/step - loss: 0.0196 - accuracy: 0.9938 - recall: 0.9944 - precision: 0.9931 - auc: 0.9993 - val_loss: 0.0028 - val_accuracy: 0.9990 - val_recall: 1.0000 - val_precision: 0.9980 - val_auc: 1.0000\n",
      "Epoch 82/100\n",
      "250/250 [==============================] - 93s 373ms/step - loss: 0.0056 - accuracy: 0.9984 - recall: 0.9983 - precision: 0.9985 - auc: 0.9999 - val_loss: 0.0211 - val_accuracy: 0.9910 - val_recall: 1.0000 - val_precision: 0.9824 - val_auc: 1.0000\n",
      "Epoch 83/100\n",
      "250/250 [==============================] - 96s 383ms/step - loss: 0.0023 - accuracy: 0.9994 - recall: 0.9996 - precision: 0.9992 - auc: 1.0000 - val_loss: 7.0537e-04 - val_accuracy: 1.0000 - val_recall: 1.0000 - val_precision: 1.0000 - val_auc: 1.0000\n",
      "Epoch 84/100\n",
      "250/250 [==============================] - 94s 374ms/step - loss: 0.0045 - accuracy: 0.9990 - recall: 0.9991 - precision: 0.9989 - auc: 0.9998 - val_loss: 0.1310 - val_accuracy: 0.9620 - val_recall: 0.9242 - val_precision: 1.0000 - val_auc: 0.9920\n",
      "Epoch 85/100\n",
      "250/250 [==============================] - 89s 356ms/step - loss: 0.0114 - accuracy: 0.9961 - recall: 0.9963 - precision: 0.9961 - auc: 0.9999 - val_loss: 0.0042 - val_accuracy: 0.9990 - val_recall: 1.0000 - val_precision: 0.9980 - val_auc: 1.0000\n",
      "Epoch 86/100\n",
      "250/250 [==============================] - 89s 355ms/step - loss: 0.0103 - accuracy: 0.9967 - recall: 0.9967 - precision: 0.9966 - auc: 0.9998 - val_loss: 0.0014 - val_accuracy: 1.0000 - val_recall: 1.0000 - val_precision: 1.0000 - val_auc: 1.0000\n",
      "Epoch 87/100\n",
      "250/250 [==============================] - 93s 373ms/step - loss: 0.0102 - accuracy: 0.9974 - recall: 0.9964 - precision: 0.9984 - auc: 0.9996 - val_loss: 0.0341 - val_accuracy: 0.9880 - val_recall: 0.9780 - val_precision: 0.9980 - val_auc: 0.9999\n",
      "Epoch 88/100\n",
      "250/250 [==============================] - 91s 362ms/step - loss: 0.0049 - accuracy: 0.9984 - recall: 0.9989 - precision: 0.9978 - auc: 1.0000 - val_loss: 0.0112 - val_accuracy: 0.9960 - val_recall: 0.9920 - val_precision: 1.0000 - val_auc: 1.0000\n",
      "Epoch 89/100\n",
      "250/250 [==============================] - 93s 370ms/step - loss: 0.0076 - accuracy: 0.9977 - recall: 0.9984 - precision: 0.9969 - auc: 0.9999 - val_loss: 0.0141 - val_accuracy: 0.9940 - val_recall: 1.0000 - val_precision: 0.9882 - val_auc: 1.0000\n",
      "Epoch 90/100\n",
      "250/250 [==============================] - 92s 366ms/step - loss: 0.0051 - accuracy: 0.9990 - recall: 0.9994 - precision: 0.9986 - auc: 1.0000 - val_loss: 0.0039 - val_accuracy: 0.9980 - val_recall: 0.9960 - val_precision: 1.0000 - val_auc: 1.0000\n",
      "Epoch 91/100\n",
      "250/250 [==============================] - 89s 355ms/step - loss: 0.0026 - accuracy: 0.9994 - recall: 0.9999 - precision: 0.9988 - auc: 1.0000 - val_loss: 0.0045 - val_accuracy: 0.9980 - val_recall: 1.0000 - val_precision: 0.9960 - val_auc: 1.0000\n",
      "Epoch 92/100\n",
      "250/250 [==============================] - 91s 364ms/step - loss: 0.0071 - accuracy: 0.9984 - recall: 0.9990 - precision: 0.9979 - auc: 0.9999 - val_loss: 0.0142 - val_accuracy: 0.9930 - val_recall: 0.9880 - val_precision: 0.9980 - val_auc: 1.0000\n"
     ]
    }
   ],
   "source": [
    "optimizer = keras.optimizers.Adam(learning_rate=0.0001, beta_1=0.9, beta_2=0.999)\n",
    "\n",
    "model_reduced.compile(loss=\"binary_crossentropy\", optimizer=optimizer, metrics=['accuracy', 'Recall', 'Precision', 'AUC'])\n",
    "\n",
    "# freeze layers\n",
    "for layer in vgg16.layers:\n",
    "    layer.trainable = False\n",
    "\n",
    "history = model_reduced.fit(train_image_gen,\n",
    "                    validation_data=test_image_gen,\n",
    "                    epochs=5,\n",
    "                    callbacks=[])\n",
    "\n",
    "# un freeze\n",
    "for layer in vgg16.layers:\n",
    "    layer.trainable = True\n",
    "\n",
    "custom_early_stopping = keras.callbacks.EarlyStopping(patience=20)\n",
    "# tesorboard callback\n",
    "log_dir = \"logs/fit/\" + datetime.datetime.now().strftime(\"%Y%m%d-%H%M%S\")\n",
    "tensorboard_callback = tf.keras.callbacks.TensorBoard(log_dir=\"./logs\")\n",
    "\n",
    "model_reduced.compile(loss=\"binary_crossentropy\", optimizer=optimizer, metrics=['accuracy', 'Recall', 'Precision', 'AUC'])\n",
    "history = model_reduced.fit(train_image_gen,\n",
    "                    validation_data=test_image_gen,\n",
    "                    epochs=100,\n",
    "                    callbacks=[custom_early_stopping, tensorboard_callback])\n"
   ],
   "metadata": {
    "collapsed": false,
    "pycharm": {
     "name": "#%%\n"
    }
   }
  },
  {
   "cell_type": "code",
   "execution_count": 37,
   "outputs": [],
   "source": [
    "save_model(model, 'vgg16_heavily_reduced_data_v2.1')"
   ],
   "metadata": {
    "collapsed": false,
    "pycharm": {
     "name": "#%%\n"
    }
   }
  },
  {
   "cell_type": "code",
   "execution_count": 38,
   "outputs": [
    {
     "name": "stdout",
     "output_type": "stream",
     "text": [
      "32/32 [==============================] - 14s 443ms/step - loss: 0.0045 - accuracy: 0.9990 - recall: 0.9980 - precision: 1.0000 - auc: 1.0000\n"
     ]
    }
   ],
   "source": [
    "# metrics from the paper:\n",
    "# accuracy = 0.959, precision = 0.939, recall = 0.980, f1-score = 0.959, auc value = 0.982\n",
    "loss, accuracy, recall, precision, auc = model.evaluate(valid_set)"
   ],
   "metadata": {
    "collapsed": false,
    "pycharm": {
     "name": "#%%\n"
    }
   }
  },
  {
   "cell_type": "code",
   "execution_count": 39,
   "outputs": [
    {
     "name": "stdout",
     "output_type": "stream",
     "text": [
      "loss: 0.004525561351329088, \n",
      "accuracy: 0.9989989995956421, \n",
      "recall: 0.9979959726333618, \n",
      "precision: 1.0, \n",
      "auc: 1.0, \n",
      "F1: 0.998996981278197\n"
     ]
    }
   ],
   "source": [
    "# F1 score\n",
    "f1 = 2 * ((precision * recall) / (precision + recall))\n",
    "\n",
    "print(f\"loss: {loss}, \\n\"\n",
    "      f\"accuracy: {accuracy}, \\n\"\n",
    "      f\"recall: {recall}, \\n\"\n",
    "      f\"precision: {precision}, \\n\"\n",
    "      f\"auc: {auc}, \\n\"\n",
    "      f\"F1: {f1}\")"
   ],
   "metadata": {
    "collapsed": false,
    "pycharm": {
     "name": "#%%\n"
    }
   }
  },
  {
   "cell_type": "code",
   "execution_count": 40,
   "outputs": [],
   "source": [
    "from tensorflow.keras.models import Model\n",
    "import cv2\n",
    "\n",
    "\n",
    "class GradCAM:\n",
    "    def __init__(self, model, classIdx, layerName=None):\n",
    "        # store the model, the class index used to measure the class\n",
    "        # activation map, and the layer to be used when visualizing\n",
    "        # the class activation map\n",
    "        self.model = model\n",
    "        self.classIdx = classIdx\n",
    "        self.layerName = layerName\n",
    "        # if the layer name is None, attempt to automatically find\n",
    "        # the target output layer\n",
    "        if self.layerName is None:\n",
    "            self.layerName = self.find_target_layer()\n",
    "\n",
    "    def find_target_layer(self):\n",
    "        # attempt to find the final convolutional layer in the network\n",
    "        # by looping over the layers of the network in reverse order\n",
    "        for layer in reversed(self.model.layers):\n",
    "            print(self.model.layers)\n",
    "            # check to see if the layer has a 4D output\n",
    "            if len(layer.output_shape) == 4:\n",
    "                return layer.name\n",
    "        # otherwise, we could not find a 4D layer so the GradCAM\n",
    "        # algorithm cannot be applied\n",
    "        raise ValueError(\"Could not find 4D layer. Cannot apply GradCAM.\")\n",
    "\n",
    "    def compute_heatmap(self, image, eps=1e-8):\n",
    "        # construct our gradient model by supplying (1) the inputs\n",
    "        # to our pre-trained model, (2) the output of the (presumably)\n",
    "        # final 4D layer in the network, and (3) the output of the\n",
    "        # softmax activations from the model\n",
    "        gradModel = Model(\n",
    "            inputs=[self.model.inputs],\n",
    "            outputs=[self.model.get_layer(self.layerName).output, self.model.output])\n",
    "\n",
    "        # record operations for automatic differentiation\n",
    "        with tf.GradientTape() as tape:\n",
    "            # cast the image tensor to a float-32 data type, pass the\n",
    "            # image through the gradient model, and grab the loss\n",
    "            # associated with the specific class index\n",
    "            inputs = tf.cast(image, tf.float32)\n",
    "            (convOutputs, predictions) = gradModel(inputs)\n",
    "\n",
    "            loss = predictions[:, tf.argmax(predictions[0])]\n",
    "\n",
    "        # use automatic differentiation to compute the gradients\n",
    "        grads = tape.gradient(loss, convOutputs)\n",
    "\n",
    "        # compute the guided gradients\n",
    "        castConvOutputs = tf.cast(convOutputs > 0, \"float32\")\n",
    "        castGrads = tf.cast(grads > 0, \"float32\")\n",
    "        guidedGrads = castConvOutputs * castGrads * grads\n",
    "        # the convolution and guided gradients have a batch dimension\n",
    "        # (which we don't need) so let's grab the volume itself and\n",
    "        # discard the batch\n",
    "        convOutputs = convOutputs[0]\n",
    "        guidedGrads = guidedGrads[0]\n",
    "\n",
    "        # compute the average of the gradient values, and using them\n",
    "        # as weights, compute the ponderation of the filters with\n",
    "        # respect to the weights\n",
    "        weights = tf.reduce_mean(guidedGrads, axis=(0, 1))\n",
    "        cam = tf.reduce_sum(tf.multiply(weights, convOutputs), axis=-1)\n",
    "\n",
    "        # grab the spatial dimensions of the input image and resize\n",
    "        # the output class activation map to match the input image\n",
    "        # dimensions\n",
    "        (w, h) = (image.shape[2], image.shape[1])\n",
    "        heatmap = cv2.resize(cam.numpy(), (w, h))\n",
    "        # normalize the heatmap such that all values lie in the range\n",
    "        # [0, 1], scale the resulting values to the range [0, 255],\n",
    "        # and then convert to an unsigned 8-bit integer\n",
    "        numer = heatmap - np.min(heatmap)\n",
    "        denom = (heatmap.max() - heatmap.min()) + eps\n",
    "        heatmap = numer / denom\n",
    "        heatmap = (heatmap * 255).astype(\"uint8\")\n",
    "        # return the resulting heatmap to the calling function\n",
    "        return heatmap\n",
    "\n",
    "    def overlay_heatmap(self, heatmap, image, alpha=0.5,\n",
    "                        colormap=cv2.COLORMAP_VIRIDIS):\n",
    "        # apply the supplied color map to the heatmap and then\n",
    "        # overlay the heatmap on the input image\n",
    "        heatmap = cv2.applyColorMap(heatmap, colormap)\n",
    "        output = cv2.addWeighted(image, alpha, heatmap, 1 - alpha, 0)\n",
    "        # return a 2-tuple of the color mapped heatmap and the output,\n",
    "        # overlaid image\n",
    "        return (heatmap, output)"
   ],
   "metadata": {
    "collapsed": false,
    "pycharm": {
     "name": "#%%\n"
    }
   }
  },
  {
   "cell_type": "code",
   "execution_count": 53,
   "outputs": [],
   "source": [
    "image = cv2.imread('data/data_predictions/MyRecord2021-11-19T125431028-from_00_49_00.00.mp4-img-44016.jpg')\n",
    "image = cv2.resize(image, (224, 224))\n",
    "image = image.astype('float32') / 255\n",
    "image = np.expand_dims(image, axis=0)\n",
    "\n",
    "preds = model.predict(image)\n",
    "i = np.argmax(preds[0])"
   ],
   "metadata": {
    "collapsed": false,
    "pycharm": {
     "name": "#%%\n"
    }
   }
  },
  {
   "cell_type": "code",
   "execution_count": 54,
   "outputs": [],
   "source": [
    "# for idx in range(len(model.layers)):\n",
    "#     print(model.get_layer(index=idx).name)"
   ],
   "metadata": {
    "collapsed": false,
    "pycharm": {
     "name": "#%%\n"
    }
   }
  },
  {
   "cell_type": "code",
   "execution_count": 55,
   "outputs": [
    {
     "name": "stdout",
     "output_type": "stream",
     "text": [
      "(224, 224) (224, 224, 3)\n"
     ]
    }
   ],
   "source": [
    "icam = GradCAM(model, i, 'block5_conv3')\n",
    "heatmap = icam.compute_heatmap(image)\n",
    "heatmap = cv2.resize(heatmap, (224, 224))\n",
    "\n",
    "image = cv2.imread('data/data_predictions/MyRecord2021-11-19T125431028-from_00_49_00.00.mp4-img-44016.jpg')\n",
    "image = cv2.resize(image, (224, 224))\n",
    "print(heatmap.shape, image.shape)\n",
    "\n",
    "(heatmap, output) = icam.overlay_heatmap(heatmap, image, alpha=0.5)"
   ],
   "metadata": {
    "collapsed": false,
    "pycharm": {
     "name": "#%%\n"
    }
   }
  },
  {
   "cell_type": "code",
   "execution_count": 56,
   "outputs": [
    {
     "data": {
      "text/plain": "<matplotlib.image.AxesImage at 0x7f4ebc48fe50>"
     },
     "execution_count": 56,
     "metadata": {},
     "output_type": "execute_result"
    },
    {
     "data": {
      "text/plain": "<Figure size 432x288 with 3 Axes>",
      "image/png": "[encoded data removed]"
     },
     "metadata": {
      "needs_background": "light"
     },
     "output_type": "display_data"
    }
   ],
   "source": [
    "fig, ax = plt.subplots(1, 3)\n",
    "\n",
    "ax[0].imshow(heatmap)\n",
    "ax[1].imshow(image)\n",
    "ax[2].imshow(output)"
   ],
   "metadata": {
    "collapsed": false,
    "pycharm": {
     "name": "#%%\n"
    }
   }
  },
  {
   "cell_type": "code",
   "execution_count": 57,
   "outputs": [],
   "source": [],
   "metadata": {
    "collapsed": false,
    "pycharm": {
     "name": "#%%\n"
    }
   }
  },
  {
   "cell_type": "code",
   "execution_count": null,
   "outputs": [],
   "source": [],
   "metadata": {
    "collapsed": false,
    "pycharm": {
     "name": "#%%\n"
    }
   }
  }
 ],
 "metadata": {
  "kernelspec": {
   "display_name": "PyCharm (Quality Control of SLS manufacturing using Convolutional Neural Networks -implementation)",
   "language": "python",
   "name": "pycharm-8f8e9c42"
  },
  "language_info": {
   "codemirror_mode": {
    "name": "ipython",
    "version": 3
   },
   "file_extension": ".py",
   "mimetype": "text/x-python",
   "name": "python",
   "nbconvert_exporter": "python",
   "pygments_lexer": "ipython3",
   "version": "3.9.7"
  }
 },
 "nbformat": 4,
 "nbformat_minor": 4
}