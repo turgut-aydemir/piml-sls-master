{
 "cells": [
  {
   "cell_type": "markdown",
   "source": [
    "# Jupyter Notebook to train a model"
   ],
   "metadata": {
    "collapsed": false
   }
  },
  {
   "cell_type": "code",
   "execution_count": 1,
   "outputs": [
    {
     "name": "stderr",
     "output_type": "stream",
     "text": [
      "2021-12-14 22:14:37.851189: I tensorflow/stream_executor/platform/default/dso_loader.cc:49] Successfully opened dynamic library libcudart.so.10.1\n"
     ]
    }
   ],
   "source": [
    "import tensorflow as tf\n",
    "from tensorflow import keras\n",
    "import numpy as np\n",
    "from tf_explain.callbacks.grad_cam import GradCAMCallback\n",
    "\n",
    "# use random seed to reproduce results\n",
    "np.random.seed(42)\n",
    "tf.random.set_seed(42)"
   ],
   "metadata": {
    "collapsed": false,
    "pycharm": {
     "name": "#%%\n"
    }
   }
  },
  {
   "cell_type": "markdown",
   "source": [
    "### lists possible devices (CPU, GPU), used to check if GPU is recognized/exists"
   ],
   "metadata": {
    "collapsed": false
   }
  },
  {
   "cell_type": "code",
   "execution_count": 2,
   "outputs": [
    {
     "name": "stderr",
     "output_type": "stream",
     "text": [
      "2021-12-14 22:14:41.881330: I tensorflow/compiler/jit/xla_cpu_device.cc:41] Not creating XLA devices, tf_xla_enable_xla_devices not set\n",
      "2021-12-14 22:14:41.888562: I tensorflow/stream_executor/platform/default/dso_loader.cc:49] Successfully opened dynamic library libcuda.so.1\n",
      "2021-12-14 22:14:41.963126: I tensorflow/stream_executor/cuda/cuda_gpu_executor.cc:941] successful NUMA node read from SysFS had negative value (-1), but there must be at least one NUMA node, so returning NUMA node zero\n",
      "2021-12-14 22:14:41.963932: I tensorflow/core/common_runtime/gpu/gpu_device.cc:1720] Found device 0 with properties: \n",
      "pciBusID: 0000:01:00.0 name: NVIDIA GeForce GTX 1080 computeCapability: 6.1\n",
      "coreClock: 1.8225GHz coreCount: 20 deviceMemorySize: 7.93GiB deviceMemoryBandwidth: 298.32GiB/s\n",
      "2021-12-14 22:14:41.963988: I tensorflow/stream_executor/platform/default/dso_loader.cc:49] Successfully opened dynamic library libcudart.so.10.1\n",
      "2021-12-14 22:14:41.993918: I tensorflow/stream_executor/platform/default/dso_loader.cc:49] Successfully opened dynamic library libcublas.so.10\n",
      "2021-12-14 22:14:41.994000: I tensorflow/stream_executor/platform/default/dso_loader.cc:49] Successfully opened dynamic library libcublasLt.so.10\n",
      "2021-12-14 22:14:42.010098: I tensorflow/stream_executor/platform/default/dso_loader.cc:49] Successfully opened dynamic library libcufft.so.10\n",
      "2021-12-14 22:14:42.014586: I tensorflow/stream_executor/platform/default/dso_loader.cc:49] Successfully opened dynamic library libcurand.so.10\n",
      "2021-12-14 22:14:42.045706: I tensorflow/stream_executor/platform/default/dso_loader.cc:49] Successfully opened dynamic library libcusolver.so.10\n",
      "2021-12-14 22:14:42.050012: I tensorflow/stream_executor/platform/default/dso_loader.cc:49] Successfully opened dynamic library libcusparse.so.10\n",
      "2021-12-14 22:14:42.107131: I tensorflow/stream_executor/platform/default/dso_loader.cc:49] Successfully opened dynamic library libcudnn.so.7\n",
      "2021-12-14 22:14:42.107304: I tensorflow/stream_executor/cuda/cuda_gpu_executor.cc:941] successful NUMA node read from SysFS had negative value (-1), but there must be at least one NUMA node, so returning NUMA node zero\n",
      "2021-12-14 22:14:42.107561: I tensorflow/stream_executor/cuda/cuda_gpu_executor.cc:941] successful NUMA node read from SysFS had negative value (-1), but there must be at least one NUMA node, so returning NUMA node zero\n",
      "2021-12-14 22:14:42.107677: I tensorflow/core/common_runtime/gpu/gpu_device.cc:1862] Adding visible gpu devices: 0\n"
     ]
    },
    {
     "data": {
      "text/plain": "[PhysicalDevice(name='/physical_device:CPU:0', device_type='CPU'),\n PhysicalDevice(name='/physical_device:GPU:0', device_type='GPU')]"
     },
     "execution_count": 2,
     "metadata": {},
     "output_type": "execute_result"
    }
   ],
   "source": [
    "tf.config.get_visible_devices()"
   ],
   "metadata": {
    "collapsed": false,
    "pycharm": {
     "name": "#%%\n"
    }
   }
  },
  {
   "cell_type": "markdown",
   "source": [
    "## Methods"
   ],
   "metadata": {
    "collapsed": false
   }
  },
  {
   "cell_type": "markdown",
   "source": [
    "### used to save a trained model as a json file and its weights as a h5 file"
   ],
   "metadata": {
    "collapsed": false
   }
  },
  {
   "cell_type": "code",
   "execution_count": 3,
   "outputs": [],
   "source": [
    "def save_model(model, model_name):\n",
    "    my_model = model.to_json()\n",
    "    with open(f'./saved_models/{model_name}.json', \"w\") as file:\n",
    "        file.write(my_model)\n",
    "    # serialize weights to HDF5\n",
    "    model.save_weights(f'./saved_models/{model_name}_weights.h5')"
   ],
   "metadata": {
    "collapsed": false,
    "pycharm": {
     "name": "#%%\n"
    }
   }
  },
  {
   "cell_type": "markdown",
   "source": [
    "### used to build the base model using predefined architectures\n",
    "currently: vgg16, xception, resnet"
   ],
   "metadata": {
    "collapsed": false,
    "pycharm": {
     "name": "#%% md\n"
    }
   }
  },
  {
   "cell_type": "code",
   "execution_count": 4,
   "outputs": [],
   "source": [
    "def build_base_model(architecture, weights):\n",
    "    input = tf.keras.Input(shape=(224, 224, 3))\n",
    "    if architecture == 'vgg16':\n",
    "        return tf.keras.applications.vgg16.VGG16(weights=weights, include_top=False, input_tensor=input)\n",
    "    if architecture == 'xception':\n",
    "        return tf.keras.applications.xception.Xception(weights=weights, include_top=False, input_tensor=input)\n",
    "    if architecture == 'resnet':\n",
    "        return tf.keras.applications.resnet.ResNet50(weights=weights, include_top=False, input_tensor=input)"
   ],
   "metadata": {
    "collapsed": false,
    "pycharm": {
     "name": "#%%\n"
    }
   }
  },
  {
   "cell_type": "markdown",
   "source": [
    "### gets base model as input and builds a new top layer and returns the model with custom top layers"
   ],
   "metadata": {
    "collapsed": false
   }
  },
  {
   "cell_type": "code",
   "execution_count": 5,
   "outputs": [],
   "source": [
    "def build_model(base_model):\n",
    "    flat = keras.layers.Flatten(name='flatten')(base_model.output)\n",
    "    dense_1 = keras.layers.Dense(1000)(flat)\n",
    "    dropout = keras.layers.Dropout(0.25)(dense_1)\n",
    "    batch = keras.layers.BatchNormalization()(dropout)\n",
    "    output = keras.layers.Dense(1, activation='sigmoid')(batch)\n",
    "    return tf.keras.Model(base_model.input, output)"
   ],
   "metadata": {
    "collapsed": false,
    "pycharm": {
     "name": "#%%\n"
    }
   }
  },
  {
   "cell_type": "markdown",
   "source": [
    "### gets a model as input and returns a model compiled with the adam optimizer"
   ],
   "metadata": {
    "collapsed": false
   }
  },
  {
   "cell_type": "code",
   "execution_count": 6,
   "outputs": [],
   "source": [
    "def compile_model(model, alpha, beta1, beta2, metrics):\n",
    "    optimizer = keras.optimizers.Adam(learning_rate=alpha, beta_1=beta1, beta_2=beta2)\n",
    "    model.compile(loss=\"binary_crossentropy\", optimizer=optimizer, metrics=metrics)\n",
    "    return model"
   ],
   "metadata": {
    "collapsed": false,
    "pycharm": {
     "name": "#%%\n"
    }
   }
  },
  {
   "cell_type": "markdown",
   "source": [
    "### gets a model as input and trains it on the data-set with the defined callbacks and epochs"
   ],
   "metadata": {
    "collapsed": false
   }
  },
  {
   "cell_type": "code",
   "execution_count": 7,
   "outputs": [],
   "source": [
    "def train_model(model, train_set, validation_set, epochs, callback):\n",
    "    return model.fit(train_set,\n",
    "                     validation_data=validation_set,\n",
    "                     epochs=epochs,\n",
    "                     callbacks=callback)"
   ],
   "metadata": {
    "collapsed": false,
    "pycharm": {
     "name": "#%%\n"
    }
   }
  },
  {
   "cell_type": "markdown",
   "source": [
    "### gets a model as input and changes its layers trainable attribute"
   ],
   "metadata": {
    "collapsed": false
   }
  },
  {
   "cell_type": "code",
   "execution_count": 8,
   "outputs": [],
   "source": [
    "def set_layers_trainable(trainable, input_model):\n",
    "    for layer in input_model.layers:\n",
    "        layer.trainable = trainable"
   ],
   "metadata": {
    "collapsed": false,
    "pycharm": {
     "name": "#%%\n"
    }
   }
  },
  {
   "cell_type": "markdown",
   "source": [
    "## Data preprocessing"
   ],
   "metadata": {
    "collapsed": false
   }
  },
  {
   "cell_type": "markdown",
   "source": [
    "preprocessing of the images applied when loading image data set from disk with tensorflows flow_from_directory\n"
   ],
   "metadata": {
    "collapsed": false
   }
  },
  {
   "cell_type": "code",
   "execution_count": 9,
   "outputs": [],
   "source": [
    "image_gen = keras.preprocessing.image.ImageDataGenerator(rotation_range=20,  # rotate the image 20 degrees\n",
    "                                                         width_shift_range=0.2,\n",
    "                                                         height_shift_range=0.2,\n",
    "                                                         rescale=1 / 255,  # Rescale the image by normalzing it.\n",
    "                                                         shear_range=0.15,\n",
    "                                                         # Shear means cutting away part of the image (max 20%)\n",
    "                                                         zoom_range=0.15,  # Zoom in by 15% max\n",
    "                                                         horizontal_flip=True,  # Allow horizontal flipping\n",
    "                                                         fill_mode='nearest'\n",
    "                                                         # Fill in missing pixels with the nearest filled value\n",
    "                                                         )"
   ],
   "metadata": {
    "collapsed": false,
    "pycharm": {
     "name": "#%%\n"
    }
   }
  },
  {
   "cell_type": "markdown",
   "source": [
    "path to the data set"
   ],
   "metadata": {
    "collapsed": false
   }
  },
  {
   "cell_type": "code",
   "execution_count": 10,
   "outputs": [],
   "source": [
    "train_data_path = './data/data_full/train'  #local notebook\n",
    "validation_data_path = './data/data_full/val'  #local notebook\n",
    "test_data_path = './data/data_full/test'  #local notebook"
   ],
   "metadata": {
    "collapsed": false,
    "pycharm": {
     "name": "#%%\n"
    }
   }
  },
  {
   "cell_type": "markdown",
   "source": [
    "generate training set by loading the images from their directories with flow_from_directory\n",
    "important: the folder structure has to match! i.e {train} -> {ok,def}\n",
    "at the \"same time\" the data augmentation is applied on the images through the ImageDataGenerator"
   ],
   "metadata": {
    "collapsed": false
   }
  },
  {
   "cell_type": "code",
   "execution_count": 11,
   "outputs": [
    {
     "name": "stdout",
     "output_type": "stream",
     "text": [
      "Found 48271 images belonging to 2 classes.\n"
     ]
    }
   ],
   "source": [
    "batch_size = 15\n",
    "train_image_gen = image_gen.flow_from_directory(train_data_path,\n",
    "                                                target_size=(224, 224),\n",
    "                                                batch_size=batch_size,\n",
    "                                                class_mode='binary')"
   ],
   "metadata": {
    "collapsed": false,
    "pycharm": {
     "name": "#%%\n"
    }
   }
  },
  {
   "cell_type": "code",
   "execution_count": 12,
   "outputs": [
    {
     "name": "stdout",
     "output_type": "stream",
     "text": [
      "Found 6033 images belonging to 2 classes.\n"
     ]
    }
   ],
   "source": [
    "valid_image_gen = image_gen.flow_from_directory(validation_data_path,\n",
    "                                                target_size=(224, 224),\n",
    "                                                batch_size=batch_size,\n",
    "                                                class_mode='binary')"
   ],
   "metadata": {
    "collapsed": false,
    "pycharm": {
     "name": "#%%\n"
    }
   }
  },
  {
   "cell_type": "code",
   "execution_count": 13,
   "outputs": [
    {
     "name": "stdout",
     "output_type": "stream",
     "text": [
      "Found 6036 images belonging to 2 classes.\n"
     ]
    }
   ],
   "source": [
    "test_image_gen = image_gen.flow_from_directory(test_data_path,\n",
    "                                               target_size=(224, 224),\n",
    "                                               batch_size=batch_size,\n",
    "                                               class_mode='binary')"
   ],
   "metadata": {
    "collapsed": false,
    "pycharm": {
     "name": "#%%\n"
    }
   }
  },
  {
   "cell_type": "markdown",
   "source": [
    "# Training of the model"
   ],
   "metadata": {
    "collapsed": false
   }
  },
  {
   "cell_type": "code",
   "execution_count": 14,
   "outputs": [
    {
     "name": "stderr",
     "output_type": "stream",
     "text": [
      "2021-12-14 22:14:57.069384: I tensorflow/core/platform/cpu_feature_guard.cc:142] This TensorFlow binary is optimized with oneAPI Deep Neural Network Library (oneDNN) to use the following CPU instructions in performance-critical operations:  SSE4.1 SSE4.2 AVX AVX2 FMA\n",
      "To enable them in other operations, rebuild TensorFlow with the appropriate compiler flags.\n",
      "2021-12-14 22:14:57.069764: I tensorflow/stream_executor/cuda/cuda_gpu_executor.cc:941] successful NUMA node read from SysFS had negative value (-1), but there must be at least one NUMA node, so returning NUMA node zero\n",
      "2021-12-14 22:14:57.069886: I tensorflow/core/common_runtime/gpu/gpu_device.cc:1720] Found device 0 with properties: \n",
      "pciBusID: 0000:01:00.0 name: NVIDIA GeForce GTX 1080 computeCapability: 6.1\n",
      "coreClock: 1.8225GHz coreCount: 20 deviceMemorySize: 7.93GiB deviceMemoryBandwidth: 298.32GiB/s\n",
      "2021-12-14 22:14:57.069922: I tensorflow/stream_executor/platform/default/dso_loader.cc:49] Successfully opened dynamic library libcudart.so.10.1\n",
      "2021-12-14 22:14:57.069956: I tensorflow/stream_executor/platform/default/dso_loader.cc:49] Successfully opened dynamic library libcublas.so.10\n",
      "2021-12-14 22:14:57.069968: I tensorflow/stream_executor/platform/default/dso_loader.cc:49] Successfully opened dynamic library libcublasLt.so.10\n",
      "2021-12-14 22:14:57.069979: I tensorflow/stream_executor/platform/default/dso_loader.cc:49] Successfully opened dynamic library libcufft.so.10\n",
      "2021-12-14 22:14:57.069989: I tensorflow/stream_executor/platform/default/dso_loader.cc:49] Successfully opened dynamic library libcurand.so.10\n",
      "2021-12-14 22:14:57.070000: I tensorflow/stream_executor/platform/default/dso_loader.cc:49] Successfully opened dynamic library libcusolver.so.10\n",
      "2021-12-14 22:14:57.070010: I tensorflow/stream_executor/platform/default/dso_loader.cc:49] Successfully opened dynamic library libcusparse.so.10\n",
      "2021-12-14 22:14:57.070021: I tensorflow/stream_executor/platform/default/dso_loader.cc:49] Successfully opened dynamic library libcudnn.so.7\n",
      "2021-12-14 22:14:57.070083: I tensorflow/stream_executor/cuda/cuda_gpu_executor.cc:941] successful NUMA node read from SysFS had negative value (-1), but there must be at least one NUMA node, so returning NUMA node zero\n",
      "2021-12-14 22:14:57.070202: I tensorflow/stream_executor/cuda/cuda_gpu_executor.cc:941] successful NUMA node read from SysFS had negative value (-1), but there must be at least one NUMA node, so returning NUMA node zero\n",
      "2021-12-14 22:14:57.070284: I tensorflow/core/common_runtime/gpu/gpu_device.cc:1862] Adding visible gpu devices: 0\n",
      "2021-12-14 22:14:57.070763: I tensorflow/stream_executor/platform/default/dso_loader.cc:49] Successfully opened dynamic library libcudart.so.10.1\n",
      "2021-12-14 22:14:58.034041: I tensorflow/core/common_runtime/gpu/gpu_device.cc:1261] Device interconnect StreamExecutor with strength 1 edge matrix:\n",
      "2021-12-14 22:14:58.034065: I tensorflow/core/common_runtime/gpu/gpu_device.cc:1267]      0 \n",
      "2021-12-14 22:14:58.034070: I tensorflow/core/common_runtime/gpu/gpu_device.cc:1280] 0:   N \n",
      "2021-12-14 22:14:58.034672: I tensorflow/stream_executor/cuda/cuda_gpu_executor.cc:941] successful NUMA node read from SysFS had negative value (-1), but there must be at least one NUMA node, so returning NUMA node zero\n",
      "2021-12-14 22:14:58.034839: I tensorflow/stream_executor/cuda/cuda_gpu_executor.cc:941] successful NUMA node read from SysFS had negative value (-1), but there must be at least one NUMA node, so returning NUMA node zero\n",
      "2021-12-14 22:14:58.034959: I tensorflow/stream_executor/cuda/cuda_gpu_executor.cc:941] successful NUMA node read from SysFS had negative value (-1), but there must be at least one NUMA node, so returning NUMA node zero\n",
      "2021-12-14 22:14:58.035056: I tensorflow/core/common_runtime/gpu/gpu_device.cc:1406] Created TensorFlow device (/job:localhost/replica:0/task:0/device:GPU:0 with 5945 MB memory) -> physical GPU (device: 0, name: NVIDIA GeForce GTX 1080, pci bus id: 0000:01:00.0, compute capability: 6.1)\n",
      "2021-12-14 22:14:58.036621: I tensorflow/compiler/jit/xla_gpu_device.cc:99] Not creating XLA devices, tf_xla_enable_xla_devices not set\n",
      "2021-12-14 22:14:58.659629: I tensorflow/compiler/mlir/mlir_graph_optimization_pass.cc:116] None of the MLIR optimization passes are enabled (registered 2)\n",
      "2021-12-14 22:14:58.678011: I tensorflow/core/platform/profile_utils/cpu_utils.cc:112] CPU Frequency: 3999980000 Hz\n"
     ]
    },
    {
     "name": "stdout",
     "output_type": "stream",
     "text": [
      "Epoch 1/5\n"
     ]
    },
    {
     "name": "stderr",
     "output_type": "stream",
     "text": [
      "2021-12-14 22:14:59.749570: I tensorflow/stream_executor/platform/default/dso_loader.cc:49] Successfully opened dynamic library libcublas.so.10\n",
      "2021-12-14 22:15:00.065581: I tensorflow/stream_executor/platform/default/dso_loader.cc:49] Successfully opened dynamic library libcudnn.so.7\n",
      "2021-12-14 22:15:00.961046: W tensorflow/stream_executor/gpu/asm_compiler.cc:63] Running ptxas --version returned 256\n",
      "2021-12-14 22:15:00.983751: W tensorflow/stream_executor/gpu/redzone_allocator.cc:314] Internal: ptxas exited with non-zero error code 256, output: \n",
      "Relying on driver to perform ptx compilation. \n",
      "Modify $PATH to customize ptxas location.\n",
      "This message will be only logged once.\n"
     ]
    },
    {
     "name": "stdout",
     "output_type": "stream",
     "text": [
      "3219/3219 [==============================] - 800s 245ms/step - loss: 0.3582 - accuracy: 0.8453 - recall: 0.7564 - precision: 0.5523 - auc: 0.8923 - val_loss: 0.0648 - val_accuracy: 0.9758 - val_recall: 0.8789 - val_precision: 0.9723 - val_auc: 0.9958\n",
      "Epoch 2/5\n",
      "3219/3219 [==============================] - 764s 237ms/step - loss: 0.0834 - accuracy: 0.9683 - recall: 0.8889 - precision: 0.9178 - auc: 0.9903 - val_loss: 0.0322 - val_accuracy: 0.9899 - val_recall: 0.9640 - val_precision: 0.9747 - val_auc: 0.9981\n",
      "Epoch 3/5\n",
      "3219/3219 [==============================] - 721s 224ms/step - loss: 0.0425 - accuracy: 0.9849 - recall: 0.9500 - precision: 0.9574 - auc: 0.9971 - val_loss: 0.0764 - val_accuracy: 0.9746 - val_recall: 0.9830 - val_precision: 0.8784 - val_auc: 0.9981\n",
      "Epoch 4/5\n",
      "3219/3219 [==============================] - 678s 211ms/step - loss: 0.0349 - accuracy: 0.9878 - recall: 0.9582 - precision: 0.9682 - auc: 0.9976 - val_loss: 0.1393 - val_accuracy: 0.9556 - val_recall: 0.7317 - val_precision: 1.0000 - val_auc: 0.9798\n",
      "Epoch 5/5\n",
      "3219/3219 [==============================] - 679s 211ms/step - loss: 0.0247 - accuracy: 0.9918 - recall: 0.9723 - precision: 0.9786 - auc: 0.9985 - val_loss: 0.0064 - val_accuracy: 0.9975 - val_recall: 0.9860 - val_precision: 0.9990 - val_auc: 1.0000\n"
     ]
    },
    {
     "name": "stderr",
     "output_type": "stream",
     "text": [
      "2021-12-14 23:15:41.640556: I tensorflow/core/profiler/lib/profiler_session.cc:136] Profiler session initializing.\n",
      "2021-12-14 23:15:41.640601: I tensorflow/core/profiler/lib/profiler_session.cc:155] Profiler session started.\n",
      "2021-12-14 23:15:41.640947: I tensorflow/core/profiler/internal/gpu/cupti_tracer.cc:1365] Profiler found 1 GPUs\n",
      "2021-12-14 23:15:41.649733: I tensorflow/stream_executor/platform/default/dso_loader.cc:49] Successfully opened dynamic library libcupti.so.10.1\n",
      "2021-12-14 23:15:41.751164: E tensorflow/core/profiler/internal/gpu/cupti_tracer.cc:1415] function cupti_interface_->Subscribe( &subscriber_, (CUpti_CallbackFunc)ApiCallback, this)failed with error CUPTI_ERROR_INSUFFICIENT_PRIVILEGES\n",
      "2021-12-14 23:15:41.751350: I tensorflow/core/profiler/lib/profiler_session.cc:172] Profiler session tear down.\n"
     ]
    },
    {
     "name": "stdout",
     "output_type": "stream",
     "text": [
      "Epoch 1/100\n",
      "   1/3219 [..............................] - ETA: 1:06:08 - loss: 0.0024 - accuracy: 1.0000 - recall: 0.0000e+00 - precision: 0.0000e+00 - auc: 0.0000e+00"
     ]
    },
    {
     "name": "stderr",
     "output_type": "stream",
     "text": [
      "2021-12-14 23:15:43.180591: I tensorflow/core/profiler/lib/profiler_session.cc:136] Profiler session initializing.\n",
      "2021-12-14 23:15:43.180615: I tensorflow/core/profiler/lib/profiler_session.cc:155] Profiler session started.\n",
      "2021-12-14 23:15:43.181058: E tensorflow/core/profiler/internal/gpu/cupti_tracer.cc:1415] function cupti_interface_->Subscribe( &subscriber_, (CUpti_CallbackFunc)ApiCallback, this)failed with error CUPTI_ERROR_INSUFFICIENT_PRIVILEGES\n"
     ]
    },
    {
     "name": "stdout",
     "output_type": "stream",
     "text": [
      "   3/3219 [..............................] - ETA: 14:00 - loss: 0.0015 - accuracy: 1.0000 - recall: 0.6667 - precision: 0.6667 - auc: 0.6667"
     ]
    },
    {
     "name": "stderr",
     "output_type": "stream",
     "text": [
      "2021-12-14 23:15:43.419661: I tensorflow/core/profiler/lib/profiler_session.cc:71] Profiler session collecting data.\n",
      "2021-12-14 23:15:43.432291: I tensorflow/core/profiler/internal/gpu/cupti_collector.cc:228]  GpuTracer has collected 0 callback api events and 0 activity events. \n",
      "2021-12-14 23:15:43.437447: I tensorflow/core/profiler/lib/profiler_session.cc:172] Profiler session tear down.\n",
      "2021-12-14 23:15:43.444705: I tensorflow/core/profiler/rpc/client/save_profile.cc:137] Creating directory: ./logs/train/plugins/profile/2021_12_14_23_15_43\n",
      "2021-12-14 23:15:43.446454: I tensorflow/core/profiler/rpc/client/save_profile.cc:143] Dumped gzipped tool data for trace.json.gz to ./logs/train/plugins/profile/2021_12_14_23_15_43/pop-os.trace.json.gz\n",
      "2021-12-14 23:15:43.468245: I tensorflow/core/profiler/rpc/client/save_profile.cc:137] Creating directory: ./logs/train/plugins/profile/2021_12_14_23_15_43\n",
      "2021-12-14 23:15:43.471072: I tensorflow/core/profiler/rpc/client/save_profile.cc:143] Dumped gzipped tool data for memory_profile.json.gz to ./logs/train/plugins/profile/2021_12_14_23_15_43/pop-os.memory_profile.json.gz\n",
      "2021-12-14 23:15:43.471272: I tensorflow/core/profiler/rpc/client/capture_profile.cc:251] Creating directory: ./logs/train/plugins/profile/2021_12_14_23_15_43Dumped tool data for xplane.pb to ./logs/train/plugins/profile/2021_12_14_23_15_43/pop-os.xplane.pb\n",
      "Dumped tool data for overview_page.pb to ./logs/train/plugins/profile/2021_12_14_23_15_43/pop-os.overview_page.pb\n",
      "Dumped tool data for input_pipeline.pb to ./logs/train/plugins/profile/2021_12_14_23_15_43/pop-os.input_pipeline.pb\n",
      "Dumped tool data for tensorflow_stats.pb to ./logs/train/plugins/profile/2021_12_14_23_15_43/pop-os.tensorflow_stats.pb\n",
      "Dumped tool data for kernel_stats.pb to ./logs/train/plugins/profile/2021_12_14_23_15_43/pop-os.kernel_stats.pb\n",
      "\n"
     ]
    },
    {
     "name": "stdout",
     "output_type": "stream",
     "text": [
      "3219/3219 [==============================] - 632s 196ms/step - loss: 0.0205 - accuracy: 0.9935 - recall: 0.9756 - precision: 0.9845 - auc: 0.9985 - val_loss: 0.0180 - val_accuracy: 0.9937 - val_recall: 0.9890 - val_precision: 0.9734 - val_auc: 0.9996\n",
      "Epoch 2/100\n",
      "3219/3219 [==============================] - 630s 196ms/step - loss: 0.0159 - accuracy: 0.9944 - recall: 0.9801 - precision: 0.9868 - auc: 0.9992 - val_loss: 0.0086 - val_accuracy: 0.9969 - val_recall: 0.9930 - val_precision: 0.9880 - val_auc: 0.9999\n",
      "Epoch 3/100\n",
      "3219/3219 [==============================] - 644s 200ms/step - loss: 0.0164 - accuracy: 0.9944 - recall: 0.9816 - precision: 0.9846 - auc: 0.9992 - val_loss: 0.0053 - val_accuracy: 0.9982 - val_recall: 0.9960 - val_precision: 0.9930 - val_auc: 0.9995\n",
      "Epoch 4/100\n",
      "3219/3219 [==============================] - 679s 211ms/step - loss: 0.0137 - accuracy: 0.9953 - recall: 0.9834 - precision: 0.9877 - auc: 0.9993 - val_loss: 0.0298 - val_accuracy: 0.9902 - val_recall: 0.9970 - val_precision: 0.9468 - val_auc: 0.9999\n",
      "Epoch 5/100\n",
      "3219/3219 [==============================] - 681s 212ms/step - loss: 0.0154 - accuracy: 0.9947 - recall: 0.9801 - precision: 0.9878 - auc: 0.9992 - val_loss: 0.0181 - val_accuracy: 0.9930 - val_recall: 0.9630 - val_precision: 0.9948 - val_auc: 0.9978\n",
      "Epoch 6/100\n",
      "3219/3219 [==============================] - 683s 212ms/step - loss: 0.0125 - accuracy: 0.9957 - recall: 0.9849 - precision: 0.9892 - auc: 0.9996 - val_loss: 0.0219 - val_accuracy: 0.9907 - val_recall: 0.9439 - val_precision: 1.0000 - val_auc: 0.9995\n",
      "Epoch 7/100\n",
      "3219/3219 [==============================] - 691s 215ms/step - loss: 0.0089 - accuracy: 0.9971 - recall: 0.9892 - precision: 0.9933 - auc: 0.9997 - val_loss: 0.0027 - val_accuracy: 0.9990 - val_recall: 0.9940 - val_precision: 1.0000 - val_auc: 1.0000\n",
      "Epoch 8/100\n",
      "3219/3219 [==============================] - 691s 215ms/step - loss: 0.0093 - accuracy: 0.9970 - recall: 0.9888 - precision: 0.9929 - auc: 0.9997 - val_loss: 0.0045 - val_accuracy: 0.9982 - val_recall: 0.9900 - val_precision: 0.9990 - val_auc: 1.0000\n",
      "Epoch 9/100\n",
      "3219/3219 [==============================] - 691s 215ms/step - loss: 0.0085 - accuracy: 0.9971 - recall: 0.9891 - precision: 0.9930 - auc: 0.9996 - val_loss: 0.0077 - val_accuracy: 0.9972 - val_recall: 1.0000 - val_precision: 0.9833 - val_auc: 1.0000\n",
      "Epoch 10/100\n",
      "3219/3219 [==============================] - 691s 215ms/step - loss: 0.0090 - accuracy: 0.9972 - recall: 0.9894 - precision: 0.9937 - auc: 0.9996 - val_loss: 0.0052 - val_accuracy: 0.9977 - val_recall: 1.0000 - val_precision: 0.9862 - val_auc: 1.0000\n",
      "Epoch 11/100\n",
      "3219/3219 [==============================] - 691s 215ms/step - loss: 0.0086 - accuracy: 0.9974 - recall: 0.9914 - precision: 0.9930 - auc: 0.9994 - val_loss: 0.0047 - val_accuracy: 0.9977 - val_recall: 0.9970 - val_precision: 0.9891 - val_auc: 1.0000\n",
      "Epoch 12/100\n",
      "3219/3219 [==============================] - 692s 215ms/step - loss: 0.0076 - accuracy: 0.9974 - recall: 0.9905 - precision: 0.9938 - auc: 0.9998 - val_loss: 0.0092 - val_accuracy: 0.9977 - val_recall: 0.9990 - val_precision: 0.9871 - val_auc: 1.0000\n",
      "Epoch 13/100\n",
      "3219/3219 [==============================] - 693s 215ms/step - loss: 0.0076 - accuracy: 0.9976 - recall: 0.9905 - precision: 0.9951 - auc: 0.9995 - val_loss: 0.0037 - val_accuracy: 0.9990 - val_recall: 0.9940 - val_precision: 1.0000 - val_auc: 1.0000\n",
      "Epoch 14/100\n",
      "3219/3219 [==============================] - 694s 215ms/step - loss: 0.0079 - accuracy: 0.9970 - recall: 0.9879 - precision: 0.9937 - auc: 0.9998 - val_loss: 0.0050 - val_accuracy: 0.9978 - val_recall: 0.9920 - val_precision: 0.9950 - val_auc: 1.0000\n",
      "Epoch 15/100\n",
      "3219/3219 [==============================] - 692s 215ms/step - loss: 0.0073 - accuracy: 0.9976 - recall: 0.9912 - precision: 0.9941 - auc: 0.9996 - val_loss: 0.0046 - val_accuracy: 0.9980 - val_recall: 0.9900 - val_precision: 0.9980 - val_auc: 0.9995\n",
      "Epoch 16/100\n",
      "3219/3219 [==============================] - 691s 215ms/step - loss: 0.0071 - accuracy: 0.9978 - recall: 0.9918 - precision: 0.9948 - auc: 0.9996 - val_loss: 0.0042 - val_accuracy: 0.9985 - val_recall: 1.0000 - val_precision: 0.9911 - val_auc: 1.0000\n",
      "Epoch 17/100\n",
      "3219/3219 [==============================] - 692s 215ms/step - loss: 0.0085 - accuracy: 0.9974 - recall: 0.9911 - precision: 0.9934 - auc: 0.9992 - val_loss: 0.0029 - val_accuracy: 0.9988 - val_recall: 0.9970 - val_precision: 0.9960 - val_auc: 1.0000\n",
      "Epoch 18/100\n",
      "3219/3219 [==============================] - 691s 215ms/step - loss: 0.0083 - accuracy: 0.9973 - recall: 0.9899 - precision: 0.9936 - auc: 0.9994 - val_loss: 9.6297e-04 - val_accuracy: 0.9998 - val_recall: 0.9990 - val_precision: 1.0000 - val_auc: 1.0000\n",
      "Epoch 19/100\n",
      "3219/3219 [==============================] - 690s 214ms/step - loss: 0.0050 - accuracy: 0.9985 - recall: 0.9945 - precision: 0.9964 - auc: 0.9998 - val_loss: 0.0023 - val_accuracy: 0.9995 - val_recall: 0.9990 - val_precision: 0.9980 - val_auc: 1.0000\n",
      "Epoch 20/100\n",
      "3219/3219 [==============================] - 687s 214ms/step - loss: 0.0057 - accuracy: 0.9978 - recall: 0.9922 - precision: 0.9948 - auc: 0.9998 - val_loss: 0.0117 - val_accuracy: 0.9960 - val_recall: 0.9770 - val_precision: 0.9990 - val_auc: 0.9985\n",
      "Epoch 21/100\n",
      "3219/3219 [==============================] - 684s 213ms/step - loss: 0.0055 - accuracy: 0.9982 - recall: 0.9932 - precision: 0.9958 - auc: 0.9997 - val_loss: 7.1892e-04 - val_accuracy: 0.9998 - val_recall: 1.0000 - val_precision: 0.9990 - val_auc: 1.0000\n",
      "Epoch 22/100\n",
      "3219/3219 [==============================] - 680s 211ms/step - loss: 0.0040 - accuracy: 0.9986 - recall: 0.9950 - precision: 0.9968 - auc: 0.9998 - val_loss: 0.0034 - val_accuracy: 0.9990 - val_recall: 0.9960 - val_precision: 0.9980 - val_auc: 1.0000\n",
      "Epoch 23/100\n",
      "3219/3219 [==============================] - 670s 208ms/step - loss: 0.0047 - accuracy: 0.9983 - recall: 0.9941 - precision: 0.9960 - auc: 0.9999 - val_loss: 0.0047 - val_accuracy: 0.9975 - val_recall: 1.0000 - val_precision: 0.9852 - val_auc: 1.0000\n",
      "Epoch 24/100\n",
      "3219/3219 [==============================] - 668s 207ms/step - loss: 0.0061 - accuracy: 0.9978 - recall: 0.9926 - precision: 0.9943 - auc: 0.9997 - val_loss: 0.0027 - val_accuracy: 0.9993 - val_recall: 0.9960 - val_precision: 1.0000 - val_auc: 1.0000\n",
      "Epoch 25/100\n",
      "3219/3219 [==============================] - 666s 207ms/step - loss: 0.0051 - accuracy: 0.9984 - recall: 0.9950 - precision: 0.9953 - auc: 0.9996 - val_loss: 0.0023 - val_accuracy: 0.9995 - val_recall: 0.9980 - val_precision: 0.9990 - val_auc: 0.9995\n",
      "Epoch 26/100\n",
      "3219/3219 [==============================] - 662s 206ms/step - loss: 0.0042 - accuracy: 0.9989 - recall: 0.9965 - precision: 0.9969 - auc: 0.9997 - val_loss: 0.0022 - val_accuracy: 0.9992 - val_recall: 0.9990 - val_precision: 0.9960 - val_auc: 1.0000\n",
      "Epoch 27/100\n",
      "3219/3219 [==============================] - 656s 204ms/step - loss: 0.0049 - accuracy: 0.9984 - recall: 0.9943 - precision: 0.9962 - auc: 0.9999 - val_loss: 0.0040 - val_accuracy: 0.9990 - val_recall: 1.0000 - val_precision: 0.9940 - val_auc: 1.0000\n",
      "Epoch 28/100\n",
      "3219/3219 [==============================] - 651s 202ms/step - loss: 0.0043 - accuracy: 0.9989 - recall: 0.9953 - precision: 0.9980 - auc: 0.9997 - val_loss: 0.0194 - val_accuracy: 0.9932 - val_recall: 0.9940 - val_precision: 0.9660 - val_auc: 0.9994\n",
      "Epoch 29/100\n",
      "3219/3219 [==============================] - 648s 201ms/step - loss: 0.0079 - accuracy: 0.9977 - recall: 0.9914 - precision: 0.9949 - auc: 0.9994 - val_loss: 0.0055 - val_accuracy: 0.9977 - val_recall: 0.9900 - val_precision: 0.9960 - val_auc: 1.0000\n",
      "Epoch 30/100\n",
      "3219/3219 [==============================] - 672s 209ms/step - loss: 0.0041 - accuracy: 0.9987 - recall: 0.9956 - precision: 0.9965 - auc: 0.9997 - val_loss: 0.0020 - val_accuracy: 0.9993 - val_recall: 0.9960 - val_precision: 1.0000 - val_auc: 1.0000\n",
      "Epoch 31/100\n",
      "3219/3219 [==============================] - 674s 209ms/step - loss: 0.0048 - accuracy: 0.9983 - recall: 0.9932 - precision: 0.9964 - auc: 0.9998 - val_loss: 0.0043 - val_accuracy: 0.9987 - val_recall: 1.0000 - val_precision: 0.9921 - val_auc: 1.0000\n",
      "Epoch 32/100\n",
      "3219/3219 [==============================] - 669s 208ms/step - loss: 0.0033 - accuracy: 0.9990 - recall: 0.9960 - precision: 0.9980 - auc: 0.9999 - val_loss: 0.0046 - val_accuracy: 0.9983 - val_recall: 0.9990 - val_precision: 0.9911 - val_auc: 1.0000\n",
      "Epoch 33/100\n",
      "3219/3219 [==============================] - 668s 208ms/step - loss: 0.0041 - accuracy: 0.9988 - recall: 0.9963 - precision: 0.9965 - auc: 0.9996 - val_loss: 0.0074 - val_accuracy: 0.9973 - val_recall: 1.0000 - val_precision: 0.9842 - val_auc: 1.0000\n",
      "Epoch 34/100\n",
      "3219/3219 [==============================] - 665s 207ms/step - loss: 0.0037 - accuracy: 0.9990 - recall: 0.9964 - precision: 0.9976 - auc: 0.9997 - val_loss: 0.0015 - val_accuracy: 0.9997 - val_recall: 0.9990 - val_precision: 0.9990 - val_auc: 1.0000\n",
      "Epoch 35/100\n",
      "3219/3219 [==============================] - 661s 205ms/step - loss: 0.0041 - accuracy: 0.9990 - recall: 0.9960 - precision: 0.9977 - auc: 0.9996 - val_loss: 0.0024 - val_accuracy: 0.9990 - val_recall: 1.0000 - val_precision: 0.9940 - val_auc: 1.0000\n",
      "Epoch 36/100\n",
      "3219/3219 [==============================] - 658s 204ms/step - loss: 0.0031 - accuracy: 0.9991 - recall: 0.9972 - precision: 0.9973 - auc: 0.9997 - val_loss: 0.0015 - val_accuracy: 0.9997 - val_recall: 0.9980 - val_precision: 1.0000 - val_auc: 1.0000\n",
      "Epoch 37/100\n",
      "3219/3219 [==============================] - 656s 204ms/step - loss: 0.0026 - accuracy: 0.9992 - recall: 0.9968 - precision: 0.9985 - auc: 0.9999 - val_loss: 0.0011 - val_accuracy: 0.9998 - val_recall: 0.9990 - val_precision: 1.0000 - val_auc: 1.0000\n",
      "Epoch 38/100\n",
      "3219/3219 [==============================] - 653s 203ms/step - loss: 0.0066 - accuracy: 0.9982 - recall: 0.9934 - precision: 0.9958 - auc: 0.9993 - val_loss: 0.0011 - val_accuracy: 0.9997 - val_recall: 0.9980 - val_precision: 1.0000 - val_auc: 1.0000\n",
      "Epoch 39/100\n",
      "3219/3219 [==============================] - 652s 203ms/step - loss: 0.0029 - accuracy: 0.9991 - recall: 0.9966 - precision: 0.9979 - auc: 0.9998 - val_loss: 0.0011 - val_accuracy: 0.9995 - val_recall: 0.9980 - val_precision: 0.9990 - val_auc: 1.0000\n",
      "Epoch 40/100\n",
      "3219/3219 [==============================] - 650s 202ms/step - loss: 0.0027 - accuracy: 0.9992 - recall: 0.9966 - precision: 0.9983 - auc: 0.9999 - val_loss: 0.0015 - val_accuracy: 0.9997 - val_recall: 0.9990 - val_precision: 0.9990 - val_auc: 1.0000\n",
      "Epoch 41/100\n",
      "3219/3219 [==============================] - 648s 201ms/step - loss: 0.0031 - accuracy: 0.9990 - recall: 0.9966 - precision: 0.9975 - auc: 0.9999 - val_loss: 0.0033 - val_accuracy: 0.9992 - val_recall: 0.9950 - val_precision: 1.0000 - val_auc: 0.9995\n",
      "403/403 [==============================] - 58s 145ms/step - loss: 0.0017 - accuracy: 0.9993 - recall: 0.9970 - precision: 0.9990 - auc: 1.0000\n",
      "loss: 0.00174473796505481, \n",
      "accuracy: 0.9993373155593872, \n",
      "recall: 0.9970030188560486, \n",
      "precision: 0.9989989995956421, \n",
      "auc: 0.9999971985816956, \n",
      "F1: 0.9980000112461148\n"
     ]
    }
   ],
   "source": [
    "vgg16 = build_base_model('vgg16', 'imagenet')\n",
    "vgg16_model = build_model(vgg16)\n",
    "vgg16_model = compile_model(vgg16_model, 0.0001, 0.9, 0.999, ['accuracy', 'Recall', 'Precision', 'AUC'])\n",
    "set_layers_trainable(False, vgg16)\n",
    "history = train_model(vgg16_model, train_image_gen, valid_image_gen, 5, [])\n",
    "set_layers_trainable(True, vgg16)\n",
    "tensorboard_callback = tf.keras.callbacks.TensorBoard(log_dir=\"./logs\", histogram_freq=5, write_graph=True, write_images=True)\n",
    "custom_early_stopping = keras.callbacks.EarlyStopping(monitor='val_loss', patience=20)\n",
    "vgg16_model = compile_model(vgg16_model, 0.0001, 0.9, 0.999, ['accuracy', 'Recall', 'Precision', 'AUC'])\n",
    "history = train_model(vgg16_model, train_image_gen, valid_image_gen, 100,\n",
    "                      [custom_early_stopping, tensorboard_callback])\n",
    "loss, accuracy, recall, precision, auc = vgg16_model.evaluate(test_image_gen)\n",
    "# F1 score\n",
    "f1 = 2 * ((precision * recall) / (precision + recall))\n",
    "\n",
    "print(f\"loss: {loss}, \\n\"\n",
    "      f\"accuracy: {accuracy}, \\n\"\n",
    "      f\"recall: {recall}, \\n\"\n",
    "      f\"precision: {precision}, \\n\"\n",
    "      f\"auc: {auc}, \\n\"\n",
    "      f\"F1: {f1}\")"
   ],
   "metadata": {
    "collapsed": false,
    "pycharm": {
     "name": "#%%\n"
    }
   }
  },
  {
   "cell_type": "code",
   "execution_count": 15,
   "outputs": [],
   "source": [
    "save_model(vgg16_model, 'vgg16_full_data')"
   ],
   "metadata": {
    "collapsed": false,
    "pycharm": {
     "name": "#%%\n"
    }
   }
  },
  {
   "cell_type": "code",
   "execution_count": 16,
   "outputs": [
    {
     "name": "stdout",
     "output_type": "stream",
     "text": [
      "Epoch 1/5\n"
     ]
    },
    {
     "name": "stderr",
     "output_type": "stream",
     "text": [
      "2021-12-15 06:56:20.617303: W tensorflow/core/common_runtime/bfc_allocator.cc:248] Allocator (GPU_0_bfc) ran out of memory trying to allocate 3.43GiB with freed_by_count=0. The caller indicates that this is not a failure, but may mean that there could be performance gains if more memory were available.\n",
      "2021-12-15 06:56:21.353271: W tensorflow/core/common_runtime/bfc_allocator.cc:248] Allocator (GPU_0_bfc) ran out of memory trying to allocate 3.39GiB with freed_by_count=0. The caller indicates that this is not a failure, but may mean that there could be performance gains if more memory were available.\n",
      "2021-12-15 06:56:21.523010: W tensorflow/core/common_runtime/bfc_allocator.cc:248] Allocator (GPU_0_bfc) ran out of memory trying to allocate 3.45GiB with freed_by_count=0. The caller indicates that this is not a failure, but may mean that there could be performance gains if more memory were available.\n",
      "2021-12-15 06:56:24.426324: W tensorflow/core/common_runtime/bfc_allocator.cc:248] Allocator (GPU_0_bfc) ran out of memory trying to allocate 2.12GiB with freed_by_count=0. The caller indicates that this is not a failure, but may mean that there could be performance gains if more memory were available.\n",
      "2021-12-15 06:56:24.599773: W tensorflow/core/common_runtime/bfc_allocator.cc:248] Allocator (GPU_0_bfc) ran out of memory trying to allocate 2.20GiB with freed_by_count=0. The caller indicates that this is not a failure, but may mean that there could be performance gains if more memory were available.\n",
      "2021-12-15 06:56:25.572948: W tensorflow/core/common_runtime/bfc_allocator.cc:248] Allocator (GPU_0_bfc) ran out of memory trying to allocate 2.13GiB with freed_by_count=0. The caller indicates that this is not a failure, but may mean that there could be performance gains if more memory were available.\n",
      "2021-12-15 06:56:25.752337: W tensorflow/core/common_runtime/bfc_allocator.cc:248] Allocator (GPU_0_bfc) ran out of memory trying to allocate 2.29GiB with freed_by_count=0. The caller indicates that this is not a failure, but may mean that there could be performance gains if more memory were available.\n"
     ]
    },
    {
     "name": "stdout",
     "output_type": "stream",
     "text": [
      "1733/3219 [===============>..............] - ETA: 7:09 - loss: 0.3817 - accuracy: 0.8820 - recall: 0.8880 - precision: 0.6351 - auc: 0.9443"
     ]
    },
    {
     "name": "stderr",
     "output_type": "stream",
     "text": [
      "2021-12-15 07:04:49.239290: W tensorflow/core/common_runtime/bfc_allocator.cc:248] Allocator (GPU_0_bfc) ran out of memory trying to allocate 2.06GiB with freed_by_count=0. The caller indicates that this is not a failure, but may mean that there could be performance gains if more memory were available.\n",
      "2021-12-15 07:04:49.917327: W tensorflow/core/common_runtime/bfc_allocator.cc:248] Allocator (GPU_0_bfc) ran out of memory trying to allocate 2.09GiB with freed_by_count=0. The caller indicates that this is not a failure, but may mean that there could be performance gains if more memory were available.\n",
      "2021-12-15 07:04:51.587959: W tensorflow/core/common_runtime/bfc_allocator.cc:248] Allocator (GPU_0_bfc) ran out of memory trying to allocate 3.40GiB with freed_by_count=0. The caller indicates that this is not a failure, but may mean that there could be performance gains if more memory were available.\n"
     ]
    },
    {
     "name": "stdout",
     "output_type": "stream",
     "text": [
      "3219/3219 [==============================] - 1006s 308ms/step - loss: 0.2664 - accuracy: 0.9168 - recall: 0.9083 - precision: 0.7250 - auc: 0.9635 - val_loss: 0.0221 - val_accuracy: 0.9934 - val_recall: 0.9940 - val_precision: 0.9669 - val_auc: 0.9997\n",
      "Epoch 2/5\n",
      "3219/3219 [==============================] - 1104s 343ms/step - loss: 0.0219 - accuracy: 0.9948 - recall: 0.9807 - precision: 0.9877 - auc: 0.9980 - val_loss: 0.0151 - val_accuracy: 0.9955 - val_recall: 0.9920 - val_precision: 0.9812 - val_auc: 0.9997\n",
      "Epoch 3/5\n",
      "3219/3219 [==============================] - 1114s 346ms/step - loss: 0.0106 - accuracy: 0.9973 - recall: 0.9905 - precision: 0.9930 - auc: 0.9995 - val_loss: 0.0053 - val_accuracy: 0.9985 - val_recall: 0.9970 - val_precision: 0.9940 - val_auc: 0.9999\n",
      "Epoch 4/5\n",
      "3219/3219 [==============================] - 1082s 336ms/step - loss: 0.0088 - accuracy: 0.9979 - recall: 0.9929 - precision: 0.9944 - auc: 0.9993 - val_loss: 0.0062 - val_accuracy: 0.9988 - val_recall: 0.9980 - val_precision: 0.9950 - val_auc: 0.9997\n",
      "Epoch 5/5\n",
      "3219/3219 [==============================] - 973s 302ms/step - loss: 0.0056 - accuracy: 0.9986 - recall: 0.9957 - precision: 0.9960 - auc: 0.9996 - val_loss: 0.0024 - val_accuracy: 0.9995 - val_recall: 0.9970 - val_precision: 1.0000 - val_auc: 1.0000\n"
     ]
    },
    {
     "name": "stderr",
     "output_type": "stream",
     "text": [
      "2021-12-15 08:24:13.078165: I tensorflow/core/profiler/lib/profiler_session.cc:136] Profiler session initializing.\n",
      "2021-12-15 08:24:13.078195: I tensorflow/core/profiler/lib/profiler_session.cc:155] Profiler session started.\n",
      "2021-12-15 08:24:13.078255: E tensorflow/core/profiler/internal/gpu/cupti_tracer.cc:1415] function cupti_interface_->Subscribe( &subscriber_, (CUpti_CallbackFunc)ApiCallback, this)failed with error CUPTI_ERROR_NOT_INITIALIZED\n",
      "2021-12-15 08:24:13.078272: I tensorflow/core/profiler/lib/profiler_session.cc:172] Profiler session tear down.\n"
     ]
    },
    {
     "name": "stdout",
     "output_type": "stream",
     "text": [
      "Epoch 1/100\n",
      "   1/3219 [..............................] - ETA: 2:59:28 - loss: 0.2328 - accuracy: 0.9333 - recall: 1.0000 - precision: 0.5000 - auc: 1.0000"
     ]
    },
    {
     "name": "stderr",
     "output_type": "stream",
     "text": [
      "2021-12-15 08:24:16.701621: I tensorflow/core/profiler/lib/profiler_session.cc:136] Profiler session initializing.\n",
      "2021-12-15 08:24:16.701644: I tensorflow/core/profiler/lib/profiler_session.cc:155] Profiler session started.\n",
      "2021-12-15 08:24:16.701702: E tensorflow/core/profiler/internal/gpu/cupti_tracer.cc:1415] function cupti_interface_->Subscribe( &subscriber_, (CUpti_CallbackFunc)ApiCallback, this)failed with error CUPTI_ERROR_NOT_INITIALIZED\n"
     ]
    },
    {
     "name": "stdout",
     "output_type": "stream",
     "text": [
      "   2/3219 [..............................] - ETA: 20:39 - loss: 0.1749 - accuracy: 0.9500 - recall: 1.0000 - precision: 0.6500 - auc: 1.0000  "
     ]
    },
    {
     "name": "stderr",
     "output_type": "stream",
     "text": [
      "2021-12-15 08:24:17.528764: I tensorflow/core/profiler/lib/profiler_session.cc:71] Profiler session collecting data.\n",
      "2021-12-15 08:24:17.541214: I tensorflow/core/profiler/internal/gpu/cupti_collector.cc:228]  GpuTracer has collected 0 callback api events and 0 activity events. \n",
      "2021-12-15 08:24:17.545013: I tensorflow/core/profiler/lib/profiler_session.cc:172] Profiler session tear down.\n",
      "2021-12-15 08:24:17.548816: I tensorflow/core/profiler/rpc/client/save_profile.cc:137] Creating directory: ./logs/train/plugins/profile/2021_12_15_08_24_17\n",
      "2021-12-15 08:24:17.550144: I tensorflow/core/profiler/rpc/client/save_profile.cc:143] Dumped gzipped tool data for trace.json.gz to ./logs/train/plugins/profile/2021_12_15_08_24_17/pop-os.trace.json.gz\n",
      "2021-12-15 08:24:17.585278: I tensorflow/core/profiler/rpc/client/save_profile.cc:137] Creating directory: ./logs/train/plugins/profile/2021_12_15_08_24_17\n",
      "2021-12-15 08:24:17.591682: I tensorflow/core/profiler/rpc/client/save_profile.cc:143] Dumped gzipped tool data for memory_profile.json.gz to ./logs/train/plugins/profile/2021_12_15_08_24_17/pop-os.memory_profile.json.gz\n",
      "2021-12-15 08:24:17.592004: I tensorflow/core/profiler/rpc/client/capture_profile.cc:251] Creating directory: ./logs/train/plugins/profile/2021_12_15_08_24_17Dumped tool data for xplane.pb to ./logs/train/plugins/profile/2021_12_15_08_24_17/pop-os.xplane.pb\n",
      "Dumped tool data for overview_page.pb to ./logs/train/plugins/profile/2021_12_15_08_24_17/pop-os.overview_page.pb\n",
      "Dumped tool data for input_pipeline.pb to ./logs/train/plugins/profile/2021_12_15_08_24_17/pop-os.input_pipeline.pb\n",
      "Dumped tool data for tensorflow_stats.pb to ./logs/train/plugins/profile/2021_12_15_08_24_17/pop-os.tensorflow_stats.pb\n",
      "Dumped tool data for kernel_stats.pb to ./logs/train/plugins/profile/2021_12_15_08_24_17/pop-os.kernel_stats.pb\n",
      "\n"
     ]
    },
    {
     "name": "stdout",
     "output_type": "stream",
     "text": [
      "3219/3219 [==============================] - 974s 302ms/step - loss: 0.0066 - accuracy: 0.9984 - recall: 0.9948 - precision: 0.9955 - auc: 0.9995 - val_loss: 6.6173e-04 - val_accuracy: 0.9995 - val_recall: 0.9970 - val_precision: 1.0000 - val_auc: 1.0000\n",
      "Epoch 2/100\n",
      "3219/3219 [==============================] - 1058s 329ms/step - loss: 0.0035 - accuracy: 0.9990 - recall: 0.9968 - precision: 0.9974 - auc: 0.9997 - val_loss: 0.0013 - val_accuracy: 0.9997 - val_recall: 0.9980 - val_precision: 1.0000 - val_auc: 1.0000\n",
      "Epoch 3/100\n",
      "3219/3219 [==============================] - 1114s 346ms/step - loss: 0.0030 - accuracy: 0.9994 - recall: 0.9980 - precision: 0.9985 - auc: 0.9997 - val_loss: 8.9686e-04 - val_accuracy: 0.9997 - val_recall: 1.0000 - val_precision: 0.9980 - val_auc: 1.0000\n",
      "Epoch 4/100\n",
      "3219/3219 [==============================] - 1115s 346ms/step - loss: 0.0035 - accuracy: 0.9994 - recall: 0.9980 - precision: 0.9983 - auc: 0.9997 - val_loss: 6.5844e-04 - val_accuracy: 0.9997 - val_recall: 0.9980 - val_precision: 1.0000 - val_auc: 1.0000\n",
      "Epoch 5/100\n",
      "3219/3219 [==============================] - 1121s 348ms/step - loss: 0.0040 - accuracy: 0.9988 - recall: 0.9966 - precision: 0.9965 - auc: 0.9996 - val_loss: 0.0018 - val_accuracy: 0.9992 - val_recall: 0.9950 - val_precision: 1.0000 - val_auc: 1.0000\n",
      "Epoch 6/100\n",
      "3219/3219 [==============================] - 1120s 348ms/step - loss: 0.0031 - accuracy: 0.9992 - recall: 0.9973 - precision: 0.9978 - auc: 0.9997 - val_loss: 1.9979e-04 - val_accuracy: 1.0000 - val_recall: 1.0000 - val_precision: 1.0000 - val_auc: 1.0000\n",
      "Epoch 7/100\n",
      "3219/3219 [==============================] - 1140s 354ms/step - loss: 0.0024 - accuracy: 0.9993 - recall: 0.9975 - precision: 0.9984 - auc: 0.9999 - val_loss: 2.9905e-04 - val_accuracy: 0.9998 - val_recall: 1.0000 - val_precision: 0.9990 - val_auc: 1.0000\n",
      "Epoch 8/100\n",
      "3219/3219 [==============================] - 1142s 355ms/step - loss: 0.0027 - accuracy: 0.9991 - recall: 0.9970 - precision: 0.9978 - auc: 1.0000 - val_loss: 0.0010 - val_accuracy: 0.9997 - val_recall: 0.9980 - val_precision: 1.0000 - val_auc: 1.0000\n",
      "Epoch 9/100\n",
      "2936/3219 [==========================>...] - ETA: 1:36 - loss: 0.0016 - accuracy: 0.9994 - recall: 0.9980 - precision: 0.9985 - auc: 0.9999"
     ]
    },
    {
     "ename": "KeyboardInterrupt",
     "evalue": "",
     "output_type": "error",
     "traceback": [
      "\u001B[0;31m---------------------------------------------------------------------------\u001B[0m",
      "\u001B[0;31mKeyboardInterrupt\u001B[0m                         Traceback (most recent call last)",
      "\u001B[0;32m/tmp/ipykernel_8077/1338775337.py\u001B[0m in \u001B[0;36m<module>\u001B[0;34m\u001B[0m\n\u001B[1;32m      8\u001B[0m \u001B[0mcustom_early_stopping\u001B[0m \u001B[0;34m=\u001B[0m \u001B[0mkeras\u001B[0m\u001B[0;34m.\u001B[0m\u001B[0mcallbacks\u001B[0m\u001B[0;34m.\u001B[0m\u001B[0mEarlyStopping\u001B[0m\u001B[0;34m(\u001B[0m\u001B[0mmonitor\u001B[0m\u001B[0;34m=\u001B[0m\u001B[0;34m'val_loss'\u001B[0m\u001B[0;34m,\u001B[0m \u001B[0mpatience\u001B[0m\u001B[0;34m=\u001B[0m\u001B[0;36m20\u001B[0m\u001B[0;34m)\u001B[0m\u001B[0;34m\u001B[0m\u001B[0;34m\u001B[0m\u001B[0m\n\u001B[1;32m      9\u001B[0m \u001B[0mxception_model\u001B[0m \u001B[0;34m=\u001B[0m \u001B[0mcompile_model\u001B[0m\u001B[0;34m(\u001B[0m\u001B[0mxception_model\u001B[0m\u001B[0;34m,\u001B[0m \u001B[0;36m0.0001\u001B[0m\u001B[0;34m,\u001B[0m \u001B[0;36m0.9\u001B[0m\u001B[0;34m,\u001B[0m \u001B[0;36m0.999\u001B[0m\u001B[0;34m,\u001B[0m \u001B[0;34m[\u001B[0m\u001B[0;34m'accuracy'\u001B[0m\u001B[0;34m,\u001B[0m \u001B[0;34m'Recall'\u001B[0m\u001B[0;34m,\u001B[0m \u001B[0;34m'Precision'\u001B[0m\u001B[0;34m,\u001B[0m \u001B[0;34m'AUC'\u001B[0m\u001B[0;34m]\u001B[0m\u001B[0;34m)\u001B[0m\u001B[0;34m\u001B[0m\u001B[0;34m\u001B[0m\u001B[0m\n\u001B[0;32m---> 10\u001B[0;31m history = train_model(xception_model, train_image_gen, valid_image_gen, 100,\n\u001B[0m\u001B[1;32m     11\u001B[0m                       [custom_early_stopping, tensorboard_callback])\n\u001B[1;32m     12\u001B[0m \u001B[0mloss\u001B[0m\u001B[0;34m,\u001B[0m \u001B[0maccuracy\u001B[0m\u001B[0;34m,\u001B[0m \u001B[0mrecall\u001B[0m\u001B[0;34m,\u001B[0m \u001B[0mprecision\u001B[0m\u001B[0;34m,\u001B[0m \u001B[0mauc\u001B[0m \u001B[0;34m=\u001B[0m \u001B[0mxception_model\u001B[0m\u001B[0;34m.\u001B[0m\u001B[0mevaluate\u001B[0m\u001B[0;34m(\u001B[0m\u001B[0mtest_image_gen\u001B[0m\u001B[0;34m)\u001B[0m\u001B[0;34m\u001B[0m\u001B[0;34m\u001B[0m\u001B[0m\n",
      "\u001B[0;32m/tmp/ipykernel_8077/663974549.py\u001B[0m in \u001B[0;36mtrain_model\u001B[0;34m(model, train_set, validation_set, epochs, callback)\u001B[0m\n\u001B[1;32m      1\u001B[0m \u001B[0;32mdef\u001B[0m \u001B[0mtrain_model\u001B[0m\u001B[0;34m(\u001B[0m\u001B[0mmodel\u001B[0m\u001B[0;34m,\u001B[0m \u001B[0mtrain_set\u001B[0m\u001B[0;34m,\u001B[0m \u001B[0mvalidation_set\u001B[0m\u001B[0;34m,\u001B[0m \u001B[0mepochs\u001B[0m\u001B[0;34m,\u001B[0m \u001B[0mcallback\u001B[0m\u001B[0;34m)\u001B[0m\u001B[0;34m:\u001B[0m\u001B[0;34m\u001B[0m\u001B[0;34m\u001B[0m\u001B[0m\n\u001B[0;32m----> 2\u001B[0;31m     return model.fit(train_set,\n\u001B[0m\u001B[1;32m      3\u001B[0m                      \u001B[0mvalidation_data\u001B[0m\u001B[0;34m=\u001B[0m\u001B[0mvalidation_set\u001B[0m\u001B[0;34m,\u001B[0m\u001B[0;34m\u001B[0m\u001B[0;34m\u001B[0m\u001B[0m\n\u001B[1;32m      4\u001B[0m                      \u001B[0mepochs\u001B[0m\u001B[0;34m=\u001B[0m\u001B[0mepochs\u001B[0m\u001B[0;34m,\u001B[0m\u001B[0;34m\u001B[0m\u001B[0;34m\u001B[0m\u001B[0m\n\u001B[1;32m      5\u001B[0m                      callbacks=callback)\n",
      "\u001B[0;32m~/anaconda3/envs/sls/lib/python3.9/site-packages/tensorflow/python/keras/engine/training.py\u001B[0m in \u001B[0;36mfit\u001B[0;34m(self, x, y, batch_size, epochs, verbose, callbacks, validation_split, validation_data, shuffle, class_weight, sample_weight, initial_epoch, steps_per_epoch, validation_steps, validation_batch_size, validation_freq, max_queue_size, workers, use_multiprocessing)\u001B[0m\n\u001B[1;32m   1098\u001B[0m                 _r=1):\n\u001B[1;32m   1099\u001B[0m               \u001B[0mcallbacks\u001B[0m\u001B[0;34m.\u001B[0m\u001B[0mon_train_batch_begin\u001B[0m\u001B[0;34m(\u001B[0m\u001B[0mstep\u001B[0m\u001B[0;34m)\u001B[0m\u001B[0;34m\u001B[0m\u001B[0;34m\u001B[0m\u001B[0m\n\u001B[0;32m-> 1100\u001B[0;31m               \u001B[0mtmp_logs\u001B[0m \u001B[0;34m=\u001B[0m \u001B[0mself\u001B[0m\u001B[0;34m.\u001B[0m\u001B[0mtrain_function\u001B[0m\u001B[0;34m(\u001B[0m\u001B[0miterator\u001B[0m\u001B[0;34m)\u001B[0m\u001B[0;34m\u001B[0m\u001B[0;34m\u001B[0m\u001B[0m\n\u001B[0m\u001B[1;32m   1101\u001B[0m               \u001B[0;32mif\u001B[0m \u001B[0mdata_handler\u001B[0m\u001B[0;34m.\u001B[0m\u001B[0mshould_sync\u001B[0m\u001B[0;34m:\u001B[0m\u001B[0;34m\u001B[0m\u001B[0;34m\u001B[0m\u001B[0m\n\u001B[1;32m   1102\u001B[0m                 \u001B[0mcontext\u001B[0m\u001B[0;34m.\u001B[0m\u001B[0masync_wait\u001B[0m\u001B[0;34m(\u001B[0m\u001B[0;34m)\u001B[0m\u001B[0;34m\u001B[0m\u001B[0;34m\u001B[0m\u001B[0m\n",
      "\u001B[0;32m~/anaconda3/envs/sls/lib/python3.9/site-packages/tensorflow/python/eager/def_function.py\u001B[0m in \u001B[0;36m__call__\u001B[0;34m(self, *args, **kwds)\u001B[0m\n\u001B[1;32m    826\u001B[0m     \u001B[0mtracing_count\u001B[0m \u001B[0;34m=\u001B[0m \u001B[0mself\u001B[0m\u001B[0;34m.\u001B[0m\u001B[0mexperimental_get_tracing_count\u001B[0m\u001B[0;34m(\u001B[0m\u001B[0;34m)\u001B[0m\u001B[0;34m\u001B[0m\u001B[0;34m\u001B[0m\u001B[0m\n\u001B[1;32m    827\u001B[0m     \u001B[0;32mwith\u001B[0m \u001B[0mtrace\u001B[0m\u001B[0;34m.\u001B[0m\u001B[0mTrace\u001B[0m\u001B[0;34m(\u001B[0m\u001B[0mself\u001B[0m\u001B[0;34m.\u001B[0m\u001B[0m_name\u001B[0m\u001B[0;34m)\u001B[0m \u001B[0;32mas\u001B[0m \u001B[0mtm\u001B[0m\u001B[0;34m:\u001B[0m\u001B[0;34m\u001B[0m\u001B[0;34m\u001B[0m\u001B[0m\n\u001B[0;32m--> 828\u001B[0;31m       \u001B[0mresult\u001B[0m \u001B[0;34m=\u001B[0m \u001B[0mself\u001B[0m\u001B[0;34m.\u001B[0m\u001B[0m_call\u001B[0m\u001B[0;34m(\u001B[0m\u001B[0;34m*\u001B[0m\u001B[0margs\u001B[0m\u001B[0;34m,\u001B[0m \u001B[0;34m**\u001B[0m\u001B[0mkwds\u001B[0m\u001B[0;34m)\u001B[0m\u001B[0;34m\u001B[0m\u001B[0;34m\u001B[0m\u001B[0m\n\u001B[0m\u001B[1;32m    829\u001B[0m       \u001B[0mcompiler\u001B[0m \u001B[0;34m=\u001B[0m \u001B[0;34m\"xla\"\u001B[0m \u001B[0;32mif\u001B[0m \u001B[0mself\u001B[0m\u001B[0;34m.\u001B[0m\u001B[0m_experimental_compile\u001B[0m \u001B[0;32melse\u001B[0m \u001B[0;34m\"nonXla\"\u001B[0m\u001B[0;34m\u001B[0m\u001B[0;34m\u001B[0m\u001B[0m\n\u001B[1;32m    830\u001B[0m       \u001B[0mnew_tracing_count\u001B[0m \u001B[0;34m=\u001B[0m \u001B[0mself\u001B[0m\u001B[0;34m.\u001B[0m\u001B[0mexperimental_get_tracing_count\u001B[0m\u001B[0;34m(\u001B[0m\u001B[0;34m)\u001B[0m\u001B[0;34m\u001B[0m\u001B[0;34m\u001B[0m\u001B[0m\n",
      "\u001B[0;32m~/anaconda3/envs/sls/lib/python3.9/site-packages/tensorflow/python/eager/def_function.py\u001B[0m in \u001B[0;36m_call\u001B[0;34m(self, *args, **kwds)\u001B[0m\n\u001B[1;32m    853\u001B[0m       \u001B[0;31m# In this case we have created variables on the first call, so we run the\u001B[0m\u001B[0;34m\u001B[0m\u001B[0;34m\u001B[0m\u001B[0m\n\u001B[1;32m    854\u001B[0m       \u001B[0;31m# defunned version which is guaranteed to never create variables.\u001B[0m\u001B[0;34m\u001B[0m\u001B[0;34m\u001B[0m\u001B[0m\n\u001B[0;32m--> 855\u001B[0;31m       \u001B[0;32mreturn\u001B[0m \u001B[0mself\u001B[0m\u001B[0;34m.\u001B[0m\u001B[0m_stateless_fn\u001B[0m\u001B[0;34m(\u001B[0m\u001B[0;34m*\u001B[0m\u001B[0margs\u001B[0m\u001B[0;34m,\u001B[0m \u001B[0;34m**\u001B[0m\u001B[0mkwds\u001B[0m\u001B[0;34m)\u001B[0m  \u001B[0;31m# pylint: disable=not-callable\u001B[0m\u001B[0;34m\u001B[0m\u001B[0;34m\u001B[0m\u001B[0m\n\u001B[0m\u001B[1;32m    856\u001B[0m     \u001B[0;32melif\u001B[0m \u001B[0mself\u001B[0m\u001B[0;34m.\u001B[0m\u001B[0m_stateful_fn\u001B[0m \u001B[0;32mis\u001B[0m \u001B[0;32mnot\u001B[0m \u001B[0;32mNone\u001B[0m\u001B[0;34m:\u001B[0m\u001B[0;34m\u001B[0m\u001B[0;34m\u001B[0m\u001B[0m\n\u001B[1;32m    857\u001B[0m       \u001B[0;31m# Release the lock early so that multiple threads can perform the call\u001B[0m\u001B[0;34m\u001B[0m\u001B[0;34m\u001B[0m\u001B[0m\n",
      "\u001B[0;32m~/anaconda3/envs/sls/lib/python3.9/site-packages/tensorflow/python/eager/function.py\u001B[0m in \u001B[0;36m__call__\u001B[0;34m(self, *args, **kwargs)\u001B[0m\n\u001B[1;32m   2940\u001B[0m       (graph_function,\n\u001B[1;32m   2941\u001B[0m        filtered_flat_args) = self._maybe_define_function(args, kwargs)\n\u001B[0;32m-> 2942\u001B[0;31m     return graph_function._call_flat(\n\u001B[0m\u001B[1;32m   2943\u001B[0m         filtered_flat_args, captured_inputs=graph_function.captured_inputs)  # pylint: disable=protected-access\n\u001B[1;32m   2944\u001B[0m \u001B[0;34m\u001B[0m\u001B[0m\n",
      "\u001B[0;32m~/anaconda3/envs/sls/lib/python3.9/site-packages/tensorflow/python/eager/function.py\u001B[0m in \u001B[0;36m_call_flat\u001B[0;34m(self, args, captured_inputs, cancellation_manager)\u001B[0m\n\u001B[1;32m   1916\u001B[0m         and executing_eagerly):\n\u001B[1;32m   1917\u001B[0m       \u001B[0;31m# No tape is watching; skip to running the function.\u001B[0m\u001B[0;34m\u001B[0m\u001B[0;34m\u001B[0m\u001B[0m\n\u001B[0;32m-> 1918\u001B[0;31m       return self._build_call_outputs(self._inference_function.call(\n\u001B[0m\u001B[1;32m   1919\u001B[0m           ctx, args, cancellation_manager=cancellation_manager))\n\u001B[1;32m   1920\u001B[0m     forward_backward = self._select_forward_and_backward_functions(\n",
      "\u001B[0;32m~/anaconda3/envs/sls/lib/python3.9/site-packages/tensorflow/python/eager/function.py\u001B[0m in \u001B[0;36mcall\u001B[0;34m(self, ctx, args, cancellation_manager)\u001B[0m\n\u001B[1;32m    553\u001B[0m       \u001B[0;32mwith\u001B[0m \u001B[0m_InterpolateFunctionError\u001B[0m\u001B[0;34m(\u001B[0m\u001B[0mself\u001B[0m\u001B[0;34m)\u001B[0m\u001B[0;34m:\u001B[0m\u001B[0;34m\u001B[0m\u001B[0;34m\u001B[0m\u001B[0m\n\u001B[1;32m    554\u001B[0m         \u001B[0;32mif\u001B[0m \u001B[0mcancellation_manager\u001B[0m \u001B[0;32mis\u001B[0m \u001B[0;32mNone\u001B[0m\u001B[0;34m:\u001B[0m\u001B[0;34m\u001B[0m\u001B[0;34m\u001B[0m\u001B[0m\n\u001B[0;32m--> 555\u001B[0;31m           outputs = execute.execute(\n\u001B[0m\u001B[1;32m    556\u001B[0m               \u001B[0mstr\u001B[0m\u001B[0;34m(\u001B[0m\u001B[0mself\u001B[0m\u001B[0;34m.\u001B[0m\u001B[0msignature\u001B[0m\u001B[0;34m.\u001B[0m\u001B[0mname\u001B[0m\u001B[0;34m)\u001B[0m\u001B[0;34m,\u001B[0m\u001B[0;34m\u001B[0m\u001B[0;34m\u001B[0m\u001B[0m\n\u001B[1;32m    557\u001B[0m               \u001B[0mnum_outputs\u001B[0m\u001B[0;34m=\u001B[0m\u001B[0mself\u001B[0m\u001B[0;34m.\u001B[0m\u001B[0m_num_outputs\u001B[0m\u001B[0;34m,\u001B[0m\u001B[0;34m\u001B[0m\u001B[0;34m\u001B[0m\u001B[0m\n",
      "\u001B[0;32m~/anaconda3/envs/sls/lib/python3.9/site-packages/tensorflow/python/eager/execute.py\u001B[0m in \u001B[0;36mquick_execute\u001B[0;34m(op_name, num_outputs, inputs, attrs, ctx, name)\u001B[0m\n\u001B[1;32m     57\u001B[0m   \u001B[0;32mtry\u001B[0m\u001B[0;34m:\u001B[0m\u001B[0;34m\u001B[0m\u001B[0;34m\u001B[0m\u001B[0m\n\u001B[1;32m     58\u001B[0m     \u001B[0mctx\u001B[0m\u001B[0;34m.\u001B[0m\u001B[0mensure_initialized\u001B[0m\u001B[0;34m(\u001B[0m\u001B[0;34m)\u001B[0m\u001B[0;34m\u001B[0m\u001B[0;34m\u001B[0m\u001B[0m\n\u001B[0;32m---> 59\u001B[0;31m     tensors = pywrap_tfe.TFE_Py_Execute(ctx._handle, device_name, op_name,\n\u001B[0m\u001B[1;32m     60\u001B[0m                                         inputs, attrs, num_outputs)\n\u001B[1;32m     61\u001B[0m   \u001B[0;32mexcept\u001B[0m \u001B[0mcore\u001B[0m\u001B[0;34m.\u001B[0m\u001B[0m_NotOkStatusException\u001B[0m \u001B[0;32mas\u001B[0m \u001B[0me\u001B[0m\u001B[0;34m:\u001B[0m\u001B[0;34m\u001B[0m\u001B[0;34m\u001B[0m\u001B[0m\n",
      "\u001B[0;31mKeyboardInterrupt\u001B[0m: "
     ]
    }
   ],
   "source": [
    "xception = build_base_model('xception', 'imagenet')\n",
    "xception_model = build_model(xception)\n",
    "xception_model = compile_model(xception_model, 0.0001, 0.9, 0.999, ['accuracy', 'Recall', 'Precision', 'AUC'])\n",
    "set_layers_trainable(False, xception)\n",
    "history = train_model(xception_model, train_image_gen, valid_image_gen, 5, [])\n",
    "set_layers_trainable(True, xception)\n",
    "tensorboard_callback = tf.keras.callbacks.TensorBoard(log_dir=\"./logs\", histogram_freq=5, write_graph=True, write_images=True)\n",
    "custom_early_stopping = keras.callbacks.EarlyStopping(monitor='val_loss', patience=20)\n",
    "xception_model = compile_model(xception_model, 0.0001, 0.9, 0.999, ['accuracy', 'Recall', 'Precision', 'AUC'])\n",
    "history = train_model(xception_model, train_image_gen, valid_image_gen, 100,\n",
    "                      [custom_early_stopping, tensorboard_callback])\n",
    "loss, accuracy, recall, precision, auc = xception_model.evaluate(test_image_gen)\n",
    "# F1 score\n",
    "f1 = 2 * ((precision * recall) / (precision + recall))\n",
    "\n",
    "print(f\"loss: {loss}, \\n\"\n",
    "      f\"accuracy: {accuracy}, \\n\"\n",
    "      f\"recall: {recall}, \\n\"\n",
    "      f\"precision: {precision}, \\n\"\n",
    "      f\"auc: {auc}, \\n\"\n",
    "      f\"F1: {f1}\")"
   ],
   "metadata": {
    "collapsed": false,
    "pycharm": {
     "name": "#%%\n"
    }
   }
  },
  {
   "cell_type": "code",
   "execution_count": null,
   "outputs": [],
   "source": [
    "save_model(xception_model, 'xception_full_data')"
   ],
   "metadata": {
    "collapsed": false,
    "pycharm": {
     "name": "#%%\n"
    }
   }
  },
  {
   "cell_type": "code",
   "execution_count": null,
   "outputs": [],
   "source": [
    "resnet = build_base_model('resnet', 'imagenet')\n",
    "resnet_model = build_model(resnet)\n",
    "resnet_model = compile_model(resnet_model, 0.0001, 0.9, 0.999, ['accuracy', 'Recall', 'Precision', 'AUC'])\n",
    "set_layers_trainable(False, resnet)\n",
    "history = train_model(resnet_model, train_image_gen, valid_image_gen, 5, [])\n",
    "set_layers_trainable(True, resnet)\n",
    "tensorboard_callback = tf.keras.callbacks.TensorBoard(log_dir=\"./logs\", histogram_freq=5, write_graph=True, write_images=True)\n",
    "custom_early_stopping = keras.callbacks.EarlyStopping(monitor='val_loss', patience=20)\n",
    "resnet_model = compile_model(resnet_model, 0.0001, 0.9, 0.999, ['accuracy', 'Recall', 'Precision', 'AUC'])\n",
    "history = train_model(resnet_model, train_image_gen, valid_image_gen, 100,\n",
    "                      [custom_early_stopping, tensorboard_callback])\n",
    "loss, accuracy, recall, precision, auc = resnet_model.evaluate(test_image_gen)\n",
    "# F1 score\n",
    "f1 = 2 * ((precision * recall) / (precision + recall))\n",
    "\n",
    "print(f\"loss: {loss}, \\n\"\n",
    "      f\"accuracy: {accuracy}, \\n\"\n",
    "      f\"recall: {recall}, \\n\"\n",
    "      f\"precision: {precision}, \\n\"\n",
    "      f\"auc: {auc}, \\n\"\n",
    "      f\"F1: {f1}\")"
   ],
   "metadata": {
    "collapsed": false,
    "pycharm": {
     "name": "#%%\n"
    }
   }
  },
  {
   "cell_type": "code",
   "execution_count": null,
   "outputs": [],
   "source": [
    "save_model(resnet_model, 'resnet_full_data')"
   ],
   "metadata": {
    "collapsed": false,
    "pycharm": {
     "name": "#%%\n"
    }
   }
  },
  {
   "cell_type": "code",
   "execution_count": null,
   "outputs": [],
   "source": [],
   "metadata": {
    "collapsed": false,
    "pycharm": {
     "name": "#%%\n"
    }
   }
  }
 ],
 "metadata": {
  "kernelspec": {
   "name": "pycharm-8f8e9c42",
   "language": "python",
   "display_name": "PyCharm (Quality Control of SLS manufacturing using Convolutional Neural Networks -implementation)"
  },
  "language_info": {
   "codemirror_mode": {
    "name": "ipython",
    "version": 2
   },
   "file_extension": ".py",
   "mimetype": "text/x-python",
   "name": "python",
   "nbconvert_exporter": "python",
   "pygments_lexer": "ipython2",
   "version": "2.7.6"
  }
 },
 "nbformat": 4,
 "nbformat_minor": 0
}